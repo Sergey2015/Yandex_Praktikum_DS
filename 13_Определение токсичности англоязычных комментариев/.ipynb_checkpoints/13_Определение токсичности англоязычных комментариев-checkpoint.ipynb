{
 "cells": [
  {
   "cell_type": "markdown",
   "id": "391ce0fe-9026-430f-86c8-93b9ebd04b47",
   "metadata": {
    "tags": []
   },
   "source": [
    "# Машинное обучение для текстов. Определение токсичности англоязычных комментариев"
   ]
  },
  {
   "cell_type": "markdown",
   "id": "4f680b8e-de23-43b1-b55e-62131beb3367",
   "metadata": {},
   "source": [
    "## Описание проекта\n",
    "\n",
    "Интернет-магазин «Викишоп» запускает новый сервис. Теперь пользователи могут редактировать и дополнять описания товаров, как в вики-сообществах. То есть клиенты предлагают свои правки и комментируют изменения других. Магазину нужен инструмент, который будет искать токсичные комментарии и отправлять их на модерацию.\n",
    "\n",
    "Обучите модель классифицировать комментарии на позитивные и негативные. В вашем распоряжении набор данных с разметкой о токсичности правок.\n",
    "\n",
    "Постройте модель со значением метрики качества F1 не меньше 0.75.\n",
    "\n",
    "## Описание данных\n",
    "Данные находятся в файле toxic_comments.csv. Столбец text в нём содержит текст комментария, а toxic — целевой признак."
   ]
  },
  {
   "cell_type": "markdown",
   "id": "669c091c-e250-4e92-af55-017fe0ceaef3",
   "metadata": {},
   "source": [
    "## 1. Загрузка и подготовка данных"
   ]
  },
  {
   "cell_type": "code",
   "execution_count": 1,
   "id": "1361820f-d3d5-47a2-accb-829ad66dba00",
   "metadata": {},
   "outputs": [],
   "source": [
    "import pandas as pd\n",
    "import nltk\n",
    "import re\n",
    "import transformers\n",
    "import numpy as np\n",
    "import matplotlib.pyplot as plt\n",
    "import warnings\n",
    "import matplotlib.pyplot as plt\n",
    "\n",
    "from sklearn.feature_extraction.text import TfidfVectorizer, CountVectorizer, TfidfTransformer\n",
    "from sklearn.pipeline import Pipeline\n",
    "from sklearn.metrics import f1_score, roc_curve\n",
    "from sklearn.linear_model import LogisticRegression, SGDClassifier\n",
    "from sklearn.ensemble import RandomForestClassifier\n",
    "from sklearn.model_selection import train_test_split, cross_val_score, GridSearchCV, RandomizedSearchCV\n",
    "from catboost import CatBoostClassifier\n",
    "from nltk.corpus import stopwords as nltk_stopwords\n",
    "from pymystem3 import Mystem\n",
    "from tqdm.notebook import tqdm\n",
    "from wordcloud import WordCloud"
   ]
  },
  {
   "cell_type": "code",
   "execution_count": 2,
   "id": "e705b1aa-3536-44a8-9c92-68e0d7bbc964",
   "metadata": {},
   "outputs": [],
   "source": [
    "warnings.filterwarnings('ignore')"
   ]
  },
  {
   "cell_type": "code",
   "execution_count": 3,
   "id": "d588498b-d5ee-4149-bbf7-84bd342c055f",
   "metadata": {},
   "outputs": [],
   "source": [
    "# Читаем данные из файлов\n",
    "try:\n",
    "    df = pd.read_csv('/datasets/toxic_comments.csv', index_col=0) # Грузим данные\n",
    "except:\n",
    "    df = pd.read_csv('datasets/toxic_comments.csv', index_col=0)"
   ]
  },
  {
   "cell_type": "code",
   "execution_count": 5,
   "id": "96ab4238-bcdb-49fe-bc12-2aef2f716280",
   "metadata": {},
   "outputs": [
    {
     "data": {
      "text/html": [
       "<div>\n",
       "<style scoped>\n",
       "    .dataframe tbody tr th:only-of-type {\n",
       "        vertical-align: middle;\n",
       "    }\n",
       "\n",
       "    .dataframe tbody tr th {\n",
       "        vertical-align: top;\n",
       "    }\n",
       "\n",
       "    .dataframe thead th {\n",
       "        text-align: right;\n",
       "    }\n",
       "</style>\n",
       "<table border=\"1\" class=\"dataframe\">\n",
       "  <thead>\n",
       "    <tr style=\"text-align: right;\">\n",
       "      <th></th>\n",
       "      <th>text</th>\n",
       "      <th>toxic</th>\n",
       "    </tr>\n",
       "  </thead>\n",
       "  <tbody>\n",
       "    <tr>\n",
       "      <th>0</th>\n",
       "      <td>Explanation\\nWhy the edits made under my usern...</td>\n",
       "      <td>0</td>\n",
       "    </tr>\n",
       "    <tr>\n",
       "      <th>1</th>\n",
       "      <td>D'aww! He matches this background colour I'm s...</td>\n",
       "      <td>0</td>\n",
       "    </tr>\n",
       "    <tr>\n",
       "      <th>2</th>\n",
       "      <td>Hey man, I'm really not trying to edit war. It...</td>\n",
       "      <td>0</td>\n",
       "    </tr>\n",
       "    <tr>\n",
       "      <th>3</th>\n",
       "      <td>\"\\nMore\\nI can't make any real suggestions on ...</td>\n",
       "      <td>0</td>\n",
       "    </tr>\n",
       "    <tr>\n",
       "      <th>4</th>\n",
       "      <td>You, sir, are my hero. Any chance you remember...</td>\n",
       "      <td>0</td>\n",
       "    </tr>\n",
       "    <tr>\n",
       "      <th>...</th>\n",
       "      <td>...</td>\n",
       "      <td>...</td>\n",
       "    </tr>\n",
       "    <tr>\n",
       "      <th>159446</th>\n",
       "      <td>\":::::And for the second time of asking, when ...</td>\n",
       "      <td>0</td>\n",
       "    </tr>\n",
       "    <tr>\n",
       "      <th>159447</th>\n",
       "      <td>You should be ashamed of yourself \\n\\nThat is ...</td>\n",
       "      <td>0</td>\n",
       "    </tr>\n",
       "    <tr>\n",
       "      <th>159448</th>\n",
       "      <td>Spitzer \\n\\nUmm, theres no actual article for ...</td>\n",
       "      <td>0</td>\n",
       "    </tr>\n",
       "    <tr>\n",
       "      <th>159449</th>\n",
       "      <td>And it looks like it was actually you who put ...</td>\n",
       "      <td>0</td>\n",
       "    </tr>\n",
       "    <tr>\n",
       "      <th>159450</th>\n",
       "      <td>\"\\nAnd ... I really don't think you understand...</td>\n",
       "      <td>0</td>\n",
       "    </tr>\n",
       "  </tbody>\n",
       "</table>\n",
       "<p>159292 rows × 2 columns</p>\n",
       "</div>"
      ],
      "text/plain": [
       "                                                     text  toxic\n",
       "0       Explanation\\nWhy the edits made under my usern...      0\n",
       "1       D'aww! He matches this background colour I'm s...      0\n",
       "2       Hey man, I'm really not trying to edit war. It...      0\n",
       "3       \"\\nMore\\nI can't make any real suggestions on ...      0\n",
       "4       You, sir, are my hero. Any chance you remember...      0\n",
       "...                                                   ...    ...\n",
       "159446  \":::::And for the second time of asking, when ...      0\n",
       "159447  You should be ashamed of yourself \\n\\nThat is ...      0\n",
       "159448  Spitzer \\n\\nUmm, theres no actual article for ...      0\n",
       "159449  And it looks like it was actually you who put ...      0\n",
       "159450  \"\\nAnd ... I really don't think you understand...      0\n",
       "\n",
       "[159292 rows x 2 columns]"
      ]
     },
     "execution_count": 5,
     "metadata": {},
     "output_type": "execute_result"
    }
   ],
   "source": [
    "df"
   ]
  },
  {
   "cell_type": "code",
   "execution_count": 6,
   "id": "bb7c0114-0698-477d-ae3c-51b797119550",
   "metadata": {},
   "outputs": [],
   "source": [
    "# Напишем функцию, которая покажет общую информацию о датафрейме\n",
    "\n",
    "def show_dataframe_info(df, name):\n",
    "    rows, columns = df.shape\n",
    "    print(f\"\\033[1m{name}\\033[0m\")\n",
    "    print(f'В датафрейме количество стоблцов равно: ', columns)\n",
    "    print(f'В датафрейме количество строк равно:', rows)\n",
    "    display(df.sample(5))\n",
    "    display(df.describe())\n",
    "    df.info()\n",
    "    print(\"\")"
   ]
  },
  {
   "cell_type": "code",
   "execution_count": 7,
   "id": "64a27633-d7f0-466f-944c-9c8aac2a8dd5",
   "metadata": {},
   "outputs": [
    {
     "name": "stdout",
     "output_type": "stream",
     "text": [
      "\u001b[1mИсходный датафрейм\u001b[0m\n",
      "В датафрейме количество стоблцов равно:  2\n",
      "В датафрейме количество строк равно: 159292\n"
     ]
    },
    {
     "data": {
      "text/html": [
       "<div>\n",
       "<style scoped>\n",
       "    .dataframe tbody tr th:only-of-type {\n",
       "        vertical-align: middle;\n",
       "    }\n",
       "\n",
       "    .dataframe tbody tr th {\n",
       "        vertical-align: top;\n",
       "    }\n",
       "\n",
       "    .dataframe thead th {\n",
       "        text-align: right;\n",
       "    }\n",
       "</style>\n",
       "<table border=\"1\" class=\"dataframe\">\n",
       "  <thead>\n",
       "    <tr style=\"text-align: right;\">\n",
       "      <th></th>\n",
       "      <th>text</th>\n",
       "      <th>toxic</th>\n",
       "    </tr>\n",
       "  </thead>\n",
       "  <tbody>\n",
       "    <tr>\n",
       "      <th>85597</th>\n",
       "      <td>\"==Somewhere==\\nI have added a \"\"{{prod}}\"\" te...</td>\n",
       "      <td>0</td>\n",
       "    </tr>\n",
       "    <tr>\n",
       "      <th>49037</th>\n",
       "      <td>\"Welcome!\\n\\nHello, Punkrocker0817, and welcom...</td>\n",
       "      <td>0</td>\n",
       "    </tr>\n",
       "    <tr>\n",
       "      <th>9091</th>\n",
       "      <td>\"\\n\\nTemplate:Exploding animals\\n\\nI think you...</td>\n",
       "      <td>0</td>\n",
       "    </tr>\n",
       "    <tr>\n",
       "      <th>139517</th>\n",
       "      <td>Of course, it's nothing compared to the amount...</td>\n",
       "      <td>0</td>\n",
       "    </tr>\n",
       "    <tr>\n",
       "      <th>105682</th>\n",
       "      <td>A7 rule speedy deletion of Royal College Panad...</td>\n",
       "      <td>0</td>\n",
       "    </tr>\n",
       "  </tbody>\n",
       "</table>\n",
       "</div>"
      ],
      "text/plain": [
       "                                                     text  toxic\n",
       "85597   \"==Somewhere==\\nI have added a \"\"{{prod}}\"\" te...      0\n",
       "49037   \"Welcome!\\n\\nHello, Punkrocker0817, and welcom...      0\n",
       "9091    \"\\n\\nTemplate:Exploding animals\\n\\nI think you...      0\n",
       "139517  Of course, it's nothing compared to the amount...      0\n",
       "105682  A7 rule speedy deletion of Royal College Panad...      0"
      ]
     },
     "metadata": {},
     "output_type": "display_data"
    },
    {
     "data": {
      "text/html": [
       "<div>\n",
       "<style scoped>\n",
       "    .dataframe tbody tr th:only-of-type {\n",
       "        vertical-align: middle;\n",
       "    }\n",
       "\n",
       "    .dataframe tbody tr th {\n",
       "        vertical-align: top;\n",
       "    }\n",
       "\n",
       "    .dataframe thead th {\n",
       "        text-align: right;\n",
       "    }\n",
       "</style>\n",
       "<table border=\"1\" class=\"dataframe\">\n",
       "  <thead>\n",
       "    <tr style=\"text-align: right;\">\n",
       "      <th></th>\n",
       "      <th>toxic</th>\n",
       "    </tr>\n",
       "  </thead>\n",
       "  <tbody>\n",
       "    <tr>\n",
       "      <th>count</th>\n",
       "      <td>159292.000000</td>\n",
       "    </tr>\n",
       "    <tr>\n",
       "      <th>mean</th>\n",
       "      <td>0.101612</td>\n",
       "    </tr>\n",
       "    <tr>\n",
       "      <th>std</th>\n",
       "      <td>0.302139</td>\n",
       "    </tr>\n",
       "    <tr>\n",
       "      <th>min</th>\n",
       "      <td>0.000000</td>\n",
       "    </tr>\n",
       "    <tr>\n",
       "      <th>25%</th>\n",
       "      <td>0.000000</td>\n",
       "    </tr>\n",
       "    <tr>\n",
       "      <th>50%</th>\n",
       "      <td>0.000000</td>\n",
       "    </tr>\n",
       "    <tr>\n",
       "      <th>75%</th>\n",
       "      <td>0.000000</td>\n",
       "    </tr>\n",
       "    <tr>\n",
       "      <th>max</th>\n",
       "      <td>1.000000</td>\n",
       "    </tr>\n",
       "  </tbody>\n",
       "</table>\n",
       "</div>"
      ],
      "text/plain": [
       "               toxic\n",
       "count  159292.000000\n",
       "mean        0.101612\n",
       "std         0.302139\n",
       "min         0.000000\n",
       "25%         0.000000\n",
       "50%         0.000000\n",
       "75%         0.000000\n",
       "max         1.000000"
      ]
     },
     "metadata": {},
     "output_type": "display_data"
    },
    {
     "name": "stdout",
     "output_type": "stream",
     "text": [
      "<class 'pandas.core.frame.DataFrame'>\n",
      "Int64Index: 159292 entries, 0 to 159450\n",
      "Data columns (total 2 columns):\n",
      " #   Column  Non-Null Count   Dtype \n",
      "---  ------  --------------   ----- \n",
      " 0   text    159292 non-null  object\n",
      " 1   toxic   159292 non-null  int64 \n",
      "dtypes: int64(1), object(1)\n",
      "memory usage: 3.6+ MB\n",
      "\n"
     ]
    }
   ],
   "source": [
    "show_dataframe_info(df, \"Исходный датафрейм\")"
   ]
  },
  {
   "cell_type": "markdown",
   "id": "53c54887-0898-4e91-97da-1942f1c45d85",
   "metadata": {},
   "source": [
    "**Ок, пустых значений нет, типы данных верные. Значение mean говорит нам о том, что наблюдается сильный дисбаланс классов. Посмотрим на графике.**"
   ]
  },
  {
   "cell_type": "code",
   "execution_count": 8,
   "id": "a57f1939-9898-4316-b1ff-57d07c61a3a3",
   "metadata": {},
   "outputs": [
    {
     "data": {
      "image/png": "[encoded data removed]",
      "text/plain": [
       "<Figure size 640x480 with 1 Axes>"
      ]
     },
     "metadata": {},
     "output_type": "display_data"
    }
   ],
   "source": [
    "df['toxic'].value_counts().plot(kind='bar', label='Целевой признак')\n",
    "plt.legend()\n",
    "plt.title('Распределение классов целевого признака');"
   ]
  },
  {
   "cell_type": "markdown",
   "id": "88d1e111-7277-4ee7-9092-79a7d9219f88",
   "metadata": {},
   "source": [
    "**Применим технику уменьшения выборки для балансировки классов. В нашей задаче датасет внушительного обхема, класс 1 составляем примерно 10%, сделаем столько же класс 0 и получится у нас остаток 20% от первоночального обхема датасета. Он составит 32тыс твитов, что вполне достаточно для обучения.**"
   ]
  },
  {
   "cell_type": "markdown",
   "id": "856b28e4-0299-428c-ab39-5c4891e006cd",
   "metadata": {},
   "source": [
    "**Очистим текст от лишних символов с помощью регулярного выражения**"
   ]
  },
  {
   "cell_type": "code",
   "execution_count": 9,
   "id": "d962f2f2-ff67-4b93-afc9-9e972f75ce3d",
   "metadata": {},
   "outputs": [
    {
     "data": {
      "application/vnd.jupyter.widget-view+json": {
       "model_id": "b3c1a8f9018b4e078166223dc79c6a93",
       "version_major": 2,
       "version_minor": 0
      },
      "text/plain": [
       "  0%|          | 0/159292 [00:00<?, ?it/s]"
      ]
     },
     "metadata": {},
     "output_type": "display_data"
    },
    {
     "name": "stdout",
     "output_type": "stream",
     "text": [
      "CPU times: user 1min 19s, sys: 17.7 s, total: 1min 36s\n",
      "Wall time: 5min 22s\n"
     ]
    },
    {
     "data": {
      "text/plain": [
       "0         explanation why the edits made under my userna...\n",
       "1         d aww he matches this background colour i m se...\n",
       "2         hey man i m really not trying to edit war it s...\n",
       "3         more i can t make any real suggestions on impr...\n",
       "4         you sir are my hero any chance you remember wh...\n",
       "                                ...                        \n",
       "159446    and for the second time of asking when your vi...\n",
       "159447    you should be ashamed of yourself that is a ho...\n",
       "159448    spitzer umm theres no actual article for prost...\n",
       "159449    and it looks like it was actually you who put ...\n",
       "159450    and i really don t think you understand i came...\n",
       "Name: text, Length: 159292, dtype: object"
      ]
     },
     "execution_count": 9,
     "metadata": {},
     "output_type": "execute_result"
    }
   ],
   "source": [
    "%%time\n",
    "tqdm.pandas()\n",
    "# Напишем функцию для очистки и лемматизации текста\n",
    "m = Mystem()\n",
    "def clear_text(text):\n",
    "    text = text.lower()\n",
    "    text = \"\".join(m.lemmatize(text))  \n",
    "    text = re.sub(r'[^a-zA-Z ]', ' ', text)\n",
    "    text = text.split()\n",
    "    return \" \".join(text)\n",
    "\n",
    "# Чистим твиты\n",
    "#df['text']=df['text'].apply(clear_text)\n",
    "df['text'] = df['text'].progress_apply(clear_text)\n",
    "df['text']\n",
    "\n"
   ]
  },
  {
   "cell_type": "code",
   "execution_count": 10,
   "id": "442ee028-248b-48e5-91cf-ac83587a5c79",
   "metadata": {},
   "outputs": [
    {
     "data": {
      "image/png": "[encoded data removed]",
      "text/plain": [
       "<Figure size 640x480 with 1 Axes>"
      ]
     },
     "metadata": {},
     "output_type": "display_data"
    },
    {
     "name": "stdout",
     "output_type": "stream",
     "text": [
      "CPU times: user 45.3 s, sys: 2.23 s, total: 47.6 s\n",
      "Wall time: 50.9 s\n"
     ]
    }
   ],
   "source": [
    "%%time\n",
    "\n",
    "%matplotlib inline\n",
    "text = \" \".join(df['text'])\n",
    "wc = WordCloud(max_words=1000, margin=10, random_state=42).generate(text)\n",
    "default_colors = wc.to_array()\n",
    "\n",
    "plt.title(\"Частотное облако слов\")\n",
    "plt.imshow(default_colors, interpolation=\"bilinear\")\n",
    "plt.axis(\"off\")\n",
    "plt.show()"
   ]
  },
  {
   "cell_type": "code",
   "execution_count": 11,
   "id": "700f51dd-b2de-4f37-9d81-a81c9f0e4c11",
   "metadata": {},
   "outputs": [],
   "source": [
    "# Поделим выборку на обучающую и тестовую. Используем стратификацию\n",
    "\n",
    "features = df.drop('toxic', axis=1)\n",
    "target = df['toxic']\n",
    "\n",
    "features_train,features_test,target_train,target_test = train_test_split(features, target ,test_size=0.2,random_state=42, stratify=target)"
   ]
  },
  {
   "cell_type": "code",
   "execution_count": 12,
   "id": "da002697-8432-4da9-824d-4f66f428e133",
   "metadata": {},
   "outputs": [
    {
     "name": "stdout",
     "output_type": "stream",
     "text": [
      "(127433, 1)\n",
      "(127433,)\n",
      "(31859, 1)\n",
      "(31859,)\n"
     ]
    }
   ],
   "source": [
    "print(features_train.shape)\n",
    "print(target_train.shape)\n",
    "print(features_test.shape)\n",
    "print(target_test.shape)"
   ]
  },
  {
   "cell_type": "code",
   "execution_count": 13,
   "id": "6c2debd5-c37a-4462-bfb8-921f3b97f10e",
   "metadata": {},
   "outputs": [],
   "source": [
    "# target_train.value_counts().plot(kind='bar', label='Целевой признак')\n",
    "# plt.legend()\n",
    "# plt.title('Распределение классов целевого признака в обучающей выборке');\n",
    "# plt.show()\n",
    "\n",
    "# target_test.value_counts().plot(kind='bar', label='Целевой признак')\n",
    "# plt.legend()\n",
    "# plt.title('Распределение классов целевого признака в тестовой выборке');\n",
    "# plt.show()"
   ]
  },
  {
   "cell_type": "markdown",
   "id": "4197e6e6-11f1-41d9-b89e-96fdc106fd4c",
   "metadata": {},
   "source": [
    "**Все четенько. Выборку разделили корректно. Так как train_test_split по умолчанию перемешивает данные, а мы использовали еще и стратификацию, то все получилось как надо**"
   ]
  },
  {
   "cell_type": "markdown",
   "id": "33ae249a-9b3e-4c2a-8a9b-e3a6646246b3",
   "metadata": {},
   "source": [
    "### Загружаем стоп-слова"
   ]
  },
  {
   "cell_type": "code",
   "execution_count": 14,
   "id": "ae60c335-c6b9-4e21-a604-88d722974d90",
   "metadata": {},
   "outputs": [
    {
     "name": "stderr",
     "output_type": "stream",
     "text": [
      "[nltk_data] Downloading package stopwords to\n",
      "[nltk_data]     /Users/Sergey/nltk_data...\n",
      "[nltk_data]   Package stopwords is already up-to-date!\n"
     ]
    }
   ],
   "source": [
    "# загружаем стоп-слова на английском языке\n",
    "nltk.download('stopwords')\n",
    "stopwords = set(nltk_stopwords.words('english'))\n",
    "\n",
    "# #Создаем корпус\n",
    "# #corpus_train = features_train['text'].astype('U')\n",
    "# corpus_train = features_train['text']\n",
    "    \n",
    "# tf_idf = TfidfVectorizer(stop_words=list(stopwords))\n",
    "# tf_idf.fit_transform(corpus_train)\n",
    "\n",
    "# x_train = tf_idf.transform(corpus_train)\n",
    "# y_train = target_train\n",
    "\n",
    "# # Теперь для теста\n",
    "# #corpus_test = features_test['text'].astype('U')\n",
    "# corpus_test = features_test['text']\n",
    "# x_test = tf_idf.transform(corpus_test)\n",
    "\n",
    "# #target_test = tf_idf.transform(features_test['text'])"
   ]
  },
  {
   "cell_type": "markdown",
   "id": "67b47e11-bc18-484e-a7fc-e31344e560f3",
   "metadata": {},
   "source": [
    "**Вывод: Загрузили данные, сдлали предобработку. Проверили на пустые значения датафрейм, почистили тексты с помощью регулярок, руками сделали балансировку классов техникой downsampling. Поделили выборку, вычислили TF-IDF и создали корпус с целевым признаком. Все готово к обучению.**"
   ]
  },
  {
   "cell_type": "markdown",
   "id": "adb598b2-2d3f-4480-ba39-390a3a6b8afc",
   "metadata": {},
   "source": [
    "## 2. Обучение моделей"
   ]
  },
  {
   "cell_type": "markdown",
   "id": "ad45aa84-1f7f-4913-8999-1c052406656d",
   "metadata": {},
   "source": [
    "### 2.1 Логистическая регрессия"
   ]
  },
  {
   "cell_type": "code",
   "execution_count": 15,
   "id": "4bf8f97d-c493-4936-9c0e-253934dd4e98",
   "metadata": {},
   "outputs": [
    {
     "name": "stdout",
     "output_type": "stream",
     "text": [
      "F1 на CV равен: 0.773651721712969\n",
      "CPU times: user 53.6 s, sys: 8.32 s, total: 1min 1s\n",
      "Wall time: 3min 11s\n"
     ]
    }
   ],
   "source": [
    "%%time\n",
    "features_train = features_train['text']\n",
    "params_logreg = {\n",
    "                 #  'vect__ngram_range': [(1,1), (1,2)],          \n",
    "                 #  'tfidf__use_idf': [True, False],\n",
    "                 #  #'clf__C': (0.001,0.01,0.1,1,10,100),             \n",
    "                 # 'clf__C': [1, 10, 100, 1000],\n",
    "                    'clf__C':[0.1, 1, 10]\n",
    "                }\n",
    "\n",
    "pipeline_logreg = Pipeline([('vect', CountVectorizer(stop_words=stopwords, binary=True)),\n",
    "                 ('tfidf', TfidfTransformer()),\n",
    "                 ('clf', LogisticRegression(class_weight='balanced', solver='lbfgs', max_iter=1000, random_state=42))])\n",
    "\n",
    "grid_logreg = GridSearchCV(pipeline_logreg, params_logreg, n_jobs = -1, cv=5, scoring = 'f1')\n",
    "\n",
    "#grid_logreg = RandomizedSearchCV(pipeline_logreg, params_logreg, n_jobs = -1, cv=5, scoring = 'f1')\n",
    "grid_logreg.fit(features_train, target_train)\n",
    "\n",
    "print(\"F1 на CV равен:\", grid_logreg.best_score_)"
   ]
  },
  {
   "cell_type": "markdown",
   "id": "00b1836d-fe0b-4e76-99ec-2592c7ef154f",
   "metadata": {},
   "source": [
    "### 2.2 CatBoost"
   ]
  },
  {
   "cell_type": "code",
   "execution_count": 16,
   "id": "a2913d84-850c-400b-a19d-f0302dbaa55a",
   "metadata": {},
   "outputs": [
    {
     "name": "stdout",
     "output_type": "stream",
     "text": [
      "F1 на CV равен: 0.7083051202819296\n",
      "CPU times: user 4min, sys: 7.99 s, total: 4min 8s\n",
      "Wall time: 13min 48s\n"
     ]
    }
   ],
   "source": [
    "%%time\n",
    "\n",
    "param_catboost = {         \n",
    "            #'ct__learning_rate': [0.05, 0.1],\n",
    "            #'ct__n_estimators': range(100, 500, 100)\n",
    "            }\n",
    "\n",
    "\n",
    "pipeline_catboost = Pipeline([('vect', CountVectorizer(stop_words=stopwords)),\n",
    "                 ('tfidf', TfidfTransformer()),\n",
    "                 ('ct', CatBoostClassifier(random_state=42, iterations=30, verbose=False, class_weights=[0.1,0.9]))])\n",
    "\n",
    "grid_catboost = GridSearchCV(pipeline_catboost, param_catboost, n_jobs = -1, cv=5, scoring = 'f1', verbose=False)\n",
    "grid_catboost.fit(features_train, target_train)\n",
    "print(\"F1 на CV равен:\", grid_catboost.best_score_)"
   ]
  },
  {
   "cell_type": "markdown",
   "id": "ead9a648-da4d-435c-b1d9-76fdea444a72",
   "metadata": {},
   "source": [
    "### 2.3 Модель случайного леса"
   ]
  },
  {
   "cell_type": "code",
   "execution_count": 17,
   "id": "b95ce136-499d-45a9-891a-aeb6ce0af99c",
   "metadata": {},
   "outputs": [],
   "source": [
    "# %%time\n",
    "# param_rf = {         \n",
    "#             'rf__max_depth': range(1,5),\n",
    "#             'rf__n_estimators': range(1,100,10)\n",
    "#             }\n",
    "\n",
    "# pipeline_rf = Pipeline([('vect', CountVectorizer(stop_words=stopwords)),\n",
    "#                  ('tfidf', TfidfTransformer()),\n",
    "#                  ('rf', RandomForestClassifier(class_weight='balanced'))])\n",
    "\n",
    "# grid_rf = GridSearchCV(pipeline_rf, param_rf, n_jobs = -1, cv=5, scoring = 'f1')\n",
    "# grid_rf.fit(features_train, target_train)\n",
    "# print(\"F1 на CV равен:\", grid_rf.best_score_)"
   ]
  },
  {
   "cell_type": "markdown",
   "id": "8d40623a-c0d5-4f4e-9dce-937281da40f1",
   "metadata": {},
   "source": [
    "### 2.4 SGDClassifier"
   ]
  },
  {
   "cell_type": "code",
   "execution_count": 18,
   "id": "6720cdeb-7c4f-4be0-a3ae-9460e627f9ef",
   "metadata": {},
   "outputs": [
    {
     "name": "stdout",
     "output_type": "stream",
     "text": [
      "F1 на CV равен: 0.6245385673703392\n"
     ]
    }
   ],
   "source": [
    "params_sgd = [{\n",
    "                # 'sgd__loss':['hinge', 'log_loss', 'modified_huber'],\n",
    "                # 'sgd__learning_rate':['constant', 'optimal', 'invscaling', 'adaptive'],\n",
    "                # 'sgd__eta0':[0.01, 0.05, 0.1, 0.2, 0.3, 0.5],\n",
    "                #'sgd__class_weight':[0.1,0.9]\n",
    "              }]\n",
    "\n",
    "\n",
    "pipeline_sgd = Pipeline([('vect', CountVectorizer(stop_words=stopwords, binary=True)),\n",
    "                 ('tfidf', TfidfTransformer()),\n",
    "                 ('sgd', SGDClassifier(random_state=42))])\n",
    "\n",
    "grid_sgd = GridSearchCV(pipeline_sgd, params_sgd, n_jobs = -1, cv=5, scoring = 'f1')\n",
    "\n",
    "grid_sgd.fit(features_train, target_train)\n",
    "\n",
    "print(\"F1 на CV равен:\", grid_sgd.best_score_)"
   ]
  },
  {
   "cell_type": "markdown",
   "id": "47d4aae8-0c0b-4983-adee-af0c9f06efb7",
   "metadata": {},
   "source": [
    "### Тестирование лучшей модели"
   ]
  },
  {
   "cell_type": "code",
   "execution_count": 19,
   "id": "d21d561f-9b3f-4a83-9185-32bd5ab02f29",
   "metadata": {},
   "outputs": [
    {
     "name": "stdout",
     "output_type": "stream",
     "text": [
      "F1 на тестовой выборке равен: 0.7755876770331436\n"
     ]
    }
   ],
   "source": [
    "predictions = grid_logreg.predict(features_test['text'])\n",
    "print(\"F1 на тестовой выборке равен:\", f1_score(target_test, predictions))"
   ]
  },
  {
   "cell_type": "markdown",
   "id": "f1de7baf-344f-48c9-9aa4-d2a6f1fe612a",
   "metadata": {},
   "source": [
    "**Вывод: Лучше всего себя показала модель линейной регрессии. Ее и будем тестировать**"
   ]
  },
  {
   "cell_type": "markdown",
   "id": "49066a78-14d3-4ea9-8275-fb0d3a40adac",
   "metadata": {},
   "source": [
    "## 3. Выводы"
   ]
  },
  {
   "cell_type": "markdown",
   "id": "326eb02a-2442-4e37-879f-f22354adbf52",
   "metadata": {},
   "source": [
    "**Визуализируем ROC-кривые**"
   ]
  },
  {
   "cell_type": "code",
   "execution_count": 20,
   "id": "d75b6e79-ec8c-4219-9fe3-ee3e2b6a5116",
   "metadata": {},
   "outputs": [],
   "source": [
    "# plt.figure(figsize=[10,7])\n",
    "# plt.xlabel(\"FPR\")\n",
    "# plt.ylabel(\"TPR\")\n",
    "\n",
    "\n",
    "# plt.title(\"ROC-кривая\")\n",
    "\n",
    "# plt.plot(fpr_regression, tpr_regression, label='Логистическая регрессия')\n",
    "# plt.plot(fpr_cat, tpr_cat, label='CatBoost')\n",
    "# plt.plot(fpr_rf, tpr_rf, label='Случайный лес')\n",
    "\n",
    "# # ROC-кривая случайной модели\n",
    "# plt.plot([0, 1], [0, 1], linestyle='--', label='Случайная модель')\n",
    "# plt.legend(loc='lower right', fontsize='x-large')\n",
    "# plt.show()"
   ]
  },
  {
   "cell_type": "markdown",
   "id": "98e95d60-e837-4c69-859e-00b187ae1fa5",
   "metadata": {},
   "source": [
    "**Создадим датасет с результатами работы моделей**"
   ]
  },
  {
   "cell_type": "code",
   "execution_count": 21,
   "id": "9c99fc0f-a9ee-4614-a9f1-b6e00885b7fa",
   "metadata": {},
   "outputs": [],
   "source": [
    "# models_list = ['Логистичекая регрессия', 'CatBoost', 'Случайный лес']\n",
    "\n",
    "# pd.DataFrame({'F1 на CV выборке':f1_train_list, 'F1 на тестовой выборке':f1_test_list}, index=models_list)"
   ]
  },
  {
   "cell_type": "markdown",
   "id": "993d15b4-8bcc-4658-b611-82f5e96297d8",
   "metadata": {},
   "source": [
    "**Вывод: В проекте были рассмотрены 3 модели, лучшей из которых оказалась модель логистической регрессии. В каждой модели использовали кросс-валидацию и пайплайн. По условию проекта F1-мера должна быть не ниже 0.75, следовательно, задача выполнена.**"
   ]
  }
 ],
 "metadata": {
  "kernelspec": {
   "display_name": "Python 3 (ipykernel)",
   "language": "python",
   "name": "python3"
  },
  "language_info": {
   "codemirror_mode": {
    "name": "ipython",
    "version": 3
   },
   "file_extension": ".py",
   "mimetype": "text/x-python",
   "name": "python",
   "nbconvert_exporter": "python",
   "pygments_lexer": "ipython3",
   "version": "3.9.16"
  },
  "toc": {
   "base_numbering": 1,
   "nav_menu": {},
   "number_sections": true,
   "sideBar": true,
   "skip_h1_title": true,
   "title_cell": "Table of Contents",
   "title_sidebar": "Contents",
   "toc_cell": false,
   "toc_position": {},
   "toc_section_display": true,
   "toc_window_display": false
  }
 },
 "nbformat": 4,
 "nbformat_minor": 5
}
