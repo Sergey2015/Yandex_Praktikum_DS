{
 "cells": [
  {
   "cell_type": "markdown",
   "id": "4f515a93-3fdd-4273-8a0b-2e69874234f6",
   "metadata": {},
   "source": [
    "# Отток клиентов. Постановка задачи, описание проекта.\n",
    "\n",
    "## Описание проекта\n",
    "\n",
    "Из «Бета-Банка» стали уходить клиенты. Каждый месяц. Немного, но заметно. Банковские маркетологи посчитали: сохранять текущих клиентов дешевле, чем привлекать новых.\n",
    "\n",
    "Нужно спрогнозировать, уйдёт клиент из банка в ближайшее время или нет. Вам предоставлены исторические данные о поведении клиентов и расторжении договоров с банком.\n",
    "\n",
    "Постройте модель с предельно большим значением F1-меры. Чтобы сдать проект успешно, нужно довести метрику до 0.59. Проверьте F1-меру на тестовой выборке самостоятельно.\n",
    "\n",
    "Дополнительно измеряйте AUC-ROC, сравнивайте её значение с F1-мерой.\n",
    "\n",
    "### Инструкция по выполнению проекта\n",
    "\n",
    "1. Загрузите и подготовьте данные. Поясните порядок действий.\n",
    "2. Исследуйте баланс классов, обучите модель без учёта дисбаланса. Кратко опишите выводы.\n",
    "3. Улучшите качество модели, учитывая дисбаланс классов. Обучите разные модели и найдите лучшую. Кратко опишите выводы.\n",
    "4. Проведите финальное тестирование.\n",
    "\n",
    "### Описание данных\n",
    "\n",
    "Данные находятся в файле /datasets/Churn.csv (англ. «отток клиентов»). Скачать датасет\n",
    "\n",
    "**Признаки**\n",
    "\n",
    "- RowNumber — индекс строки в данных\n",
    "- CustomerId — уникальный идентификатор клиента\n",
    "- Surname — фамилия\n",
    "- CreditScore — кредитный рейтинг\n",
    "- Geography — страна проживания\n",
    "- Gender — пол\n",
    "- Age — возраст\n",
    "- Tenure — сколько лет человек является клиентом банка\n",
    "- Balance — баланс на счёте\n",
    "- NumOfProducts — количество продуктов банка, используемых клиентом\n",
    "- HasCrCard — наличие кредитной карты\n",
    "- IsActiveMember — активность клиента\n",
    "- EstimatedSalary — предполагаемая зарплата\n",
    "\n",
    "**Целевой признак**\n",
    "\n",
    "Exited — факт ухода клиента"
   ]
  },
  {
   "cell_type": "markdown",
   "id": "ff4abf2e-7fbc-49fa-beab-b13a51d3804f",
   "metadata": {},
   "source": [
    "### 1. Загрузка и подготовка данных"
   ]
  },
  {
   "cell_type": "code",
   "execution_count": 27,
   "id": "18fe7510-ebe8-4def-bbe4-8a910c03cc6b",
   "metadata": {},
   "outputs": [],
   "source": [
    "# Импортируем нужные библиотеки\n",
    "\n",
    "import pandas as pd\n",
    "import seaborn as sns\n",
    "import numpy as np\n",
    "import matplotlib.pyplot as plt\n",
    "from scipy import stats as st\n",
    "\n",
    "from sklearn.tree import DecisionTreeClassifier\n",
    "from sklearn.model_selection import train_test_split\n",
    "from sklearn.metrics import mean_squared_error\n",
    "from sklearn.metrics import accuracy_score\n",
    "from sklearn.ensemble import RandomForestClassifier\n",
    "from sklearn.linear_model import LogisticRegression\n",
    "\n",
    "from sklearn.dummy import DummyClassifier\n",
    "\n",
    "from sklearn.metrics import f1_score\n",
    "from sklearn.preprocessing import StandardScaler\n",
    "from sklearn.utils import shuffle\n",
    "from sklearn.metrics import roc_curve\n",
    "from sklearn.metrics import roc_auc_score\n",
    "from sklearn.metrics import precision_score, recall_score"
   ]
  },
  {
   "cell_type": "code",
   "execution_count": 28,
   "id": "bb120594-3f36-49af-a5cf-16dc3ce8d776",
   "metadata": {},
   "outputs": [],
   "source": [
    "#Читаем данные из датасета\n",
    "try:\n",
    "    data = pd.read_csv('datasets/Churn.csv')\n",
    "except:\n",
    "    data = pd.read_csv('/datasets/Churn.csv')"
   ]
  },
  {
   "cell_type": "code",
   "execution_count": 29,
   "id": "a977809f-2ee7-485a-b1fc-d558d9175187",
   "metadata": {
    "scrolled": true
   },
   "outputs": [
    {
     "data": {
      "text/html": [
       "<div>\n",
       "<style scoped>\n",
       "    .dataframe tbody tr th:only-of-type {\n",
       "        vertical-align: middle;\n",
       "    }\n",
       "\n",
       "    .dataframe tbody tr th {\n",
       "        vertical-align: top;\n",
       "    }\n",
       "\n",
       "    .dataframe thead th {\n",
       "        text-align: right;\n",
       "    }\n",
       "</style>\n",
       "<table border=\"1\" class=\"dataframe\">\n",
       "  <thead>\n",
       "    <tr style=\"text-align: right;\">\n",
       "      <th></th>\n",
       "      <th>RowNumber</th>\n",
       "      <th>CustomerId</th>\n",
       "      <th>Surname</th>\n",
       "      <th>CreditScore</th>\n",
       "      <th>Geography</th>\n",
       "      <th>Gender</th>\n",
       "      <th>Age</th>\n",
       "      <th>Tenure</th>\n",
       "      <th>Balance</th>\n",
       "      <th>NumOfProducts</th>\n",
       "      <th>HasCrCard</th>\n",
       "      <th>IsActiveMember</th>\n",
       "      <th>EstimatedSalary</th>\n",
       "      <th>Exited</th>\n",
       "    </tr>\n",
       "  </thead>\n",
       "  <tbody>\n",
       "    <tr>\n",
       "      <th>0</th>\n",
       "      <td>1</td>\n",
       "      <td>15634602</td>\n",
       "      <td>Hargrave</td>\n",
       "      <td>619</td>\n",
       "      <td>France</td>\n",
       "      <td>Female</td>\n",
       "      <td>42</td>\n",
       "      <td>2.0</td>\n",
       "      <td>0.00</td>\n",
       "      <td>1</td>\n",
       "      <td>1</td>\n",
       "      <td>1</td>\n",
       "      <td>101348.88</td>\n",
       "      <td>1</td>\n",
       "    </tr>\n",
       "    <tr>\n",
       "      <th>1</th>\n",
       "      <td>2</td>\n",
       "      <td>15647311</td>\n",
       "      <td>Hill</td>\n",
       "      <td>608</td>\n",
       "      <td>Spain</td>\n",
       "      <td>Female</td>\n",
       "      <td>41</td>\n",
       "      <td>1.0</td>\n",
       "      <td>83807.86</td>\n",
       "      <td>1</td>\n",
       "      <td>0</td>\n",
       "      <td>1</td>\n",
       "      <td>112542.58</td>\n",
       "      <td>0</td>\n",
       "    </tr>\n",
       "    <tr>\n",
       "      <th>2</th>\n",
       "      <td>3</td>\n",
       "      <td>15619304</td>\n",
       "      <td>Onio</td>\n",
       "      <td>502</td>\n",
       "      <td>France</td>\n",
       "      <td>Female</td>\n",
       "      <td>42</td>\n",
       "      <td>8.0</td>\n",
       "      <td>159660.80</td>\n",
       "      <td>3</td>\n",
       "      <td>1</td>\n",
       "      <td>0</td>\n",
       "      <td>113931.57</td>\n",
       "      <td>1</td>\n",
       "    </tr>\n",
       "    <tr>\n",
       "      <th>3</th>\n",
       "      <td>4</td>\n",
       "      <td>15701354</td>\n",
       "      <td>Boni</td>\n",
       "      <td>699</td>\n",
       "      <td>France</td>\n",
       "      <td>Female</td>\n",
       "      <td>39</td>\n",
       "      <td>1.0</td>\n",
       "      <td>0.00</td>\n",
       "      <td>2</td>\n",
       "      <td>0</td>\n",
       "      <td>0</td>\n",
       "      <td>93826.63</td>\n",
       "      <td>0</td>\n",
       "    </tr>\n",
       "    <tr>\n",
       "      <th>4</th>\n",
       "      <td>5</td>\n",
       "      <td>15737888</td>\n",
       "      <td>Mitchell</td>\n",
       "      <td>850</td>\n",
       "      <td>Spain</td>\n",
       "      <td>Female</td>\n",
       "      <td>43</td>\n",
       "      <td>2.0</td>\n",
       "      <td>125510.82</td>\n",
       "      <td>1</td>\n",
       "      <td>1</td>\n",
       "      <td>1</td>\n",
       "      <td>79084.10</td>\n",
       "      <td>0</td>\n",
       "    </tr>\n",
       "    <tr>\n",
       "      <th>5</th>\n",
       "      <td>6</td>\n",
       "      <td>15574012</td>\n",
       "      <td>Chu</td>\n",
       "      <td>645</td>\n",
       "      <td>Spain</td>\n",
       "      <td>Male</td>\n",
       "      <td>44</td>\n",
       "      <td>8.0</td>\n",
       "      <td>113755.78</td>\n",
       "      <td>2</td>\n",
       "      <td>1</td>\n",
       "      <td>0</td>\n",
       "      <td>149756.71</td>\n",
       "      <td>1</td>\n",
       "    </tr>\n",
       "    <tr>\n",
       "      <th>6</th>\n",
       "      <td>7</td>\n",
       "      <td>15592531</td>\n",
       "      <td>Bartlett</td>\n",
       "      <td>822</td>\n",
       "      <td>France</td>\n",
       "      <td>Male</td>\n",
       "      <td>50</td>\n",
       "      <td>7.0</td>\n",
       "      <td>0.00</td>\n",
       "      <td>2</td>\n",
       "      <td>1</td>\n",
       "      <td>1</td>\n",
       "      <td>10062.80</td>\n",
       "      <td>0</td>\n",
       "    </tr>\n",
       "    <tr>\n",
       "      <th>7</th>\n",
       "      <td>8</td>\n",
       "      <td>15656148</td>\n",
       "      <td>Obinna</td>\n",
       "      <td>376</td>\n",
       "      <td>Germany</td>\n",
       "      <td>Female</td>\n",
       "      <td>29</td>\n",
       "      <td>4.0</td>\n",
       "      <td>115046.74</td>\n",
       "      <td>4</td>\n",
       "      <td>1</td>\n",
       "      <td>0</td>\n",
       "      <td>119346.88</td>\n",
       "      <td>1</td>\n",
       "    </tr>\n",
       "    <tr>\n",
       "      <th>8</th>\n",
       "      <td>9</td>\n",
       "      <td>15792365</td>\n",
       "      <td>He</td>\n",
       "      <td>501</td>\n",
       "      <td>France</td>\n",
       "      <td>Male</td>\n",
       "      <td>44</td>\n",
       "      <td>4.0</td>\n",
       "      <td>142051.07</td>\n",
       "      <td>2</td>\n",
       "      <td>0</td>\n",
       "      <td>1</td>\n",
       "      <td>74940.50</td>\n",
       "      <td>0</td>\n",
       "    </tr>\n",
       "    <tr>\n",
       "      <th>9</th>\n",
       "      <td>10</td>\n",
       "      <td>15592389</td>\n",
       "      <td>H?</td>\n",
       "      <td>684</td>\n",
       "      <td>France</td>\n",
       "      <td>Male</td>\n",
       "      <td>27</td>\n",
       "      <td>2.0</td>\n",
       "      <td>134603.88</td>\n",
       "      <td>1</td>\n",
       "      <td>1</td>\n",
       "      <td>1</td>\n",
       "      <td>71725.73</td>\n",
       "      <td>0</td>\n",
       "    </tr>\n",
       "  </tbody>\n",
       "</table>\n",
       "</div>"
      ],
      "text/plain": [
       "   RowNumber  CustomerId   Surname  CreditScore Geography  Gender  Age  \\\n",
       "0          1    15634602  Hargrave          619    France  Female   42   \n",
       "1          2    15647311      Hill          608     Spain  Female   41   \n",
       "2          3    15619304      Onio          502    France  Female   42   \n",
       "3          4    15701354      Boni          699    France  Female   39   \n",
       "4          5    15737888  Mitchell          850     Spain  Female   43   \n",
       "5          6    15574012       Chu          645     Spain    Male   44   \n",
       "6          7    15592531  Bartlett          822    France    Male   50   \n",
       "7          8    15656148    Obinna          376   Germany  Female   29   \n",
       "8          9    15792365        He          501    France    Male   44   \n",
       "9         10    15592389        H?          684    France    Male   27   \n",
       "\n",
       "   Tenure    Balance  NumOfProducts  HasCrCard  IsActiveMember  \\\n",
       "0     2.0       0.00              1          1               1   \n",
       "1     1.0   83807.86              1          0               1   \n",
       "2     8.0  159660.80              3          1               0   \n",
       "3     1.0       0.00              2          0               0   \n",
       "4     2.0  125510.82              1          1               1   \n",
       "5     8.0  113755.78              2          1               0   \n",
       "6     7.0       0.00              2          1               1   \n",
       "7     4.0  115046.74              4          1               0   \n",
       "8     4.0  142051.07              2          0               1   \n",
       "9     2.0  134603.88              1          1               1   \n",
       "\n",
       "   EstimatedSalary  Exited  \n",
       "0        101348.88       1  \n",
       "1        112542.58       0  \n",
       "2        113931.57       1  \n",
       "3         93826.63       0  \n",
       "4         79084.10       0  \n",
       "5        149756.71       1  \n",
       "6         10062.80       0  \n",
       "7        119346.88       1  \n",
       "8         74940.50       0  \n",
       "9         71725.73       0  "
      ]
     },
     "metadata": {},
     "output_type": "display_data"
    },
    {
     "name": "stdout",
     "output_type": "stream",
     "text": [
      "<class 'pandas.core.frame.DataFrame'>\n",
      "RangeIndex: 10000 entries, 0 to 9999\n",
      "Data columns (total 14 columns):\n",
      " #   Column           Non-Null Count  Dtype  \n",
      "---  ------           --------------  -----  \n",
      " 0   RowNumber        10000 non-null  int64  \n",
      " 1   CustomerId       10000 non-null  int64  \n",
      " 2   Surname          10000 non-null  object \n",
      " 3   CreditScore      10000 non-null  int64  \n",
      " 4   Geography        10000 non-null  object \n",
      " 5   Gender           10000 non-null  object \n",
      " 6   Age              10000 non-null  int64  \n",
      " 7   Tenure           9091 non-null   float64\n",
      " 8   Balance          10000 non-null  float64\n",
      " 9   NumOfProducts    10000 non-null  int64  \n",
      " 10  HasCrCard        10000 non-null  int64  \n",
      " 11  IsActiveMember   10000 non-null  int64  \n",
      " 12  EstimatedSalary  10000 non-null  float64\n",
      " 13  Exited           10000 non-null  int64  \n",
      "dtypes: float64(3), int64(8), object(3)\n",
      "memory usage: 1.1+ MB\n",
      "None\n",
      "Размер таблицы\n",
      " (10000, 14)\n"
     ]
    }
   ],
   "source": [
    "#Смотрим на первые 10 строк\n",
    "display(data.head(10))\n",
    "\n",
    "#Узнаем общие сведения о данных\n",
    "print(data.info())\n",
    "print(\"Размер таблицы\\n\", data.shape)"
   ]
  },
  {
   "cell_type": "code",
   "execution_count": 30,
   "id": "b0913092-b5a5-41a1-9153-8d88e1c8bf0b",
   "metadata": {},
   "outputs": [
    {
     "name": "stdout",
     "output_type": "stream",
     "text": [
      "<class 'pandas.core.frame.DataFrame'>\n",
      "RangeIndex: 10000 entries, 0 to 9999\n",
      "Data columns (total 14 columns):\n",
      " #   Column           Non-Null Count  Dtype   \n",
      "---  ------           --------------  -----   \n",
      " 0   RowNumber        10000 non-null  int64   \n",
      " 1   CustomerId       10000 non-null  int64   \n",
      " 2   Surname          10000 non-null  object  \n",
      " 3   CreditScore      10000 non-null  int64   \n",
      " 4   Geography        10000 non-null  object  \n",
      " 5   Gender           10000 non-null  object  \n",
      " 6   Age              10000 non-null  int64   \n",
      " 7   Tenure           10000 non-null  category\n",
      " 8   Balance          10000 non-null  float64 \n",
      " 9   NumOfProducts    10000 non-null  int64   \n",
      " 10  HasCrCard        10000 non-null  int64   \n",
      " 11  IsActiveMember   10000 non-null  int64   \n",
      " 12  EstimatedSalary  10000 non-null  float64 \n",
      " 13  Exited           10000 non-null  int64   \n",
      "dtypes: category(1), float64(2), int64(8), object(3)\n",
      "memory usage: 1.0+ MB\n"
     ]
    }
   ],
   "source": [
    "# В данных есть пропустки в столбце Tenure. Заполним их значениями -1. Затем изменим тип данных на категориальный и применим прямое кодирование.\n",
    "data['Tenure'] = data['Tenure'].fillna(-1)\n",
    "\n",
    "#Приведем столбец к категориальному типу данных\n",
    "data['Tenure'] = data['Tenure'].astype('category')\n",
    "\n",
    "#Проверим\n",
    "data.info()"
   ]
  },
  {
   "cell_type": "code",
   "execution_count": 31,
   "id": "2be27bdd",
   "metadata": {},
   "outputs": [],
   "source": [
    "# Удалим столбец с порядковым номером и фамилией клиента. Они не нужны для исследования\n",
    "data = data.drop('RowNumber', axis=1)\n",
    "data = data.drop('Surname', axis=1)"
   ]
  },
  {
   "cell_type": "code",
   "execution_count": 32,
   "id": "001c119e-0cce-4316-ba3a-b11a9f217c85",
   "metadata": {},
   "outputs": [
    {
     "data": {
      "text/html": [
       "<div>\n",
       "<style scoped>\n",
       "    .dataframe tbody tr th:only-of-type {\n",
       "        vertical-align: middle;\n",
       "    }\n",
       "\n",
       "    .dataframe tbody tr th {\n",
       "        vertical-align: top;\n",
       "    }\n",
       "\n",
       "    .dataframe thead th {\n",
       "        text-align: right;\n",
       "    }\n",
       "</style>\n",
       "<table border=\"1\" class=\"dataframe\">\n",
       "  <thead>\n",
       "    <tr style=\"text-align: right;\">\n",
       "      <th></th>\n",
       "      <th>CustomerId</th>\n",
       "      <th>CreditScore</th>\n",
       "      <th>Age</th>\n",
       "      <th>Balance</th>\n",
       "      <th>NumOfProducts</th>\n",
       "      <th>HasCrCard</th>\n",
       "      <th>IsActiveMember</th>\n",
       "      <th>EstimatedSalary</th>\n",
       "      <th>Exited</th>\n",
       "      <th>Geography_Germany</th>\n",
       "      <th>...</th>\n",
       "      <th>Tenure_1.0</th>\n",
       "      <th>Tenure_2.0</th>\n",
       "      <th>Tenure_3.0</th>\n",
       "      <th>Tenure_4.0</th>\n",
       "      <th>Tenure_5.0</th>\n",
       "      <th>Tenure_6.0</th>\n",
       "      <th>Tenure_7.0</th>\n",
       "      <th>Tenure_8.0</th>\n",
       "      <th>Tenure_9.0</th>\n",
       "      <th>Tenure_10.0</th>\n",
       "    </tr>\n",
       "  </thead>\n",
       "  <tbody>\n",
       "    <tr>\n",
       "      <th>0</th>\n",
       "      <td>15634602</td>\n",
       "      <td>619</td>\n",
       "      <td>42</td>\n",
       "      <td>0.00</td>\n",
       "      <td>1</td>\n",
       "      <td>1</td>\n",
       "      <td>1</td>\n",
       "      <td>101348.88</td>\n",
       "      <td>1</td>\n",
       "      <td>0</td>\n",
       "      <td>...</td>\n",
       "      <td>0</td>\n",
       "      <td>1</td>\n",
       "      <td>0</td>\n",
       "      <td>0</td>\n",
       "      <td>0</td>\n",
       "      <td>0</td>\n",
       "      <td>0</td>\n",
       "      <td>0</td>\n",
       "      <td>0</td>\n",
       "      <td>0</td>\n",
       "    </tr>\n",
       "    <tr>\n",
       "      <th>1</th>\n",
       "      <td>15647311</td>\n",
       "      <td>608</td>\n",
       "      <td>41</td>\n",
       "      <td>83807.86</td>\n",
       "      <td>1</td>\n",
       "      <td>0</td>\n",
       "      <td>1</td>\n",
       "      <td>112542.58</td>\n",
       "      <td>0</td>\n",
       "      <td>0</td>\n",
       "      <td>...</td>\n",
       "      <td>1</td>\n",
       "      <td>0</td>\n",
       "      <td>0</td>\n",
       "      <td>0</td>\n",
       "      <td>0</td>\n",
       "      <td>0</td>\n",
       "      <td>0</td>\n",
       "      <td>0</td>\n",
       "      <td>0</td>\n",
       "      <td>0</td>\n",
       "    </tr>\n",
       "    <tr>\n",
       "      <th>2</th>\n",
       "      <td>15619304</td>\n",
       "      <td>502</td>\n",
       "      <td>42</td>\n",
       "      <td>159660.80</td>\n",
       "      <td>3</td>\n",
       "      <td>1</td>\n",
       "      <td>0</td>\n",
       "      <td>113931.57</td>\n",
       "      <td>1</td>\n",
       "      <td>0</td>\n",
       "      <td>...</td>\n",
       "      <td>0</td>\n",
       "      <td>0</td>\n",
       "      <td>0</td>\n",
       "      <td>0</td>\n",
       "      <td>0</td>\n",
       "      <td>0</td>\n",
       "      <td>0</td>\n",
       "      <td>1</td>\n",
       "      <td>0</td>\n",
       "      <td>0</td>\n",
       "    </tr>\n",
       "  </tbody>\n",
       "</table>\n",
       "<p>3 rows × 23 columns</p>\n",
       "</div>"
      ],
      "text/plain": [
       "   CustomerId  CreditScore  Age    Balance  NumOfProducts  HasCrCard  \\\n",
       "0    15634602          619   42       0.00              1          1   \n",
       "1    15647311          608   41   83807.86              1          0   \n",
       "2    15619304          502   42  159660.80              3          1   \n",
       "\n",
       "   IsActiveMember  EstimatedSalary  Exited  Geography_Germany  ...  \\\n",
       "0               1        101348.88       1                  0  ...   \n",
       "1               1        112542.58       0                  0  ...   \n",
       "2               0        113931.57       1                  0  ...   \n",
       "\n",
       "   Tenure_1.0  Tenure_2.0  Tenure_3.0  Tenure_4.0  Tenure_5.0  Tenure_6.0  \\\n",
       "0           0           1           0           0           0           0   \n",
       "1           1           0           0           0           0           0   \n",
       "2           0           0           0           0           0           0   \n",
       "\n",
       "   Tenure_7.0  Tenure_8.0  Tenure_9.0  Tenure_10.0  \n",
       "0           0           0           0            0  \n",
       "1           0           0           0            0  \n",
       "2           0           1           0            0  \n",
       "\n",
       "[3 rows x 23 columns]"
      ]
     },
     "metadata": {},
     "output_type": "display_data"
    }
   ],
   "source": [
    "# Применим прямое кодирование данных\n",
    "\n",
    "data_ohe = pd.get_dummies(data, drop_first=True)\n",
    "\n",
    "# Проверяем\n",
    "display(data_ohe.head(3))"
   ]
  },
  {
   "cell_type": "code",
   "execution_count": 33,
   "id": "28241f84-1a13-40c2-8912-86c322776566",
   "metadata": {},
   "outputs": [
    {
     "name": "stdout",
     "output_type": "stream",
     "text": [
      "Размер валидационно-тестовой выборки (4000, 22)\n",
      "\n",
      "Размер тренировочной выборки (6000, 22)\n",
      "Размер валидационной выборки (2000, 22)\n",
      "Размер тестовой выборки (2000, 22)\n"
     ]
    }
   ],
   "source": [
    "# Делим выборку на тренировочные, валидационные и тестовые данные. Тестовые данные будем использовать в финальном тестировании.\n",
    "\n",
    "target = data_ohe['Exited']\n",
    "features = data_ohe.drop('Exited', axis=1)\n",
    "\n",
    "\n",
    "\n",
    "features_train, features_valid_test, target_train, target_valid_test = train_test_split(\n",
    "   features, target, test_size=0.4, random_state=42, stratify=target) # отделяем 40% данных для валидационно-тетсовой выборки, которая потом будет делится на валидационную и на тестовую. Используем стратификацию.\n",
    "\n",
    "print(\"Размер валидационно-тестовой выборки\", features_valid_test.shape)\n",
    "\n",
    "features_valid, features_test, target_valid, target_test = train_test_split(\n",
    "   features_valid_test, target_valid_test, test_size=0.5, random_state=42, stratify=target_valid_test) # делим пополам на валидационную и тестовую выборки.\n",
    "\n",
    "# Проверяем размерность\n",
    "\n",
    "print(\"\\nРазмер тренировочной выборки\", features_train.shape)\n",
    "print(\"Размер валидационной выборки\", features_valid.shape)\n",
    "print(\"Размер тестовой выборки\", features_test.shape)\n"
   ]
  },
  {
   "cell_type": "markdown",
   "id": "5e4fa89c-fbdf-4958-ac15-5bc21f543169",
   "metadata": {},
   "source": [
    "### 2. Исследование баланса классов"
   ]
  },
  {
   "cell_type": "code",
   "execution_count": 34,
   "id": "45fb90e4-f7fc-45d1-9c5d-84431e989d53",
   "metadata": {},
   "outputs": [
    {
     "name": "stderr",
     "output_type": "stream",
     "text": [
      "/tmp/ipykernel_31/3212441093.py:8: SettingWithCopyWarning: \n",
      "A value is trying to be set on a copy of a slice from a DataFrame.\n",
      "Try using .loc[row_indexer,col_indexer] = value instead\n",
      "\n",
      "See the caveats in the documentation: https://pandas.pydata.org/pandas-docs/stable/user_guide/indexing.html#returning-a-view-versus-a-copy\n",
      "  features_train[numeric] = scaler.transform(features_train[numeric])\n",
      "/opt/conda/lib/python3.9/site-packages/pandas/core/indexing.py:1738: SettingWithCopyWarning: \n",
      "A value is trying to be set on a copy of a slice from a DataFrame.\n",
      "Try using .loc[row_indexer,col_indexer] = value instead\n",
      "\n",
      "See the caveats in the documentation: https://pandas.pydata.org/pandas-docs/stable/user_guide/indexing.html#returning-a-view-versus-a-copy\n",
      "  self._setitem_single_column(loc, value[:, i].tolist(), pi)\n",
      "/tmp/ipykernel_31/3212441093.py:9: SettingWithCopyWarning: \n",
      "A value is trying to be set on a copy of a slice from a DataFrame.\n",
      "Try using .loc[row_indexer,col_indexer] = value instead\n",
      "\n",
      "See the caveats in the documentation: https://pandas.pydata.org/pandas-docs/stable/user_guide/indexing.html#returning-a-view-versus-a-copy\n",
      "  features_valid[numeric] = scaler.transform(features_valid[numeric])\n",
      "/opt/conda/lib/python3.9/site-packages/pandas/core/indexing.py:1738: SettingWithCopyWarning: \n",
      "A value is trying to be set on a copy of a slice from a DataFrame.\n",
      "Try using .loc[row_indexer,col_indexer] = value instead\n",
      "\n",
      "See the caveats in the documentation: https://pandas.pydata.org/pandas-docs/stable/user_guide/indexing.html#returning-a-view-versus-a-copy\n",
      "  self._setitem_single_column(loc, value[:, i].tolist(), pi)\n",
      "/tmp/ipykernel_31/3212441093.py:11: SettingWithCopyWarning: \n",
      "A value is trying to be set on a copy of a slice from a DataFrame.\n",
      "Try using .loc[row_indexer,col_indexer] = value instead\n",
      "\n",
      "See the caveats in the documentation: https://pandas.pydata.org/pandas-docs/stable/user_guide/indexing.html#returning-a-view-versus-a-copy\n",
      "  features_test[numeric] = scaler.transform(features_test[numeric])\n",
      "/opt/conda/lib/python3.9/site-packages/pandas/core/indexing.py:1738: SettingWithCopyWarning: \n",
      "A value is trying to be set on a copy of a slice from a DataFrame.\n",
      "Try using .loc[row_indexer,col_indexer] = value instead\n",
      "\n",
      "See the caveats in the documentation: https://pandas.pydata.org/pandas-docs/stable/user_guide/indexing.html#returning-a-view-versus-a-copy\n",
      "  self._setitem_single_column(loc, value[:, i].tolist(), pi)\n"
     ]
    }
   ],
   "source": [
    "# Стандартизация данных\n",
    "\n",
    "numeric = ['CreditScore', 'Age', 'Balance', 'NumOfProducts', 'HasCrCard', 'IsActiveMember', 'EstimatedSalary']\n",
    "\n",
    "scaler = StandardScaler()\n",
    "scaler.fit(features_train[numeric])\n",
    "\n",
    "features_train[numeric] = scaler.transform(features_train[numeric])\n",
    "features_valid[numeric] = scaler.transform(features_valid[numeric])\n",
    "# Стандартизируем тестовую выборку\n",
    "features_test[numeric] = scaler.transform(features_test[numeric])\n",
    "\n",
    "\n"
   ]
  },
  {
   "cell_type": "code",
   "execution_count": 35,
   "id": "e974e60c-42fd-4072-a49a-9e9c4107f049",
   "metadata": {},
   "outputs": [
    {
     "name": "stdout",
     "output_type": "stream",
     "text": [
      "(4778, 22)\n",
      "(1222, 22)\n",
      "(4778,)\n",
      "(1222,)\n"
     ]
    }
   ],
   "source": [
    "features_zeros = features_train[target_train == 0] \n",
    "features_ones = features_train[target_train == 1] \n",
    "target_zeros = target_train[target_train == 0]\n",
    "target_ones = target_train[target_train == 1]\n",
    "\n",
    "print(features_zeros.shape)\n",
    "print(features_ones.shape)\n",
    "print(target_zeros.shape)\n",
    "print(target_ones.shape)"
   ]
  },
  {
   "cell_type": "markdown",
   "id": "e876e932-44de-4318-b159-7235fdc4eb10",
   "metadata": {},
   "source": [
    "**Вывод: Наблюдается дисбаланс классов, т.к. представителей класса 0 в 4 раза больше, чем класса 1. Потребуется upsampling.**"
   ]
  },
  {
   "cell_type": "markdown",
   "id": "c48b49dc-5e99-4df7-b66c-a531a700705d",
   "metadata": {},
   "source": [
    "### Обучение модели без учета дисбаланса классов"
   ]
  },
  {
   "cell_type": "code",
   "execution_count": 36,
   "id": "6d63667c-79e5-4121-a92c-d9230749b0fe",
   "metadata": {},
   "outputs": [
    {
     "name": "stdout",
     "output_type": "stream",
     "text": [
      "F1: 0.0\n",
      "Точность: 0.0\n",
      "Полнота: 0.0\n",
      "Уникальные значения в предсказании: [[   0 2000]]\n"
     ]
    },
    {
     "name": "stderr",
     "output_type": "stream",
     "text": [
      "/opt/conda/lib/python3.9/site-packages/sklearn/metrics/_classification.py:1245: UndefinedMetricWarning: Precision is ill-defined and being set to 0.0 due to no predicted samples. Use `zero_division` parameter to control this behavior.\n",
      "  _warn_prf(average, modifier, msg_start, len(result))\n"
     ]
    },
    {
     "name": "stdout",
     "output_type": "stream",
     "text": [
      "AUC-ROC: 0.52241600157651\n"
     ]
    }
   ],
   "source": [
    "# Обучим модель логистической регрессии\n",
    "\n",
    "model = LogisticRegression(random_state=42, solver='liblinear', max_iter=100)\n",
    "model.fit(features_train, target_train) # обучаем модель на тренировочной выборке\n",
    "predicted_valid = model.predict(features_valid) # Найдем предсказанные значения\n",
    "\n",
    "print(\"F1:\", f1_score(target_valid, predicted_valid)) # Посчитаем F1\n",
    "# Интересненько. Поему-то 0. Посмотрим на зависимые метрики.\n",
    "precision = precision_score(target_valid, predicted_valid) # Посчитаем точность\n",
    "recall = recall_score(target_valid, predicted_valid)# Посчитаем полноту\n",
    "print(\"Точность:\", precision)\n",
    "print(\"Полнота:\", recall)\n",
    "# По нулям. Теперь понятно, почему F1==0. Видимо модель предсказала одни нули. Проверим это.\n",
    "\n",
    "unique, counts = np.unique(predicted_valid, return_counts=True) \n",
    "print(\"Уникальные значения в предсказании:\", np.asarray((unique, counts)).T)\n",
    "# Действительно, одни нули\n",
    "\n",
    "\n",
    "\n",
    "probabilities_valid = model.predict_proba(features_valid) # Вычислим вероятности\n",
    "probabilities_one_valid = probabilities_valid[:, 1] #  Предсказанные значения с объектами первого класса\n",
    "auc_roc = roc_auc_score(target_valid, probabilities_one_valid)\n",
    "print(\"AUC-ROC:\", auc_roc)"
   ]
  },
  {
   "cell_type": "code",
   "execution_count": 37,
   "id": "e5ec277b-8c91-48da-8f98-73a7ce54470f",
   "metadata": {},
   "outputs": [
    {
     "name": "stdout",
     "output_type": "stream",
     "text": [
      "F1: 0.3127272727272727\n",
      "Точность: 0.6056338028169014\n",
      "Полнота: 0.2107843137254902\n"
     ]
    }
   ],
   "source": [
    "#Попробуем еще удалить столбец CustomerId и посмотрим как поведет себя модель на этот раз\n",
    "\n",
    "features_train = features_train.drop('CustomerId', axis=1)\n",
    "features_valid = features_valid.drop('CustomerId', axis=1)\n",
    "\n",
    "\n",
    "\n",
    "model = LogisticRegression(random_state=42, solver='liblinear', max_iter=100)\n",
    "model.fit(features_train, target_train) # обучаем модель на тренировочной выборке\n",
    "predicted_valid = model.predict(features_valid) # Найдем предсказанные значения\n",
    "\n",
    "print(\"F1:\", f1_score(target_valid, predicted_valid)) # Посчитаем F1\n",
    "# Интересненько. Поему-то 0. Посмотрим на зависимые метрики.\n",
    "precision = precision_score(target_valid, predicted_valid) # Посчитаем точность\n",
    "recall = recall_score(target_valid, predicted_valid)# Посчитаем полноту\n",
    "print(\"Точность:\", precision)\n",
    "print(\"Полнота:\", recall)"
   ]
  },
  {
   "cell_type": "markdown",
   "id": "6d02096a-f56c-4024-92aa-7bb59add39d9",
   "metadata": {},
   "source": [
    "**Уже лучше. Теперь F1 не равен нулю. Разнца есть, зачистим CustomerId в и в тестовой выборке**"
   ]
  },
  {
   "cell_type": "code",
   "execution_count": 38,
   "id": "29503348-f92a-4779-b279-4219ebbb7f50",
   "metadata": {},
   "outputs": [],
   "source": [
    "features_test = features_test.drop('CustomerId', axis=1)"
   ]
  },
  {
   "cell_type": "markdown",
   "id": "81756a09-09fc-4df0-acb9-d8a6bfc54194",
   "metadata": {
    "tags": []
   },
   "source": [
    "### 3. Улучшение качества модели. Обучение разных моделей. Выбор оптимальной модели"
   ]
  },
  {
   "cell_type": "code",
   "execution_count": 39,
   "id": "8f2684f6-fa55-469f-8ce0-9c3fde23947a",
   "metadata": {},
   "outputs": [
    {
     "name": "stdout",
     "output_type": "stream",
     "text": [
      "(9666, 21)\n",
      "(9666,)\n"
     ]
    }
   ],
   "source": [
    "# Так как мы имеем дисбаланс классов, будем использовать технику upsampling\n",
    "\n",
    "# Зачистим сначала оставшиеся хвосты CustomerId\n",
    "features_zeros = features_zeros.drop('CustomerId', axis=1)\n",
    "features_ones = features_ones.drop('CustomerId', axis=1)\n",
    "\n",
    "# Определим, во-сколько раз примерно нужно умножить количество записей класса 1, чтобы выборка стала сбалансированной\n",
    "repeat = round(features_zeros.shape[0] / features_ones.shape[0])\n",
    "\n",
    "features_upsampled = pd.concat([features_zeros] + [features_ones] * repeat)\n",
    "target_upsampled = pd.concat([target_zeros] + [target_ones] * repeat)\n",
    "\n",
    "# Перемешаем даные\n",
    "features_upsampled = shuffle(features_upsampled, random_state=42)\n",
    "target_upsampled = shuffle(target_upsampled, random_state=42)\n",
    "\n",
    "print(features_upsampled.shape)\n",
    "print(target_upsampled.shape)"
   ]
  },
  {
   "cell_type": "code",
   "execution_count": 40,
   "id": "3f6c5da3-cbd9-4bca-ae10-487bd506c5ca",
   "metadata": {},
   "outputs": [
    {
     "name": "stdout",
     "output_type": "stream",
     "text": [
      "(2416, 21)\n",
      "(2416,)\n"
     ]
    }
   ],
   "source": [
    "features_downsampled = features_zeros.sample(frac=1/repeat, random_state=42)\n",
    "target_downsampled = target_zeros.sample(frac=1/repeat, random_state=42)\n",
    "    \n",
    "features_downsampled = pd.concat([features_downsampled] + [features_ones])\n",
    "target_downsampled = pd.concat([target_downsampled] + [target_ones])\n",
    "    \n",
    "    \n",
    "features_downsampled, target_downsampled = shuffle(features_downsampled, target_downsampled, random_state=42)\n",
    "\n",
    "#Размер выборки после уменьшения\n",
    "print(features_downsampled.shape)\n",
    "print(target_downsampled.shape)"
   ]
  },
  {
   "cell_type": "markdown",
   "id": "414f3116-930a-4c67-b7f4-7e1b1ff0ffb9",
   "metadata": {},
   "source": [
    "### Модель логистической регрессии"
   ]
  },
  {
   "cell_type": "code",
   "execution_count": 41,
   "id": "ff20590e-128e-4d6a-a8ea-9374a4e57f6d",
   "metadata": {},
   "outputs": [
    {
     "name": "stdout",
     "output_type": "stream",
     "text": [
      "F1: 0.5166240409207161\n",
      "AUC-ROC: 0.7914295743422998\n"
     ]
    }
   ],
   "source": [
    "# Балансировка изменением весов классов \n",
    "\n",
    "model = LogisticRegression(random_state=42, solver='liblinear', max_iter=100, class_weight='balanced')\n",
    "model.fit(features_train, target_train) # обучаем модель на тренировочной выборке\n",
    "predicted_valid = model.predict(features_valid)\n",
    "\n",
    "print(\"F1:\", f1_score(target_valid, predicted_valid))\n",
    "\n",
    "probabilities_valid = model.predict_proba(features_valid)\n",
    "probabilities_one_valid = probabilities_valid[:, 1] #  Предсказанные значения с объектами первого класса\n",
    "auc_roc = roc_auc_score(target_valid, probabilities_one_valid) # Найдем значение AUC-ROC\n",
    "print(\"AUC-ROC:\", auc_roc)"
   ]
  },
  {
   "cell_type": "code",
   "execution_count": 42,
   "id": "140dfb5f-4e16-4ed9-9b56-aee2d91185e2",
   "metadata": {},
   "outputs": [
    {
     "name": "stdout",
     "output_type": "stream",
     "text": [
      "F1: 0.5177065767284993\n",
      "AUC-ROC: 0.7914557468716129\n"
     ]
    }
   ],
   "source": [
    "# Выборка сбалансирована техникой upsampling\n",
    "model = LogisticRegression(random_state=42, solver='liblinear', max_iter=100)\n",
    "model.fit(features_upsampled, target_upsampled) # обучаем модель на тренировочной выборке\n",
    "predicted_valid = model.predict(features_valid)\n",
    "\n",
    "print(\"F1:\", f1_score(target_valid, predicted_valid))\n",
    "\n",
    "probabilities_valid = model.predict_proba(features_valid)\n",
    "probabilities_one_valid = probabilities_valid[:, 1] #  Предсказанные значения с объектами первого класса\n",
    "auc_roc = roc_auc_score(target_valid, probabilities_one_valid) # Найдем значение AUC-ROC\n",
    "print(\"AUC-ROC:\", auc_roc)"
   ]
  },
  {
   "cell_type": "code",
   "execution_count": 43,
   "id": "64274615-2585-4286-a678-c13b4b888417",
   "metadata": {},
   "outputs": [
    {
     "name": "stdout",
     "output_type": "stream",
     "text": [
      "F1: 0.5170975813177647\n",
      "AUC-ROC: 0.7922871095674451\n"
     ]
    }
   ],
   "source": [
    "# Выборка сбалансирована техникой downsampling\n",
    "\n",
    "model = LogisticRegression(random_state=42, solver='liblinear', max_iter=100)\n",
    "model.fit(features_downsampled, target_downsampled) # обучаем модель на тренировочной выборке\n",
    "predicted_valid = model.predict(features_valid)\n",
    "\n",
    "print(\"F1:\", f1_score(target_valid, predicted_valid))\n",
    "\n",
    "probabilities_valid = model.predict_proba(features_valid)\n",
    "probabilities_one_valid = probabilities_valid[:, 1] #  Предсказанные значения с объектами первого класса\n",
    "auc_roc = roc_auc_score(target_valid, probabilities_one_valid) # Найдем значение AUC-ROC\n",
    "print(\"AUC-ROC:\", auc_roc)\n"
   ]
  },
  {
   "cell_type": "markdown",
   "id": "83390343-9687-466d-8f66-fe1c82214ba5",
   "metadata": {},
   "source": [
    "**Слабый результат. F1 вчего 0.52. Как видно, от применяемой техники балансировки результат несильно зависит**"
   ]
  },
  {
   "cell_type": "code",
   "execution_count": 44,
   "id": "3849671e-861e-4331-a43c-1f280199a663",
   "metadata": {},
   "outputs": [
    {
     "data": {
      "image/png": "[encoded data removed]",
      "text/plain": [
       "<Figure size 432x288 with 1 Axes>"
      ]
     },
     "metadata": {
      "needs_background": "light"
     },
     "output_type": "display_data"
    }
   ],
   "source": [
    "# Построим график ROC-кривой\n",
    "\n",
    "fpr, tpr, thresholds = roc_curve(target_valid, probabilities_one_valid)\n",
    "\n",
    "plt.figure()\n",
    "\n",
    "plt.plot(fpr, tpr)\n",
    "\n",
    "# ROC-кривая случайной модели (выглядит как прямая)\n",
    "plt.plot([0, 1], [0, 1], linestyle='--')\n",
    "\n",
    "# Устанавливаем границы осей от 0 до 1 \n",
    "plt.xlim([0.0, 1.0])\n",
    "plt.ylim([0.0, 1.0])\n",
    "\n",
    "# Подписываем оси\n",
    "plt.xlabel('False Positive Rate')\n",
    "plt.ylabel('True Positive Rate')\n",
    "\n",
    "# Добавляем заголовок\n",
    "plt.title('ROC-кривая')\n",
    "plt.show()"
   ]
  },
  {
   "cell_type": "markdown",
   "id": "854a6d5f-cf42-47e5-872b-e5f9e9c02f09",
   "metadata": {},
   "source": [
    "**AUC-ROC 0.79. Неплохо**"
   ]
  },
  {
   "cell_type": "markdown",
   "id": "4160942c-3ac9-4946-80bc-160bc2b1a84c",
   "metadata": {},
   "source": [
    "### Модель решающего дерева"
   ]
  },
  {
   "cell_type": "code",
   "execution_count": 45,
   "id": "314ce1ee-84da-4792-a665-b4a58ca2ff73",
   "metadata": {
    "scrolled": true
   },
   "outputs": [
    {
     "name": "stdout",
     "output_type": "stream",
     "text": [
      "max_depth = 1 : F1: 0.5170193192272309\n",
      "max_depth = 2 : F1: 0.5387387387387388\n",
      "max_depth = 3 : F1: 0.5578747628083491\n",
      "max_depth = 4 : F1: 0.5427631578947368\n",
      "max_depth = 5 : F1: 0.5726795096322242\n",
      "max_depth = 6 : F1: 0.5749128919860628\n",
      "max_depth = 7 : F1: 0.561492790500424\n",
      "max_depth = 8 : F1: 0.5633546034639927\n",
      "max_depth = 9 : F1: 0.5645472061657033\n",
      "max_depth = 10 : F1: 0.5553359683794468\n",
      "max_depth = 11 : F1: 0.5646817248459959\n",
      "max_depth = 12 : F1: 0.5424083769633508\n",
      "max_depth = 13 : F1: 0.5334773218142549\n",
      "max_depth = 14 : F1: 0.5277161862527716\n",
      "max_depth = 15 : F1: 0.5279069767441861\n",
      "max_depth = 16 : F1: 0.5280373831775701\n",
      "max_depth = 17 : F1: 0.5106888361045131\n",
      "max_depth = 18 : F1: 0.525934861278649\n",
      "max_depth = 19 : F1: 0.4993909866017052\n",
      "max_depth = 20 : F1: 0.510948905109489\n",
      "max_depth = 21 : F1: 0.5067650676506765\n",
      "max_depth = 22 : F1: 0.5018450184501846\n",
      "max_depth = 23 : F1: 0.49752475247524747\n",
      "max_depth = 24 : F1: 0.49752475247524747\n",
      "max_depth = 25 : F1: 0.49752475247524747\n",
      "max_depth = 26 : F1: 0.49752475247524747\n",
      "max_depth = 27 : F1: 0.49752475247524747\n",
      "max_depth = 28 : F1: 0.49752475247524747\n",
      "max_depth = 29 : F1: 0.49752475247524747\n",
      "max_depth = 30 : F1: 0.49752475247524747\n",
      "max_depth = 31 : F1: 0.49752475247524747\n",
      "max_depth = 32 : F1: 0.49752475247524747\n",
      "max_depth = 33 : F1: 0.49752475247524747\n",
      "max_depth = 34 : F1: 0.49752475247524747\n",
      "max_depth = 35 : F1: 0.49752475247524747\n",
      "max_depth = 36 : F1: 0.49752475247524747\n",
      "max_depth = 37 : F1: 0.49752475247524747\n",
      "max_depth = 38 : F1: 0.49752475247524747\n",
      "max_depth = 39 : F1: 0.49752475247524747\n",
      "max_depth = 40 : F1: 0.49752475247524747\n",
      "max_depth = 41 : F1: 0.49752475247524747\n",
      "max_depth = 42 : F1: 0.49752475247524747\n",
      "max_depth = 43 : F1: 0.49752475247524747\n",
      "max_depth = 44 : F1: 0.49752475247524747\n",
      "max_depth = 45 : F1: 0.49752475247524747\n",
      "max_depth = 46 : F1: 0.49752475247524747\n",
      "max_depth = 47 : F1: 0.49752475247524747\n",
      "max_depth = 48 : F1: 0.49752475247524747\n",
      "max_depth = 49 : F1: 0.49752475247524747\n",
      "F1 лучшей модели на валидационной выборке: 0.5749128919860628 Лучшая глубина: 6\n",
      "AUC-ROC: 0.8451425325155189\n",
      "CPU times: user 2.17 s, sys: 42.8 ms, total: 2.21 s\n",
      "Wall time: 2.24 s\n"
     ]
    }
   ],
   "source": [
    "%%time\n",
    "# Для сбалансированной выборки методом upsample\n",
    "\n",
    "best_model_tree = None\n",
    "best_result = 0\n",
    "for depth in range(1, 50):\n",
    "    model = DecisionTreeClassifier(random_state=42, max_depth=depth) # обучаем модель с заданной глубиной дерева\n",
    "    model.fit(features_upsampled, target_upsampled) # обучаем модель\n",
    "    predicted_valid = model.predict(features_valid) # получаем предсказания модели\n",
    "    result_f1 = f1_score(target_valid, predicted_valid)\n",
    "\n",
    "    if result_f1 > best_result:\n",
    "        best_model_tree = model\n",
    "        best_result = result_f1\n",
    "        best_depth = depth\n",
    "    print(\"max_depth =\", depth, \": \", end='')\n",
    "    print(\"F1:\", result_f1)\n",
    "        \n",
    "print(\"F1 лучшей модели на валидационной выборке:\", best_result, \"Лучшая глубина:\", best_depth)\n",
    "\n",
    "probabilities_valid = best_model_tree.predict_proba(features_valid)\n",
    "probabilities_one_valid = probabilities_valid[:, 1] #  Предсказанные значения с объектами первого класса\n",
    "auc_roc = roc_auc_score(target_valid, probabilities_one_valid) # Найдем значение AUC-ROC\n",
    "print(\"AUC-ROC:\", auc_roc)"
   ]
  },
  {
   "cell_type": "code",
   "execution_count": 46,
   "id": "74b5c78b-07f2-452e-b9d7-e14e259ba1ab",
   "metadata": {},
   "outputs": [
    {
     "name": "stdout",
     "output_type": "stream",
     "text": [
      "max_depth = 1 : F1: 0.5088062622309197\n",
      "max_depth = 2 : F1: 0.5334608030592736\n",
      "max_depth = 3 : F1: 0.5334608030592736\n",
      "max_depth = 4 : F1: 0.5484147386461011\n",
      "max_depth = 5 : F1: 0.5783348254252462\n",
      "max_depth = 6 : F1: 0.5804651162790698\n",
      "max_depth = 7 : F1: 0.5810055865921787\n",
      "max_depth = 8 : F1: 0.5605920444033303\n",
      "max_depth = 9 : F1: 0.5555555555555556\n",
      "max_depth = 10 : F1: 0.5334522747546834\n",
      "max_depth = 11 : F1: 0.5154457193292145\n",
      "max_depth = 12 : F1: 0.4925764192139737\n",
      "max_depth = 13 : F1: 0.49870129870129876\n",
      "max_depth = 14 : F1: 0.4910485933503836\n",
      "max_depth = 15 : F1: 0.47128378378378377\n",
      "max_depth = 16 : F1: 0.4760302775441548\n",
      "max_depth = 17 : F1: 0.48046550290939316\n",
      "max_depth = 18 : F1: 0.47049180327868845\n",
      "max_depth = 19 : F1: 0.47906197654941374\n",
      "max_depth = 20 : F1: 0.4878048780487806\n",
      "max_depth = 21 : F1: 0.4878048780487806\n",
      "max_depth = 22 : F1: 0.4878048780487806\n",
      "max_depth = 23 : F1: 0.4878048780487806\n",
      "max_depth = 24 : F1: 0.4878048780487806\n",
      "max_depth = 25 : F1: 0.4878048780487806\n",
      "max_depth = 26 : F1: 0.4878048780487806\n",
      "max_depth = 27 : F1: 0.4878048780487806\n",
      "max_depth = 28 : F1: 0.4878048780487806\n",
      "max_depth = 29 : F1: 0.4878048780487806\n",
      "max_depth = 30 : F1: 0.4878048780487806\n",
      "max_depth = 31 : F1: 0.4878048780487806\n",
      "max_depth = 32 : F1: 0.4878048780487806\n",
      "max_depth = 33 : F1: 0.4878048780487806\n",
      "max_depth = 34 : F1: 0.4878048780487806\n",
      "max_depth = 35 : F1: 0.4878048780487806\n",
      "max_depth = 36 : F1: 0.4878048780487806\n",
      "max_depth = 37 : F1: 0.4878048780487806\n",
      "max_depth = 38 : F1: 0.4878048780487806\n",
      "max_depth = 39 : F1: 0.4878048780487806\n",
      "max_depth = 40 : F1: 0.4878048780487806\n",
      "max_depth = 41 : F1: 0.4878048780487806\n",
      "max_depth = 42 : F1: 0.4878048780487806\n",
      "max_depth = 43 : F1: 0.4878048780487806\n",
      "max_depth = 44 : F1: 0.4878048780487806\n",
      "max_depth = 45 : F1: 0.4878048780487806\n",
      "max_depth = 46 : F1: 0.4878048780487806\n",
      "max_depth = 47 : F1: 0.4878048780487806\n",
      "max_depth = 48 : F1: 0.4878048780487806\n",
      "max_depth = 49 : F1: 0.4878048780487806\n",
      "F1 лучшей модели на валидационной выборке: 0.5810055865921787 Лучшая глубина: 7\n",
      "AUC-ROC: 0.8193356488323974\n",
      "CPU times: user 805 ms, sys: 19.4 ms, total: 825 ms\n",
      "Wall time: 845 ms\n"
     ]
    }
   ],
   "source": [
    "%%time\n",
    "# Для сбалансированной выборки методом downsample\n",
    "\n",
    "best_model_tree = None\n",
    "best_result = 0\n",
    "for depth in range(1, 50):\n",
    "    model = DecisionTreeClassifier(random_state=42, max_depth=depth) # обучаем модель с заданной глубиной дерева\n",
    "    model.fit(features_downsampled, target_downsampled) # обучаем модель\n",
    "    predicted_valid = model.predict(features_valid) # получаем предсказания модели\n",
    "    result_f1 = f1_score(target_valid, predicted_valid)\n",
    "\n",
    "    if result_f1 > best_result:\n",
    "        best_model_tree = model\n",
    "        best_result = result_f1\n",
    "        best_depth = depth\n",
    "    print(\"max_depth =\", depth, \": \", end='')\n",
    "    print(\"F1:\", result_f1)\n",
    "        \n",
    "print(\"F1 лучшей модели на валидационной выборке:\", best_result, \"Лучшая глубина:\", best_depth)\n",
    "\n",
    "probabilities_valid = best_model_tree.predict_proba(features_valid)\n",
    "probabilities_one_valid = probabilities_valid[:, 1] #  Предсказанные значения с объектами первого класса\n",
    "auc_roc = roc_auc_score(target_valid, probabilities_one_valid) # Найдем значение AUC-ROC\n",
    "print(\"AUC-ROC:\", auc_roc)"
   ]
  },
  {
   "cell_type": "code",
   "execution_count": 47,
   "id": "7003a391-3f1f-4049-9142-d5158882cf1b",
   "metadata": {},
   "outputs": [
    {
     "name": "stdout",
     "output_type": "stream",
     "text": [
      "max_depth = 1 : F1: 0.5170193192272309\n",
      "max_depth = 2 : F1: 0.5387387387387388\n",
      "max_depth = 3 : F1: 0.5578747628083491\n",
      "max_depth = 4 : F1: 0.5427631578947368\n",
      "max_depth = 5 : F1: 0.5726795096322242\n",
      "max_depth = 6 : F1: 0.5754141238012207\n",
      "max_depth = 7 : F1: 0.5624468988954971\n",
      "max_depth = 8 : F1: 0.5648994515539305\n",
      "max_depth = 9 : F1: 0.5606936416184972\n",
      "max_depth = 10 : F1: 0.5571142284569138\n",
      "max_depth = 11 : F1: 0.5670103092783505\n",
      "max_depth = 12 : F1: 0.5406546990496304\n",
      "max_depth = 13 : F1: 0.5353982300884956\n",
      "max_depth = 14 : F1: 0.5358744394618834\n",
      "max_depth = 15 : F1: 0.5249709639953541\n",
      "max_depth = 16 : F1: 0.507142857142857\n",
      "max_depth = 17 : F1: 0.5095693779904307\n",
      "max_depth = 18 : F1: 0.510948905109489\n",
      "max_depth = 19 : F1: 0.5067650676506765\n",
      "max_depth = 20 : F1: 0.5195121951219512\n",
      "max_depth = 21 : F1: 0.5080545229244113\n",
      "max_depth = 22 : F1: 0.5031446540880503\n",
      "max_depth = 23 : F1: 0.48994974874371855\n",
      "max_depth = 24 : F1: 0.49122807017543857\n",
      "max_depth = 25 : F1: 0.49122807017543857\n",
      "max_depth = 26 : F1: 0.49122807017543857\n",
      "max_depth = 27 : F1: 0.49122807017543857\n",
      "max_depth = 28 : F1: 0.49122807017543857\n",
      "max_depth = 29 : F1: 0.49122807017543857\n",
      "max_depth = 30 : F1: 0.49122807017543857\n",
      "max_depth = 31 : F1: 0.49122807017543857\n",
      "max_depth = 32 : F1: 0.49122807017543857\n",
      "max_depth = 33 : F1: 0.49122807017543857\n",
      "max_depth = 34 : F1: 0.49122807017543857\n",
      "max_depth = 35 : F1: 0.49122807017543857\n",
      "max_depth = 36 : F1: 0.49122807017543857\n",
      "max_depth = 37 : F1: 0.49122807017543857\n",
      "max_depth = 38 : F1: 0.49122807017543857\n",
      "max_depth = 39 : F1: 0.49122807017543857\n",
      "max_depth = 40 : F1: 0.49122807017543857\n",
      "max_depth = 41 : F1: 0.49122807017543857\n",
      "max_depth = 42 : F1: 0.49122807017543857\n",
      "max_depth = 43 : F1: 0.49122807017543857\n",
      "max_depth = 44 : F1: 0.49122807017543857\n",
      "max_depth = 45 : F1: 0.49122807017543857\n",
      "max_depth = 46 : F1: 0.49122807017543857\n",
      "max_depth = 47 : F1: 0.49122807017543857\n",
      "max_depth = 48 : F1: 0.49122807017543857\n",
      "max_depth = 49 : F1: 0.49122807017543857\n",
      "F1 лучшей модели на валидационной выборке: 0.5754141238012207 Лучшая глубина: 6\n",
      "AUC-ROC: 0.8457475798108188\n",
      "CPU times: user 1.81 s, sys: 26.9 ms, total: 1.83 s\n",
      "Wall time: 1.87 s\n"
     ]
    }
   ],
   "source": [
    "%%time\n",
    "# Для сбалансированной выборки методом изменения весов классов\n",
    "\n",
    "best_model_tree = None\n",
    "best_result = 0\n",
    "for depth in range(1, 50):\n",
    "    model = DecisionTreeClassifier(random_state=42, max_depth=depth, class_weight='balanced') # обучаем модель с заданной глубиной дерева\n",
    "    model.fit(features_train, target_train) # обучаем модель\n",
    "    predicted_valid = model.predict(features_valid) # получаем предсказания модели\n",
    "    result_f1 = f1_score(target_valid, predicted_valid)\n",
    "\n",
    "    if result_f1 > best_result:\n",
    "        best_model_tree = model\n",
    "        best_result = result_f1\n",
    "        best_depth = depth\n",
    "    print(\"max_depth =\", depth, \": \", end='')\n",
    "    print(\"F1:\", result_f1)\n",
    "        \n",
    "print(\"F1 лучшей модели на валидационной выборке:\", best_result, \"Лучшая глубина:\", best_depth)\n",
    "\n",
    "probabilities_valid = best_model_tree.predict_proba(features_valid)\n",
    "probabilities_one_valid = probabilities_valid[:, 1] #  Предсказанные значения с объектами первого класса\n",
    "auc_roc = roc_auc_score(target_valid, probabilities_one_valid) # Найдем значение AUC-ROC\n",
    "print(\"AUC-ROC:\", auc_roc)"
   ]
  },
  {
   "cell_type": "markdown",
   "id": "0449f771-ca48-41ff-afef-e3a221032a4c",
   "metadata": {},
   "source": [
    "### Модель случайного леса"
   ]
  },
  {
   "cell_type": "code",
   "execution_count": 48,
   "id": "44e6b3a6-b743-47dc-a515-8b4a1f986ce1",
   "metadata": {
    "scrolled": true
   },
   "outputs": [
    {
     "name": "stdout",
     "output_type": "stream",
     "text": [
      "0.5427046263345197\n",
      "0.5806451612903226\n",
      "0.5859375000000001\n",
      "0.5861084681255947\n",
      "0.5978367748279252\n",
      "0.6097794822627037\n",
      "0.5978578383641674\n",
      "0.629327902240326\n",
      "0.6275720164609054\n",
      "0.6150583244962884\n",
      "0.6318082788671024\n",
      "0.6216814159292036\n",
      "0.6166097838452788\n",
      "0.6255813953488372\n",
      "0.613744075829384\n",
      "0.6213836477987421\n",
      "0.6214549938347719\n",
      "0.609452736318408\n",
      "0.6042983565107459\n",
      "0.5868725868725869\n",
      "0.6103038309114928\n",
      "0.5925925925925927\n",
      "0.5866666666666666\n",
      "0.6151761517615176\n",
      "0.6133333333333333\n",
      "0.5997322623828648\n",
      "0.6040268456375839\n",
      "0.5989010989010989\n",
      "0.5951086956521738\n",
      "0.5956284153005464\n",
      "0.5956284153005464\n",
      "0.5956284153005464\n",
      "0.5956284153005464\n",
      "0.5956284153005464\n",
      "0.5956284153005464\n",
      "0.5956284153005464\n",
      "0.5956284153005464\n",
      "0.5956284153005464\n",
      "0.5956284153005464\n",
      "0.5956284153005464\n",
      "0.5956284153005464\n",
      "0.5956284153005464\n",
      "0.5956284153005464\n",
      "0.5956284153005464\n",
      "0.5956284153005464\n",
      "0.5956284153005464\n",
      "0.5956284153005464\n",
      "0.5956284153005464\n",
      "0.5956284153005464\n",
      "F1 наилучшей модели на валидационной выборке: 0.6318082788671024 \n",
      "Лучшая глубина: 11\n",
      "AUC-ROC: 0.8652083949157553\n",
      "CPU times: user 9.15 s, sys: 63.2 ms, total: 9.21 s\n",
      "Wall time: 9.31 s\n"
     ]
    }
   ],
   "source": [
    "%%time\n",
    "# Для сбалансированной выборки методом upsample\n",
    "\n",
    "best_result = 0\n",
    "best_model_forest = None\n",
    "\n",
    "# Сначала найдем лучшую глубину, затем подберем лучшее количество деревьев. Глубину ограницем до 50.\n",
    "for depth in range(1, 50):\n",
    "    model = RandomForestClassifier(n_estimators=20, max_depth=depth, random_state=42)\n",
    "    model.fit(features_upsampled, target_upsampled)\n",
    "    predicted_valid = model.predict(features_valid) # получаем предсказания модели\n",
    "    result_f1 = f1_score(target_valid, predicted_valid)\n",
    "    print(result_f1)\n",
    "    if result_f1 > best_result:\n",
    "        best_model_forest_first_upsampled = model # сохраняем наилучшую модель\n",
    "        best_result = result_f1 #  сохраняем наилучшее значение метрики F1 на валидационных данных\n",
    "        best_depth = depth\n",
    "\n",
    "# Посчитаем лучшие F1 и глубину        \n",
    "print(\"F1 наилучшей модели на валидационной выборке:\", best_result, \"\\nЛучшая глубина:\", best_depth)\n",
    "\n",
    "\n",
    "probabilities_valid = best_model_forest_first_upsampled.predict_proba(features_valid)\n",
    "probabilities_one_valid = probabilities_valid[:, 1] #  Предсказанные значения с объектами первого класса\n",
    "auc_roc = roc_auc_score(target_valid, probabilities_one_valid) # Найдем значение AUC-ROC\n",
    "print(\"AUC-ROC:\", auc_roc)"
   ]
  },
  {
   "cell_type": "code",
   "execution_count": 49,
   "id": "b0864633-24b0-4969-abc1-38feeb406b51",
   "metadata": {},
   "outputs": [
    {
     "name": "stdout",
     "output_type": "stream",
     "text": [
      "0.5375118708452041\n",
      "0.5816425120772947\n",
      "0.5897435897435898\n",
      "0.5918367346938774\n",
      "0.5789954337899543\n",
      "0.5939278937381405\n",
      "0.5946969696969697\n",
      "0.5711662075298439\n",
      "0.5818847209515097\n",
      "0.5813528336380256\n",
      "0.5900452488687783\n",
      "0.5854579792256844\n",
      "0.5792850595783685\n",
      "0.5577617328519856\n",
      "0.5824884792626728\n",
      "0.5532302092811647\n",
      "0.5714285714285713\n",
      "0.5674157303370787\n",
      "0.5638686131386861\n",
      "0.5757575757575758\n",
      "0.5665399239543726\n",
      "0.586437440305635\n",
      "0.5768500948766603\n",
      "0.5803402646502835\n",
      "0.5810162991371045\n",
      "0.5810162991371045\n",
      "0.5810162991371045\n",
      "0.5810162991371045\n",
      "0.5810162991371045\n",
      "0.5810162991371045\n",
      "0.5810162991371045\n",
      "0.5810162991371045\n",
      "0.5810162991371045\n",
      "0.5810162991371045\n",
      "0.5810162991371045\n",
      "0.5810162991371045\n",
      "0.5810162991371045\n",
      "0.5810162991371045\n",
      "0.5810162991371045\n",
      "0.5810162991371045\n",
      "0.5810162991371045\n",
      "0.5810162991371045\n",
      "0.5810162991371045\n",
      "0.5810162991371045\n",
      "0.5810162991371045\n",
      "0.5810162991371045\n",
      "0.5810162991371045\n",
      "0.5810162991371045\n",
      "0.5810162991371045\n",
      "F1 наилучшей модели на валидационной выборке: 0.5946969696969697 \n",
      "Лучшая глубина: 7\n",
      "AUC-ROC: 0.8588977362301706\n",
      "CPU times: user 3.97 s, sys: 26.8 ms, total: 4 s\n",
      "Wall time: 4.05 s\n"
     ]
    }
   ],
   "source": [
    "%%time\n",
    "# Для сбалансированной выборки методом downsample\n",
    "\n",
    "best_result = 0\n",
    "best_model_forest = None\n",
    "\n",
    "# Сначала найдем лучшую глубину, затем подберем лучшее количество деревьев. Глубину ограницем до 50.\n",
    "for depth in range(1, 50):\n",
    "    model = RandomForestClassifier(n_estimators=20, max_depth=depth, random_state=42)\n",
    "    model.fit(features_downsampled, target_downsampled)\n",
    "    predicted_valid = model.predict(features_valid) # получаем предсказания модели\n",
    "    result_f1 = f1_score(target_valid, predicted_valid)\n",
    "    print(result_f1)\n",
    "    if result_f1 > best_result:\n",
    "        best_model_forest_first_downsampled = model # сохраняем наилучшую модель\n",
    "        best_result = result_f1 #  сохраняем наилучшее значение метрики F1 на валидационных данных\n",
    "        best_depth = depth\n",
    "\n",
    "# Посчитаем лучшие F1 и глубину        \n",
    "print(\"F1 наилучшей модели на валидационной выборке:\", best_result, \"\\nЛучшая глубина:\", best_depth)\n",
    "\n",
    "\n",
    "probabilities_valid = best_model_forest_first_downsampled.predict_proba(features_valid)\n",
    "probabilities_one_valid = probabilities_valid[:, 1] #  Предсказанные значения с объектами первого класса\n",
    "auc_roc = roc_auc_score(target_valid, probabilities_one_valid) # Найдем значение AUC-ROC\n",
    "print(\"AUC-ROC:\", auc_roc)"
   ]
  },
  {
   "cell_type": "code",
   "execution_count": 50,
   "id": "687d6b1a-7257-40ee-9da2-1b96eb983518",
   "metadata": {},
   "outputs": [
    {
     "name": "stdout",
     "output_type": "stream",
     "text": [
      "0.5374211000901713\n",
      "0.5903846153846154\n",
      "0.5888030888030888\n",
      "0.5932367149758454\n",
      "0.5971291866028707\n",
      "0.6147704590818363\n",
      "0.6150712830957231\n",
      "0.6247379454926624\n",
      "0.6155555555555555\n",
      "0.6143646408839778\n",
      "0.5959475566150179\n",
      "0.6053921568627451\n",
      "0.6051282051282052\n",
      "0.5992115637319316\n",
      "0.5790172642762285\n",
      "0.571830985915493\n",
      "0.5677233429394813\n",
      "0.5778443113772455\n",
      "0.5582089552238805\n",
      "0.5598802395209581\n",
      "0.5412844036697247\n",
      "0.5671191553544496\n",
      "0.5617283950617284\n",
      "0.5731707317073171\n",
      "0.5564142194744977\n",
      "0.557632398753894\n",
      "0.5593750000000001\n",
      "0.5603715170278638\n",
      "0.5603715170278638\n",
      "0.5603715170278638\n",
      "0.5603715170278638\n",
      "0.5603715170278638\n",
      "0.5603715170278638\n",
      "0.5603715170278638\n",
      "0.5603715170278638\n",
      "0.5603715170278638\n",
      "0.5603715170278638\n",
      "0.5603715170278638\n",
      "0.5603715170278638\n",
      "0.5603715170278638\n",
      "0.5603715170278638\n",
      "0.5603715170278638\n",
      "0.5603715170278638\n",
      "0.5603715170278638\n",
      "0.5603715170278638\n",
      "0.5603715170278638\n",
      "0.5603715170278638\n",
      "0.5603715170278638\n",
      "0.5603715170278638\n",
      "F1 наилучшей модели на валидационной выборке: 0.6247379454926624 \n",
      "Лучшая глубина: 8\n",
      "AUC-ROC: 0.8620014902946105\n",
      "CPU times: user 6.88 s, sys: 93.2 ms, total: 6.97 s\n",
      "Wall time: 7.07 s\n"
     ]
    }
   ],
   "source": [
    "%%time\n",
    "# Для сбалансированной выборки методом изменения весов классов\n",
    "\n",
    "best_result = 0\n",
    "best_model_forest = None\n",
    "\n",
    "# Сначала найдем лучшую глубину, затем подберем лучшее количество деревьев. Глубину ограницем до 50.\n",
    "for depth in range(1, 50):\n",
    "    model = RandomForestClassifier(n_estimators=20, max_depth=depth, random_state=42, class_weight='balanced')\n",
    "    model.fit(features_train, target_train)\n",
    "    predicted_valid = model.predict(features_valid) # получаем предсказания модели\n",
    "    result_f1 = f1_score(target_valid, predicted_valid)\n",
    "    print(result_f1)\n",
    "    if result_f1 > best_result:\n",
    "        best_model_forest_first_class_weight = model # сохраняем наилучшую модель\n",
    "        best_result = result_f1 #  сохраняем наилучшее значение метрики F1 на валидационных данных\n",
    "        best_depth = depth\n",
    "\n",
    "# Посчитаем лучшие F1 и глубину        \n",
    "print(\"F1 наилучшей модели на валидационной выборке:\", best_result, \"\\nЛучшая глубина:\", best_depth)\n",
    "\n",
    "\n",
    "probabilities_valid = best_model_forest_first_class_weight.predict_proba(features_valid)\n",
    "probabilities_one_valid = probabilities_valid[:, 1] #  Предсказанные значения с объектами первого класса\n",
    "auc_roc = roc_auc_score(target_valid, probabilities_one_valid) # Найдем значение AUC-ROC\n",
    "print(\"AUC-ROC:\", auc_roc)"
   ]
  },
  {
   "cell_type": "markdown",
   "id": "0af27eaf-dbb5-4c83-8a28-a1ac93dae700",
   "metadata": {},
   "source": [
    "**Результаты обучения на сбалансированной выборке методом upsamlpe лучшие. Лучшая глубина - 11. Эту выборку и метод балансировки применим далее**"
   ]
  },
  {
   "cell_type": "code",
   "execution_count": 51,
   "id": "462ad7ed-b700-4a71-9c4a-7c32b6343675",
   "metadata": {
    "scrolled": true
   },
   "outputs": [
    {
     "name": "stdout",
     "output_type": "stream",
     "text": [
      "0.530345471521942\n",
      "0.5177111716621254\n",
      "0.5212121212121211\n",
      "0.5618199802176064\n",
      "0.5761316872427984\n",
      "0.5827552031714569\n",
      "0.5764828303850157\n",
      "0.5896414342629481\n",
      "0.5874867444326617\n",
      "0.6008230452674898\n",
      "0.5878594249201279\n",
      "0.5973223480947477\n",
      "0.5955176093916755\n",
      "0.5939771547248183\n",
      "0.597457627118644\n",
      "0.5900948366701791\n",
      "0.6102783725910065\n",
      "0.5987394957983193\n",
      "0.6048034934497817\n",
      "0.6012526096033404\n",
      "0.6203904555314533\n",
      "0.6078838174273858\n",
      "0.6145494028230185\n",
      "0.6137787056367432\n",
      "0.6190476190476191\n",
      "0.6150627615062761\n",
      "0.6264800861141012\n",
      "0.6115183246073299\n",
      "0.6297502714440825\n",
      "0.6174920969441516\n",
      "0.6291390728476821\n",
      "0.6220806794055203\n",
      "0.6255411255411255\n",
      "0.6188436830835118\n",
      "0.6244541484716156\n",
      "0.6165413533834586\n",
      "0.6295081967213115\n",
      "0.6237942122186495\n",
      "0.6318082788671024\n",
      "0.6135629709364907\n",
      "0.6267682263329706\n",
      "0.6172043010752688\n",
      "0.6295081967213115\n",
      "0.6264800861141012\n",
      "0.6273224043715847\n",
      "0.6180257510729613\n",
      "0.632272228320527\n",
      "0.6266094420600858\n",
      "0.6297117516629711\n",
      "0.6252676659528907\n",
      "0.6320441988950276\n",
      "0.6198704103671706\n",
      "0.6301969365426697\n",
      "0.6208378088077335\n",
      "0.6315789473684211\n",
      "0.6241900647948164\n",
      "0.6291390728476821\n",
      "0.6241900647948164\n",
      "0.6386740331491714\n",
      "0.6206896551724139\n",
      "0.6350606394707828\n",
      "0.6236559139784947\n",
      "0.6328555678059538\n",
      "0.6279569892473118\n",
      "0.6285714285714286\n",
      "0.6307857911733046\n",
      "0.636761487964989\n",
      "0.6259378349410505\n",
      "0.631004366812227\n",
      "0.632258064516129\n",
      "0.6277056277056278\n",
      "0.6336206896551725\n",
      "0.6338797814207651\n",
      "0.6229860365198711\n",
      "0.6316939890710382\n",
      "0.6274089935760172\n",
      "0.6355748373101953\n",
      "0.6280814576634512\n",
      "0.6334056399132322\n",
      "0.6279569892473118\n",
      "0.6355748373101953\n",
      "0.6244635193133047\n",
      "0.6327193932827736\n",
      "0.6237942122186495\n",
      "0.6320346320346321\n",
      "0.6237942122186495\n",
      "0.6334056399132322\n",
      "0.6231263383297645\n",
      "0.6320346320346321\n",
      "0.6286329386437028\n",
      "0.6313513513513513\n",
      "0.628755364806867\n",
      "0.6260869565217391\n",
      "0.6285097192224621\n",
      "0.6263498920086393\n",
      "0.6223175965665236\n",
      "0.627027027027027\n",
      "0.6243272335844995\n",
      "F1 наилучшей модели на валидационной выборке: 0.6386740331491714 \n",
      "Лучшее чсило деревьев: 30 \n",
      "Лучший критерий: gini\n",
      "AUC-ROC: 0.8682397896344466\n",
      "CPU times: user 21.5 s, sys: 207 ms, total: 21.7 s\n",
      "Wall time: 21.9 s\n"
     ]
    }
   ],
   "source": [
    "%%time\n",
    "best_model_forest = None\n",
    "best_result = 0\n",
    "criterion = ['gini', 'entropy'] # Проверим два критерия\n",
    "\n",
    "# Выберем число деревьев 50\n",
    "for est in range(1, 50):\n",
    "    for crit_val in criterion:\n",
    "        model = RandomForestClassifier(max_depth=11, random_state=42, n_estimators=est, criterion=crit_val) # обучаем модель с заданным количеством деревьев\n",
    "        model.fit(features_upsampled, target_upsampled) # обучаем модель на тренировочной выборке\n",
    "        #result = model.score(features_valid, target_valid) # считаем качество модели на валидационной выборке\n",
    "        #print(\"Accuracy:\", result, \"\\nЧисло деревьев:\", est, \"\\nКритерий:\", crit_val)\n",
    "        predicted_valid = model.predict(features_valid) # получаем предсказания модели\n",
    "        result_f1 = f1_score(target_valid, predicted_valid)\n",
    "        print(result_f1)\n",
    "        if result_f1 > best_result:\n",
    "            best_model_forest_second = model # сохраняем наилучшую модель\n",
    "            best_result = result_f1 #  сохраняем наилучшее значение метрики accuracy на валидационных данных\n",
    "            best_est = est\n",
    "            best_crit_val = crit_val\n",
    "\n",
    "# Посчитаем F1        \n",
    "print(\"F1 наилучшей модели на валидационной выборке:\", best_result, \"\\nЛучшее чсило деревьев:\", best_est, \"\\nЛучший критерий:\", best_crit_val)\n",
    "\n",
    "\n",
    "probabilities_valid = best_model_forest_second.predict_proba(features_valid)\n",
    "probabilities_one_valid = probabilities_valid[:, 1] #  Предсказанные значения с объектами первого класса\n",
    "auc_roc = roc_auc_score(target_valid, probabilities_one_valid) # Найдем значение AUC-ROC\n",
    "print(\"AUC-ROC:\", auc_roc)"
   ]
  },
  {
   "cell_type": "markdown",
   "id": "e30b2ecd-62f7-48ce-ba41-38bfc7f1c822",
   "metadata": {},
   "source": [
    "**Вывод: Лучший результат показала модель случайного леса на глубине 11, с числом деревьев 30, критерий gini. AUC-ROC: 0.86. Метод балансировки upsample. Эту модель и будем использовать в финальном тестировании.** "
   ]
  },
  {
   "cell_type": "markdown",
   "id": "085dfaba-37ea-483e-b923-09a17bc81a40",
   "metadata": {},
   "source": [
    "### 4. Финальное тестирование модели"
   ]
  },
  {
   "cell_type": "code",
   "execution_count": 52,
   "id": "6c8f868b-6775-4dd1-86da-9dc69d019f12",
   "metadata": {},
   "outputs": [
    {
     "name": "stdout",
     "output_type": "stream",
     "text": [
      "Значение F1 для лучшей модели:  0.6077097505668934\n",
      "AUC-ROC: 0.8545217019793291\n"
     ]
    }
   ],
   "source": [
    "# По итогам работы моделей лушче других показала себя модель случайного леса. В нее и загрузим тестовые данные.\n",
    "\n",
    "best_model_forest_predict = best_model_forest_second.predict(features_test)\n",
    "result_f1 = f1_score(target_test, best_model_forest_predict)\n",
    "print(\"Значение F1 для лучшей модели: \", result_f1)\n",
    "\n",
    "probabilities_test = best_model_forest_second.predict_proba(features_test)\n",
    "probabilities_one_test = probabilities_test[:, 1] #  Предсказанные значения с объектами первого класса\n",
    "auc_roc = roc_auc_score(target_test, probabilities_one_test) # Найдем значение AUC-ROC\n",
    "print(\"AUC-ROC:\", auc_roc)"
   ]
  },
  {
   "cell_type": "markdown",
   "id": "4f206a86-1bfb-42bd-8f09-2fc972664c90",
   "metadata": {},
   "source": [
    "**Вывод: Рассмотрев разные модели, пришли к выводу, что модель случайного леса наиболее хорошо предсказывает значения. Условие проекта выполнено, значение F1 > 59. Так же можно заметить, что метрика AUC-ROC колеблится в районе 80-85, что относительно хороший показатель. В конце проекта посмотрели как ведет себя модель на нестандартизированных данных (метрика F1 очень низкая). Это говорит о том, что размерность тренировочных, валидационных и тестовых данных должна быть одинаковой.\n",
    "Код в проекте можно было сократить, однако порядок подготовки данных решено было оставить для демонстрации влияния лишних данных на качество модели.**"
   ]
  }
 ],
 "metadata": {
  "ExecuteTimeLog": [
   {
    "duration": 1694,
    "start_time": "2022-11-23T11:07:35.455Z"
   },
   {
    "duration": 105,
    "start_time": "2022-11-23T11:07:37.151Z"
   },
   {
    "duration": 29,
    "start_time": "2022-11-23T11:07:37.258Z"
   },
   {
    "duration": 25,
    "start_time": "2022-11-23T11:07:37.290Z"
   },
   {
    "duration": 13,
    "start_time": "2022-11-23T11:07:37.317Z"
   },
   {
    "duration": 50,
    "start_time": "2022-11-23T11:07:37.331Z"
   },
   {
    "duration": 31,
    "start_time": "2022-11-23T11:07:37.383Z"
   },
   {
    "duration": 42,
    "start_time": "2022-11-23T11:07:37.416Z"
   },
   {
    "duration": 15,
    "start_time": "2022-11-23T11:07:37.460Z"
   },
   {
    "duration": 183,
    "start_time": "2022-11-23T11:07:37.478Z"
   },
   {
    "duration": 203,
    "start_time": "2022-11-23T11:07:37.663Z"
   },
   {
    "duration": 7,
    "start_time": "2022-11-23T11:07:37.956Z"
   },
   {
    "duration": 108,
    "start_time": "2022-11-23T11:07:37.965Z"
   },
   {
    "duration": 42,
    "start_time": "2022-11-23T11:07:38.075Z"
   },
   {
    "duration": 140,
    "start_time": "2022-11-23T11:07:38.120Z"
   },
   {
    "duration": 295,
    "start_time": "2022-11-23T11:07:38.262Z"
   },
   {
    "duration": 195,
    "start_time": "2022-11-23T11:07:38.561Z"
   },
   {
    "duration": 234,
    "start_time": "2022-11-23T11:07:38.758Z"
   },
   {
    "duration": 2124,
    "start_time": "2022-11-23T11:07:38.993Z"
   },
   {
    "duration": 881,
    "start_time": "2022-11-23T11:07:41.119Z"
   },
   {
    "duration": 1637,
    "start_time": "2022-11-23T11:07:42.002Z"
   },
   {
    "duration": 8904,
    "start_time": "2022-11-23T11:07:43.641Z"
   },
   {
    "duration": 3892,
    "start_time": "2022-11-23T11:07:52.547Z"
   },
   {
    "duration": 6534,
    "start_time": "2022-11-23T11:07:56.441Z"
   },
   {
    "duration": 21347,
    "start_time": "2022-11-23T11:08:02.977Z"
   },
   {
    "duration": 51,
    "start_time": "2022-11-23T11:08:24.326Z"
   },
   {
    "duration": 6,
    "start_time": "2022-11-23T11:08:37.978Z"
   },
   {
    "duration": 131,
    "start_time": "2022-11-23T11:08:37.987Z"
   },
   {
    "duration": 30,
    "start_time": "2022-11-23T11:08:38.120Z"
   },
   {
    "duration": 46,
    "start_time": "2022-11-23T11:08:38.151Z"
   },
   {
    "duration": 38,
    "start_time": "2022-11-23T11:08:38.200Z"
   },
   {
    "duration": 76,
    "start_time": "2022-11-23T11:08:38.241Z"
   },
   {
    "duration": 17,
    "start_time": "2022-11-23T11:08:38.319Z"
   },
   {
    "duration": 34,
    "start_time": "2022-11-23T11:08:38.338Z"
   },
   {
    "duration": 8,
    "start_time": "2022-11-23T11:08:38.373Z"
   },
   {
    "duration": 176,
    "start_time": "2022-11-23T11:08:38.383Z"
   },
   {
    "duration": 133,
    "start_time": "2022-11-23T11:08:38.562Z"
   },
   {
    "duration": 113,
    "start_time": "2022-11-23T11:08:38.756Z"
   },
   {
    "duration": 23,
    "start_time": "2022-11-23T11:08:38.871Z"
   },
   {
    "duration": 28,
    "start_time": "2022-11-23T11:08:38.897Z"
   },
   {
    "duration": 136,
    "start_time": "2022-11-23T11:08:38.926Z"
   },
   {
    "duration": 291,
    "start_time": "2022-11-23T11:08:39.065Z"
   },
   {
    "duration": 202,
    "start_time": "2022-11-23T11:08:39.363Z"
   },
   {
    "duration": 321,
    "start_time": "2022-11-23T11:08:39.567Z"
   },
   {
    "duration": 2242,
    "start_time": "2022-11-23T11:08:39.890Z"
   },
   {
    "duration": 850,
    "start_time": "2022-11-23T11:08:42.134Z"
   },
   {
    "duration": 1877,
    "start_time": "2022-11-23T11:08:42.986Z"
   },
   {
    "duration": 9314,
    "start_time": "2022-11-23T11:08:44.865Z"
   },
   {
    "duration": 4056,
    "start_time": "2022-11-23T11:08:54.182Z"
   },
   {
    "duration": 7074,
    "start_time": "2022-11-23T11:08:58.240Z"
   },
   {
    "duration": 21889,
    "start_time": "2022-11-23T11:09:05.316Z"
   },
   {
    "duration": 50,
    "start_time": "2022-11-23T11:09:27.206Z"
   }
  ],
  "kernelspec": {
   "display_name": "Python 3 (ipykernel)",
   "language": "python",
   "name": "python3"
  },
  "language_info": {
   "codemirror_mode": {
    "name": "ipython",
    "version": 3
   },
   "file_extension": ".py",
   "mimetype": "text/x-python",
   "name": "python",
   "nbconvert_exporter": "python",
   "pygments_lexer": "ipython3",
   "version": "3.9.16"
  },
  "toc": {
   "base_numbering": 1,
   "nav_menu": {},
   "number_sections": true,
   "sideBar": true,
   "skip_h1_title": true,
   "title_cell": "Table of Contents",
   "title_sidebar": "Contents",
   "toc_cell": false,
   "toc_position": {},
   "toc_section_display": true,
   "toc_window_display": false
  }
 },
 "nbformat": 4,
 "nbformat_minor": 5
}
