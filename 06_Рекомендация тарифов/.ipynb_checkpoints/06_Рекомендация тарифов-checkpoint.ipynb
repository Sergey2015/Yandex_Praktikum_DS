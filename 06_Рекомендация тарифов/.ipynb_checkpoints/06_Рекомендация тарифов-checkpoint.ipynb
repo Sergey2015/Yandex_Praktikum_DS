{
 "cells": [
  {
   "cell_type": "markdown",
   "id": "81da135a-0f33-4dda-b530-ca1da265caeb",
   "metadata": {
    "tags": []
   },
   "source": [
    "# Рекомендация тарифов. Описание проекта\n",
    "\n",
    "Оператор мобильной связи «Мегалайн» выяснил: многие клиенты пользуются архивными тарифами. Они хотят построить систему, способную проанализировать поведение клиентов и предложить пользователям новый тариф: «Смарт» или «Ультра».\n",
    "\n",
    "В вашем распоряжении данные о поведении клиентов, которые уже перешли на эти тарифы (из проекта курса «Статистический анализ данных»). Нужно построить модель для задачи классификации, которая выберет подходящий тариф. Предобработка данных не понадобится — вы её уже сделали.\n",
    "\n",
    "Постройте модель с максимально большим значением accuracy. Чтобы сдать проект успешно, нужно довести долю правильных ответов по крайней мере до 0.75. Проверьте accuracy на тестовой выборке самостоятельно.\n",
    "\n",
    "### Описание данных\n",
    "\n",
    "Каждый объект в наборе данных — это информация о поведении одного пользователя за месяц. Известно:\n",
    "- сalls — количество звонков,\n",
    "- minutes — суммарная длительность звонков в минутах,\n",
    "- messages — количество sms-сообщений,\n",
    "- mb_used — израсходованный интернет-трафик в Мб,\n",
    "- is_ultra — каким тарифом пользовался в течение месяца («Ультра» — 1, «Смарт» — 0)."
   ]
  },
  {
   "cell_type": "markdown",
   "id": "da60c071-739b-459a-b0f9-f062660deafb",
   "metadata": {},
   "source": [
    "### Импортируем датасет и чистаем данные"
   ]
  },
  {
   "cell_type": "code",
   "execution_count": 12,
   "id": "33393a42-a50d-4005-bf37-c35b8233d800",
   "metadata": {},
   "outputs": [],
   "source": [
    "# Импортируем нужные библиотеки\n",
    "\n",
    "import pandas as pd\n",
    "import seaborn as sns\n",
    "import numpy as np\n",
    "import matplotlib.pyplot as plt\n",
    "from scipy import stats as st\n",
    "\n",
    "from sklearn.tree import DecisionTreeClassifier\n",
    "from sklearn.model_selection import train_test_split\n",
    "from sklearn.metrics import mean_squared_error\n",
    "from sklearn.metrics import accuracy_score\n",
    "from sklearn.ensemble import RandomForestClassifier\n",
    "from sklearn.linear_model import LogisticRegression\n",
    "\n",
    "from sklearn.dummy import DummyClassifier"
   ]
  },
  {
   "cell_type": "code",
   "execution_count": 13,
   "id": "15cec6d2-6e9d-42cd-991f-6b960c0e729b",
   "metadata": {},
   "outputs": [],
   "source": [
    "#Читаем данные из датасета\n",
    "try:\n",
    "    df = pd.read_csv('datasets/users_behavior.csv')\n",
    "except:\n",
    "    df = pd.read_csv('/datasets/users_behavior.csv')"
   ]
  },
  {
   "cell_type": "code",
   "execution_count": 14,
   "id": "fe47c94d-efae-45b7-8f60-db75321b2c00",
   "metadata": {},
   "outputs": [
    {
     "data": {
      "text/html": [
       "<div>\n",
       "<style scoped>\n",
       "    .dataframe tbody tr th:only-of-type {\n",
       "        vertical-align: middle;\n",
       "    }\n",
       "\n",
       "    .dataframe tbody tr th {\n",
       "        vertical-align: top;\n",
       "    }\n",
       "\n",
       "    .dataframe thead th {\n",
       "        text-align: right;\n",
       "    }\n",
       "</style>\n",
       "<table border=\"1\" class=\"dataframe\">\n",
       "  <thead>\n",
       "    <tr style=\"text-align: right;\">\n",
       "      <th></th>\n",
       "      <th>calls</th>\n",
       "      <th>minutes</th>\n",
       "      <th>messages</th>\n",
       "      <th>mb_used</th>\n",
       "      <th>is_ultra</th>\n",
       "    </tr>\n",
       "  </thead>\n",
       "  <tbody>\n",
       "    <tr>\n",
       "      <th>0</th>\n",
       "      <td>40.0</td>\n",
       "      <td>311.90</td>\n",
       "      <td>83.0</td>\n",
       "      <td>19915.42</td>\n",
       "      <td>0</td>\n",
       "    </tr>\n",
       "    <tr>\n",
       "      <th>1</th>\n",
       "      <td>85.0</td>\n",
       "      <td>516.75</td>\n",
       "      <td>56.0</td>\n",
       "      <td>22696.96</td>\n",
       "      <td>0</td>\n",
       "    </tr>\n",
       "    <tr>\n",
       "      <th>2</th>\n",
       "      <td>77.0</td>\n",
       "      <td>467.66</td>\n",
       "      <td>86.0</td>\n",
       "      <td>21060.45</td>\n",
       "      <td>0</td>\n",
       "    </tr>\n",
       "    <tr>\n",
       "      <th>3</th>\n",
       "      <td>106.0</td>\n",
       "      <td>745.53</td>\n",
       "      <td>81.0</td>\n",
       "      <td>8437.39</td>\n",
       "      <td>1</td>\n",
       "    </tr>\n",
       "    <tr>\n",
       "      <th>4</th>\n",
       "      <td>66.0</td>\n",
       "      <td>418.74</td>\n",
       "      <td>1.0</td>\n",
       "      <td>14502.75</td>\n",
       "      <td>0</td>\n",
       "    </tr>\n",
       "    <tr>\n",
       "      <th>5</th>\n",
       "      <td>58.0</td>\n",
       "      <td>344.56</td>\n",
       "      <td>21.0</td>\n",
       "      <td>15823.37</td>\n",
       "      <td>0</td>\n",
       "    </tr>\n",
       "    <tr>\n",
       "      <th>6</th>\n",
       "      <td>57.0</td>\n",
       "      <td>431.64</td>\n",
       "      <td>20.0</td>\n",
       "      <td>3738.90</td>\n",
       "      <td>1</td>\n",
       "    </tr>\n",
       "    <tr>\n",
       "      <th>7</th>\n",
       "      <td>15.0</td>\n",
       "      <td>132.40</td>\n",
       "      <td>6.0</td>\n",
       "      <td>21911.60</td>\n",
       "      <td>0</td>\n",
       "    </tr>\n",
       "    <tr>\n",
       "      <th>8</th>\n",
       "      <td>7.0</td>\n",
       "      <td>43.39</td>\n",
       "      <td>3.0</td>\n",
       "      <td>2538.67</td>\n",
       "      <td>1</td>\n",
       "    </tr>\n",
       "    <tr>\n",
       "      <th>9</th>\n",
       "      <td>90.0</td>\n",
       "      <td>665.41</td>\n",
       "      <td>38.0</td>\n",
       "      <td>17358.61</td>\n",
       "      <td>0</td>\n",
       "    </tr>\n",
       "  </tbody>\n",
       "</table>\n",
       "</div>"
      ],
      "text/plain": [
       "   calls  minutes  messages   mb_used  is_ultra\n",
       "0   40.0   311.90      83.0  19915.42         0\n",
       "1   85.0   516.75      56.0  22696.96         0\n",
       "2   77.0   467.66      86.0  21060.45         0\n",
       "3  106.0   745.53      81.0   8437.39         1\n",
       "4   66.0   418.74       1.0  14502.75         0\n",
       "5   58.0   344.56      21.0  15823.37         0\n",
       "6   57.0   431.64      20.0   3738.90         1\n",
       "7   15.0   132.40       6.0  21911.60         0\n",
       "8    7.0    43.39       3.0   2538.67         1\n",
       "9   90.0   665.41      38.0  17358.61         0"
      ]
     },
     "metadata": {},
     "output_type": "display_data"
    },
    {
     "name": "stdout",
     "output_type": "stream",
     "text": [
      "<class 'pandas.core.frame.DataFrame'>\n",
      "RangeIndex: 3214 entries, 0 to 3213\n",
      "Data columns (total 5 columns):\n",
      " #   Column    Non-Null Count  Dtype  \n",
      "---  ------    --------------  -----  \n",
      " 0   calls     3214 non-null   float64\n",
      " 1   minutes   3214 non-null   float64\n",
      " 2   messages  3214 non-null   float64\n",
      " 3   mb_used   3214 non-null   float64\n",
      " 4   is_ultra  3214 non-null   int64  \n",
      "dtypes: float64(4), int64(1)\n",
      "memory usage: 125.7 KB\n",
      "None\n",
      "Размер таблицы\n",
      " (3214, 5)\n"
     ]
    }
   ],
   "source": [
    "#Смотрим на первые 10 строк\n",
    "display(df.head(10))\n",
    "\n",
    "#Узнаем общие сведения о данных\n",
    "print(df.info())\n",
    "print(\"Размер таблицы\\n\", df.shape)"
   ]
  },
  {
   "cell_type": "markdown",
   "id": "8efa7e96-1578-424c-850d-8ca303d56389",
   "metadata": {},
   "source": [
    "is-ultra определим как целевой признак"
   ]
  },
  {
   "cell_type": "markdown",
   "id": "52389e29-26b2-47e5-b3be-614c5013e79a",
   "metadata": {},
   "source": [
    "### Разделяем данные "
   ]
  },
  {
   "cell_type": "code",
   "execution_count": 15,
   "id": "1701d085-d563-4510-a4df-9d6b64112672",
   "metadata": {},
   "outputs": [
    {
     "name": "stdout",
     "output_type": "stream",
     "text": [
      "(3214, 5)\n",
      "Размер валидационно-тестовой выборки (1286, 4)\n",
      "\n",
      "Размер тренировочной выборки (1928, 4)\n",
      "Размер валидационной выборки (643, 4)\n",
      "Размер тестовой выборки (643, 4)\n"
     ]
    }
   ],
   "source": [
    "print(df.shape)\n",
    "\n",
    "features = df.drop(['is_ultra'], axis=1) # Запишем фрейм в переменную без целевого признака\n",
    "target = df['is_ultra']  # Запишем целевой признак в переменнцю target\n",
    "\n",
    "features_train, features_valid_test, target_train, target_valid_test = train_test_split(\n",
    "   features, target, test_size=0.4, random_state=42, stratify=target) # отделяем 40% данных для валидационно-тетсовой выборки, которая потом будет делится на валидационную и на тестовую. Используем стратификацию.\n",
    "\n",
    "print(\"Размер валидационно-тестовой выборки\", features_valid_test.shape)\n",
    "\n",
    "features_valid, features_test, target_valid, target_test = train_test_split(\n",
    "   features_valid_test, target_valid_test, test_size=0.5, random_state=42, stratify=target_valid_test) # делим пополам на валидационную и тестовую выборки.\n",
    "\n",
    "# Проверяем размерность\n",
    "\n",
    "print(\"\\nРазмер тренировочной выборки\", features_train.shape)\n",
    "print(\"Размер валидационной выборки\", features_valid.shape)\n",
    "print(\"Размер тестовой выборки\", features_test.shape)\n",
    "\n"
   ]
  },
  {
   "cell_type": "markdown",
   "id": "0a3ef60e-5756-441b-92f4-6df77239a71e",
   "metadata": {},
   "source": [
    "Далее будем строить модели решающего дерева, случайного леса и логистической регрессии. Все эти модели используются для решения задач классификации. В качестве метрики выберем accuracy, т.к. она наиболее подходит для решения нашей задачи.\n",
    "Так же будем измерять время обучения каждой модели командой %%time."
   ]
  },
  {
   "cell_type": "markdown",
   "id": "916c85d9-0e4c-4dbc-8969-54c37bb5d9ee",
   "metadata": {},
   "source": [
    "### Находим baseline\n",
    "\n",
    "Для дальшейшей проверки модели на адекватность, определим baseline"
   ]
  },
  {
   "cell_type": "code",
   "execution_count": 16,
   "id": "1531475c-bb9c-444b-9a75-341c0359d6c3",
   "metadata": {},
   "outputs": [
    {
     "name": "stdout",
     "output_type": "stream",
     "text": [
      "baseline =  0.6936236391912908\n"
     ]
    }
   ],
   "source": [
    "dummy_clf = DummyClassifier(strategy=\"most_frequent\", random_state=42)\n",
    "\n",
    "dummy_clf.fit(features_train, target_train)\n",
    "\n",
    "baseline = dummy_clf.score(features_valid, target_valid)\n",
    "\n",
    "print(\"baseline = \", baseline)"
   ]
  },
  {
   "cell_type": "markdown",
   "id": "b10a35e9-c183-458a-a28b-9b52c45be44c",
   "metadata": {},
   "source": [
    "baseline равен 0.69. Это начит, что, если значение accuracy будет больше, то модель адекватна и работает."
   ]
  },
  {
   "cell_type": "markdown",
   "id": "1b347d55-793e-43ff-b63e-0675e2269c36",
   "metadata": {},
   "source": [
    "### Модель решающее дерево\n",
    "\n",
    "Обучим модель с глубиной от 1 до 10. Далее измерим метрику accuracy на каждой глубине в валидационной выборке и выбирем наиболее качественную модель."
   ]
  },
  {
   "cell_type": "code",
   "execution_count": 17,
   "id": "59ec909a-f2d2-4d1e-ba82-33559e74038f",
   "metadata": {},
   "outputs": [
    {
     "name": "stdout",
     "output_type": "stream",
     "text": [
      "max_depth = 1 : 0.76049766718507\n",
      "max_depth = 2 : 0.7869362363919129\n",
      "max_depth = 3 : 0.8040435458786936\n",
      "max_depth = 4 : 0.7962674961119751\n",
      "max_depth = 5 : 0.7900466562986003\n",
      "max_depth = 6 : 0.7744945567651633\n",
      "max_depth = 7 : 0.7884914463452566\n",
      "max_depth = 8 : 0.7791601866251944\n",
      "max_depth = 9 : 0.7807153965785381\n",
      "max_depth = 10 : 0.7698289269051322\n",
      "Accuracy лучшей модели на валидационной выборке: 0.8040435458786936 Лучшая глубина: 3\n",
      "CPU times: user 148 ms, sys: 15.7 ms, total: 164 ms\n",
      "Wall time: 308 ms\n"
     ]
    }
   ],
   "source": [
    "%%time\n",
    "best_model_tree = None\n",
    "best_result = 0\n",
    "for depth in range(1, 11):\n",
    "    model = DecisionTreeClassifier(random_state=42, max_depth=depth) # обучаем модель с заданной глубиной дерева\n",
    "    model.fit(features_train, target_train) # обучаем модель\n",
    "    predictions = model.predict(features_valid) # получаем предсказания модели\n",
    "    result = accuracy_score(target_valid, predictions) # считаем качество модели\n",
    "    if result > best_result:\n",
    "        best_model_tree = model\n",
    "        best_result = result\n",
    "        best_depth = depth\n",
    "    print(\"max_depth =\", depth, \": \", end='')\n",
    "    print(accuracy_score(target_valid, predictions))\n",
    "        \n",
    "print(\"Accuracy лучшей модели на валидационной выборке:\", best_result, \"Лучшая глубина:\", best_depth)"
   ]
  },
  {
   "cell_type": "markdown",
   "id": "5196a94d-6195-41d9-aa3a-5374ad5efec4",
   "metadata": {},
   "source": [
    "Лучший показатель качества на глубине 6. Оставляем эту глубину в качестве наилучшей модели."
   ]
  },
  {
   "cell_type": "markdown",
   "id": "c2bf682a-e48f-4f70-80bc-adde31ed898a",
   "metadata": {
    "tags": []
   },
   "source": [
    "### Модель случайный лес\n",
    "\n",
    "Для тренироки модели будем перебирать число деревьев от 1 до 20. На каждой итерации будем проверять accuracy. Выберем модель с лучим показателем на валидационной выборке"
   ]
  },
  {
   "cell_type": "code",
   "execution_count": 18,
   "id": "b5fedddb-2dd3-4846-b616-c337438fb9ff",
   "metadata": {},
   "outputs": [
    {
     "name": "stdout",
     "output_type": "stream",
     "text": [
      "Accuracy наилучшей модели на валидационной выборке: 0.7947122861586314 \n",
      "Лучшее чсло деревьев: 15 \n",
      "Лучший критерий: gini\n",
      "CPU times: user 2.75 s, sys: 83.6 ms, total: 2.83 s\n",
      "Wall time: 3.55 s\n"
     ]
    }
   ],
   "source": [
    "%%time\n",
    "best_model_forest = None\n",
    "best_result = 0\n",
    "criterion = ['gini', 'entropy']\n",
    "\n",
    "# Выберем число деревьев 20\n",
    "for est in range(1, 21):\n",
    "    for crit_val in criterion:\n",
    "        model = RandomForestClassifier(random_state=42, n_estimators=est, criterion=crit_val) # обучаем модель с заданным количеством деревьев\n",
    "        model.fit(features_train, target_train) # обучаем модель на тренировочной выборке\n",
    "        result = model.score(features_valid, target_valid) # считаем качество модели на валидационной выборке\n",
    "        #print(\"Accuracy:\", result, \"\\nЧисло деревьев:\", est, \"\\nКритерий:\", crit_val)\n",
    "        if result > best_result:\n",
    "            best_model_forest = model # сохраняем наилучшую модель\n",
    "            best_result = result #  сохраняем наилучшее значение метрики accuracy на валидационных данных\n",
    "            best_est = est\n",
    "            best_crit_val = crit_val\n",
    "\n",
    "# Посчитаем accuracy        \n",
    "print(\"Accuracy наилучшей модели на валидационной выборке:\", best_result, \"\\nЛучшее чсло деревьев:\", best_est, \"\\nЛучший критерий:\", best_crit_val)"
   ]
  },
  {
   "cell_type": "markdown",
   "id": "271da08d-b5dc-492e-b21f-8eb3ede03951",
   "metadata": {},
   "source": [
    "### Модель логистической регрессии"
   ]
  },
  {
   "cell_type": "code",
   "execution_count": 19,
   "id": "0f37e4c7-6d31-409c-9011-71097fe351bd",
   "metadata": {},
   "outputs": [
    {
     "name": "stdout",
     "output_type": "stream",
     "text": [
      "Accuracy равен: 0.7045101088646968 Количество итераций: 1000\n",
      "CPU times: user 40.1 ms, sys: 5.81 ms, total: 45.9 ms\n",
      "Wall time: 80.3 ms\n"
     ]
    }
   ],
   "source": [
    "%%time\n",
    "max_iter = 1000 # Количество итераций возьмем 1000\n",
    "model_regression = LogisticRegression(random_state=42, solver='lbfgs', max_iter=max_iter)\n",
    "model_regression = model_regression.fit(features_train, target_train) # обучаем модель на тренировочной выборке\n",
    "\n",
    "# Посчитаем accuracy\n",
    "print(\"Accuracy равен:\", model_regression.score(features_valid, target_valid), \"Количество итераций:\", max_iter)"
   ]
  },
  {
   "cell_type": "markdown",
   "id": "5da97491-dd08-4901-a6b8-e7dfdb092dd2",
   "metadata": {},
   "source": [
    "### Посчитаем качество accuracy на лучших моделях и найдем оптимальную."
   ]
  },
  {
   "cell_type": "code",
   "execution_count": 20,
   "id": "b0fc6a75-3c5e-4d1b-82e1-9409df4236c5",
   "metadata": {},
   "outputs": [
    {
     "name": "stdout",
     "output_type": "stream",
     "text": [
      "Значение accuracy для модели решающего дерева 0.7838258164852255\n",
      "Значение accuracy для модели случайного леса 0.7962674961119751\n",
      "Значение accuracy для модели логистической регрессии 0.7076205287713841\n"
     ]
    }
   ],
   "source": [
    "best_model_tree_predict = best_model_tree.predict(features_test)\n",
    "print(\"Значение accuracy для модели решающего дерева\", accuracy_score(target_test, best_model_tree_predict))\n",
    "\n",
    "best_model_forest_predict = best_model_forest.predict(features_test)\n",
    "print(\"Значение accuracy для модели случайного леса\", accuracy_score(target_test, best_model_forest_predict))\n",
    "\n",
    "model_regression_predict = model_regression.predict(features_test)\n",
    "print(\"Значение accuracy для модели логистической регрессии\", accuracy_score(target_test, model_regression_predict))"
   ]
  },
  {
   "cell_type": "markdown",
   "id": "65d739af-6ce3-4cb8-bc04-cd540a48dbd9",
   "metadata": {},
   "source": [
    "### Вывод\n",
    "\n",
    "Самое большое значение accuracy на тестовой выборке покащала модель логистической регресии. Также будем принимать во внимание скорость обучения моделей. В проекте мы замеряли скорость командой %%time. Вот, что у нас вышло:\n",
    "\n",
    "Модель решающего дерева - 127 миллисекунд\n",
    "\n",
    "Модель случайного леса - 3.53 миллисекунды\n",
    "\n",
    "Модель логистической регресси - 143 миллисекунды.\n",
    "\n",
    "Очевидно, что gj скорости работы алгоритма предпочтение необходимо отдать или модели решающего дерева, или логистической регрессии. Зная, что модель логистической регрессии все-таки наиболее быстрая из представленных, ее и возьмем за основную, так как в нашем датасете не так много данных, разницы особой не видно, но, когда их станет больше, модель логистической регресси будет работать быстрее. Данная модель отвечает поставленным требованиям проекта (accuracy > 0.75), поэтому выбираем ее как оптимальную. Модель дообучена и не переобучена. Модель является адекватной, т.к. accuracy > baseline"
   ]
  }
 ],
 "metadata": {
  "ExecuteTimeLog": [
   {
    "duration": 5324,
    "start_time": "2022-11-08T07:57:00.143Z"
   },
   {
    "duration": 103,
    "start_time": "2022-11-08T07:59:11.103Z"
   },
   {
    "duration": 25,
    "start_time": "2022-11-08T07:59:11.264Z"
   },
   {
    "duration": 14,
    "start_time": "2022-11-08T07:59:11.872Z"
   },
   {
    "duration": 10,
    "start_time": "2022-11-08T07:59:12.800Z"
   },
   {
    "duration": 77,
    "start_time": "2022-11-08T07:59:13.457Z"
   },
   {
    "duration": 226,
    "start_time": "2022-11-08T07:59:14.365Z"
   },
   {
    "duration": 95,
    "start_time": "2022-11-08T07:59:15.183Z"
   },
   {
    "duration": 20,
    "start_time": "2022-11-08T07:59:15.883Z"
   },
   {
    "duration": 1851,
    "start_time": "2022-11-08T08:34:25.563Z"
   },
   {
    "duration": 239,
    "start_time": "2022-11-08T08:34:27.416Z"
   },
   {
    "duration": 24,
    "start_time": "2022-11-08T08:34:27.657Z"
   },
   {
    "duration": 13,
    "start_time": "2022-11-08T08:34:27.683Z"
   },
   {
    "duration": 6,
    "start_time": "2022-11-08T08:34:27.697Z"
   },
   {
    "duration": 101,
    "start_time": "2022-11-08T08:34:27.704Z"
   },
   {
    "duration": 1993,
    "start_time": "2022-11-08T08:34:27.807Z"
   },
   {
    "duration": 115,
    "start_time": "2022-11-08T08:34:29.802Z"
   },
   {
    "duration": 31,
    "start_time": "2022-11-08T08:34:29.919Z"
   },
   {
    "duration": 5044,
    "start_time": "2022-11-09T05:22:40.158Z"
   },
   {
    "duration": 132,
    "start_time": "2022-11-09T05:22:45.204Z"
   },
   {
    "duration": 26,
    "start_time": "2022-11-09T05:22:45.338Z"
   },
   {
    "duration": 23,
    "start_time": "2022-11-09T05:22:45.366Z"
   },
   {
    "duration": 24,
    "start_time": "2022-11-09T05:22:45.391Z"
   },
   {
    "duration": 88,
    "start_time": "2022-11-09T05:22:45.417Z"
   },
   {
    "duration": 2958,
    "start_time": "2022-11-09T05:22:45.507Z"
   },
   {
    "duration": 115,
    "start_time": "2022-11-09T05:22:48.466Z"
   },
   {
    "duration": 23,
    "start_time": "2022-11-09T05:22:48.583Z"
   }
  ],
  "kernelspec": {
   "display_name": "Python 3 (ipykernel)",
   "language": "python",
   "name": "python3"
  },
  "language_info": {
   "codemirror_mode": {
    "name": "ipython",
    "version": 3
   },
   "file_extension": ".py",
   "mimetype": "text/x-python",
   "name": "python",
   "nbconvert_exporter": "python",
   "pygments_lexer": "ipython3",
   "version": "3.9.16"
  },
  "toc": {
   "base_numbering": 1,
   "nav_menu": {},
   "number_sections": true,
   "sideBar": true,
   "skip_h1_title": true,
   "title_cell": "Table of Contents",
   "title_sidebar": "Contents",
   "toc_cell": false,
   "toc_position": {},
   "toc_section_display": true,
   "toc_window_display": false
  }
 },
 "nbformat": 4,
 "nbformat_minor": 5
}
