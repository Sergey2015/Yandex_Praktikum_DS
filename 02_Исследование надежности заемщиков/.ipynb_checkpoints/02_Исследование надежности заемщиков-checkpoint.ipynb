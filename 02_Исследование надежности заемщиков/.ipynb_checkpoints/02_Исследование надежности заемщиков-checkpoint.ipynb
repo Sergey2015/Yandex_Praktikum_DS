{
 "cells": [
  {
   "cell_type": "markdown",
   "id": "e57e7b5a",
   "metadata": {
    "deletable": false,
    "editable": false,
    "id": "c81daeeb",
    "tags": []
   },
   "source": [
    "# Исследование надежности заемщиков"
   ]
  },
  {
   "cell_type": "markdown",
   "id": "30aa8e31",
   "metadata": {
    "deletable": false,
    "id": "744d7639",
    "tags": []
   },
   "source": [
    "**Открываем таблицу и смотрим общую информацию о данных**"
   ]
  },
  {
   "cell_type": "code",
   "execution_count": 3,
   "id": "0f29eb0c",
   "metadata": {
    "id": "7bcf75c9"
   },
   "outputs": [],
   "source": [
    "# импортируйте библиотеку pandas\n",
    "import pandas as pd\n"
   ]
  },
  {
   "cell_type": "markdown",
   "id": "c9642d2a-523e-4e48-9883-4ef15b2d7375",
   "metadata": {},
   "source": [
    "**Читаем данные**"
   ]
  },
  {
   "cell_type": "code",
   "execution_count": null,
   "id": "ff3f6668",
   "metadata": {
    "id": "4d240ee2"
   },
   "outputs": [],
   "source": [
    "data = pd.read_csv('data_project2_part1.csv')"
   ]
  },
  {
   "cell_type": "code",
   "execution_count": 5,
   "id": "906b283e",
   "metadata": {
    "id": "2a7cab99"
   },
   "outputs": [
    {
     "name": "stdout",
     "output_type": "stream",
     "text": [
      "    children  days_employed  dob_years            education  education_id  \\\n",
      "0          1   -8437.673028         42               высшее             0   \n",
      "1          1   -4024.803754         36              среднее             1   \n",
      "2          0   -5623.422610         33              Среднее             1   \n",
      "3          3   -4124.747207         32              среднее             1   \n",
      "4          0  340266.072047         53              среднее             1   \n",
      "5          0    -926.185831         27               высшее             0   \n",
      "6          0   -2879.202052         43               высшее             0   \n",
      "7          0    -152.779569         50              СРЕДНЕЕ             1   \n",
      "8          2   -6929.865299         35               ВЫСШЕЕ             0   \n",
      "9          0   -2188.756445         41              среднее             1   \n",
      "10         2   -4171.483647         36               высшее             0   \n",
      "11         0    -792.701887         40              среднее             1   \n",
      "12         0            NaN         65              среднее             1   \n",
      "13         0   -1846.641941         54  неоконченное высшее             2   \n",
      "14         0   -1844.956182         56               высшее             0   \n",
      "15         1    -972.364419         26              среднее             1   \n",
      "16         0   -1719.934226         35              среднее             1   \n",
      "17         0   -2369.999720         33               высшее             0   \n",
      "18         0  400281.136913         53              среднее             1   \n",
      "19         0  -10038.818549         48              СРЕДНЕЕ             1   \n",
      "\n",
      "       family_status  family_status_id gender income_type  debt  \\\n",
      "0    женат / замужем                 0      F   сотрудник     0   \n",
      "1    женат / замужем                 0      F   сотрудник     0   \n",
      "2    женат / замужем                 0      M   сотрудник     0   \n",
      "3    женат / замужем                 0      M   сотрудник     0   \n",
      "4   гражданский брак                 1      F   пенсионер     0   \n",
      "5   гражданский брак                 1      M   компаньон     0   \n",
      "6    женат / замужем                 0      F   компаньон     0   \n",
      "7    женат / замужем                 0      M   сотрудник     0   \n",
      "8   гражданский брак                 1      F   сотрудник     0   \n",
      "9    женат / замужем                 0      M   сотрудник     0   \n",
      "10   женат / замужем                 0      M   компаньон     0   \n",
      "11   женат / замужем                 0      F   сотрудник     0   \n",
      "12  гражданский брак                 1      M   пенсионер     0   \n",
      "13   женат / замужем                 0      F   сотрудник     0   \n",
      "14  гражданский брак                 1      F   компаньон     1   \n",
      "15   женат / замужем                 0      F   сотрудник     0   \n",
      "16   женат / замужем                 0      F   сотрудник     0   \n",
      "17  гражданский брак                 1      M   сотрудник     0   \n",
      "18    вдовец / вдова                 2      F   пенсионер     0   \n",
      "19         в разводе                 3      F   сотрудник     0   \n",
      "\n",
      "     total_income                                 purpose  \n",
      "0   253875.639453                           покупка жилья  \n",
      "1   112080.014102                 приобретение автомобиля  \n",
      "2   145885.952297                           покупка жилья  \n",
      "3   267628.550329              дополнительное образование  \n",
      "4   158616.077870                         сыграть свадьбу  \n",
      "5   255763.565419                           покупка жилья  \n",
      "6   240525.971920                       операции с жильем  \n",
      "7   135823.934197                             образование  \n",
      "8    95856.832424                   на проведение свадьбы  \n",
      "9   144425.938277                 покупка жилья для семьи  \n",
      "10  113943.491460                    покупка недвижимости  \n",
      "11   77069.234271       покупка коммерческой недвижимости  \n",
      "12            NaN                         сыграть свадьбу  \n",
      "13  130458.228857                 приобретение автомобиля  \n",
      "14  165127.911772              покупка жилой недвижимости  \n",
      "15  116820.904450  строительство собственной недвижимости  \n",
      "16  289202.704229                            недвижимость  \n",
      "17   90410.586745              строительство недвижимости  \n",
      "18   56823.777243      на покупку подержанного автомобиля  \n",
      "19  242831.107982            на покупку своего автомобиля  \n"
     ]
    }
   ],
   "source": [
    "\n",
    "print(data.head(20))\n"
   ]
  },
  {
   "cell_type": "code",
   "execution_count": 6,
   "id": "d661948d",
   "metadata": {
    "id": "2b757bca"
   },
   "outputs": [
    {
     "name": "stdout",
     "output_type": "stream",
     "text": [
      "<class 'pandas.core.frame.DataFrame'>\n",
      "RangeIndex: 21525 entries, 0 to 21524\n",
      "Data columns (total 12 columns):\n",
      " #   Column            Non-Null Count  Dtype  \n",
      "---  ------            --------------  -----  \n",
      " 0   children          21525 non-null  int64  \n",
      " 1   days_employed     19351 non-null  float64\n",
      " 2   dob_years         21525 non-null  int64  \n",
      " 3   education         21525 non-null  object \n",
      " 4   education_id      21525 non-null  int64  \n",
      " 5   family_status     21525 non-null  object \n",
      " 6   family_status_id  21525 non-null  int64  \n",
      " 7   gender            21525 non-null  object \n",
      " 8   income_type       21525 non-null  object \n",
      " 9   debt              21525 non-null  int64  \n",
      " 10  total_income      19351 non-null  float64\n",
      " 11  purpose           21525 non-null  object \n",
      "dtypes: float64(2), int64(5), object(5)\n",
      "memory usage: 2.0+ MB\n"
     ]
    }
   ],
   "source": [
    "data.info()"
   ]
  },
  {
   "cell_type": "markdown",
   "id": "d69be013",
   "metadata": {
    "deletable": false,
    "editable": false,
    "id": "333ec665"
   },
   "source": [
    "## Предобработка данных"
   ]
  },
  {
   "cell_type": "markdown",
   "id": "5a4d53dd",
   "metadata": {
    "deletable": false,
    "editable": false,
    "id": "02d92d53"
   },
   "source": [
    "### Удаление пропусков"
   ]
  },
  {
   "cell_type": "code",
   "execution_count": 7,
   "id": "f96d697c",
   "metadata": {
    "id": "7f9b2309"
   },
   "outputs": [
    {
     "name": "stdout",
     "output_type": "stream",
     "text": [
      "children               0\n",
      "days_employed       2174\n",
      "dob_years              0\n",
      "education              0\n",
      "education_id           0\n",
      "family_status          0\n",
      "family_status_id       0\n",
      "gender                 0\n",
      "income_type            0\n",
      "debt                   0\n",
      "total_income        2174\n",
      "purpose                0\n",
      "dtype: int64\n"
     ]
    }
   ],
   "source": [
    "print(data.isna().sum())"
   ]
  },
  {
   "cell_type": "code",
   "execution_count": 8,
   "id": "82011360",
   "metadata": {
    "id": "42006a93"
   },
   "outputs": [
    {
     "name": "stdout",
     "output_type": "stream",
     "text": [
      "<class 'pandas.core.frame.DataFrame'>\n",
      "RangeIndex: 21525 entries, 0 to 21524\n",
      "Data columns (total 12 columns):\n",
      " #   Column            Non-Null Count  Dtype  \n",
      "---  ------            --------------  -----  \n",
      " 0   children          21525 non-null  int64  \n",
      " 1   days_employed     19351 non-null  float64\n",
      " 2   dob_years         21525 non-null  int64  \n",
      " 3   education         21525 non-null  object \n",
      " 4   education_id      21525 non-null  int64  \n",
      " 5   family_status     21525 non-null  object \n",
      " 6   family_status_id  21525 non-null  int64  \n",
      " 7   gender            21525 non-null  object \n",
      " 8   income_type       21525 non-null  object \n",
      " 9   debt              21525 non-null  int64  \n",
      " 10  total_income      19351 non-null  float64\n",
      " 11  purpose           21525 non-null  object \n",
      "dtypes: float64(2), int64(5), object(5)\n",
      "memory usage: 2.0+ MB\n",
      "None\n"
     ]
    }
   ],
   "source": [
    "# ваш код здесь\n",
    "#data['income_type'] = 'сотрудник'\n",
    "#data.loc[data['Новая функция'] == '+', 'Имя']\n",
    "\n",
    "#data.loc[data['income_type'] == \"безработный\", 'total_income']\n",
    "print(data.info())\n",
    "#print(data['income_type'])\n",
    "medians = data.groupby('income_type', as_index=False).total_income.median()\n",
    "\n",
    "for i in range(len(medians)):\n",
    "    data.loc[data['income_type'] == medians.income_type[i], 'total_income'] = (data\n",
    "                                                               .loc[data['income_type'] == medians.income_type[i]]\n",
    "                                                               .fillna(medians.total_income[i])\n",
    "                                                             )"
   ]
  },
  {
   "cell_type": "markdown",
   "id": "fae23636",
   "metadata": {
    "deletable": true,
    "editable": false,
    "id": "89da5ece",
    "tags": []
   },
   "source": [
    "### Обработка аномальных значений"
   ]
  },
  {
   "cell_type": "code",
   "execution_count": 9,
   "id": "362f8437",
   "metadata": {
    "id": "f6f055bf"
   },
   "outputs": [],
   "source": [
    "# ваш код здесь\n",
    "data['days_employed'] = abs(data['days_employed'])\n"
   ]
  },
  {
   "cell_type": "markdown",
   "id": "dfaff492",
   "metadata": {
    "deletable": true,
    "id": "6107dd2f",
    "tags": [
     "start_task"
    ]
   },
   "source": [
    "**Для каждого типа занятости выводим медианное значение трудового стажа `days_employed` в днях.**"
   ]
  },
  {
   "cell_type": "code",
   "execution_count": 10,
   "id": "e97dadb7",
   "metadata": {
    "id": "85a5faf6"
   },
   "outputs": [
    {
     "name": "stdout",
     "output_type": "stream",
     "text": [
      "income_type\n",
      "безработный        366413.652744\n",
      "в декрете            3296.759962\n",
      "госслужащий          2689.368353\n",
      "компаньон            1547.382223\n",
      "пенсионер          365213.306266\n",
      "предприниматель       520.848083\n",
      "сотрудник            1574.202821\n",
      "студент               578.751554\n",
      "Name: days_employed, dtype: float64\n"
     ]
    }
   ],
   "source": [
    "\n",
    "print(data.groupby('income_type').days_employed.median())\n"
   ]
  },
  {
   "cell_type": "markdown",
   "id": "0a00dd9d",
   "metadata": {
    "deletable": false,
    "editable": false,
    "id": "38d1a030"
   },
   "source": [
    "У двух типов (безработные и пенсионеры) получатся аномально большие значения. Исправить такие значения сложно, поэтому оставьте их как есть. Тем более этот столбец не понадобится вам для исследования."
   ]
  },
  {
   "cell_type": "markdown",
   "id": "23def5d5",
   "metadata": {
    "deletable": false,
    "id": "d8a9f147",
    "tags": [
     "start_task"
    ]
   },
   "source": [
    "**Выведим перечень уникальных значений столбца `children`.**"
   ]
  },
  {
   "cell_type": "code",
   "execution_count": 11,
   "id": "688b7dd1",
   "metadata": {
    "id": "ef5056eb"
   },
   "outputs": [
    {
     "name": "stdout",
     "output_type": "stream",
     "text": [
      "[ 1  0  3  2 -1  4 20  5]\n"
     ]
    }
   ],
   "source": [
    "# ваш код здесь\n",
    "print(data['children'].unique())"
   ]
  },
  {
   "cell_type": "markdown",
   "id": "000c504a",
   "metadata": {
    "deletable": false,
    "id": "40b9ebf2",
    "tags": [
     "start_task"
    ]
   },
   "source": [
    "**В столбце `children` есть два аномальных значения. Удаляем строки, в которых встречаются такие аномальные значения из датафрейма `data`.**"
   ]
  },
  {
   "cell_type": "code",
   "execution_count": 12,
   "id": "c117da25",
   "metadata": {
    "id": "3ff9801d"
   },
   "outputs": [],
   "source": [
    "# ваш код здесь\n",
    "#print(data.loc[data['children'] == -1, 'children'].drop())\n",
    "#print(data['children'].drop([-1]))\n",
    "#data['children'] = data['children'].loc[data['children'] != -1]\n",
    "#data['children'] = data['children'].loc[data['children'] != 20]\n",
    "#print(data['children'].unique())\n",
    "#data['children'].drop([0],axis=0)\n",
    "data = data.drop(data[data.children == -1].index)\n",
    "data = data.drop(data[data.children == 20].index)\n",
    "\n"
   ]
  },
  {
   "cell_type": "markdown",
   "id": "da86897d",
   "metadata": {
    "deletable": false,
    "id": "bbc4d0ce",
    "tags": [
     "start_task"
    ]
   },
   "source": [
    "**Ещё раз выведим перечень уникальных значений столбца `children`, чтобы убедиться, что артефакты удалены.**"
   ]
  },
  {
   "cell_type": "code",
   "execution_count": 13,
   "id": "b7acd6b5",
   "metadata": {
    "id": "ad4fa8b7"
   },
   "outputs": [
    {
     "name": "stdout",
     "output_type": "stream",
     "text": [
      "[1 0 3 2 4 5]\n"
     ]
    }
   ],
   "source": [
    "# ваш код здесь\n",
    "print(data['children'].unique())"
   ]
  },
  {
   "cell_type": "markdown",
   "id": "72b4b076",
   "metadata": {
    "deletable": false,
    "editable": false,
    "id": "75440b63"
   },
   "source": [
    "### Удаление пропусков (продолжение)"
   ]
  },
  {
   "cell_type": "markdown",
   "id": "5af67497",
   "metadata": {
    "deletable": false,
    "id": "f4ea573f",
    "tags": [
     "start_task"
    ]
   },
   "source": [
    "**Заполняем пропуски в столбце `days_employed` медианными значениями по каждому типу занятости `income_type`.**"
   ]
  },
  {
   "cell_type": "code",
   "execution_count": 14,
   "id": "f25aa3cc",
   "metadata": {
    "id": "af6b1a7e"
   },
   "outputs": [],
   "source": [
    "# ваш код здесь\n",
    "medians = data.groupby('income_type', as_index=False).days_employed.median()\n",
    "#print(medians)\n",
    "#print(medians)\n",
    "#print(data['income_type'])\n",
    "for i in range(len(medians)):\n",
    "    data.loc[data['income_type'] == medians['income_type'][i], 'days_employed'] = (data\n",
    "                                                               .loc[data['income_type'] == medians['income_type'][i]]\n",
    "                                                               .fillna(medians['days_employed'][i])\n",
    "                                                             )\n",
    "#for i in range(len(medians)):\n",
    "#    data.loc[data['income_type'] == medians.income_type[i], 'total_income'] = (data\n",
    "#                                                               .loc[data['income_type'] == medians.income_type[i]]\n",
    "#                                                               .fillna(medians.total_income[i])\n",
    "#                                                             )"
   ]
  },
  {
   "cell_type": "markdown",
   "id": "47f5754e",
   "metadata": {
    "deletable": false,
    "id": "2753f40d",
    "tags": [
     "start_task"
    ]
   },
   "source": [
    "**Убеждаемся, что все пропуски заполнены.**"
   ]
  },
  {
   "cell_type": "code",
   "execution_count": 15,
   "id": "ab965950",
   "metadata": {
    "id": "55f78bc2"
   },
   "outputs": [
    {
     "name": "stdout",
     "output_type": "stream",
     "text": [
      "children            0\n",
      "days_employed       0\n",
      "dob_years           0\n",
      "education           0\n",
      "education_id        0\n",
      "family_status       0\n",
      "family_status_id    0\n",
      "gender              0\n",
      "income_type         0\n",
      "debt                0\n",
      "total_income        0\n",
      "purpose             0\n",
      "dtype: int64\n"
     ]
    }
   ],
   "source": [
    "# ваш код здесь\n",
    "print(data.isna().sum())"
   ]
  },
  {
   "cell_type": "markdown",
   "id": "cd8d933f",
   "metadata": {
    "deletable": false,
    "editable": false,
    "id": "ddc81e43"
   },
   "source": [
    "### Изменение типов данных"
   ]
  },
  {
   "cell_type": "markdown",
   "id": "02db451b",
   "metadata": {
    "deletable": false,
    "id": "42d19d24",
    "tags": [
     "start_task"
    ]
   },
   "source": [
    "**Заменяем вещественный тип данных в столбце `total_income` на целочисленный с помощью метода `astype()`.**"
   ]
  },
  {
   "cell_type": "code",
   "execution_count": 16,
   "id": "ed8a0d77",
   "metadata": {
    "id": "920b65ad"
   },
   "outputs": [],
   "source": [
    "# ваш код здесь\n",
    "data['total_income'] = data['total_income'].astype(int)"
   ]
  },
  {
   "cell_type": "markdown",
   "id": "7a9bb018",
   "metadata": {
    "deletable": false,
    "editable": false,
    "id": "80c420ba"
   },
   "source": [
    "### Обработка дубликатов"
   ]
  },
  {
   "cell_type": "markdown",
   "id": "06734020",
   "metadata": {
    "deletable": false,
    "tags": [
     "start_task"
    ]
   },
   "source": [
    "**Задание 14. Обработаем неявные дубликаты в столбце `education`. В этом столбце есть одни и те же значения, но записанные по-разному: с использованием заглавных и строчных букв. Приводим их к нижнему регистру. Проверяем остальные столбцы.**"
   ]
  },
  {
   "cell_type": "code",
   "execution_count": 17,
   "id": "9cb3a49a",
   "metadata": {},
   "outputs": [],
   "source": [
    "# ваш код здесь\n",
    "data.education = data.education.str.lower()"
   ]
  },
  {
   "cell_type": "markdown",
   "id": "6ce1bd47",
   "metadata": {
    "deletable": false,
    "id": "dc587695",
    "tags": [
     "start_task"
    ]
   },
   "source": [
    "**Выведим на экран количество строк-дубликатов в данных. Если такие строки присутствуют, удаляем их.**"
   ]
  },
  {
   "cell_type": "code",
   "execution_count": 18,
   "id": "e11fe6c9",
   "metadata": {
    "id": "3ee445e4"
   },
   "outputs": [
    {
     "data": {
      "text/plain": [
       "71"
      ]
     },
     "execution_count": 18,
     "metadata": {},
     "output_type": "execute_result"
    }
   ],
   "source": [
    "# посчитайте дубликаты\n",
    "data.duplicated().sum()"
   ]
  },
  {
   "cell_type": "code",
   "execution_count": 19,
   "id": "c891a2cc",
   "metadata": {
    "id": "8575fe05"
   },
   "outputs": [],
   "source": [
    "# удалите дубликаты\n",
    "data = data.drop_duplicates().reset_index(drop=True)"
   ]
  },
  {
   "cell_type": "markdown",
   "id": "243e1a62",
   "metadata": {
    "deletable": false,
    "editable": false,
    "id": "9904cf55"
   },
   "source": [
    "### Категоризация данных"
   ]
  },
  {
   "cell_type": "markdown",
   "id": "7d2885d5",
   "metadata": {
    "deletable": false,
    "id": "72fcc8a2",
    "tags": [
     "start_task"
    ]
   },
   "source": [
    "**На основании диапазонов, указанных ниже, создадим в датафрейме `data` столбец `total_income_category` с категориями:**\n",
    "\n",
    "- 0–30000 — `'E'`;\n",
    "- 30001–50000 — `'D'`;\n",
    "- 50001–200000 — `'C'`;\n",
    "- 200001–1000000 — `'B'`;\n",
    "- 1000001 и выше — `'A'`."
   ]
  },
  {
   "cell_type": "code",
   "execution_count": 20,
   "id": "714d8181",
   "metadata": {
    "id": "e1771346"
   },
   "outputs": [],
   "source": [
    "# создайте функцию categorize_income()\n",
    "def categorize_income(total_income):\n",
    "    if 0<=total_income<=30000:\n",
    "        return 'E'\n",
    "    elif 30000<total_income<=50000:\n",
    "        return 'D'\n",
    "    elif 50000<total_income<=200000:\n",
    "        return 'C'\n",
    "    elif 200000<total_income<=1000000:\n",
    "        return 'B'\n",
    "    elif total_income>1000000:\n",
    "        return 'A'\n"
   ]
  },
  {
   "cell_type": "code",
   "execution_count": 21,
   "id": "dbf71174",
   "metadata": {
    "id": "d5f3586d"
   },
   "outputs": [],
   "source": [
    "# примените функцию методом apply()\n",
    "data['total_income_category'] = data['total_income'].apply(categorize_income)\n",
    "#print(data['total_income_category'])"
   ]
  },
  {
   "cell_type": "markdown",
   "id": "589b208b",
   "metadata": {
    "deletable": false,
    "id": "dde49b5c",
    "tags": [
     "start_task"
    ]
   },
   "source": [
    "**Выведим на экран перечень уникальных целей взятия кредита из столбца `purpose`.**"
   ]
  },
  {
   "cell_type": "code",
   "execution_count": 22,
   "id": "dd23703a",
   "metadata": {
    "id": "f67ce9b3"
   },
   "outputs": [
    {
     "name": "stdout",
     "output_type": "stream",
     "text": [
      "['покупка жилья' 'приобретение автомобиля' 'дополнительное образование'\n",
      " 'сыграть свадьбу' 'операции с жильем' 'образование'\n",
      " 'на проведение свадьбы' 'покупка жилья для семьи' 'покупка недвижимости'\n",
      " 'покупка коммерческой недвижимости' 'покупка жилой недвижимости'\n",
      " 'строительство собственной недвижимости' 'недвижимость'\n",
      " 'строительство недвижимости' 'на покупку подержанного автомобиля'\n",
      " 'на покупку своего автомобиля' 'операции с коммерческой недвижимостью'\n",
      " 'строительство жилой недвижимости' 'жилье'\n",
      " 'операции со своей недвижимостью' 'автомобили' 'заняться образованием'\n",
      " 'сделка с подержанным автомобилем' 'получение образования' 'автомобиль'\n",
      " 'свадьба' 'получение дополнительного образования' 'покупка своего жилья'\n",
      " 'операции с недвижимостью' 'получение высшего образования'\n",
      " 'свой автомобиль' 'сделка с автомобилем' 'профильное образование'\n",
      " 'высшее образование' 'покупка жилья для сдачи' 'на покупку автомобиля'\n",
      " 'ремонт жилью' 'заняться высшим образованием']\n"
     ]
    }
   ],
   "source": [
    "# ваш код здесь\n",
    "print(data['purpose'].unique())"
   ]
  },
  {
   "cell_type": "markdown",
   "id": "2ea83d0d",
   "metadata": {
    "deletable": false,
    "id": "85d0aef0",
    "tags": [
     "start_task"
    ]
   },
   "source": [
    "**Создадим функцию, которая на основании данных из столбца `purpose` сформирует новый столбец `purpose_category`, в который войдут следующие категории:**\n",
    "\n",
    "- `'операции с автомобилем'`,\n",
    "- `'операции с недвижимостью'`,\n",
    "- `'проведение свадьбы'`,\n",
    "- `'получение образования'`.\n",
    "\n",
    "**Например, если в столбце `purpose` находится подстрока `'на покупку автомобиля'`, то в столбце `purpose_category` появиться строка `'операции с автомобилем'`.**\n",
    "\n",
    "**Будем использовать собственную функцию с именем `categorize_purpose()` и метод `apply()`.**"
   ]
  },
  {
   "cell_type": "code",
   "execution_count": 23,
   "id": "beb7e381",
   "metadata": {
    "id": "e149fab4"
   },
   "outputs": [],
   "source": [
    "# создаем функцию categorize_purpose()\n",
    "def categorize_purpose(purpose):\n",
    "\n",
    "    if purpose.find('авто') !=-1:\n",
    "        return ('операции с автомобилем')\n",
    "        print('есть')\n",
    "    elif purpose.find('свадьб') !=-1:\n",
    "        return ('проведение свадьбы')\n",
    "    elif (purpose.find('жиль') !=-1) or (purpose.find('недвижимост') !=-1):\n",
    "        return ('операции с недвижимостью')\n",
    "    elif purpose.find('образова') !=-1:\n",
    "        return ('получение образования')"
   ]
  },
  {
   "cell_type": "code",
   "execution_count": 24,
   "id": "2fcfeb27",
   "metadata": {
    "id": "bf36e69b"
   },
   "outputs": [],
   "source": [
    "# применяем функцию методом apply()\n",
    "#print(data['purpose'].head(20))\n",
    "data['purpose_category'] = data['purpose'].apply(categorize_purpose)"
   ]
  },
  {
   "cell_type": "code",
   "execution_count": 25,
   "id": "ae93687a",
   "metadata": {},
   "outputs": [
    {
     "name": "stdout",
     "output_type": "stream",
     "text": [
      "       children  debt  family_status_id  total_income education  \\\n",
      "0             1     0                 0        253875    высшее   \n",
      "1             1     0                 0        112080   среднее   \n",
      "2             0     0                 0        145885   среднее   \n",
      "3             3     0                 0        267628   среднее   \n",
      "4             0     0                 1        158616   среднее   \n",
      "...         ...   ...               ...           ...       ...   \n",
      "21326         1     0                 1        224791   среднее   \n",
      "21327         0     0                 0        155999   среднее   \n",
      "21328         1     1                 1         89672   среднее   \n",
      "21329         3     1                 0        244093   среднее   \n",
      "21330         2     0                 0         82047   среднее   \n",
      "\n",
      "          family_status  \n",
      "0       женат / замужем  \n",
      "1       женат / замужем  \n",
      "2       женат / замужем  \n",
      "3       женат / замужем  \n",
      "4      гражданский брак  \n",
      "...                 ...  \n",
      "21326  гражданский брак  \n",
      "21327   женат / замужем  \n",
      "21328  гражданский брак  \n",
      "21329   женат / замужем  \n",
      "21330   женат / замужем  \n",
      "\n",
      "[21331 rows x 6 columns]\n",
      "family_status\n",
      "вдовец / вдова            63\n",
      "в разводе                 84\n",
      "Не женат / не замужем    273\n",
      "гражданский брак         385\n",
      "женат / замужем          927\n",
      "Name: debt, dtype: int64\n",
      "['женат / замужем' 'гражданский брак' 'вдовец / вдова' 'в разводе'\n",
      " 'Не женат / не замужем']\n",
      "тип\n",
      "<class 'pandas.core.series.Series'>\n",
      "<class 'pandas.core.series.Series'>\n",
      "84\n",
      "Index(['вдовец / вдова', 'в разводе', 'Не женат / не замужем',\n",
      "       'гражданский брак', 'женат / замужем'],\n",
      "      dtype='object', name='family_status')\n",
      "['женат / замужем' 'гражданский брак' 'вдовец / вдова' 'в разводе'\n",
      " 'Не женат / не замужем']\n"
     ]
    },
    {
     "data": {
      "image/png": "[encoded data removed]",
      "text/plain": [
       "<Figure size 640x480 with 1 Axes>"
      ]
     },
     "metadata": {},
     "output_type": "display_data"
    }
   ],
   "source": [
    "import seaborn as sns\n",
    "import numpy as np\n",
    "data2 = data[['children', 'debt','family_status_id', 'total_income','education', 'family_status']]\n",
    "print(data2)\n",
    "\n",
    "price = [2.50, 1.23, 4.02, 3.25, 5.00, 4.40]\n",
    "sales_per_day = [34, 62, 49, 22, 13, 19]\n",
    "\n",
    "import matplotlib.pyplot as plt\n",
    "\n",
    "family_status_grouped = data2.groupby('family_status').debt.sum().sort_values()\n",
    "sns.scatterplot(x=family_status_grouped, y=family_status_grouped.index)\n",
    "print(family_status_grouped)\n",
    "print(data['family_status'].unique())\n",
    "\n",
    "print('тип')\n",
    "print(type(family_status_grouped))\n",
    "print(type(data['family_status']))\n",
    "print(family_status_grouped['в разводе'])\n",
    "\n",
    "print(family_status_grouped.index)\n",
    "print(data['family_status'].unique())\n"
   ]
  },
  {
   "cell_type": "code",
   "execution_count": 26,
   "id": "d349edab",
   "metadata": {},
   "outputs": [
    {
     "data": {
      "text/plain": [
       "<AxesSubplot:xlabel='children', ylabel='debt'>"
      ]
     },
     "execution_count": 26,
     "metadata": {},
     "output_type": "execute_result"
    },
    {
     "data": {
      "image/png": "[encoded data removed]",
      "text/plain": [
       "<Figure size 640x480 with 1 Axes>"
      ]
     },
     "metadata": {},
     "output_type": "display_data"
    }
   ],
   "source": [
    "sns.scatterplot(data=data2, x=\"children\", y=\"debt\")"
   ]
  },
  {
   "cell_type": "code",
   "execution_count": 27,
   "id": "f7b7e2ca",
   "metadata": {},
   "outputs": [
    {
     "name": "stdout",
     "output_type": "stream",
     "text": [
      "4808\n"
     ]
    },
    {
     "data": {
      "image/png": "[encoded data removed]",
      "text/plain": [
       "<Figure size 640x480 with 1 Axes>"
      ]
     },
     "metadata": {},
     "output_type": "display_data"
    }
   ],
   "source": [
    "from matplotlib import pyplot as plt\n",
    "from matplotlib_venn import venn2\n",
    "one_child = data2.loc[data2['children']==1]['children']\n",
    "print(one_child.count())\n",
    "venn2((data2['children'],data2.loc[data2['children']==1]['children']))\n",
    "plt.show()"
   ]
  },
  {
   "cell_type": "code",
   "execution_count": 28,
   "id": "3b0dae05",
   "metadata": {},
   "outputs": [],
   "source": [
    "# price = [2.50, 1.23, 4.02, 3.25, 5.00, 4.40]\n",
    "# sales_per_day = [34, 62, 49, 22, 13, 19]\n",
    "\n",
    "# sns.scatterplot(children_groups)\n",
    "# ax.scatter(x[:10], y[:10], z[:10], c='y')"
   ]
  },
  {
   "cell_type": "code",
   "execution_count": 29,
   "id": "5b1620e7",
   "metadata": {
    "scrolled": true
   },
   "outputs": [
    {
     "data": {
      "text/plain": [
       "<AxesSubplot:xlabel='children', ylabel='debt'>"
      ]
     },
     "execution_count": 29,
     "metadata": {},
     "output_type": "execute_result"
    },
    {
     "data": {
      "image/png": "[encoded data removed]",
      "text/plain": [
       "<Figure size 640x480 with 1 Axes>"
      ]
     },
     "metadata": {},
     "output_type": "display_data"
    }
   ],
   "source": [
    "sns.scatterplot(data=data2, x=\"children\", y=\"debt\")"
   ]
  },
  {
   "cell_type": "code",
   "execution_count": 30,
   "id": "a6f4f28f",
   "metadata": {},
   "outputs": [
    {
     "data": {
      "text/plain": [
       "<AxesSubplot:xlabel='children', ylabel='total_income'>"
      ]
     },
     "execution_count": 30,
     "metadata": {},
     "output_type": "execute_result"
    },
    {
     "data": {
      "image/png": "[encoded data removed]",
      "text/plain": [
       "<Figure size 640x480 with 1 Axes>"
      ]
     },
     "metadata": {},
     "output_type": "display_data"
    }
   ],
   "source": [
    "sns.lineplot(data=data, x=\"children\", y=\"total_income\")\n"
   ]
  },
  {
   "cell_type": "code",
   "execution_count": 31,
   "id": "a3bb1f5e",
   "metadata": {
    "scrolled": true
   },
   "outputs": [
    {
     "data": {
      "text/plain": [
       "<AxesSubplot:xlabel='children', ylabel='total_income'>"
      ]
     },
     "execution_count": 31,
     "metadata": {},
     "output_type": "execute_result"
    },
    {
     "data": {
      "image/png": "[encoded data removed]",
      "text/plain": [
       "<Figure size 640x480 with 1 Axes>"
      ]
     },
     "metadata": {},
     "output_type": "display_data"
    }
   ],
   "source": [
    "sns.barplot(data=data, x=\"children\", y=\"total_income\")"
   ]
  },
  {
   "cell_type": "code",
   "execution_count": 32,
   "id": "691b713d",
   "metadata": {},
   "outputs": [
    {
     "name": "stdout",
     "output_type": "stream",
     "text": [
      "education\n",
      "высшее                 1054156134\n",
      "начальное                37387924\n",
      "неоконченное высшее     132301637\n",
      "среднее                2302031916\n",
      "ученая степень            1048499\n",
      "Name: total_income, dtype: int64\n"
     ]
    },
    {
     "data": {
      "text/plain": [
       "<AxesSubplot:xlabel='education', ylabel='total_income'>"
      ]
     },
     "execution_count": 32,
     "metadata": {},
     "output_type": "execute_result"
    },
    {
     "data": {
      "image/png": "[encoded data removed]",
      "text/plain": [
       "<Figure size 640x480 with 1 Axes>"
      ]
     },
     "metadata": {},
     "output_type": "display_data"
    }
   ],
   "source": [
    "total_income_groups = data2.groupby('education').total_income.sum()\n",
    "print(total_income_groups)\n",
    "sns.scatterplot(total_income_groups)"
   ]
  },
  {
   "cell_type": "code",
   "execution_count": 33,
   "id": "f4d8e5ca",
   "metadata": {},
   "outputs": [
    {
     "name": "stdout",
     "output_type": "stream",
     "text": [
      "   col1  col2  col3\n",
      "0     1     4     7\n",
      "1     2     5     8\n",
      "2     3     6     9\n",
      "3    -3     3     4\n",
      "[0, 1, 4, 9, 16, 25, 36, 49, 64, 81] [0, 1, 4, 9, 16, 25, 36, 49, 64, 81]\n"
     ]
    },
    {
     "data": {
      "text/plain": [
       "Text(0, 0.5, 'yyyy')"
      ]
     },
     "execution_count": 33,
     "metadata": {},
     "output_type": "execute_result"
    },
    {
     "data": {
      "image/png": "[encoded data removed]",
      "text/plain": [
       "<Figure size 640x480 with 1 Axes>"
      ]
     },
     "metadata": {},
     "output_type": "display_data"
    }
   ],
   "source": [
    "data3 = pd.DataFrame({'col1':[1,2,3,-3], 'col2':[4,5,6,3], 'col3':[7,8,9,4]})\n",
    "print(data3)\n",
    "a = [x**2 for x in range(10)]\n",
    "\n",
    "b = [x**2 for x in range(10)]\n",
    "print(a, b)\n",
    "sns.lineplot(data = data3, x ='col1' , y='col2' ).set_xlabel('xxxx')\n",
    "sns.lineplot(data = data3, x ='col1' , y='col2' ).set_ylabel('yyyy')"
   ]
  },
  {
   "cell_type": "code",
   "execution_count": 34,
   "id": "2a9c1b96",
   "metadata": {},
   "outputs": [
    {
     "name": "stdout",
     "output_type": "stream",
     "text": [
      "   total_bill   tip     sex smoker  day    time  size\n",
      "0       16.99  1.01  Female     No  Sun  Dinner     2\n",
      "1       10.34  1.66    Male     No  Sun  Dinner     3\n",
      "2       21.01  3.50    Male     No  Sun  Dinner     3\n",
      "3       23.68  3.31    Male     No  Sun  Dinner     2\n",
      "4       24.59  3.61  Female     No  Sun  Dinner     4\n",
      "5       25.29  4.71    Male     No  Sun  Dinner     4\n",
      "6        8.77  2.00    Male     No  Sun  Dinner     2\n",
      "7       26.88  3.12    Male     No  Sun  Dinner     4\n",
      "8       15.04  1.96    Male     No  Sun  Dinner     2\n",
      "9       14.78  3.23    Male     No  Sun  Dinner     2\n"
     ]
    },
    {
     "data": {
      "text/plain": [
       "<seaborn.axisgrid.FacetGrid at 0x11df79a50>"
      ]
     },
     "execution_count": 34,
     "metadata": {},
     "output_type": "execute_result"
    },
    {
     "data": {
      "image/png": "[encoded data removed]",
      "text/plain": [
       "<Figure size 1080x500 with 2 Axes>"
      ]
     },
     "metadata": {},
     "output_type": "display_data"
    },
    {
     "data": {
      "image/png": "[encoded data removed]",
      "text/plain": [
       "<Figure size 2714.38x500 with 5 Axes>"
      ]
     },
     "metadata": {},
     "output_type": "display_data"
    }
   ],
   "source": [
    "# Import seaborn\n",
    "import seaborn as sns\n",
    "\n",
    "# Apply the default theme\n",
    "sns.set_theme()\n",
    "\n",
    "# Load an example dataset\n",
    "tips = sns.load_dataset(\"tips\")\n",
    "print(tips.head(10))\n",
    "# Create a visualization\n",
    "sns.relplot(\n",
    "    data=tips,\n",
    "    x=\"total_bill\", y=\"tip\", col=\"time\",\n",
    "    hue=\"smoker\", style=\"smoker\", size=\"size\",\n",
    ")\n",
    "\n",
    "sns.lmplot(data=data2, x=\"children\", y=\"debt\", col=\"family_status\", hue=\"education\")"
   ]
  },
  {
   "cell_type": "code",
   "execution_count": 35,
   "id": "fa6d1358",
   "metadata": {},
   "outputs": [
    {
     "name": "stdout",
     "output_type": "stream",
     "text": [
      "муха\n",
      "почему мухи\n",
      "про муху\n",
      "повелитель мух\n",
      "борьба с мухами\n",
      "Исходное слово -  муха , после стемминга -  мух\n",
      "Исходное слово -  мухи , после стемминга -  мух\n",
      "Исходное слово -  муху , после стемминга -  мух\n",
      "Исходное слово -  мух , после стемминга -  мух\n",
      "Исходное слово -  мухами , после стемминга -  мух\n",
      "Исходное слово -  мухаммед , после стемминга -  мухаммед\n",
      "муха\n",
      "почему мухи\n",
      "про муху\n",
      "повелитель мух\n",
      "борьба с мухами\n"
     ]
    }
   ],
   "source": [
    "queries = [\"котлеты\", \"куриные котлеты\", \"рецепт котлет\", \"котлеты из фарша\", \"сочные котлеты\", \"рыбные котлеты\", \"приготовление котлет\", \"муха\", \"почему мухи\", \"про муху\", \"повелитель мух\", \"борьба с мухами\"]\n",
    "for query in queries:\n",
    "    #print(type(query))\n",
    "    if 'мух' in query:\n",
    "        print(query)\n",
    "        \n",
    "# Передаём стеммеру как аргумент значение 'russian', чтобы включить лингвистический анализ именно русского языка\n",
    "from nltk.stem import SnowballStemmer \n",
    "russian_stemmer = SnowballStemmer('russian')      \n",
    "\n",
    "words = [\"муха\", \"мухи\", \"муху\", \"мух\", \"мухами\", \"мухаммед\"]\n",
    "\n",
    "for word in words:\n",
    "    print ('Исходное слово - ', word, ', после стемминга - ', russian_stemmer.stem(word))\n",
    "    \n",
    "\n",
    "for query in queries:\n",
    "    stemmed_query = russian_stemmer.stem(query)\n",
    "    \n",
    "    for word in stemmed_query.split(' '):\n",
    "        if word == 'мух':\n",
    "            print(query)   "
   ]
  },
  {
   "cell_type": "code",
   "execution_count": 36,
   "id": "72738c12",
   "metadata": {},
   "outputs": [
    {
     "name": "stdout",
     "output_type": "stream",
     "text": [
      "эпл айфоны\n",
      "купить эпл телефон\n",
      "смартфон эпл айфон\n",
      "эпл айфоны икс\n",
      "эпл айфон 64гб\n",
      "купить эпл\n",
      "эпл айфон купить\n",
      "эпл\n"
     ]
    }
   ],
   "source": [
    "queries = [\"эпл айфоны\", \n",
    "           \"купить эпл телефон\", \n",
    "           \"лучшие смартфоны\", \n",
    "           \"барон фон\", \n",
    "           \"смартфон эпл айфон\", \n",
    "           \"смартфоны 2019\", \n",
    "           \"эплан\", \n",
    "           \"фоновая музыка\", \n",
    "           \"эпл айфоны икс\", \n",
    "           \"эпл айфон 64гб\",\n",
    "           \"фон для фото\",\n",
    "           \"купить эпл\",\n",
    "           \"эпл айфон купить\",\n",
    "           \"эплеренон купить\", \n",
    "           \"смартфон где купить\", \n",
    "           \"эплан показания\", \n",
    "           \"смартфон huawei\",\n",
    "           \"эпл\"]\n",
    "for query in queries:\n",
    "    stemmed_query = russian_stemmer.stem(query)\n",
    "    \n",
    "    for word in stemmed_query.split(' '):\n",
    "        if word == 'эпл':\n",
    "            print(query)   "
   ]
  },
  {
   "cell_type": "markdown",
   "id": "747a39a0-f0b9-4a69-8f55-ad0e0c356974",
   "metadata": {},
   "source": [
    "# Часть 2"
   ]
  },
  {
   "cell_type": "markdown",
   "id": "86c86c4c-e804-464a-b216-9b8ea4bdcece",
   "metadata": {
    "editable": false,
    "id": "827c20bf"
   },
   "source": [
    "Во второй части проекта вы выполните шаги 3 и 4. Их вручную проверит ревьюер.\n",
    "Чтобы вам не пришлось писать код заново для шагов 1 и 2, мы добавили авторские решения в ячейки с кодом. \n",
    "\n"
   ]
  },
  {
   "cell_type": "markdown",
   "id": "4d06b067-fa68-4d30-95b2-eaa18ec78db2",
   "metadata": {
    "editable": false,
    "id": "744d7639"
   },
   "source": [
    "## Откройте таблицу и изучите общую информацию о данных"
   ]
  },
  {
   "cell_type": "markdown",
   "id": "c0dc36dd-5695-48cd-a4d0-7f2618260462",
   "metadata": {
    "editable": false,
    "id": "e7a14c31"
   },
   "source": [
    "**Задание 1. Импортируйте библиотеку pandas. Считайте данные из csv-файла в датафрейм и сохраните в переменную `data`. Путь к файлу:**\n",
    "\n",
    "`/datasets/data.csv`"
   ]
  },
  {
   "cell_type": "code",
   "execution_count": 157,
   "id": "3ad94013-2cd9-4d18-97f8-62cfc2f45967",
   "metadata": {
    "id": "7bcf75c9"
   },
   "outputs": [],
   "source": [
    "#Подключаем библиотеки\n",
    "import seaborn as sns\n",
    "import pandas as pd\n",
    "\n",
    "# try:\n",
    "#     data = pd.read_csv('/datasets/data.csv')\n",
    "# except:\n",
    "#     data = pd.read_csv('https://code.s3.yandex.net/datasets/data.csv')\n",
    "data = pd.read_csv('data_project2_part1.csv')    "
   ]
  },
  {
   "cell_type": "markdown",
   "id": "9460f4a7-73bb-49c1-8ab6-d49f0bdae585",
   "metadata": {
    "editable": false,
    "id": "b8038fe3"
   },
   "source": [
    "**Задание 2. Выведите первые 20 строчек датафрейма `data` на экран.**"
   ]
  },
  {
   "cell_type": "code",
   "execution_count": 158,
   "id": "e4476801-156d-4b1e-8753-1c6b2ff95079",
   "metadata": {
    "id": "2a7cab99",
    "outputId": "1a8f3ef2-d323-4ec2-ddf7-89670b5944c4"
   },
   "outputs": [
    {
     "data": {
      "text/html": [
       "<div>\n",
       "<style scoped>\n",
       "    .dataframe tbody tr th:only-of-type {\n",
       "        vertical-align: middle;\n",
       "    }\n",
       "\n",
       "    .dataframe tbody tr th {\n",
       "        vertical-align: top;\n",
       "    }\n",
       "\n",
       "    .dataframe thead th {\n",
       "        text-align: right;\n",
       "    }\n",
       "</style>\n",
       "<table border=\"1\" class=\"dataframe\">\n",
       "  <thead>\n",
       "    <tr style=\"text-align: right;\">\n",
       "      <th></th>\n",
       "      <th>children</th>\n",
       "      <th>days_employed</th>\n",
       "      <th>dob_years</th>\n",
       "      <th>education</th>\n",
       "      <th>education_id</th>\n",
       "      <th>family_status</th>\n",
       "      <th>family_status_id</th>\n",
       "      <th>gender</th>\n",
       "      <th>income_type</th>\n",
       "      <th>debt</th>\n",
       "      <th>total_income</th>\n",
       "      <th>purpose</th>\n",
       "    </tr>\n",
       "  </thead>\n",
       "  <tbody>\n",
       "    <tr>\n",
       "      <th>0</th>\n",
       "      <td>1</td>\n",
       "      <td>-8437.673028</td>\n",
       "      <td>42</td>\n",
       "      <td>высшее</td>\n",
       "      <td>0</td>\n",
       "      <td>женат / замужем</td>\n",
       "      <td>0</td>\n",
       "      <td>F</td>\n",
       "      <td>сотрудник</td>\n",
       "      <td>0</td>\n",
       "      <td>253875.639453</td>\n",
       "      <td>покупка жилья</td>\n",
       "    </tr>\n",
       "    <tr>\n",
       "      <th>1</th>\n",
       "      <td>1</td>\n",
       "      <td>-4024.803754</td>\n",
       "      <td>36</td>\n",
       "      <td>среднее</td>\n",
       "      <td>1</td>\n",
       "      <td>женат / замужем</td>\n",
       "      <td>0</td>\n",
       "      <td>F</td>\n",
       "      <td>сотрудник</td>\n",
       "      <td>0</td>\n",
       "      <td>112080.014102</td>\n",
       "      <td>приобретение автомобиля</td>\n",
       "    </tr>\n",
       "    <tr>\n",
       "      <th>2</th>\n",
       "      <td>0</td>\n",
       "      <td>-5623.422610</td>\n",
       "      <td>33</td>\n",
       "      <td>Среднее</td>\n",
       "      <td>1</td>\n",
       "      <td>женат / замужем</td>\n",
       "      <td>0</td>\n",
       "      <td>M</td>\n",
       "      <td>сотрудник</td>\n",
       "      <td>0</td>\n",
       "      <td>145885.952297</td>\n",
       "      <td>покупка жилья</td>\n",
       "    </tr>\n",
       "    <tr>\n",
       "      <th>3</th>\n",
       "      <td>3</td>\n",
       "      <td>-4124.747207</td>\n",
       "      <td>32</td>\n",
       "      <td>среднее</td>\n",
       "      <td>1</td>\n",
       "      <td>женат / замужем</td>\n",
       "      <td>0</td>\n",
       "      <td>M</td>\n",
       "      <td>сотрудник</td>\n",
       "      <td>0</td>\n",
       "      <td>267628.550329</td>\n",
       "      <td>дополнительное образование</td>\n",
       "    </tr>\n",
       "    <tr>\n",
       "      <th>4</th>\n",
       "      <td>0</td>\n",
       "      <td>340266.072047</td>\n",
       "      <td>53</td>\n",
       "      <td>среднее</td>\n",
       "      <td>1</td>\n",
       "      <td>гражданский брак</td>\n",
       "      <td>1</td>\n",
       "      <td>F</td>\n",
       "      <td>пенсионер</td>\n",
       "      <td>0</td>\n",
       "      <td>158616.077870</td>\n",
       "      <td>сыграть свадьбу</td>\n",
       "    </tr>\n",
       "    <tr>\n",
       "      <th>5</th>\n",
       "      <td>0</td>\n",
       "      <td>-926.185831</td>\n",
       "      <td>27</td>\n",
       "      <td>высшее</td>\n",
       "      <td>0</td>\n",
       "      <td>гражданский брак</td>\n",
       "      <td>1</td>\n",
       "      <td>M</td>\n",
       "      <td>компаньон</td>\n",
       "      <td>0</td>\n",
       "      <td>255763.565419</td>\n",
       "      <td>покупка жилья</td>\n",
       "    </tr>\n",
       "    <tr>\n",
       "      <th>6</th>\n",
       "      <td>0</td>\n",
       "      <td>-2879.202052</td>\n",
       "      <td>43</td>\n",
       "      <td>высшее</td>\n",
       "      <td>0</td>\n",
       "      <td>женат / замужем</td>\n",
       "      <td>0</td>\n",
       "      <td>F</td>\n",
       "      <td>компаньон</td>\n",
       "      <td>0</td>\n",
       "      <td>240525.971920</td>\n",
       "      <td>операции с жильем</td>\n",
       "    </tr>\n",
       "    <tr>\n",
       "      <th>7</th>\n",
       "      <td>0</td>\n",
       "      <td>-152.779569</td>\n",
       "      <td>50</td>\n",
       "      <td>СРЕДНЕЕ</td>\n",
       "      <td>1</td>\n",
       "      <td>женат / замужем</td>\n",
       "      <td>0</td>\n",
       "      <td>M</td>\n",
       "      <td>сотрудник</td>\n",
       "      <td>0</td>\n",
       "      <td>135823.934197</td>\n",
       "      <td>образование</td>\n",
       "    </tr>\n",
       "    <tr>\n",
       "      <th>8</th>\n",
       "      <td>2</td>\n",
       "      <td>-6929.865299</td>\n",
       "      <td>35</td>\n",
       "      <td>ВЫСШЕЕ</td>\n",
       "      <td>0</td>\n",
       "      <td>гражданский брак</td>\n",
       "      <td>1</td>\n",
       "      <td>F</td>\n",
       "      <td>сотрудник</td>\n",
       "      <td>0</td>\n",
       "      <td>95856.832424</td>\n",
       "      <td>на проведение свадьбы</td>\n",
       "    </tr>\n",
       "    <tr>\n",
       "      <th>9</th>\n",
       "      <td>0</td>\n",
       "      <td>-2188.756445</td>\n",
       "      <td>41</td>\n",
       "      <td>среднее</td>\n",
       "      <td>1</td>\n",
       "      <td>женат / замужем</td>\n",
       "      <td>0</td>\n",
       "      <td>M</td>\n",
       "      <td>сотрудник</td>\n",
       "      <td>0</td>\n",
       "      <td>144425.938277</td>\n",
       "      <td>покупка жилья для семьи</td>\n",
       "    </tr>\n",
       "    <tr>\n",
       "      <th>10</th>\n",
       "      <td>2</td>\n",
       "      <td>-4171.483647</td>\n",
       "      <td>36</td>\n",
       "      <td>высшее</td>\n",
       "      <td>0</td>\n",
       "      <td>женат / замужем</td>\n",
       "      <td>0</td>\n",
       "      <td>M</td>\n",
       "      <td>компаньон</td>\n",
       "      <td>0</td>\n",
       "      <td>113943.491460</td>\n",
       "      <td>покупка недвижимости</td>\n",
       "    </tr>\n",
       "    <tr>\n",
       "      <th>11</th>\n",
       "      <td>0</td>\n",
       "      <td>-792.701887</td>\n",
       "      <td>40</td>\n",
       "      <td>среднее</td>\n",
       "      <td>1</td>\n",
       "      <td>женат / замужем</td>\n",
       "      <td>0</td>\n",
       "      <td>F</td>\n",
       "      <td>сотрудник</td>\n",
       "      <td>0</td>\n",
       "      <td>77069.234271</td>\n",
       "      <td>покупка коммерческой недвижимости</td>\n",
       "    </tr>\n",
       "    <tr>\n",
       "      <th>12</th>\n",
       "      <td>0</td>\n",
       "      <td>NaN</td>\n",
       "      <td>65</td>\n",
       "      <td>среднее</td>\n",
       "      <td>1</td>\n",
       "      <td>гражданский брак</td>\n",
       "      <td>1</td>\n",
       "      <td>M</td>\n",
       "      <td>пенсионер</td>\n",
       "      <td>0</td>\n",
       "      <td>NaN</td>\n",
       "      <td>сыграть свадьбу</td>\n",
       "    </tr>\n",
       "    <tr>\n",
       "      <th>13</th>\n",
       "      <td>0</td>\n",
       "      <td>-1846.641941</td>\n",
       "      <td>54</td>\n",
       "      <td>неоконченное высшее</td>\n",
       "      <td>2</td>\n",
       "      <td>женат / замужем</td>\n",
       "      <td>0</td>\n",
       "      <td>F</td>\n",
       "      <td>сотрудник</td>\n",
       "      <td>0</td>\n",
       "      <td>130458.228857</td>\n",
       "      <td>приобретение автомобиля</td>\n",
       "    </tr>\n",
       "    <tr>\n",
       "      <th>14</th>\n",
       "      <td>0</td>\n",
       "      <td>-1844.956182</td>\n",
       "      <td>56</td>\n",
       "      <td>высшее</td>\n",
       "      <td>0</td>\n",
       "      <td>гражданский брак</td>\n",
       "      <td>1</td>\n",
       "      <td>F</td>\n",
       "      <td>компаньон</td>\n",
       "      <td>1</td>\n",
       "      <td>165127.911772</td>\n",
       "      <td>покупка жилой недвижимости</td>\n",
       "    </tr>\n",
       "    <tr>\n",
       "      <th>15</th>\n",
       "      <td>1</td>\n",
       "      <td>-972.364419</td>\n",
       "      <td>26</td>\n",
       "      <td>среднее</td>\n",
       "      <td>1</td>\n",
       "      <td>женат / замужем</td>\n",
       "      <td>0</td>\n",
       "      <td>F</td>\n",
       "      <td>сотрудник</td>\n",
       "      <td>0</td>\n",
       "      <td>116820.904450</td>\n",
       "      <td>строительство собственной недвижимости</td>\n",
       "    </tr>\n",
       "    <tr>\n",
       "      <th>16</th>\n",
       "      <td>0</td>\n",
       "      <td>-1719.934226</td>\n",
       "      <td>35</td>\n",
       "      <td>среднее</td>\n",
       "      <td>1</td>\n",
       "      <td>женат / замужем</td>\n",
       "      <td>0</td>\n",
       "      <td>F</td>\n",
       "      <td>сотрудник</td>\n",
       "      <td>0</td>\n",
       "      <td>289202.704229</td>\n",
       "      <td>недвижимость</td>\n",
       "    </tr>\n",
       "    <tr>\n",
       "      <th>17</th>\n",
       "      <td>0</td>\n",
       "      <td>-2369.999720</td>\n",
       "      <td>33</td>\n",
       "      <td>высшее</td>\n",
       "      <td>0</td>\n",
       "      <td>гражданский брак</td>\n",
       "      <td>1</td>\n",
       "      <td>M</td>\n",
       "      <td>сотрудник</td>\n",
       "      <td>0</td>\n",
       "      <td>90410.586745</td>\n",
       "      <td>строительство недвижимости</td>\n",
       "    </tr>\n",
       "    <tr>\n",
       "      <th>18</th>\n",
       "      <td>0</td>\n",
       "      <td>400281.136913</td>\n",
       "      <td>53</td>\n",
       "      <td>среднее</td>\n",
       "      <td>1</td>\n",
       "      <td>вдовец / вдова</td>\n",
       "      <td>2</td>\n",
       "      <td>F</td>\n",
       "      <td>пенсионер</td>\n",
       "      <td>0</td>\n",
       "      <td>56823.777243</td>\n",
       "      <td>на покупку подержанного автомобиля</td>\n",
       "    </tr>\n",
       "    <tr>\n",
       "      <th>19</th>\n",
       "      <td>0</td>\n",
       "      <td>-10038.818549</td>\n",
       "      <td>48</td>\n",
       "      <td>СРЕДНЕЕ</td>\n",
       "      <td>1</td>\n",
       "      <td>в разводе</td>\n",
       "      <td>3</td>\n",
       "      <td>F</td>\n",
       "      <td>сотрудник</td>\n",
       "      <td>0</td>\n",
       "      <td>242831.107982</td>\n",
       "      <td>на покупку своего автомобиля</td>\n",
       "    </tr>\n",
       "  </tbody>\n",
       "</table>\n",
       "</div>"
      ],
      "text/plain": [
       "    children  days_employed  dob_years            education  education_id  \\\n",
       "0          1   -8437.673028         42               высшее             0   \n",
       "1          1   -4024.803754         36              среднее             1   \n",
       "2          0   -5623.422610         33              Среднее             1   \n",
       "3          3   -4124.747207         32              среднее             1   \n",
       "4          0  340266.072047         53              среднее             1   \n",
       "5          0    -926.185831         27               высшее             0   \n",
       "6          0   -2879.202052         43               высшее             0   \n",
       "7          0    -152.779569         50              СРЕДНЕЕ             1   \n",
       "8          2   -6929.865299         35               ВЫСШЕЕ             0   \n",
       "9          0   -2188.756445         41              среднее             1   \n",
       "10         2   -4171.483647         36               высшее             0   \n",
       "11         0    -792.701887         40              среднее             1   \n",
       "12         0            NaN         65              среднее             1   \n",
       "13         0   -1846.641941         54  неоконченное высшее             2   \n",
       "14         0   -1844.956182         56               высшее             0   \n",
       "15         1    -972.364419         26              среднее             1   \n",
       "16         0   -1719.934226         35              среднее             1   \n",
       "17         0   -2369.999720         33               высшее             0   \n",
       "18         0  400281.136913         53              среднее             1   \n",
       "19         0  -10038.818549         48              СРЕДНЕЕ             1   \n",
       "\n",
       "       family_status  family_status_id gender income_type  debt  \\\n",
       "0    женат / замужем                 0      F   сотрудник     0   \n",
       "1    женат / замужем                 0      F   сотрудник     0   \n",
       "2    женат / замужем                 0      M   сотрудник     0   \n",
       "3    женат / замужем                 0      M   сотрудник     0   \n",
       "4   гражданский брак                 1      F   пенсионер     0   \n",
       "5   гражданский брак                 1      M   компаньон     0   \n",
       "6    женат / замужем                 0      F   компаньон     0   \n",
       "7    женат / замужем                 0      M   сотрудник     0   \n",
       "8   гражданский брак                 1      F   сотрудник     0   \n",
       "9    женат / замужем                 0      M   сотрудник     0   \n",
       "10   женат / замужем                 0      M   компаньон     0   \n",
       "11   женат / замужем                 0      F   сотрудник     0   \n",
       "12  гражданский брак                 1      M   пенсионер     0   \n",
       "13   женат / замужем                 0      F   сотрудник     0   \n",
       "14  гражданский брак                 1      F   компаньон     1   \n",
       "15   женат / замужем                 0      F   сотрудник     0   \n",
       "16   женат / замужем                 0      F   сотрудник     0   \n",
       "17  гражданский брак                 1      M   сотрудник     0   \n",
       "18    вдовец / вдова                 2      F   пенсионер     0   \n",
       "19         в разводе                 3      F   сотрудник     0   \n",
       "\n",
       "     total_income                                 purpose  \n",
       "0   253875.639453                           покупка жилья  \n",
       "1   112080.014102                 приобретение автомобиля  \n",
       "2   145885.952297                           покупка жилья  \n",
       "3   267628.550329              дополнительное образование  \n",
       "4   158616.077870                         сыграть свадьбу  \n",
       "5   255763.565419                           покупка жилья  \n",
       "6   240525.971920                       операции с жильем  \n",
       "7   135823.934197                             образование  \n",
       "8    95856.832424                   на проведение свадьбы  \n",
       "9   144425.938277                 покупка жилья для семьи  \n",
       "10  113943.491460                    покупка недвижимости  \n",
       "11   77069.234271       покупка коммерческой недвижимости  \n",
       "12            NaN                         сыграть свадьбу  \n",
       "13  130458.228857                 приобретение автомобиля  \n",
       "14  165127.911772              покупка жилой недвижимости  \n",
       "15  116820.904450  строительство собственной недвижимости  \n",
       "16  289202.704229                            недвижимость  \n",
       "17   90410.586745              строительство недвижимости  \n",
       "18   56823.777243      на покупку подержанного автомобиля  \n",
       "19  242831.107982            на покупку своего автомобиля  "
      ]
     },
     "execution_count": 158,
     "metadata": {},
     "output_type": "execute_result"
    }
   ],
   "source": [
    "data.head(20)"
   ]
  },
  {
   "cell_type": "markdown",
   "id": "f4bd8d22-e217-434f-82a8-b01a4200c9e3",
   "metadata": {
    "id": "1c12e233",
    "tags": []
   },
   "source": [
    "**Выведим основную информацию о датафрейме с помощью метода `info()`.**"
   ]
  },
  {
   "cell_type": "code",
   "execution_count": 159,
   "id": "2bed1d24-afc3-4d81-836b-6a168c658eaf",
   "metadata": {
    "id": "2b757bca",
    "outputId": "15376089-8dad-46c9-b520-c05248d43158"
   },
   "outputs": [
    {
     "name": "stdout",
     "output_type": "stream",
     "text": [
      "<class 'pandas.core.frame.DataFrame'>\n",
      "RangeIndex: 21525 entries, 0 to 21524\n",
      "Data columns (total 12 columns):\n",
      " #   Column            Non-Null Count  Dtype  \n",
      "---  ------            --------------  -----  \n",
      " 0   children          21525 non-null  int64  \n",
      " 1   days_employed     19351 non-null  float64\n",
      " 2   dob_years         21525 non-null  int64  \n",
      " 3   education         21525 non-null  object \n",
      " 4   education_id      21525 non-null  int64  \n",
      " 5   family_status     21525 non-null  object \n",
      " 6   family_status_id  21525 non-null  int64  \n",
      " 7   gender            21525 non-null  object \n",
      " 8   income_type       21525 non-null  object \n",
      " 9   debt              21525 non-null  int64  \n",
      " 10  total_income      19351 non-null  float64\n",
      " 11  purpose           21525 non-null  object \n",
      "dtypes: float64(2), int64(5), object(5)\n",
      "memory usage: 2.0+ MB\n"
     ]
    }
   ],
   "source": [
    "data.info()"
   ]
  },
  {
   "cell_type": "markdown",
   "id": "42ae920a-4700-40dd-ae52-e7cd6185c56f",
   "metadata": {
    "editable": false,
    "id": "333ec665"
   },
   "source": [
    "## Предобработка данных"
   ]
  },
  {
   "cell_type": "markdown",
   "id": "2d9030ac-b0a0-48f0-83f4-450946f02fa5",
   "metadata": {
    "editable": false,
    "id": "02d92d53"
   },
   "source": [
    "### Удаление пропусков"
   ]
  },
  {
   "cell_type": "markdown",
   "id": "d9c6f468-c628-419d-8157-8e0463ea9918",
   "metadata": {
    "id": "cd84967c",
    "tags": []
   },
   "source": [
    "**Выведим количество пропущенных значений для каждого столбца. Используем комбинацию двух методов.**"
   ]
  },
  {
   "cell_type": "code",
   "execution_count": 160,
   "id": "ef939571-5cf6-4f62-b383-467bbed51345",
   "metadata": {
    "id": "7f9b2309",
    "outputId": "81f4d817-781c-465c-ed15-91ce4446810d"
   },
   "outputs": [
    {
     "data": {
      "text/plain": [
       "children               0\n",
       "days_employed       2174\n",
       "dob_years              0\n",
       "education              0\n",
       "education_id           0\n",
       "family_status          0\n",
       "family_status_id       0\n",
       "gender                 0\n",
       "income_type            0\n",
       "debt                   0\n",
       "total_income        2174\n",
       "purpose                0\n",
       "dtype: int64"
      ]
     },
     "execution_count": 160,
     "metadata": {},
     "output_type": "execute_result"
    }
   ],
   "source": [
    "data.isna().sum()"
   ]
  },
  {
   "cell_type": "markdown",
   "id": "5bcdb926-fbf3-4cb8-be25-5a733aa23ce2",
   "metadata": {
    "id": "db86e27b",
    "tags": []
   },
   "source": [
    "**В двух столбцах есть пропущенные значения. Один из них — `days_employed`. Пропуски в этом столбце обработаем на следующем этапе. Другой столбец с пропущенными значениями — `total_income` — хранит данные о доходах. На сумму дохода сильнее всего влияет тип занятости, поэтому заполнить пропуски в этом столбце нужно медианным значением по каждому типу из столбца `income_type`. Например, у человека с типом занятости `сотрудник` пропуск в столбце `total_income` должен быть заполнен медианным доходом среди всех записей с тем же типом.**"
   ]
  },
  {
   "cell_type": "code",
   "execution_count": 161,
   "id": "80c033c2-eb45-48e1-9c54-eda4c14a14eb",
   "metadata": {},
   "outputs": [
    {
     "data": {
      "text/plain": [
       "0        сотрудник\n",
       "1        сотрудник\n",
       "2        сотрудник\n",
       "3        сотрудник\n",
       "4        пенсионер\n",
       "           ...    \n",
       "21520    компаньон\n",
       "21521    пенсионер\n",
       "21522    сотрудник\n",
       "21523    сотрудник\n",
       "21524    сотрудник\n",
       "Name: income_type, Length: 21525, dtype: object"
      ]
     },
     "execution_count": 161,
     "metadata": {},
     "output_type": "execute_result"
    }
   ],
   "source": [
    "data['income_type']"
   ]
  },
  {
   "cell_type": "code",
   "execution_count": 164,
   "id": "881cc117-e8e9-451f-94b2-60645695b875",
   "metadata": {
    "id": "42006a93",
    "scrolled": true
   },
   "outputs": [
    {
     "name": "stdout",
     "output_type": "stream",
     "text": [
      "<class 'pandas.core.series.Series'>\n",
      "RangeIndex: 21525 entries, 0 to 21524\n",
      "Series name: total_income\n",
      "Non-Null Count  Dtype  \n",
      "--------------  -----  \n",
      "21525 non-null  float64\n",
      "dtypes: float64(1)\n",
      "memory usage: 168.3 KB\n",
      "21525\n",
      "<class 'pandas.core.series.Series'>\n",
      "RangeIndex: 21525 entries, 0 to 21524\n",
      "Series name: total_income\n",
      "Non-Null Count  Dtype  \n",
      "--------------  -----  \n",
      "21525 non-null  float64\n",
      "dtypes: float64(1)\n",
      "memory usage: 168.3 KB\n"
     ]
    }
   ],
   "source": [
    "data['total_income'].info()\n",
    "print(data['total_income'].isna().count())\n",
    "for t in data['income_type'].unique():\n",
    "#    print(t)\n",
    "    data.loc[(data['income_type'] == t) & (data['total_income'].isna()), 'total_income'] = data.loc[(data['income_type'] == t), 'total_income'].median()\n",
    "data['total_income'].isna().count()\n",
    "data['total_income'].info()"
   ]
  },
  {
   "cell_type": "markdown",
   "id": "2dcada37-634e-4c27-b14d-4f2c16424dda",
   "metadata": {
    "editable": false,
    "id": "89da5ece"
   },
   "source": [
    "### Обработка аномальных значений"
   ]
  },
  {
   "cell_type": "markdown",
   "id": "ef7d858f-90eb-4bb7-a39b-57b2e4399c91",
   "metadata": {
    "id": "57964554",
    "tags": []
   },
   "source": [
    "**В данных могут встречаться артефакты (аномалии) — значения, которые не отражают действительность и появились по какой-то ошибке. таким артефактом будет отрицательное количество дней трудового стажа в столбце `days_employed`. Для реальных данных это нормально. Обработаем значения в этом столбце: заменим все отрицательные значения положительными с помощью метода `abs()`.**"
   ]
  },
  {
   "cell_type": "code",
   "execution_count": 131,
   "id": "47d6a7d5-5c1f-4974-b196-724f8a3bde13",
   "metadata": {
    "id": "f6f055bf"
   },
   "outputs": [],
   "source": [
    "data['days_employed'] = data['days_employed'].abs()"
   ]
  },
  {
   "cell_type": "markdown",
   "id": "d52ced67-5924-4b9c-8f1b-6eba84bf420e",
   "metadata": {
    "id": "6107dd2f",
    "tags": []
   },
   "source": [
    "**Для каждого типа занятости выводим медианное значение трудового стажа `days_employed` в днях.**"
   ]
  },
  {
   "cell_type": "code",
   "execution_count": 132,
   "id": "ff1f6dc6-877a-4784-a3a9-1fdb90ff7e82",
   "metadata": {
    "id": "85a5faf6",
    "outputId": "801ef80e-522b-4668-f34e-565af7432bcf"
   },
   "outputs": [
    {
     "data": {
      "text/plain": [
       "income_type\n",
       "безработный        366413.652744\n",
       "в декрете            3296.759962\n",
       "госслужащий          2689.368353\n",
       "компаньон            1547.382223\n",
       "пенсионер          365213.306266\n",
       "предприниматель       520.848083\n",
       "сотрудник            1574.202821\n",
       "студент               578.751554\n",
       "Name: days_employed, dtype: float64"
      ]
     },
     "execution_count": 132,
     "metadata": {},
     "output_type": "execute_result"
    }
   ],
   "source": [
    "data.groupby('income_type')['days_employed'].agg('median')"
   ]
  },
  {
   "cell_type": "markdown",
   "id": "c8cd2d58-aec7-4069-b83f-3f20683cef2e",
   "metadata": {
    "editable": false,
    "id": "38d1a030"
   },
   "source": [
    "У двух типов (безработные и пенсионеры) получатся аномально большие значения. Исправить такие значения сложно, поэтому оставьте их как есть. Тем более этот столбец не понадобится вам для исследования."
   ]
  },
  {
   "cell_type": "markdown",
   "id": "aa3f0968-6095-4a3d-9a27-573cf9845783",
   "metadata": {
    "id": "d8a9f147",
    "tags": []
   },
   "source": [
    "**Выведим перечень уникальных значений столбца `children`.**"
   ]
  },
  {
   "cell_type": "code",
   "execution_count": 133,
   "id": "a785765e-2353-41eb-9136-c5f878bb9f5f",
   "metadata": {
    "id": "ef5056eb",
    "outputId": "6975b15c-7f95-4697-d16d-a0c79b657b03"
   },
   "outputs": [
    {
     "data": {
      "text/plain": [
       "array([ 1,  0,  3,  2, -1,  4, 20,  5])"
      ]
     },
     "execution_count": 133,
     "metadata": {},
     "output_type": "execute_result"
    }
   ],
   "source": [
    "data['children'].unique()"
   ]
  },
  {
   "cell_type": "markdown",
   "id": "fdb55b82-406f-4ede-9d65-04d3f493cba0",
   "metadata": {
    "id": "40b9ebf2",
    "tags": []
   },
   "source": [
    "**В столбце `children` есть два аномальных значения. Удалим строки, в которых встречаются такие аномальные значения из датафрейма `data`.**"
   ]
  },
  {
   "cell_type": "code",
   "execution_count": 134,
   "id": "153b44b7-7c54-49f2-bdef-bc5ba4987a47",
   "metadata": {
    "id": "3ff9801d"
   },
   "outputs": [],
   "source": [
    "data = data[(data['children'] != -1) & (data['children'] != 20)]"
   ]
  },
  {
   "cell_type": "markdown",
   "id": "f6feeac2-25dc-4013-8abf-cdd9eb7deefb",
   "metadata": {
    "id": "bbc4d0ce",
    "tags": []
   },
   "source": [
    "**Ещё раз выводим перечень уникальных значений столбца `children`, чтобы убедиться, что артефакты удалены.**"
   ]
  },
  {
   "cell_type": "code",
   "execution_count": 135,
   "id": "677bfc41-cde4-48d3-80e0-322d5a5f7138",
   "metadata": {
    "id": "ad4fa8b7",
    "outputId": "b2097101-d49d-44d9-901b-32a65c9463d1"
   },
   "outputs": [
    {
     "data": {
      "text/plain": [
       "array([1, 0, 3, 2, 4, 5])"
      ]
     },
     "execution_count": 135,
     "metadata": {},
     "output_type": "execute_result"
    }
   ],
   "source": [
    "data['children'].unique()"
   ]
  },
  {
   "cell_type": "markdown",
   "id": "ded73616-edf9-4a91-94b9-de094331fe29",
   "metadata": {
    "editable": false,
    "id": "75440b63"
   },
   "source": [
    "### Удаление пропусков (продолжение)"
   ]
  },
  {
   "cell_type": "markdown",
   "id": "22857349-a80a-40ae-b9ee-b3f83c283063",
   "metadata": {
    "id": "f4ea573f",
    "tags": []
   },
   "source": [
    "**Заполняем пропуски в столбце `days_employed` медианными значениями по каждого типа занятости `income_type`.**"
   ]
  },
  {
   "cell_type": "code",
   "execution_count": 136,
   "id": "18bced1a-5279-48c0-b73b-ca86333ecfdc",
   "metadata": {
    "id": "af6b1a7e"
   },
   "outputs": [
    {
     "data": {
      "text/html": [
       "<div>\n",
       "<style scoped>\n",
       "    .dataframe tbody tr th:only-of-type {\n",
       "        vertical-align: middle;\n",
       "    }\n",
       "\n",
       "    .dataframe tbody tr th {\n",
       "        vertical-align: top;\n",
       "    }\n",
       "\n",
       "    .dataframe thead th {\n",
       "        text-align: right;\n",
       "    }\n",
       "</style>\n",
       "<table border=\"1\" class=\"dataframe\">\n",
       "  <thead>\n",
       "    <tr style=\"text-align: right;\">\n",
       "      <th></th>\n",
       "      <th>children</th>\n",
       "      <th>days_employed</th>\n",
       "      <th>dob_years</th>\n",
       "      <th>education</th>\n",
       "      <th>education_id</th>\n",
       "      <th>family_status</th>\n",
       "      <th>family_status_id</th>\n",
       "      <th>gender</th>\n",
       "      <th>income_type</th>\n",
       "      <th>debt</th>\n",
       "      <th>total_income</th>\n",
       "      <th>purpose</th>\n",
       "    </tr>\n",
       "  </thead>\n",
       "  <tbody>\n",
       "    <tr>\n",
       "      <th>0</th>\n",
       "      <td>1</td>\n",
       "      <td>8437.673028</td>\n",
       "      <td>42</td>\n",
       "      <td>высшее</td>\n",
       "      <td>0</td>\n",
       "      <td>женат / замужем</td>\n",
       "      <td>0</td>\n",
       "      <td>F</td>\n",
       "      <td>сотрудник</td>\n",
       "      <td>0</td>\n",
       "      <td>253875.639453</td>\n",
       "      <td>покупка жилья</td>\n",
       "    </tr>\n",
       "    <tr>\n",
       "      <th>1</th>\n",
       "      <td>1</td>\n",
       "      <td>4024.803754</td>\n",
       "      <td>36</td>\n",
       "      <td>среднее</td>\n",
       "      <td>1</td>\n",
       "      <td>женат / замужем</td>\n",
       "      <td>0</td>\n",
       "      <td>F</td>\n",
       "      <td>сотрудник</td>\n",
       "      <td>0</td>\n",
       "      <td>112080.014102</td>\n",
       "      <td>приобретение автомобиля</td>\n",
       "    </tr>\n",
       "    <tr>\n",
       "      <th>2</th>\n",
       "      <td>0</td>\n",
       "      <td>5623.422610</td>\n",
       "      <td>33</td>\n",
       "      <td>Среднее</td>\n",
       "      <td>1</td>\n",
       "      <td>женат / замужем</td>\n",
       "      <td>0</td>\n",
       "      <td>M</td>\n",
       "      <td>сотрудник</td>\n",
       "      <td>0</td>\n",
       "      <td>145885.952297</td>\n",
       "      <td>покупка жилья</td>\n",
       "    </tr>\n",
       "    <tr>\n",
       "      <th>3</th>\n",
       "      <td>3</td>\n",
       "      <td>4124.747207</td>\n",
       "      <td>32</td>\n",
       "      <td>среднее</td>\n",
       "      <td>1</td>\n",
       "      <td>женат / замужем</td>\n",
       "      <td>0</td>\n",
       "      <td>M</td>\n",
       "      <td>сотрудник</td>\n",
       "      <td>0</td>\n",
       "      <td>267628.550329</td>\n",
       "      <td>дополнительное образование</td>\n",
       "    </tr>\n",
       "    <tr>\n",
       "      <th>4</th>\n",
       "      <td>0</td>\n",
       "      <td>340266.072047</td>\n",
       "      <td>53</td>\n",
       "      <td>среднее</td>\n",
       "      <td>1</td>\n",
       "      <td>гражданский брак</td>\n",
       "      <td>1</td>\n",
       "      <td>F</td>\n",
       "      <td>пенсионер</td>\n",
       "      <td>0</td>\n",
       "      <td>158616.077870</td>\n",
       "      <td>сыграть свадьбу</td>\n",
       "    </tr>\n",
       "    <tr>\n",
       "      <th>...</th>\n",
       "      <td>...</td>\n",
       "      <td>...</td>\n",
       "      <td>...</td>\n",
       "      <td>...</td>\n",
       "      <td>...</td>\n",
       "      <td>...</td>\n",
       "      <td>...</td>\n",
       "      <td>...</td>\n",
       "      <td>...</td>\n",
       "      <td>...</td>\n",
       "      <td>...</td>\n",
       "      <td>...</td>\n",
       "    </tr>\n",
       "    <tr>\n",
       "      <th>21520</th>\n",
       "      <td>1</td>\n",
       "      <td>4529.316663</td>\n",
       "      <td>43</td>\n",
       "      <td>среднее</td>\n",
       "      <td>1</td>\n",
       "      <td>гражданский брак</td>\n",
       "      <td>1</td>\n",
       "      <td>F</td>\n",
       "      <td>компаньон</td>\n",
       "      <td>0</td>\n",
       "      <td>224791.862382</td>\n",
       "      <td>операции с жильем</td>\n",
       "    </tr>\n",
       "    <tr>\n",
       "      <th>21521</th>\n",
       "      <td>0</td>\n",
       "      <td>343937.404131</td>\n",
       "      <td>67</td>\n",
       "      <td>среднее</td>\n",
       "      <td>1</td>\n",
       "      <td>женат / замужем</td>\n",
       "      <td>0</td>\n",
       "      <td>F</td>\n",
       "      <td>пенсионер</td>\n",
       "      <td>0</td>\n",
       "      <td>155999.806512</td>\n",
       "      <td>сделка с автомобилем</td>\n",
       "    </tr>\n",
       "    <tr>\n",
       "      <th>21522</th>\n",
       "      <td>1</td>\n",
       "      <td>2113.346888</td>\n",
       "      <td>38</td>\n",
       "      <td>среднее</td>\n",
       "      <td>1</td>\n",
       "      <td>гражданский брак</td>\n",
       "      <td>1</td>\n",
       "      <td>M</td>\n",
       "      <td>сотрудник</td>\n",
       "      <td>1</td>\n",
       "      <td>89672.561153</td>\n",
       "      <td>недвижимость</td>\n",
       "    </tr>\n",
       "    <tr>\n",
       "      <th>21523</th>\n",
       "      <td>3</td>\n",
       "      <td>3112.481705</td>\n",
       "      <td>38</td>\n",
       "      <td>среднее</td>\n",
       "      <td>1</td>\n",
       "      <td>женат / замужем</td>\n",
       "      <td>0</td>\n",
       "      <td>M</td>\n",
       "      <td>сотрудник</td>\n",
       "      <td>1</td>\n",
       "      <td>244093.050500</td>\n",
       "      <td>на покупку своего автомобиля</td>\n",
       "    </tr>\n",
       "    <tr>\n",
       "      <th>21524</th>\n",
       "      <td>2</td>\n",
       "      <td>1984.507589</td>\n",
       "      <td>40</td>\n",
       "      <td>среднее</td>\n",
       "      <td>1</td>\n",
       "      <td>женат / замужем</td>\n",
       "      <td>0</td>\n",
       "      <td>F</td>\n",
       "      <td>сотрудник</td>\n",
       "      <td>0</td>\n",
       "      <td>82047.418899</td>\n",
       "      <td>на покупку автомобиля</td>\n",
       "    </tr>\n",
       "  </tbody>\n",
       "</table>\n",
       "<p>21402 rows × 12 columns</p>\n",
       "</div>"
      ],
      "text/plain": [
       "       children  days_employed  dob_years education  education_id  \\\n",
       "0             1    8437.673028         42    высшее             0   \n",
       "1             1    4024.803754         36   среднее             1   \n",
       "2             0    5623.422610         33   Среднее             1   \n",
       "3             3    4124.747207         32   среднее             1   \n",
       "4             0  340266.072047         53   среднее             1   \n",
       "...         ...            ...        ...       ...           ...   \n",
       "21520         1    4529.316663         43   среднее             1   \n",
       "21521         0  343937.404131         67   среднее             1   \n",
       "21522         1    2113.346888         38   среднее             1   \n",
       "21523         3    3112.481705         38   среднее             1   \n",
       "21524         2    1984.507589         40   среднее             1   \n",
       "\n",
       "          family_status  family_status_id gender income_type  debt  \\\n",
       "0       женат / замужем                 0      F   сотрудник     0   \n",
       "1       женат / замужем                 0      F   сотрудник     0   \n",
       "2       женат / замужем                 0      M   сотрудник     0   \n",
       "3       женат / замужем                 0      M   сотрудник     0   \n",
       "4      гражданский брак                 1      F   пенсионер     0   \n",
       "...                 ...               ...    ...         ...   ...   \n",
       "21520  гражданский брак                 1      F   компаньон     0   \n",
       "21521   женат / замужем                 0      F   пенсионер     0   \n",
       "21522  гражданский брак                 1      M   сотрудник     1   \n",
       "21523   женат / замужем                 0      M   сотрудник     1   \n",
       "21524   женат / замужем                 0      F   сотрудник     0   \n",
       "\n",
       "        total_income                       purpose  \n",
       "0      253875.639453                 покупка жилья  \n",
       "1      112080.014102       приобретение автомобиля  \n",
       "2      145885.952297                 покупка жилья  \n",
       "3      267628.550329    дополнительное образование  \n",
       "4      158616.077870               сыграть свадьбу  \n",
       "...              ...                           ...  \n",
       "21520  224791.862382             операции с жильем  \n",
       "21521  155999.806512          сделка с автомобилем  \n",
       "21522   89672.561153                  недвижимость  \n",
       "21523  244093.050500  на покупку своего автомобиля  \n",
       "21524   82047.418899         на покупку автомобиля  \n",
       "\n",
       "[21402 rows x 12 columns]"
      ]
     },
     "execution_count": 136,
     "metadata": {},
     "output_type": "execute_result"
    }
   ],
   "source": [
    "data"
   ]
  },
  {
   "cell_type": "markdown",
   "id": "24f66b43-80f3-4af1-b62f-8273025dedf6",
   "metadata": {
    "id": "2753f40d",
    "tags": []
   },
   "source": [
    "**Убедимся, что все пропуски заполнены. Ещё раз выведим количество пропущенных значений для каждого столбца с помощью двух методов.**"
   ]
  },
  {
   "cell_type": "code",
   "execution_count": 137,
   "id": "7628900a-fd0d-4766-8ee6-0486c22276fc",
   "metadata": {
    "id": "55f78bc2",
    "outputId": "8da1e4e1-358e-4e87-98c9-f261bce0a7b2"
   },
   "outputs": [
    {
     "data": {
      "text/plain": [
       "children               0\n",
       "days_employed       2162\n",
       "dob_years              0\n",
       "education              0\n",
       "education_id           0\n",
       "family_status          0\n",
       "family_status_id       0\n",
       "gender                 0\n",
       "income_type            0\n",
       "debt                   0\n",
       "total_income           0\n",
       "purpose                0\n",
       "dtype: int64"
      ]
     },
     "execution_count": 137,
     "metadata": {},
     "output_type": "execute_result"
    }
   ],
   "source": [
    "data.isna().sum()"
   ]
  },
  {
   "cell_type": "markdown",
   "id": "5c43cce0-faef-474f-b293-721e8d403f18",
   "metadata": {
    "editable": false,
    "id": "ddc81e43"
   },
   "source": [
    "### Изменение типов данных"
   ]
  },
  {
   "cell_type": "markdown",
   "id": "100e141e-a595-4d3a-a3f4-1bbd113661e7",
   "metadata": {
    "editable": false,
    "id": "42d19d24"
   },
   "source": [
    "**Задание 13. Замените вещественный тип данных в столбце `total_income` на целочисленный с помощью метода `astype()`.**"
   ]
  },
  {
   "cell_type": "code",
   "execution_count": 138,
   "id": "10a7ad78-e763-451d-a72d-a3946a2e522f",
   "metadata": {
    "id": "920b65ad"
   },
   "outputs": [],
   "source": [
    "data['total_income'] = data['total_income'].astype(int)"
   ]
  },
  {
   "cell_type": "markdown",
   "id": "3228a4dc-f21d-4c13-8cc1-819ae837d4b2",
   "metadata": {
    "editable": false,
    "id": "80c420ba"
   },
   "source": [
    "### Обработка дубликатов"
   ]
  },
  {
   "cell_type": "markdown",
   "id": "8cb3ec55-8496-4069-8d4c-c1ffed57911d",
   "metadata": {
    "editable": false
   },
   "source": [
    "**Задание 14. Обработайте неявные дубликаты в столбце `education`. В этом столбце есть одни и те же значения, но записанные по-разному: с использованием заглавных и строчных букв. Приведите их к нижнему регистру. Проверьте остальные столбцы.**"
   ]
  },
  {
   "cell_type": "code",
   "execution_count": 139,
   "id": "e58d4b05-f44b-4603-89c6-875acf4e5e2a",
   "metadata": {},
   "outputs": [],
   "source": [
    "data['education'] = data['education'].str.lower()"
   ]
  },
  {
   "cell_type": "markdown",
   "id": "7b5cf915-6334-4e9b-8e83-7aedd7ce1979",
   "metadata": {
    "editable": false,
    "id": "dc587695"
   },
   "source": [
    "**Задание 15. Выведите на экран количество строк-дубликатов в данных. Если такие строки присутствуют, удалите их.**"
   ]
  },
  {
   "cell_type": "code",
   "execution_count": 140,
   "id": "6cd527a3-1f6a-4d3a-bb04-6dcef2a9acc2",
   "metadata": {
    "id": "3ee445e4",
    "outputId": "9684deba-1934-42d1-99e1-cda61740f822"
   },
   "outputs": [
    {
     "data": {
      "text/plain": [
       "71"
      ]
     },
     "execution_count": 140,
     "metadata": {},
     "output_type": "execute_result"
    }
   ],
   "source": [
    "data.duplicated().sum()"
   ]
  },
  {
   "cell_type": "code",
   "execution_count": 141,
   "id": "6d42f1bb-e37d-4ff5-853b-de7fa1a03c2b",
   "metadata": {
    "id": "8575fe05"
   },
   "outputs": [],
   "source": [
    "data = data.drop_duplicates()"
   ]
  },
  {
   "cell_type": "markdown",
   "id": "5bc764f2-0700-4cea-a70c-832d71c22e22",
   "metadata": {
    "editable": false,
    "id": "9904cf55"
   },
   "source": [
    "### Категоризация данных"
   ]
  },
  {
   "cell_type": "markdown",
   "id": "66772cb7-6e43-4b74-9488-13b1c315ca87",
   "metadata": {
    "editable": false,
    "id": "72fcc8a2"
   },
   "source": [
    "**Задание 16. На основании диапазонов, указанных ниже, создайте в датафрейме `data` столбец `total_income_category` с категориями:**\n",
    "\n",
    "- 0–30000 — `'E'`;\n",
    "- 30001–50000 — `'D'`;\n",
    "- 50001–200000 — `'C'`;\n",
    "- 200001–1000000 — `'B'`;\n",
    "- 1000001 и выше — `'A'`.\n",
    "\n",
    "\n",
    "**Например, кредитополучателю с доходом 25000 нужно назначить категорию `'E'`, а клиенту, получающему 235000, — `'B'`. Используйте собственную функцию с именем `categorize_income()` и метод `apply()`.**"
   ]
  },
  {
   "cell_type": "code",
   "execution_count": 142,
   "id": "aef78d82-1699-42a3-8618-42fe638523dd",
   "metadata": {
    "id": "e1771346"
   },
   "outputs": [],
   "source": [
    "def categorize_income(income):\n",
    "    try:\n",
    "        if 0 <= income <= 30000:\n",
    "            return 'E'\n",
    "        elif 30001 <= income <= 50000:\n",
    "            return 'D'\n",
    "        elif 50001 <= income <= 200000:\n",
    "            return 'C'\n",
    "        elif 200001 <= income <= 1000000:\n",
    "            return 'B'\n",
    "        elif income >= 1000001:\n",
    "            return 'A'\n",
    "    except:\n",
    "        pass"
   ]
  },
  {
   "cell_type": "code",
   "execution_count": 143,
   "id": "4a4ec138-e9fd-4b1b-b393-2f7a469e59bc",
   "metadata": {
    "id": "d5f3586d"
   },
   "outputs": [
    {
     "name": "stderr",
     "output_type": "stream",
     "text": [
      "/var/folders/3s/0vl43zsj2n79hlj09xb7sby40000gn/T/ipykernel_25503/4017745142.py:1: SettingWithCopyWarning: \n",
      "A value is trying to be set on a copy of a slice from a DataFrame.\n",
      "Try using .loc[row_indexer,col_indexer] = value instead\n",
      "\n",
      "See the caveats in the documentation: https://pandas.pydata.org/pandas-docs/stable/user_guide/indexing.html#returning-a-view-versus-a-copy\n",
      "  data['total_income_category'] = data['total_income'].apply(categorize_income)\n"
     ]
    }
   ],
   "source": [
    "data['total_income_category'] = data['total_income'].apply(categorize_income)"
   ]
  },
  {
   "cell_type": "markdown",
   "id": "43736f50-74ed-4d60-b349-d579fd154184",
   "metadata": {
    "editable": false,
    "id": "dde49b5c"
   },
   "source": [
    "**Задание 17. Выведите на экран перечень уникальных целей взятия кредита из столбца `purpose`.**"
   ]
  },
  {
   "cell_type": "code",
   "execution_count": 144,
   "id": "f1ddbd58-0933-44ea-bfd0-631784575d8e",
   "metadata": {
    "id": "f67ce9b3",
    "outputId": "673c12d9-7d7e-4ae0-9812-c622c89dd244"
   },
   "outputs": [
    {
     "data": {
      "text/plain": [
       "array(['покупка жилья', 'приобретение автомобиля',\n",
       "       'дополнительное образование', 'сыграть свадьбу',\n",
       "       'операции с жильем', 'образование', 'на проведение свадьбы',\n",
       "       'покупка жилья для семьи', 'покупка недвижимости',\n",
       "       'покупка коммерческой недвижимости', 'покупка жилой недвижимости',\n",
       "       'строительство собственной недвижимости', 'недвижимость',\n",
       "       'строительство недвижимости', 'на покупку подержанного автомобиля',\n",
       "       'на покупку своего автомобиля',\n",
       "       'операции с коммерческой недвижимостью',\n",
       "       'строительство жилой недвижимости', 'жилье',\n",
       "       'операции со своей недвижимостью', 'автомобили',\n",
       "       'заняться образованием', 'сделка с подержанным автомобилем',\n",
       "       'получение образования', 'автомобиль', 'свадьба',\n",
       "       'получение дополнительного образования', 'покупка своего жилья',\n",
       "       'операции с недвижимостью', 'получение высшего образования',\n",
       "       'свой автомобиль', 'сделка с автомобилем',\n",
       "       'профильное образование', 'высшее образование',\n",
       "       'покупка жилья для сдачи', 'на покупку автомобиля', 'ремонт жилью',\n",
       "       'заняться высшим образованием'], dtype=object)"
      ]
     },
     "execution_count": 144,
     "metadata": {},
     "output_type": "execute_result"
    }
   ],
   "source": [
    "data['purpose'].unique()"
   ]
  },
  {
   "cell_type": "markdown",
   "id": "6af6c443-fbc3-424f-acbf-4547ab616139",
   "metadata": {
    "editable": false,
    "id": "85d0aef0"
   },
   "source": [
    "**Задание 18. Создайте функцию, которая на основании данных из столбца `purpose` сформирует новый столбец `purpose_category`, в который войдут следующие категории:**\n",
    "\n",
    "- `'операции с автомобилем'`,\n",
    "- `'операции с недвижимостью'`,\n",
    "- `'проведение свадьбы'`,\n",
    "- `'получение образования'`.\n",
    "\n",
    "**Например, если в столбце `purpose` находится подстрока `'на покупку автомобиля'`, то в столбце `purpose_category` должна появиться строка `'операции с автомобилем'`.**\n",
    "\n",
    "**Используйте собственную функцию с именем `categorize_purpose()` и метод `apply()`. Изучите данные в столбце `purpose` и определите, какие подстроки помогут вам правильно определить категорию.**"
   ]
  },
  {
   "cell_type": "code",
   "execution_count": 145,
   "id": "099d7131-683a-4bd4-ae93-a79eddc90e15",
   "metadata": {
    "id": "e149fab4"
   },
   "outputs": [],
   "source": [
    "def categorize_purpose(row):\n",
    "    try:\n",
    "        if 'автом' in row:\n",
    "            return 'операции с автомобилем'\n",
    "        elif 'жил' in row or 'недвиж' in row:\n",
    "            return 'операции с недвижимостью'\n",
    "        elif 'свад' in row:\n",
    "            return 'проведение свадьбы'\n",
    "        elif 'образов' in row:\n",
    "            return 'получение образования'\n",
    "    except:\n",
    "        return 'нет категории'"
   ]
  },
  {
   "cell_type": "code",
   "execution_count": 146,
   "id": "39b44159-a237-48db-bbaa-91a6f9f61690",
   "metadata": {
    "id": "bf36e69b"
   },
   "outputs": [
    {
     "name": "stderr",
     "output_type": "stream",
     "text": [
      "/var/folders/3s/0vl43zsj2n79hlj09xb7sby40000gn/T/ipykernel_25503/1505626498.py:1: SettingWithCopyWarning: \n",
      "A value is trying to be set on a copy of a slice from a DataFrame.\n",
      "Try using .loc[row_indexer,col_indexer] = value instead\n",
      "\n",
      "See the caveats in the documentation: https://pandas.pydata.org/pandas-docs/stable/user_guide/indexing.html#returning-a-view-versus-a-copy\n",
      "  data['purpose_category'] = data['purpose'].apply(categorize_purpose)\n"
     ]
    }
   ],
   "source": [
    "data['purpose_category'] = data['purpose'].apply(categorize_purpose)"
   ]
  },
  {
   "cell_type": "markdown",
   "id": "299670fc-1cd0-4cfe-b3c7-28c84d46110a",
   "metadata": {
    "editable": false,
    "id": "09b242bf"
   },
   "source": [
    "### Шаг 3. Исследуйте данные и ответьте на вопросы"
   ]
  },
  {
   "cell_type": "markdown",
   "id": "e82f9db4-a843-4e44-aac9-106b9b6b2c1e",
   "metadata": {
    "editable": false,
    "id": "c5d66278"
   },
   "source": [
    "#### 3.1 Есть ли зависимость между количеством детей и возвратом кредита в срок?"
   ]
  },
  {
   "cell_type": "code",
   "execution_count": 147,
   "id": "c50f13ac-dd82-4719-bc2d-d81208008598",
   "metadata": {
    "id": "2cacfc4a",
    "scrolled": true
   },
   "outputs": [
    {
     "name": "stdout",
     "output_type": "stream",
     "text": [
      "       children  debt          purpose_category                       purpose  \\\n",
      "0             1     0  операции с недвижимостью                 покупка жилья   \n",
      "1             1     0    операции с автомобилем       приобретение автомобиля   \n",
      "2             0     0  операции с недвижимостью                 покупка жилья   \n",
      "3             3     0     получение образования    дополнительное образование   \n",
      "4             0     0        проведение свадьбы               сыграть свадьбу   \n",
      "...         ...   ...                       ...                           ...   \n",
      "21520         1     0  операции с недвижимостью             операции с жильем   \n",
      "21521         0     0    операции с автомобилем          сделка с автомобилем   \n",
      "21522         1     1  операции с недвижимостью                  недвижимость   \n",
      "21523         3     1    операции с автомобилем  на покупку своего автомобиля   \n",
      "21524         2     0    операции с автомобилем         на покупку автомобиля   \n",
      "\n",
      "          family_status total_income_category education  total_income  \n",
      "0       женат / замужем                     B    высшее        253875  \n",
      "1       женат / замужем                     C   среднее        112080  \n",
      "2       женат / замужем                     C   среднее        145885  \n",
      "3       женат / замужем                     B   среднее        267628  \n",
      "4      гражданский брак                     C   среднее        158616  \n",
      "...                 ...                   ...       ...           ...  \n",
      "21520  гражданский брак                     B   среднее        224791  \n",
      "21521   женат / замужем                     C   среднее        155999  \n",
      "21522  гражданский брак                     C   среднее         89672  \n",
      "21523   женат / замужем                     B   среднее        244093  \n",
      "21524   женат / замужем                     C   среднее         82047  \n",
      "\n",
      "[21331 rows x 8 columns]\n",
      "children\n",
      "0    1063\n",
      "1     444\n",
      "2     194\n",
      "3      27\n",
      "4       4\n",
      "5       0\n",
      "Name: debt, dtype: int64\n"
     ]
    },
    {
     "data": {
      "text/plain": [
       "Text(0, 0.5, 'Количество детей')"
      ]
     },
     "execution_count": 147,
     "metadata": {},
     "output_type": "execute_result"
    },
    {
     "data": {
      "image/png": "[encoded data removed]",
      "text/plain": [
       "<Figure size 432x288 with 1 Axes>"
      ]
     },
     "metadata": {
      "needs_background": "light"
     },
     "output_type": "display_data"
    }
   ],
   "source": [
    "# Ваш код будет здесь. Вы можете создавать новые ячейки.\n",
    "\n",
    "\n",
    "#Формируем новый дадасет. Войдут все нужные колонки для второй части проекта\n",
    "data = data[['children', 'debt','purpose_category','purpose','family_status', 'total_income_category', 'education','total_income']]\n",
    "\n",
    "#Посмотрим на данные\n",
    "print(data)\n",
    "\n",
    "#Сгруппируем данные по количеству детей в семье и посмотрим на количество невозвратов кредитов в каждой группе\n",
    "children_groups = data.groupby('children').debt.sum()\n",
    "\n",
    "#Печатаем\n",
    "print(children_groups)\n",
    "\n",
    "# Построим график\n",
    "sns.scatterplot(x = children_groups, y=[0,1,2,3,4,5]).set_xlabel('Количество должников')\n",
    "sns.scatterplot(x = children_groups, y=[0,1,2,3,4,5]).set_ylabel('Количество детей')\n"
   ]
  },
  {
   "cell_type": "markdown",
   "id": "df0b3818-ec25-4cdb-9c1c-c86bdb52414f",
   "metadata": {
    "id": "3a6b99ec"
   },
   "source": [
    "**Вывод:** В сгруперрированных данных видно, прямая зависимость количества детей в семье от случаев невозвратов кредитов. Чем больше детей, тем меньше случаев. Однако, после определения размера каждой группы и просчета вероятностей невозвратов кредитов, стало видно, что группы с 4-5 детей имеют малую долю, следовательно данные нерепрезентативны. Видно, что группа без детей имеет самую большую долю и малую вероятность невозврата. Предпочтение должно отдаваться этой группе."
   ]
  },
  {
   "cell_type": "markdown",
   "id": "0b79f5e6-7f8e-45e6-a8fe-53190bad83c6",
   "metadata": {},
   "source": [
    "<div class=\"alert alert-info\">\n",
    "    \n",
    "Посмотрим на размер групп и рассчитаем вероятность невозвратов кретитов для каждой из групп\n",
    "</div>"
   ]
  },
  {
   "cell_type": "code",
   "execution_count": 148,
   "id": "3200a1bf-55ce-44a5-9586-c8cd878eb0c7",
   "metadata": {},
   "outputs": [
    {
     "name": "stdout",
     "output_type": "stream",
     "text": [
      "Размер группы\n"
     ]
    },
    {
     "data": {
      "text/plain": [
       "children\n",
       "0    14091\n",
       "1     4808\n",
       "2     2052\n",
       "3      330\n",
       "4       41\n",
       "5        9\n",
       "Name: debt, dtype: int64"
      ]
     },
     "metadata": {},
     "output_type": "display_data"
    },
    {
     "name": "stdout",
     "output_type": "stream",
     "text": [
      "Вероятность невозврата, %\n",
      "children\n",
      "0    7.543822\n",
      "1    9.234609\n",
      "2    9.454191\n",
      "3    8.181818\n",
      "4    9.756098\n",
      "5    0.000000\n",
      "Name: debt, dtype: float64\n"
     ]
    }
   ],
   "source": [
    "#Размер групп\n",
    "sizes_groups = data.groupby('children').debt.count()\n",
    "#Выведем размер групп\n",
    "print('Размер группы')\n",
    "display(sizes_groups)\n",
    "\n",
    "#Вероятность невозврата в процентах\n",
    "print('Вероятность невозврата, %')\n",
    "print(children_groups / sizes_groups * 100)\n"
   ]
  },
  {
   "cell_type": "markdown",
   "id": "9580ffa4-75c1-4261-aab4-9e324c5be75c",
   "metadata": {
    "editable": false,
    "id": "97be82ca"
   },
   "source": [
    "#### 3.2 Есть ли зависимость между семейным положением и возвратом кредита в срок?"
   ]
  },
  {
   "cell_type": "markdown",
   "id": "adc910bc-f374-40b6-a309-da2d522303b4",
   "metadata": {},
   "source": [
    "#### Решение анологично вышестоящим"
   ]
  },
  {
   "cell_type": "code",
   "execution_count": 149,
   "id": "49cfb5a4-7c94-4fad-8b50-fe31a25a045c",
   "metadata": {
    "id": "dc3f7ee8"
   },
   "outputs": [
    {
     "name": "stdout",
     "output_type": "stream",
     "text": [
      "family_status\n",
      "вдовец / вдова            63\n",
      "в разводе                 84\n",
      "Не женат / не замужем    273\n",
      "гражданский брак         385\n",
      "женат / замужем          927\n",
      "Name: debt, dtype: int64\n"
     ]
    },
    {
     "data": {
      "text/plain": [
       "Text(0.5, 0, 'Количество должников')"
      ]
     },
     "execution_count": 149,
     "metadata": {},
     "output_type": "execute_result"
    },
    {
     "data": {
      "image/png": "[encoded data removed]",
      "text/plain": [
       "<Figure size 432x288 with 1 Axes>"
      ]
     },
     "metadata": {
      "needs_background": "light"
     },
     "output_type": "display_data"
    }
   ],
   "source": [
    "# Ваш код будет здесь. Вы можете создавать новые ячейки.\n",
    "#Групперуем по семейному статусу и делаем сортировку\n",
    "family_status_grouped = data.groupby('family_status').debt.sum().sort_values()\n",
    "\n",
    "#Посмотрим на данные\n",
    "print(family_status_grouped)\n",
    "\n",
    "#Построим график\n",
    "sns.scatterplot(x=family_status_grouped, y=family_status_grouped.index).set_xlabel('Количество должников')\n",
    "\n",
    "\n"
   ]
  },
  {
   "cell_type": "markdown",
   "id": "8e0e4451-fb6d-4c8b-881e-70aceeb96d72",
   "metadata": {},
   "source": [
    "<div class=\"alert alert-info\">\n",
    "    \n",
    "Посмотрим на размер групп и рассчитаем вероятность невозвратов кретитов для каждой из групп. Проверяет размер групп семейных статусов и просчитываем вероятность невозврата кредита по каждой группе\n",
    "</div>"
   ]
  },
  {
   "cell_type": "code",
   "execution_count": 150,
   "id": "b8e2bb85-269b-45c2-a5fd-7b57660e6de4",
   "metadata": {},
   "outputs": [
    {
     "name": "stdout",
     "output_type": "stream",
     "text": [
      "Размер группы\n"
     ]
    },
    {
     "data": {
      "text/plain": [
       "family_status\n",
       "Не женат / не замужем     2796\n",
       "в разводе                 1189\n",
       "вдовец / вдова             951\n",
       "гражданский брак          4134\n",
       "женат / замужем          12261\n",
       "Name: debt, dtype: int64"
      ]
     },
     "metadata": {},
     "output_type": "display_data"
    },
    {
     "name": "stdout",
     "output_type": "stream",
     "text": [
      "Вероятность невозврата, %\n",
      "family_status\n",
      "Не женат / не замужем    9.763948\n",
      "в разводе                7.064760\n",
      "вдовец / вдова           6.624606\n",
      "гражданский брак         9.313014\n",
      "женат / замужем          7.560558\n",
      "Name: debt, dtype: float64\n"
     ]
    }
   ],
   "source": [
    "#Размер групп\n",
    "sizes_groups = data.groupby('family_status').debt.count()\n",
    "#Выведем\n",
    "print('Размер группы')\n",
    "display(sizes_groups)\n",
    "\n",
    "#Вероятность невозврата в процентах\n",
    "print('Вероятность невозврата, %')\n",
    "print(data.groupby('family_status').debt.sum() / sizes_groups * 100)"
   ]
  },
  {
   "cell_type": "markdown",
   "id": "29dd50be-8911-4b69-b15b-384bfe8e232a",
   "metadata": {
    "id": "1cef7837"
   },
   "source": [
    "**Вывод:** Как видно из данных, чаще всех не отдают кредиты группа не женат/не замужем и люди в гражданском браке. Реже всех вдовы/вдовцы, разведенные и семейные. Выборка репрезентативна по всем группам."
   ]
  },
  {
   "cell_type": "markdown",
   "id": "2881533d-70e5-4c5d-a7e1-85e9989c7ce7",
   "metadata": {
    "editable": false,
    "id": "1e8b2fca"
   },
   "source": [
    "#### 3.3 Есть ли зависимость между уровнем дохода и возвратом кредита в срок?"
   ]
  },
  {
   "cell_type": "markdown",
   "id": "015784b7-aef6-455b-abec-bfe020640505",
   "metadata": {},
   "source": [
    "#### Решение анологично вышестоящим"
   ]
  },
  {
   "cell_type": "code",
   "execution_count": 151,
   "id": "8fe2fcf7-2076-415b-962d-5c9ac66c0047",
   "metadata": {
    "id": "cd7e3720"
   },
   "outputs": [
    {
     "name": "stdout",
     "output_type": "stream",
     "text": [
      "total_income_category\n",
      "A       2\n",
      "E       2\n",
      "D      21\n",
      "B     354\n",
      "C    1353\n",
      "Name: debt, dtype: int64\n"
     ]
    },
    {
     "data": {
      "text/plain": [
       "Text(0.5, 0, 'Количество должников')"
      ]
     },
     "execution_count": 151,
     "metadata": {},
     "output_type": "execute_result"
    },
    {
     "data": {
      "image/png": "[encoded data removed]",
      "text/plain": [
       "<Figure size 432x288 with 1 Axes>"
      ]
     },
     "metadata": {
      "needs_background": "light"
     },
     "output_type": "display_data"
    }
   ],
   "source": [
    "# Ваш код будет здесь. Вы можете создавать новые ячейки.\n",
    "#Групперуем по категории доходов и делаем сортировку\n",
    "total_income_category_grouped = data.groupby('total_income_category').debt.sum().sort_values()\n",
    "\n",
    "#Посмотрим на данные\n",
    "print(total_income_category_grouped)\n",
    "\n",
    "#Построим график\n",
    "sns.scatterplot(x=total_income_category_grouped, y=total_income_category_grouped.index).set_xlabel('Количество должников')"
   ]
  },
  {
   "cell_type": "markdown",
   "id": "1801e1bb-dd90-4919-9832-16b33ead27e3",
   "metadata": {},
   "source": [
    "<div class=\"alert alert-info\">\n",
    "    \n",
    "Посмотрим на размер групп и рассчитаем вероятность невозвратов кретитов для каждой из групп\n",
    "</div>"
   ]
  },
  {
   "cell_type": "code",
   "execution_count": 152,
   "id": "1373e9e0-04fc-431a-b475-10786ac9d6b1",
   "metadata": {},
   "outputs": [
    {
     "name": "stdout",
     "output_type": "stream",
     "text": [
      "Размер группы\n"
     ]
    },
    {
     "data": {
      "text/plain": [
       "total_income_category\n",
       "A       25\n",
       "B     5014\n",
       "C    15921\n",
       "D      349\n",
       "E       22\n",
       "Name: debt, dtype: int64"
      ]
     },
     "metadata": {},
     "output_type": "display_data"
    },
    {
     "name": "stdout",
     "output_type": "stream",
     "text": [
      "Вероятность невозврата, %\n",
      "total_income_category\n",
      "A    8.000000\n",
      "B    7.060231\n",
      "C    8.498210\n",
      "D    6.017192\n",
      "E    9.090909\n",
      "Name: debt, dtype: float64\n"
     ]
    }
   ],
   "source": [
    "#Размер групп\n",
    "sizes_groups = data.groupby('total_income_category').debt.count()\n",
    "#Выведем\n",
    "print('Размер группы')\n",
    "display(sizes_groups)\n",
    "\n",
    "#Вероятность невозврата в процентах\n",
    "print('Вероятность невозврата, %')\n",
    "print(data.groupby('total_income_category').debt.sum() / sizes_groups * 100)"
   ]
  },
  {
   "cell_type": "markdown",
   "id": "bd29d148-d976-4cba-9120-1bf4eb92bf54",
   "metadata": {
    "id": "e8593def"
   },
   "source": [
    "**Вывод:** Группы А и E нерепрезентативны, в расчет их лучше не брать. Самые нажедные заемщики - группы B, C, D"
   ]
  },
  {
   "cell_type": "markdown",
   "id": "47de85e9-781c-4e28-9733-37aa85999e5e",
   "metadata": {
    "editable": false,
    "id": "99ecbd1f"
   },
   "source": [
    "#### 3.4 Как разные цели кредита влияют на его возврат в срок?"
   ]
  },
  {
   "cell_type": "markdown",
   "id": "2d031577-2dc0-4387-9367-26884137ac80",
   "metadata": {},
   "source": [
    "#### Решение анологично вышестоящим\n"
   ]
  },
  {
   "cell_type": "code",
   "execution_count": 153,
   "id": "019458c3-9fca-4efc-b9a2-f0ae27d16bba",
   "metadata": {
    "id": "2b687290"
   },
   "outputs": [
    {
     "name": "stdout",
     "output_type": "stream",
     "text": [
      "purpose_category\n",
      "проведение свадьбы          183\n",
      "получение образования       369\n",
      "операции с автомобилем      400\n",
      "операции с недвижимостью    780\n",
      "Name: debt, dtype: int64\n"
     ]
    },
    {
     "data": {
      "text/plain": [
       "Text(0.5, 0, 'Количество должников')"
      ]
     },
     "execution_count": 153,
     "metadata": {},
     "output_type": "execute_result"
    },
    {
     "data": {
      "image/png": "[encoded data removed]",
      "text/plain": [
       "<Figure size 432x288 with 1 Axes>"
      ]
     },
     "metadata": {
      "needs_background": "light"
     },
     "output_type": "display_data"
    }
   ],
   "source": [
    "# Ваш код будет здесь. Вы можете создавать новые ячейки.\n",
    "#Групперуем по целевой категории и делаем сортировку\n",
    "purpose_category_grouped = data.groupby('purpose_category').debt.sum().sort_values()\n",
    "\n",
    "#Посмотрим на данные\n",
    "print(purpose_category_grouped)\n",
    "\n",
    "#Построим график\n",
    "sns.scatterplot(x=purpose_category_grouped, y=purpose_category_grouped.index).set_xlabel('Количество должников')"
   ]
  },
  {
   "cell_type": "markdown",
   "id": "c466cde1-0d81-404c-be6d-01fc2f5b309a",
   "metadata": {},
   "source": [
    "<div class=\"alert alert-info\">\n",
    "    \n",
    "Посмотрим на размер групп и рассчитаем вероятность невозвратов кретитов для каждой из групп\n",
    "</div>"
   ]
  },
  {
   "cell_type": "code",
   "execution_count": 154,
   "id": "70a08fb9-0f75-4eb3-b17a-61f6591a68a7",
   "metadata": {
    "scrolled": true
   },
   "outputs": [
    {
     "name": "stdout",
     "output_type": "stream",
     "text": [
      "Размер группы\n"
     ]
    },
    {
     "data": {
      "text/plain": [
       "purpose_category\n",
       "операции с автомобилем       4279\n",
       "операции с недвижимостью    10751\n",
       "получение образования        3988\n",
       "проведение свадьбы           2313\n",
       "Name: debt, dtype: int64"
      ]
     },
     "metadata": {},
     "output_type": "display_data"
    },
    {
     "name": "stdout",
     "output_type": "stream",
     "text": [
      "Вероятность невозврата, %\n",
      "purpose_category\n",
      "операции с автомобилем      9.347978\n",
      "операции с недвижимостью    7.255139\n",
      "получение образования       9.252758\n",
      "проведение свадьбы          7.911803\n",
      "Name: debt, dtype: float64\n"
     ]
    }
   ],
   "source": [
    "#Размер групп\n",
    "sizes_groups = data.groupby('purpose_category').debt.count()\n",
    "#Выведем\n",
    "print('Размер группы')\n",
    "display(sizes_groups)\n",
    "\n",
    "#Вероятность невозврата в процентах\n",
    "print('Вероятность невозврата, %')\n",
    "print(data.groupby('purpose_category').debt.sum() / sizes_groups * 100)"
   ]
  },
  {
   "cell_type": "markdown",
   "id": "008c5d18-53c1-47b7-ac4f-c98e6eef5b47",
   "metadata": {
    "id": "b4bb2ce6"
   },
   "source": [
    "**Вывод:** Все даные можно считать репризентативными. Недвижимость и свадьбы, можно смело кредитовать. Немного больший процент невозвратов кредитов, взятых на покупку авто и получение образования."
   ]
  },
  {
   "cell_type": "markdown",
   "id": "6f15d612-211a-413a-91cf-c0da6739d8ac",
   "metadata": {
    "editable": false,
    "id": "09c3ac4c",
    "tags": []
   },
   "source": [
    "#### 3.5 Приведите возможные причины появления пропусков в исходных данных."
   ]
  },
  {
   "cell_type": "markdown",
   "id": "58947547-1f15-493d-9945-422272003a8b",
   "metadata": {
    "id": "9da2ceda"
   },
   "source": [
    "*Ответ:* Данные могут отстутствовать из-за технолоических ошибок (сбои в работе программы, при импорте-экспорте данных). Так же может быть банальная нехватка данных из-за их отсутствия при предоставлении. "
   ]
  },
  {
   "cell_type": "markdown",
   "id": "a05d535a-7539-41ba-be00-996cd8782fc3",
   "metadata": {
    "editable": false,
    "id": "7b0487d6"
   },
   "source": [
    "#### 3.6 Объясните, почему заполнить пропуски медианным значением — лучшее решение для количественных переменных."
   ]
  },
  {
   "cell_type": "markdown",
   "id": "9c822ec5-7d07-4b70-9f2a-4c0ab7ece03c",
   "metadata": {
    "id": "7ecf2b8e"
   },
   "source": [
    "*Ответ:* Длч статистического анализа принято применять медианных значения т.к. они более близки к истинным. Среднеарифметические могут сильно отклоняться от истинных, так как крайние значения могут сильно отличаться от большинства и существенно влять на среднее значение."
   ]
  },
  {
   "cell_type": "markdown",
   "id": "d3a41747-bfda-427c-8644-c108cb1fbc97",
   "metadata": {
    "editable": false,
    "id": "6db5255a"
   },
   "source": [
    "### Шаг 4: общий вывод."
   ]
  },
  {
   "cell_type": "markdown",
   "id": "e5f127e8-eed8-4b07-a475-e5666c0f42b6",
   "metadata": {
    "editable": true,
    "id": "bad65432",
    "tags": []
   },
   "source": [
    "Как видно из решения, рассматривать расчет неуплаты кредидитов по количеству случаев в группе недостаточно, чтобы сделать корректные выводы. Необходимо рассчитать также размер каждой группы, чтобы определить, будут ли полученные данные репрезентативны и рассчитать конверсию (число случаев невозврата в группе по отношению к размеру всей группы). Так мы можем вычислить группы наиболее неблагополучных заемщиков."
   ]
  }
 ],
 "metadata": {
  "ExecuteTimeLog": [
   {
    "duration": 47,
    "start_time": "2022-09-08T14:26:44.584Z"
   },
   {
    "duration": 6,
    "start_time": "2022-09-08T14:26:52.322Z"
   },
   {
    "duration": 407,
    "start_time": "2022-09-08T14:27:01.707Z"
   },
   {
    "duration": 136,
    "start_time": "2022-09-08T14:27:02.336Z"
   },
   {
    "duration": 4,
    "start_time": "2022-09-08T14:28:06.618Z"
   },
   {
    "duration": 71,
    "start_time": "2022-09-08T14:28:07.169Z"
   },
   {
    "duration": 10,
    "start_time": "2022-09-08T14:28:35.712Z"
   },
   {
    "duration": 2,
    "start_time": "2022-09-08T14:29:05.672Z"
   },
   {
    "duration": 72,
    "start_time": "2022-09-08T14:29:05.852Z"
   },
   {
    "duration": 8,
    "start_time": "2022-09-08T14:29:08.776Z"
   },
   {
    "duration": 16,
    "start_time": "2022-09-08T14:33:12.017Z"
   },
   {
    "duration": 45,
    "start_time": "2022-09-11T10:40:32.306Z"
   },
   {
    "duration": 425,
    "start_time": "2022-09-11T10:40:46.958Z"
   },
   {
    "duration": 147,
    "start_time": "2022-09-11T10:40:47.384Z"
   },
   {
    "duration": 11,
    "start_time": "2022-09-11T10:40:47.533Z"
   },
   {
    "duration": 15,
    "start_time": "2022-09-11T10:40:47.546Z"
   },
   {
    "duration": 8,
    "start_time": "2022-09-11T10:40:47.564Z"
   },
   {
    "duration": 6,
    "start_time": "2022-09-11T10:40:47.574Z"
   },
   {
    "duration": 8,
    "start_time": "2022-09-11T10:40:47.582Z"
   },
   {
    "duration": 7,
    "start_time": "2022-09-11T10:40:47.592Z"
   },
   {
    "duration": 6,
    "start_time": "2022-09-11T10:40:47.601Z"
   },
   {
    "duration": 12,
    "start_time": "2022-09-11T10:40:47.608Z"
   },
   {
    "duration": 4,
    "start_time": "2022-09-11T10:40:47.622Z"
   },
   {
    "duration": 6,
    "start_time": "2022-09-11T10:40:47.628Z"
   },
   {
    "duration": 12,
    "start_time": "2022-09-11T10:40:47.635Z"
   },
   {
    "duration": 6,
    "start_time": "2022-09-11T10:40:47.649Z"
   },
   {
    "duration": 4,
    "start_time": "2022-09-11T10:40:47.657Z"
   },
   {
    "duration": 2,
    "start_time": "2022-09-11T10:40:47.668Z"
   },
   {
    "duration": 6,
    "start_time": "2022-09-11T10:40:47.671Z"
   },
   {
    "duration": 4,
    "start_time": "2022-09-11T10:40:47.678Z"
   },
   {
    "duration": 5,
    "start_time": "2022-09-11T10:40:47.684Z"
   },
   {
    "duration": 4,
    "start_time": "2022-09-11T10:40:47.691Z"
   },
   {
    "duration": 5,
    "start_time": "2022-09-11T10:40:47.696Z"
   },
   {
    "duration": 4,
    "start_time": "2022-09-11T10:40:47.703Z"
   },
   {
    "duration": 6,
    "start_time": "2022-09-11T11:03:51.454Z"
   },
   {
    "duration": 3,
    "start_time": "2022-09-11T11:10:46.666Z"
   },
   {
    "duration": 81,
    "start_time": "2022-09-11T11:10:46.671Z"
   },
   {
    "duration": 14,
    "start_time": "2022-09-11T11:10:46.755Z"
   },
   {
    "duration": 34,
    "start_time": "2022-09-11T11:10:46.771Z"
   },
   {
    "duration": 9,
    "start_time": "2022-09-11T11:10:46.809Z"
   },
   {
    "duration": 18,
    "start_time": "2022-09-11T11:10:46.820Z"
   },
   {
    "duration": 3,
    "start_time": "2022-09-11T11:10:46.840Z"
   },
   {
    "duration": 25,
    "start_time": "2022-09-11T11:10:46.845Z"
   },
   {
    "duration": 6,
    "start_time": "2022-09-11T11:10:46.872Z"
   },
   {
    "duration": 8,
    "start_time": "2022-09-11T11:10:46.880Z"
   },
   {
    "duration": 5,
    "start_time": "2022-09-11T11:10:46.892Z"
   },
   {
    "duration": 6,
    "start_time": "2022-09-11T11:10:46.899Z"
   },
   {
    "duration": 14,
    "start_time": "2022-09-11T11:10:46.907Z"
   },
   {
    "duration": 13,
    "start_time": "2022-09-11T11:10:46.923Z"
   },
   {
    "duration": 12,
    "start_time": "2022-09-11T11:10:46.937Z"
   },
   {
    "duration": 19,
    "start_time": "2022-09-11T11:10:46.951Z"
   },
   {
    "duration": 10,
    "start_time": "2022-09-11T11:10:46.972Z"
   },
   {
    "duration": 6,
    "start_time": "2022-09-11T11:10:46.984Z"
   },
   {
    "duration": 6,
    "start_time": "2022-09-11T11:10:46.991Z"
   },
   {
    "duration": 8,
    "start_time": "2022-09-11T11:10:46.998Z"
   },
   {
    "duration": 7,
    "start_time": "2022-09-11T11:10:47.007Z"
   },
   {
    "duration": 5,
    "start_time": "2022-09-11T11:10:47.016Z"
   },
   {
    "duration": 411,
    "start_time": "2022-09-11T11:31:36.731Z"
   },
   {
    "duration": 71,
    "start_time": "2022-09-11T11:31:37.144Z"
   },
   {
    "duration": 10,
    "start_time": "2022-09-11T11:31:37.217Z"
   },
   {
    "duration": 17,
    "start_time": "2022-09-11T11:31:37.229Z"
   },
   {
    "duration": 20,
    "start_time": "2022-09-11T11:31:37.248Z"
   },
   {
    "duration": 101,
    "start_time": "2022-09-11T11:31:37.270Z"
   },
   {
    "duration": 3,
    "start_time": "2022-09-11T11:31:37.372Z"
   },
   {
    "duration": 5,
    "start_time": "2022-09-11T11:31:37.377Z"
   },
   {
    "duration": 5,
    "start_time": "2022-09-11T11:31:37.384Z"
   },
   {
    "duration": 4,
    "start_time": "2022-09-11T11:31:37.392Z"
   },
   {
    "duration": 7,
    "start_time": "2022-09-11T11:31:37.397Z"
   },
   {
    "duration": 5,
    "start_time": "2022-09-11T11:31:37.405Z"
   },
   {
    "duration": 5,
    "start_time": "2022-09-11T11:31:37.412Z"
   },
   {
    "duration": 8,
    "start_time": "2022-09-11T11:31:37.418Z"
   },
   {
    "duration": 5,
    "start_time": "2022-09-11T11:31:37.428Z"
   },
   {
    "duration": 5,
    "start_time": "2022-09-11T11:31:37.435Z"
   },
   {
    "duration": 27,
    "start_time": "2022-09-11T11:31:37.442Z"
   },
   {
    "duration": 5,
    "start_time": "2022-09-11T11:31:37.470Z"
   },
   {
    "duration": 4,
    "start_time": "2022-09-11T11:31:37.477Z"
   },
   {
    "duration": 5,
    "start_time": "2022-09-11T11:31:37.483Z"
   },
   {
    "duration": 7,
    "start_time": "2022-09-11T11:31:37.490Z"
   },
   {
    "duration": 8,
    "start_time": "2022-09-11T11:31:37.498Z"
   },
   {
    "duration": 3,
    "start_time": "2022-09-11T11:37:55.916Z"
   },
   {
    "duration": 73,
    "start_time": "2022-09-11T11:37:55.921Z"
   },
   {
    "duration": 9,
    "start_time": "2022-09-11T11:37:55.996Z"
   },
   {
    "duration": 16,
    "start_time": "2022-09-11T11:37:56.007Z"
   },
   {
    "duration": 8,
    "start_time": "2022-09-11T11:37:56.024Z"
   },
   {
    "duration": 108,
    "start_time": "2022-09-11T11:37:56.034Z"
   },
   {
    "duration": 2,
    "start_time": "2022-09-11T11:37:56.144Z"
   },
   {
    "duration": 8,
    "start_time": "2022-09-11T11:37:56.147Z"
   },
   {
    "duration": 10,
    "start_time": "2022-09-11T11:37:56.158Z"
   },
   {
    "duration": 5,
    "start_time": "2022-09-11T11:37:56.170Z"
   },
   {
    "duration": 4,
    "start_time": "2022-09-11T11:37:56.177Z"
   },
   {
    "duration": 4,
    "start_time": "2022-09-11T11:37:56.183Z"
   },
   {
    "duration": 9,
    "start_time": "2022-09-11T11:37:56.188Z"
   },
   {
    "duration": 11,
    "start_time": "2022-09-11T11:37:56.198Z"
   },
   {
    "duration": 5,
    "start_time": "2022-09-11T11:37:56.210Z"
   },
   {
    "duration": 5,
    "start_time": "2022-09-11T11:37:56.216Z"
   },
   {
    "duration": 5,
    "start_time": "2022-09-11T11:37:56.223Z"
   },
   {
    "duration": 6,
    "start_time": "2022-09-11T11:37:56.229Z"
   },
   {
    "duration": 4,
    "start_time": "2022-09-11T11:37:56.237Z"
   },
   {
    "duration": 4,
    "start_time": "2022-09-11T11:37:56.243Z"
   },
   {
    "duration": 4,
    "start_time": "2022-09-11T11:37:56.249Z"
   },
   {
    "duration": 5,
    "start_time": "2022-09-11T11:37:56.268Z"
   },
   {
    "duration": 5,
    "start_time": "2022-09-11T11:53:48.323Z"
   },
   {
    "duration": 29,
    "start_time": "2022-09-11T12:04:01.245Z"
   },
   {
    "duration": 77,
    "start_time": "2022-09-11T12:07:50.162Z"
   },
   {
    "duration": 10,
    "start_time": "2022-09-11T12:07:58.029Z"
   },
   {
    "duration": 3,
    "start_time": "2022-09-11T12:08:20.205Z"
   },
   {
    "duration": 9,
    "start_time": "2022-09-11T12:08:24.382Z"
   },
   {
    "duration": 11,
    "start_time": "2022-09-11T12:12:43.617Z"
   },
   {
    "duration": 12,
    "start_time": "2022-09-11T12:14:40.239Z"
   },
   {
    "duration": 1261,
    "start_time": "2022-09-11T12:17:08.790Z"
   },
   {
    "duration": 12,
    "start_time": "2022-09-11T12:17:33.473Z"
   },
   {
    "duration": 390,
    "start_time": "2022-09-11T12:29:08.705Z"
   },
   {
    "duration": 76,
    "start_time": "2022-09-11T12:29:09.097Z"
   },
   {
    "duration": 10,
    "start_time": "2022-09-11T12:29:09.175Z"
   },
   {
    "duration": 16,
    "start_time": "2022-09-11T12:29:09.189Z"
   },
   {
    "duration": 8,
    "start_time": "2022-09-11T12:29:09.207Z"
   },
   {
    "duration": 70,
    "start_time": "2022-09-11T12:29:09.217Z"
   },
   {
    "duration": 4,
    "start_time": "2022-09-11T12:29:09.289Z"
   },
   {
    "duration": 18,
    "start_time": "2022-09-11T12:29:09.295Z"
   },
   {
    "duration": 3,
    "start_time": "2022-09-11T12:29:09.316Z"
   },
   {
    "duration": 11,
    "start_time": "2022-09-11T12:29:09.321Z"
   },
   {
    "duration": 5,
    "start_time": "2022-09-11T12:29:09.334Z"
   },
   {
    "duration": 7,
    "start_time": "2022-09-11T12:29:09.341Z"
   },
   {
    "duration": 18,
    "start_time": "2022-09-11T12:29:09.350Z"
   },
   {
    "duration": 6,
    "start_time": "2022-09-11T12:29:09.372Z"
   },
   {
    "duration": 7,
    "start_time": "2022-09-11T12:29:09.380Z"
   },
   {
    "duration": 6,
    "start_time": "2022-09-11T12:29:09.389Z"
   },
   {
    "duration": 5,
    "start_time": "2022-09-11T12:29:09.396Z"
   },
   {
    "duration": 5,
    "start_time": "2022-09-11T12:29:09.403Z"
   },
   {
    "duration": 6,
    "start_time": "2022-09-11T12:29:09.410Z"
   },
   {
    "duration": 5,
    "start_time": "2022-09-11T12:29:09.418Z"
   },
   {
    "duration": 4,
    "start_time": "2022-09-11T12:29:09.425Z"
   },
   {
    "duration": 7,
    "start_time": "2022-09-11T12:29:09.431Z"
   },
   {
    "duration": 10,
    "start_time": "2022-09-11T12:33:47.635Z"
   },
   {
    "duration": 8,
    "start_time": "2022-09-11T12:35:09.693Z"
   },
   {
    "duration": 9,
    "start_time": "2022-09-11T12:35:17.163Z"
   },
   {
    "duration": 7,
    "start_time": "2022-09-11T12:42:47.232Z"
   },
   {
    "duration": 4,
    "start_time": "2022-09-11T12:47:40.233Z"
   },
   {
    "duration": 74,
    "start_time": "2022-09-11T12:56:39.978Z"
   },
   {
    "duration": 12,
    "start_time": "2022-09-11T12:57:18.699Z"
   },
   {
    "duration": 7,
    "start_time": "2022-09-11T12:57:42.143Z"
   },
   {
    "duration": 8,
    "start_time": "2022-09-11T12:57:52.023Z"
   },
   {
    "duration": 5,
    "start_time": "2022-09-11T12:58:09.082Z"
   },
   {
    "duration": 11,
    "start_time": "2022-09-11T12:58:18.394Z"
   },
   {
    "duration": 13,
    "start_time": "2022-09-11T13:02:44.535Z"
   },
   {
    "duration": 13,
    "start_time": "2022-09-11T13:02:57.500Z"
   },
   {
    "duration": 12,
    "start_time": "2022-09-11T13:03:34.514Z"
   },
   {
    "duration": 16,
    "start_time": "2022-09-11T13:03:43.330Z"
   },
   {
    "duration": 13,
    "start_time": "2022-09-11T13:05:10.949Z"
   },
   {
    "duration": 437,
    "start_time": "2022-09-11T13:05:18.844Z"
   },
   {
    "duration": 75,
    "start_time": "2022-09-11T13:05:19.285Z"
   },
   {
    "duration": 18,
    "start_time": "2022-09-11T13:05:19.362Z"
   },
   {
    "duration": 24,
    "start_time": "2022-09-11T13:05:19.385Z"
   },
   {
    "duration": 13,
    "start_time": "2022-09-11T13:05:19.410Z"
   },
   {
    "duration": 81,
    "start_time": "2022-09-11T13:05:19.424Z"
   },
   {
    "duration": 4,
    "start_time": "2022-09-11T13:05:19.507Z"
   },
   {
    "duration": 18,
    "start_time": "2022-09-11T13:05:19.513Z"
   },
   {
    "duration": 12,
    "start_time": "2022-09-11T13:05:19.533Z"
   },
   {
    "duration": 90,
    "start_time": "2022-09-11T13:05:19.548Z"
   },
   {
    "duration": 6,
    "start_time": "2022-09-11T13:05:21.528Z"
   },
   {
    "duration": 99,
    "start_time": "2022-09-11T13:05:21.536Z"
   },
   {
    "duration": 9,
    "start_time": "2022-09-11T13:05:21.637Z"
   },
   {
    "duration": 50,
    "start_time": "2022-09-11T13:05:21.648Z"
   },
   {
    "duration": 17,
    "start_time": "2022-09-11T13:05:21.701Z"
   },
   {
    "duration": 63,
    "start_time": "2022-09-11T13:05:21.720Z"
   },
   {
    "duration": 14,
    "start_time": "2022-09-11T13:05:21.785Z"
   },
   {
    "duration": 28,
    "start_time": "2022-09-11T13:05:21.800Z"
   },
   {
    "duration": 15,
    "start_time": "2022-09-11T13:05:21.830Z"
   },
   {
    "duration": 42,
    "start_time": "2022-09-11T13:05:21.846Z"
   },
   {
    "duration": 0,
    "start_time": "2022-09-11T13:05:21.892Z"
   },
   {
    "duration": 0,
    "start_time": "2022-09-11T13:05:21.893Z"
   },
   {
    "duration": 0,
    "start_time": "2022-09-11T13:05:21.895Z"
   },
   {
    "duration": 0,
    "start_time": "2022-09-11T13:05:21.896Z"
   },
   {
    "duration": 0,
    "start_time": "2022-09-11T13:05:21.897Z"
   },
   {
    "duration": 0,
    "start_time": "2022-09-11T13:05:21.899Z"
   },
   {
    "duration": 0,
    "start_time": "2022-09-11T13:05:21.900Z"
   },
   {
    "duration": 0,
    "start_time": "2022-09-11T13:05:21.901Z"
   },
   {
    "duration": 0,
    "start_time": "2022-09-11T13:05:21.902Z"
   },
   {
    "duration": 0,
    "start_time": "2022-09-11T13:05:21.903Z"
   },
   {
    "duration": 0,
    "start_time": "2022-09-11T13:05:21.904Z"
   },
   {
    "duration": 1,
    "start_time": "2022-09-11T13:05:21.904Z"
   },
   {
    "duration": 12,
    "start_time": "2022-09-11T13:05:28.511Z"
   },
   {
    "duration": 7,
    "start_time": "2022-09-11T13:07:20.682Z"
   },
   {
    "duration": 7,
    "start_time": "2022-09-11T13:07:35.658Z"
   },
   {
    "duration": 10,
    "start_time": "2022-09-11T13:08:12.754Z"
   },
   {
    "duration": 7,
    "start_time": "2022-09-11T13:10:42.984Z"
   },
   {
    "duration": 11,
    "start_time": "2022-09-11T13:10:57.774Z"
   },
   {
    "duration": 6,
    "start_time": "2022-09-11T13:11:35.133Z"
   },
   {
    "duration": 8,
    "start_time": "2022-09-11T13:16:10.247Z"
   },
   {
    "duration": 408,
    "start_time": "2022-09-11T13:16:19.996Z"
   },
   {
    "duration": 85,
    "start_time": "2022-09-11T13:16:20.406Z"
   },
   {
    "duration": 10,
    "start_time": "2022-09-11T13:16:20.493Z"
   },
   {
    "duration": 21,
    "start_time": "2022-09-11T13:16:20.504Z"
   },
   {
    "duration": 7,
    "start_time": "2022-09-11T13:16:20.528Z"
   },
   {
    "duration": 64,
    "start_time": "2022-09-11T13:16:20.537Z"
   },
   {
    "duration": 3,
    "start_time": "2022-09-11T13:16:20.603Z"
   },
   {
    "duration": 15,
    "start_time": "2022-09-11T13:16:20.607Z"
   },
   {
    "duration": 3,
    "start_time": "2022-09-11T13:16:20.624Z"
   },
   {
    "duration": 9,
    "start_time": "2022-09-11T13:16:20.629Z"
   },
   {
    "duration": 9,
    "start_time": "2022-09-11T13:16:20.639Z"
   },
   {
    "duration": 9,
    "start_time": "2022-09-11T13:16:20.649Z"
   },
   {
    "duration": 7,
    "start_time": "2022-09-11T13:16:20.669Z"
   },
   {
    "duration": 13,
    "start_time": "2022-09-11T13:16:20.689Z"
   },
   {
    "duration": 5,
    "start_time": "2022-09-11T13:16:20.704Z"
   },
   {
    "duration": 5,
    "start_time": "2022-09-11T13:16:20.710Z"
   },
   {
    "duration": 6,
    "start_time": "2022-09-11T13:16:20.717Z"
   },
   {
    "duration": 4,
    "start_time": "2022-09-11T13:16:20.725Z"
   },
   {
    "duration": 8,
    "start_time": "2022-09-11T13:16:20.731Z"
   },
   {
    "duration": 7,
    "start_time": "2022-09-11T13:16:20.740Z"
   },
   {
    "duration": 5,
    "start_time": "2022-09-11T13:16:20.749Z"
   },
   {
    "duration": 6,
    "start_time": "2022-09-11T13:16:20.756Z"
   },
   {
    "duration": 105,
    "start_time": "2022-09-11T13:16:46.605Z"
   },
   {
    "duration": 12,
    "start_time": "2022-09-11T13:17:15.541Z"
   },
   {
    "duration": 8,
    "start_time": "2022-09-11T13:17:30.634Z"
   },
   {
    "duration": 22,
    "start_time": "2022-09-11T13:18:10.566Z"
   },
   {
    "duration": 12,
    "start_time": "2022-09-11T13:18:29.336Z"
   },
   {
    "duration": 175,
    "start_time": "2022-09-11T13:20:02.290Z"
   },
   {
    "duration": 10,
    "start_time": "2022-09-11T13:20:49.017Z"
   },
   {
    "duration": 12,
    "start_time": "2022-09-11T13:21:05.591Z"
   },
   {
    "duration": 3,
    "start_time": "2022-09-11T13:21:44.214Z"
   },
   {
    "duration": 11,
    "start_time": "2022-09-11T13:24:59.040Z"
   },
   {
    "duration": 92,
    "start_time": "2022-09-11T13:26:42.840Z"
   },
   {
    "duration": 136,
    "start_time": "2022-09-11T13:27:02.111Z"
   },
   {
    "duration": 12,
    "start_time": "2022-09-11T13:27:31.211Z"
   },
   {
    "duration": 10442,
    "start_time": "2022-09-11T13:27:50.410Z"
   },
   {
    "duration": 1647,
    "start_time": "2022-09-11T13:41:39.898Z"
   },
   {
    "duration": 1426,
    "start_time": "2022-09-11T13:44:06.400Z"
   },
   {
    "duration": 1419,
    "start_time": "2022-09-11T13:45:15.826Z"
   },
   {
    "duration": 1742,
    "start_time": "2022-09-11T13:46:58.599Z"
   },
   {
    "duration": 1379,
    "start_time": "2022-09-11T13:50:23.994Z"
   },
   {
    "duration": 1315,
    "start_time": "2022-09-11T13:52:12.140Z"
   },
   {
    "duration": 1490,
    "start_time": "2022-09-11T13:53:38.836Z"
   },
   {
    "duration": 1675,
    "start_time": "2022-09-11T13:55:11.224Z"
   },
   {
    "duration": 425,
    "start_time": "2022-09-11T13:55:39.366Z"
   },
   {
    "duration": 73,
    "start_time": "2022-09-11T13:55:39.793Z"
   },
   {
    "duration": 22,
    "start_time": "2022-09-11T13:55:39.879Z"
   },
   {
    "duration": 18,
    "start_time": "2022-09-11T13:55:39.903Z"
   },
   {
    "duration": 8,
    "start_time": "2022-09-11T13:55:39.924Z"
   },
   {
    "duration": 61,
    "start_time": "2022-09-11T13:55:39.934Z"
   },
   {
    "duration": 4,
    "start_time": "2022-09-11T13:55:39.996Z"
   },
   {
    "duration": 14,
    "start_time": "2022-09-11T13:55:40.001Z"
   },
   {
    "duration": 3,
    "start_time": "2022-09-11T13:55:40.017Z"
   },
   {
    "duration": 14,
    "start_time": "2022-09-11T13:55:40.022Z"
   },
   {
    "duration": 4,
    "start_time": "2022-09-11T13:55:40.037Z"
   },
   {
    "duration": 1466,
    "start_time": "2022-09-11T13:55:40.043Z"
   },
   {
    "duration": 0,
    "start_time": "2022-09-11T13:55:41.511Z"
   },
   {
    "duration": 0,
    "start_time": "2022-09-11T13:55:41.513Z"
   },
   {
    "duration": 0,
    "start_time": "2022-09-11T13:55:41.515Z"
   },
   {
    "duration": 0,
    "start_time": "2022-09-11T13:55:41.516Z"
   },
   {
    "duration": 0,
    "start_time": "2022-09-11T13:55:41.518Z"
   },
   {
    "duration": 0,
    "start_time": "2022-09-11T13:55:41.519Z"
   },
   {
    "duration": 0,
    "start_time": "2022-09-11T13:55:41.520Z"
   },
   {
    "duration": 0,
    "start_time": "2022-09-11T13:55:41.521Z"
   },
   {
    "duration": 0,
    "start_time": "2022-09-11T13:55:41.522Z"
   },
   {
    "duration": 0,
    "start_time": "2022-09-11T13:55:41.524Z"
   },
   {
    "duration": 1549,
    "start_time": "2022-09-11T13:57:44.557Z"
   },
   {
    "duration": 1419,
    "start_time": "2022-09-11T13:58:35.535Z"
   },
   {
    "duration": 1333,
    "start_time": "2022-09-11T13:58:56.499Z"
   },
   {
    "duration": 1283,
    "start_time": "2022-09-11T14:00:11.509Z"
   },
   {
    "duration": 1246,
    "start_time": "2022-09-11T14:00:47.648Z"
   },
   {
    "duration": 1328,
    "start_time": "2022-09-11T14:01:01.691Z"
   },
   {
    "duration": 8,
    "start_time": "2022-09-11T14:01:52.356Z"
   },
   {
    "duration": 9,
    "start_time": "2022-09-11T14:02:13.902Z"
   },
   {
    "duration": 6,
    "start_time": "2022-09-11T14:02:26.224Z"
   },
   {
    "duration": 6,
    "start_time": "2022-09-11T14:02:35.192Z"
   },
   {
    "duration": 9,
    "start_time": "2022-09-11T14:02:43.786Z"
   },
   {
    "duration": 27,
    "start_time": "2022-09-11T14:03:03.963Z"
   },
   {
    "duration": 9,
    "start_time": "2022-09-11T14:03:49.301Z"
   },
   {
    "duration": 10,
    "start_time": "2022-09-11T14:04:22.256Z"
   },
   {
    "duration": 18,
    "start_time": "2022-09-11T14:04:53.035Z"
   },
   {
    "duration": 53,
    "start_time": "2022-09-11T14:05:39.160Z"
   },
   {
    "duration": 8,
    "start_time": "2022-09-11T14:06:50.032Z"
   },
   {
    "duration": 13,
    "start_time": "2022-09-11T14:07:17.489Z"
   },
   {
    "duration": 8,
    "start_time": "2022-09-11T14:13:33.943Z"
   },
   {
    "duration": 13,
    "start_time": "2022-09-11T14:14:19.534Z"
   },
   {
    "duration": 31,
    "start_time": "2022-09-11T14:16:26.760Z"
   },
   {
    "duration": 3,
    "start_time": "2022-09-11T14:31:03.189Z"
   },
   {
    "duration": 4,
    "start_time": "2022-09-11T14:31:55.332Z"
   },
   {
    "duration": 13,
    "start_time": "2022-09-11T14:33:32.824Z"
   },
   {
    "duration": 22,
    "start_time": "2022-09-11T14:33:52.020Z"
   },
   {
    "duration": 12,
    "start_time": "2022-09-11T14:34:35.135Z"
   },
   {
    "duration": 11,
    "start_time": "2022-09-11T14:35:31.782Z"
   },
   {
    "duration": 11,
    "start_time": "2022-09-11T14:39:11.057Z"
   },
   {
    "duration": 3,
    "start_time": "2022-09-11T14:39:36.146Z"
   },
   {
    "duration": 5,
    "start_time": "2022-09-11T14:41:14.139Z"
   },
   {
    "duration": 5,
    "start_time": "2022-09-11T14:59:01.631Z"
   },
   {
    "duration": 5,
    "start_time": "2022-09-11T15:06:57.033Z"
   },
   {
    "duration": 5,
    "start_time": "2022-09-11T15:24:31.938Z"
   },
   {
    "duration": 4,
    "start_time": "2022-09-11T15:25:38.381Z"
   },
   {
    "duration": 6,
    "start_time": "2022-09-11T15:26:33.618Z"
   },
   {
    "duration": 7,
    "start_time": "2022-09-11T15:27:10.929Z"
   },
   {
    "duration": 2,
    "start_time": "2022-09-11T15:27:12.620Z"
   },
   {
    "duration": 375,
    "start_time": "2022-09-11T15:27:21.414Z"
   },
   {
    "duration": 72,
    "start_time": "2022-09-11T15:27:21.791Z"
   },
   {
    "duration": 20,
    "start_time": "2022-09-11T15:27:21.865Z"
   },
   {
    "duration": 17,
    "start_time": "2022-09-11T15:27:21.887Z"
   },
   {
    "duration": 8,
    "start_time": "2022-09-11T15:27:21.906Z"
   },
   {
    "duration": 57,
    "start_time": "2022-09-11T15:27:21.916Z"
   },
   {
    "duration": 4,
    "start_time": "2022-09-11T15:27:21.980Z"
   },
   {
    "duration": 13,
    "start_time": "2022-09-11T15:27:21.986Z"
   },
   {
    "duration": 8,
    "start_time": "2022-09-11T15:27:22.001Z"
   },
   {
    "duration": 12,
    "start_time": "2022-09-11T15:27:22.011Z"
   },
   {
    "duration": 4,
    "start_time": "2022-09-11T15:27:22.025Z"
   },
   {
    "duration": 75,
    "start_time": "2022-09-11T15:27:22.030Z"
   },
   {
    "duration": 9,
    "start_time": "2022-09-11T15:27:22.107Z"
   },
   {
    "duration": 10,
    "start_time": "2022-09-11T15:27:22.118Z"
   },
   {
    "duration": 13,
    "start_time": "2022-09-11T15:27:22.130Z"
   },
   {
    "duration": 41,
    "start_time": "2022-09-11T15:27:22.144Z"
   },
   {
    "duration": 21,
    "start_time": "2022-09-11T15:27:22.187Z"
   },
   {
    "duration": 4,
    "start_time": "2022-09-11T15:27:22.209Z"
   },
   {
    "duration": 17,
    "start_time": "2022-09-11T15:27:22.214Z"
   },
   {
    "duration": 12,
    "start_time": "2022-09-11T15:27:22.233Z"
   },
   {
    "duration": 25,
    "start_time": "2022-09-11T15:27:22.246Z"
   },
   {
    "duration": 15,
    "start_time": "2022-09-11T15:27:22.276Z"
   },
   {
    "duration": 5,
    "start_time": "2022-09-11T15:30:07.863Z"
   },
   {
    "duration": 72,
    "start_time": "2022-09-11T15:37:19.205Z"
   },
   {
    "duration": 2577,
    "start_time": "2022-09-11T15:37:36.954Z"
   },
   {
    "duration": 8,
    "start_time": "2022-09-11T15:40:01.177Z"
   },
   {
    "duration": 8,
    "start_time": "2022-09-11T15:40:13.225Z"
   },
   {
    "duration": 2,
    "start_time": "2022-09-11T15:40:16.021Z"
   },
   {
    "duration": 6,
    "start_time": "2022-09-11T15:40:48.468Z"
   },
   {
    "duration": 6,
    "start_time": "2022-09-11T15:41:09.250Z"
   },
   {
    "duration": 7,
    "start_time": "2022-09-11T15:42:01.235Z"
   },
   {
    "duration": 7,
    "start_time": "2022-09-11T15:43:25.899Z"
   },
   {
    "duration": 138,
    "start_time": "2022-09-11T15:45:03.074Z"
   },
   {
    "duration": 6,
    "start_time": "2022-09-11T15:50:20.074Z"
   },
   {
    "duration": 3,
    "start_time": "2022-09-11T15:50:40.268Z"
   },
   {
    "duration": 1434,
    "start_time": "2022-09-11T15:50:44.512Z"
   },
   {
    "duration": 44,
    "start_time": "2022-09-11T15:51:08.620Z"
   },
   {
    "duration": 49,
    "start_time": "2022-09-11T15:51:35.851Z"
   },
   {
    "duration": 400,
    "start_time": "2022-09-11T15:53:12.327Z"
   },
   {
    "duration": 74,
    "start_time": "2022-09-11T15:53:12.729Z"
   },
   {
    "duration": 11,
    "start_time": "2022-09-11T15:53:12.805Z"
   },
   {
    "duration": 22,
    "start_time": "2022-09-11T15:53:12.817Z"
   },
   {
    "duration": 11,
    "start_time": "2022-09-11T15:53:12.842Z"
   },
   {
    "duration": 62,
    "start_time": "2022-09-11T15:53:12.854Z"
   },
   {
    "duration": 3,
    "start_time": "2022-09-11T15:53:12.918Z"
   },
   {
    "duration": 15,
    "start_time": "2022-09-11T15:53:12.923Z"
   },
   {
    "duration": 4,
    "start_time": "2022-09-11T15:53:12.940Z"
   },
   {
    "duration": 27,
    "start_time": "2022-09-11T15:53:12.945Z"
   },
   {
    "duration": 3,
    "start_time": "2022-09-11T15:53:12.974Z"
   },
   {
    "duration": 75,
    "start_time": "2022-09-11T15:53:12.979Z"
   },
   {
    "duration": 9,
    "start_time": "2022-09-11T15:53:13.056Z"
   },
   {
    "duration": 20,
    "start_time": "2022-09-11T15:53:13.068Z"
   },
   {
    "duration": 24,
    "start_time": "2022-09-11T15:53:13.090Z"
   },
   {
    "duration": 56,
    "start_time": "2022-09-11T15:53:13.116Z"
   },
   {
    "duration": 23,
    "start_time": "2022-09-11T15:53:13.174Z"
   },
   {
    "duration": 15,
    "start_time": "2022-09-11T15:53:13.199Z"
   },
   {
    "duration": 33,
    "start_time": "2022-09-11T15:53:13.215Z"
   },
   {
    "duration": 24,
    "start_time": "2022-09-11T15:53:13.249Z"
   },
   {
    "duration": 4,
    "start_time": "2022-09-11T15:53:13.376Z"
   },
   {
    "duration": 68,
    "start_time": "2022-09-11T15:53:13.383Z"
   },
   {
    "duration": 4,
    "start_time": "2022-09-11T15:54:28.039Z"
   },
   {
    "duration": 4,
    "start_time": "2022-09-11T15:55:45.585Z"
   },
   {
    "duration": 46,
    "start_time": "2022-09-11T15:56:14.846Z"
   },
   {
    "duration": 49,
    "start_time": "2022-09-11T15:57:16.333Z"
   },
   {
    "duration": 4,
    "start_time": "2022-09-11T15:58:10.125Z"
   },
   {
    "duration": 10,
    "start_time": "2022-09-11T15:58:12.623Z"
   },
   {
    "duration": 4,
    "start_time": "2022-09-11T15:59:33.039Z"
   },
   {
    "duration": 398,
    "start_time": "2022-09-11T15:59:34.218Z"
   },
   {
    "duration": 3,
    "start_time": "2022-09-11T16:01:05.854Z"
   },
   {
    "duration": 15,
    "start_time": "2022-09-11T16:01:09.641Z"
   },
   {
    "duration": 5,
    "start_time": "2022-09-11T16:01:24.117Z"
   },
   {
    "duration": 6,
    "start_time": "2022-09-11T16:01:41.694Z"
   },
   {
    "duration": 11,
    "start_time": "2022-09-11T16:01:47.188Z"
   },
   {
    "duration": 16,
    "start_time": "2022-09-11T16:02:46.005Z"
   },
   {
    "duration": 6,
    "start_time": "2022-09-11T16:03:10.081Z"
   },
   {
    "duration": 7,
    "start_time": "2022-09-11T16:05:36.532Z"
   },
   {
    "duration": 2473,
    "start_time": "2022-09-11T16:05:38.704Z"
   },
   {
    "duration": 5,
    "start_time": "2022-09-11T16:07:38.488Z"
   },
   {
    "duration": 2840,
    "start_time": "2022-09-11T16:07:41.173Z"
   },
   {
    "duration": 5,
    "start_time": "2022-09-11T16:08:22.530Z"
   },
   {
    "duration": 96,
    "start_time": "2022-09-11T16:08:23.573Z"
   },
   {
    "duration": 8,
    "start_time": "2022-09-11T16:09:16.710Z"
   },
   {
    "duration": 2872,
    "start_time": "2022-09-11T16:09:19.300Z"
   },
   {
    "duration": 6,
    "start_time": "2022-09-11T16:09:25.041Z"
   },
   {
    "duration": 4,
    "start_time": "2022-09-11T16:10:18.470Z"
   },
   {
    "duration": 2909,
    "start_time": "2022-09-11T16:10:19.370Z"
   },
   {
    "duration": 5,
    "start_time": "2022-09-11T16:10:45.520Z"
   },
   {
    "duration": 6,
    "start_time": "2022-09-11T16:11:06.511Z"
   },
   {
    "duration": 2867,
    "start_time": "2022-09-11T16:11:07.622Z"
   },
   {
    "duration": 4,
    "start_time": "2022-09-11T16:11:49.723Z"
   },
   {
    "duration": 4,
    "start_time": "2022-09-11T16:12:20.161Z"
   },
   {
    "duration": 2791,
    "start_time": "2022-09-11T16:12:20.765Z"
   },
   {
    "duration": 5,
    "start_time": "2022-09-11T16:13:21.076Z"
   },
   {
    "duration": 2660,
    "start_time": "2022-09-11T16:13:21.858Z"
   },
   {
    "duration": 4,
    "start_time": "2022-09-11T16:13:32.977Z"
   },
   {
    "duration": 3755,
    "start_time": "2022-09-11T16:13:33.696Z"
   },
   {
    "duration": 6,
    "start_time": "2022-09-11T16:13:43.563Z"
   },
   {
    "duration": 111,
    "start_time": "2022-09-11T16:13:44.446Z"
   },
   {
    "duration": 4,
    "start_time": "2022-09-11T16:14:38.996Z"
   },
   {
    "duration": 17,
    "start_time": "2022-09-11T16:14:39.468Z"
   },
   {
    "duration": 4,
    "start_time": "2022-09-11T16:15:19.389Z"
   },
   {
    "duration": 103,
    "start_time": "2022-09-11T16:15:19.949Z"
   }
  ],
  "colab": {
   "name": "dpp_template_part1.ipynb",
   "provenance": []
  },
  "kernelspec": {
   "display_name": "Python 3 (ipykernel)",
   "language": "python",
   "name": "python3"
  },
  "language_info": {
   "codemirror_mode": {
    "name": "ipython",
    "version": 3
   },
   "file_extension": ".py",
   "mimetype": "text/x-python",
   "name": "python",
   "nbconvert_exporter": "python",
   "pygments_lexer": "ipython3",
   "version": "3.9.16"
  },
  "toc": {
   "base_numbering": 1,
   "nav_menu": {},
   "number_sections": true,
   "sideBar": true,
   "skip_h1_title": true,
   "title_cell": "Table of Contents",
   "title_sidebar": "Contents",
   "toc_cell": false,
   "toc_position": {},
   "toc_section_display": true,
   "toc_window_display": false
  }
 },
 "nbformat": 4,
 "nbformat_minor": 5
}
