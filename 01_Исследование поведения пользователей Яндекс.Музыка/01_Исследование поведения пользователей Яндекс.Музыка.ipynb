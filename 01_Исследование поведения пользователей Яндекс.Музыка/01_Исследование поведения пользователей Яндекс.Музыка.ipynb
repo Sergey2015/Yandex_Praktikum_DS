{
 "cells": [
  {
   "cell_type": "markdown",
   "metadata": {
    "deletable": false,
    "editable": false,
    "id": "E0vqbgi9ay0H"
   },
   "source": [
    "# Яндекс Музыка"
   ]
  },
  {
   "cell_type": "markdown",
   "metadata": {
    "deletable": false,
    "editable": false,
    "id": "VUC88oWjTJw2"
   },
   "source": [
    "Сравнение Москвы и Петербурга окружено мифами. Например:\n",
    " * Москва — мегаполис, подчинённый жёсткому ритму рабочей недели;\n",
    " * Петербург — культурная столица, со своими вкусами.\n",
    "\n",
    "На данных Яндекс Музыки вы сравните поведение пользователей двух столиц.\n",
    "\n",
    "**Цель исследования** — проверьте три гипотезы:\n",
    "1. Активность пользователей зависит от дня недели. Причём в Москве и Петербурге это проявляется по-разному.\n",
    "2. В понедельник утром в Москве преобладают одни жанры, а в Петербурге — другие. Так же и вечером пятницы преобладают разные жанры — в зависимости от города. \n",
    "3. Москва и Петербург предпочитают разные жанры музыки. В Москве чаще слушают поп-музыку, в Петербурге — русский рэп.\n",
    "\n",
    "**Ход исследования**\n",
    "\n",
    "Данные о поведении пользователей вы получите из файла `yandex_music_project.csv`. О качестве данных ничего не известно. Поэтому перед проверкой гипотез понадобится обзор данных. \n",
    "\n",
    "Вы проверите данные на ошибки и оцените их влияние на исследование. Затем, на этапе предобработки вы поищете возможность исправить самые критичные ошибки данных.\n",
    " \n",
    "Таким образом, исследование пройдёт в три этапа:\n",
    " 1. Обзор данных.\n",
    " 2. Предобработка данных.\n",
    " 3. Проверка гипотез.\n",
    "\n"
   ]
  },
  {
   "cell_type": "markdown",
   "metadata": {
    "deletable": false,
    "editable": false,
    "id": "Ml1hmfXC_Zcs"
   },
   "source": [
    "## Обзор данных\n",
    "\n",
    "Составьте первое представление о данных Яндекс Музыки.\n",
    "\n",
    "\n"
   ]
  },
  {
   "cell_type": "markdown",
   "metadata": {
    "deletable": false,
    "editable": false,
    "id": "57eAOGIz_Zcs",
    "tags": [
     "start_task"
    ]
   },
   "source": [
    "**Задание 1**\n",
    "\n",
    "Основной инструмент аналитика — `pandas`. Импортируйте эту библиотеку."
   ]
  },
  {
   "cell_type": "code",
   "execution_count": 1,
   "metadata": {
    "deletable": false,
    "id": "AXN7PHPN_Zcs"
   },
   "outputs": [],
   "source": [
    "# импорт библиотеки pandas\n",
    "import pandas as pd"
   ]
  },
  {
   "cell_type": "markdown",
   "metadata": {
    "deletable": false,
    "editable": false,
    "id": "SG23P8tt_Zcs",
    "tags": [
     "start_task"
    ]
   },
   "source": [
    "**Задание 2**\n",
    "\n",
    "Прочитайте файл `yandex_music_project.csv` из папки `/datasets` и сохраните его в переменной `df`:"
   ]
  },
  {
   "cell_type": "code",
   "execution_count": 3,
   "metadata": {
    "deletable": false,
    "id": "fFVu7vqh_Zct"
   },
   "outputs": [
    {
     "data": {
      "text/html": [
       "<div>\n",
       "<style scoped>\n",
       "    .dataframe tbody tr th:only-of-type {\n",
       "        vertical-align: middle;\n",
       "    }\n",
       "\n",
       "    .dataframe tbody tr th {\n",
       "        vertical-align: top;\n",
       "    }\n",
       "\n",
       "    .dataframe thead th {\n",
       "        text-align: right;\n",
       "    }\n",
       "</style>\n",
       "<table border=\"1\" class=\"dataframe\">\n",
       "  <thead>\n",
       "    <tr style=\"text-align: right;\">\n",
       "      <th></th>\n",
       "      <th>Unnamed: 0</th>\n",
       "      <th>userID</th>\n",
       "      <th>Track</th>\n",
       "      <th>artist</th>\n",
       "      <th>genre</th>\n",
       "      <th>City</th>\n",
       "      <th>time</th>\n",
       "      <th>Day</th>\n",
       "    </tr>\n",
       "  </thead>\n",
       "  <tbody>\n",
       "    <tr>\n",
       "      <th>0</th>\n",
       "      <td>0</td>\n",
       "      <td>FFB692EC</td>\n",
       "      <td>Kamigata To Boots</td>\n",
       "      <td>The Mass Missile</td>\n",
       "      <td>rock</td>\n",
       "      <td>Saint-Petersburg</td>\n",
       "      <td>20:28:33</td>\n",
       "      <td>Wednesday</td>\n",
       "    </tr>\n",
       "    <tr>\n",
       "      <th>1</th>\n",
       "      <td>1</td>\n",
       "      <td>55204538</td>\n",
       "      <td>Delayed Because of Accident</td>\n",
       "      <td>Andreas Rönnberg</td>\n",
       "      <td>rock</td>\n",
       "      <td>Moscow</td>\n",
       "      <td>14:07:09</td>\n",
       "      <td>Friday</td>\n",
       "    </tr>\n",
       "    <tr>\n",
       "      <th>2</th>\n",
       "      <td>2</td>\n",
       "      <td>20EC38</td>\n",
       "      <td>Funiculì funiculà</td>\n",
       "      <td>Mario Lanza</td>\n",
       "      <td>pop</td>\n",
       "      <td>Saint-Petersburg</td>\n",
       "      <td>20:58:07</td>\n",
       "      <td>Wednesday</td>\n",
       "    </tr>\n",
       "    <tr>\n",
       "      <th>3</th>\n",
       "      <td>3</td>\n",
       "      <td>A3DD03C9</td>\n",
       "      <td>Dragons in the Sunset</td>\n",
       "      <td>Fire + Ice</td>\n",
       "      <td>folk</td>\n",
       "      <td>Saint-Petersburg</td>\n",
       "      <td>08:37:09</td>\n",
       "      <td>Monday</td>\n",
       "    </tr>\n",
       "    <tr>\n",
       "      <th>4</th>\n",
       "      <td>4</td>\n",
       "      <td>E2DC1FAE</td>\n",
       "      <td>Soul People</td>\n",
       "      <td>Space Echo</td>\n",
       "      <td>dance</td>\n",
       "      <td>Moscow</td>\n",
       "      <td>08:34:34</td>\n",
       "      <td>Monday</td>\n",
       "    </tr>\n",
       "    <tr>\n",
       "      <th>...</th>\n",
       "      <td>...</td>\n",
       "      <td>...</td>\n",
       "      <td>...</td>\n",
       "      <td>...</td>\n",
       "      <td>...</td>\n",
       "      <td>...</td>\n",
       "      <td>...</td>\n",
       "      <td>...</td>\n",
       "    </tr>\n",
       "    <tr>\n",
       "      <th>65074</th>\n",
       "      <td>65074</td>\n",
       "      <td>729CBB09</td>\n",
       "      <td>My Name</td>\n",
       "      <td>McLean</td>\n",
       "      <td>rnb</td>\n",
       "      <td>Moscow</td>\n",
       "      <td>13:32:28</td>\n",
       "      <td>Wednesday</td>\n",
       "    </tr>\n",
       "    <tr>\n",
       "      <th>65075</th>\n",
       "      <td>65075</td>\n",
       "      <td>D08D4A55</td>\n",
       "      <td>Maybe One Day (feat. Black Spade)</td>\n",
       "      <td>Blu &amp; Exile</td>\n",
       "      <td>hip</td>\n",
       "      <td>Saint-Petersburg</td>\n",
       "      <td>10:00:00</td>\n",
       "      <td>Monday</td>\n",
       "    </tr>\n",
       "    <tr>\n",
       "      <th>65076</th>\n",
       "      <td>65076</td>\n",
       "      <td>C5E3A0D5</td>\n",
       "      <td>Jalopiina</td>\n",
       "      <td>NaN</td>\n",
       "      <td>industrial</td>\n",
       "      <td>Moscow</td>\n",
       "      <td>20:09:26</td>\n",
       "      <td>Friday</td>\n",
       "    </tr>\n",
       "    <tr>\n",
       "      <th>65077</th>\n",
       "      <td>65077</td>\n",
       "      <td>321D0506</td>\n",
       "      <td>Freight Train</td>\n",
       "      <td>Chas McDevitt</td>\n",
       "      <td>rock</td>\n",
       "      <td>Moscow</td>\n",
       "      <td>21:43:59</td>\n",
       "      <td>Friday</td>\n",
       "    </tr>\n",
       "    <tr>\n",
       "      <th>65078</th>\n",
       "      <td>65078</td>\n",
       "      <td>3A64EF84</td>\n",
       "      <td>Tell Me Sweet Little Lies</td>\n",
       "      <td>Monica Lopez</td>\n",
       "      <td>country</td>\n",
       "      <td>Moscow</td>\n",
       "      <td>21:59:46</td>\n",
       "      <td>Friday</td>\n",
       "    </tr>\n",
       "  </tbody>\n",
       "</table>\n",
       "<p>65079 rows × 8 columns</p>\n",
       "</div>"
      ],
      "text/plain": [
       "       Unnamed: 0    userID                              Track  \\\n",
       "0               0  FFB692EC                  Kamigata To Boots   \n",
       "1               1  55204538        Delayed Because of Accident   \n",
       "2               2    20EC38                  Funiculì funiculà   \n",
       "3               3  A3DD03C9              Dragons in the Sunset   \n",
       "4               4  E2DC1FAE                        Soul People   \n",
       "...           ...       ...                                ...   \n",
       "65074       65074  729CBB09                            My Name   \n",
       "65075       65075  D08D4A55  Maybe One Day (feat. Black Spade)   \n",
       "65076       65076  C5E3A0D5                          Jalopiina   \n",
       "65077       65077  321D0506                      Freight Train   \n",
       "65078       65078  3A64EF84          Tell Me Sweet Little Lies   \n",
       "\n",
       "                 artist       genre            City        time        Day  \n",
       "0      The Mass Missile        rock  Saint-Petersburg  20:28:33  Wednesday  \n",
       "1      Andreas Rönnberg        rock            Moscow  14:07:09     Friday  \n",
       "2           Mario Lanza         pop  Saint-Petersburg  20:58:07  Wednesday  \n",
       "3            Fire + Ice        folk  Saint-Petersburg  08:37:09     Monday  \n",
       "4            Space Echo       dance            Moscow  08:34:34     Monday  \n",
       "...                 ...         ...               ...       ...        ...  \n",
       "65074            McLean         rnb            Moscow  13:32:28  Wednesday  \n",
       "65075       Blu & Exile         hip  Saint-Petersburg  10:00:00     Monday  \n",
       "65076               NaN  industrial            Moscow  20:09:26     Friday  \n",
       "65077     Chas McDevitt        rock            Moscow  21:43:59     Friday  \n",
       "65078      Monica Lopez     country            Moscow  21:59:46     Friday  \n",
       "\n",
       "[65079 rows x 8 columns]"
      ]
     },
     "execution_count": 3,
     "metadata": {},
     "output_type": "execute_result"
    }
   ],
   "source": [
    "# чтение файла с данными и сохранение в df\n",
    "df = pd.read_csv('yandex_music_project.csv')\n",
    "df # выведим на экран содержимое файла"
   ]
  },
  {
   "cell_type": "markdown",
   "metadata": {
    "deletable": false,
    "editable": false,
    "id": "rDoOMd3uTqnZ",
    "tags": [
     "start_task"
    ]
   },
   "source": [
    "**Задание 3**\n",
    "\n",
    "\n",
    "Выведите на экран первые десять строк таблицы:"
   ]
  },
  {
   "cell_type": "code",
   "execution_count": 4,
   "metadata": {
    "deletable": false,
    "id": "oWTVX3gW_Zct"
   },
   "outputs": [
    {
     "data": {
      "text/html": [
       "<div>\n",
       "<style scoped>\n",
       "    .dataframe tbody tr th:only-of-type {\n",
       "        vertical-align: middle;\n",
       "    }\n",
       "\n",
       "    .dataframe tbody tr th {\n",
       "        vertical-align: top;\n",
       "    }\n",
       "\n",
       "    .dataframe thead th {\n",
       "        text-align: right;\n",
       "    }\n",
       "</style>\n",
       "<table border=\"1\" class=\"dataframe\">\n",
       "  <thead>\n",
       "    <tr style=\"text-align: right;\">\n",
       "      <th></th>\n",
       "      <th>Unnamed: 0</th>\n",
       "      <th>userID</th>\n",
       "      <th>Track</th>\n",
       "      <th>artist</th>\n",
       "      <th>genre</th>\n",
       "      <th>City</th>\n",
       "      <th>time</th>\n",
       "      <th>Day</th>\n",
       "    </tr>\n",
       "  </thead>\n",
       "  <tbody>\n",
       "    <tr>\n",
       "      <th>0</th>\n",
       "      <td>0</td>\n",
       "      <td>FFB692EC</td>\n",
       "      <td>Kamigata To Boots</td>\n",
       "      <td>The Mass Missile</td>\n",
       "      <td>rock</td>\n",
       "      <td>Saint-Petersburg</td>\n",
       "      <td>20:28:33</td>\n",
       "      <td>Wednesday</td>\n",
       "    </tr>\n",
       "    <tr>\n",
       "      <th>1</th>\n",
       "      <td>1</td>\n",
       "      <td>55204538</td>\n",
       "      <td>Delayed Because of Accident</td>\n",
       "      <td>Andreas Rönnberg</td>\n",
       "      <td>rock</td>\n",
       "      <td>Moscow</td>\n",
       "      <td>14:07:09</td>\n",
       "      <td>Friday</td>\n",
       "    </tr>\n",
       "    <tr>\n",
       "      <th>2</th>\n",
       "      <td>2</td>\n",
       "      <td>20EC38</td>\n",
       "      <td>Funiculì funiculà</td>\n",
       "      <td>Mario Lanza</td>\n",
       "      <td>pop</td>\n",
       "      <td>Saint-Petersburg</td>\n",
       "      <td>20:58:07</td>\n",
       "      <td>Wednesday</td>\n",
       "    </tr>\n",
       "    <tr>\n",
       "      <th>3</th>\n",
       "      <td>3</td>\n",
       "      <td>A3DD03C9</td>\n",
       "      <td>Dragons in the Sunset</td>\n",
       "      <td>Fire + Ice</td>\n",
       "      <td>folk</td>\n",
       "      <td>Saint-Petersburg</td>\n",
       "      <td>08:37:09</td>\n",
       "      <td>Monday</td>\n",
       "    </tr>\n",
       "    <tr>\n",
       "      <th>4</th>\n",
       "      <td>4</td>\n",
       "      <td>E2DC1FAE</td>\n",
       "      <td>Soul People</td>\n",
       "      <td>Space Echo</td>\n",
       "      <td>dance</td>\n",
       "      <td>Moscow</td>\n",
       "      <td>08:34:34</td>\n",
       "      <td>Monday</td>\n",
       "    </tr>\n",
       "    <tr>\n",
       "      <th>5</th>\n",
       "      <td>5</td>\n",
       "      <td>842029A1</td>\n",
       "      <td>Преданная</td>\n",
       "      <td>IMPERVTOR</td>\n",
       "      <td>rusrap</td>\n",
       "      <td>Saint-Petersburg</td>\n",
       "      <td>13:09:41</td>\n",
       "      <td>Friday</td>\n",
       "    </tr>\n",
       "    <tr>\n",
       "      <th>6</th>\n",
       "      <td>6</td>\n",
       "      <td>4CB90AA5</td>\n",
       "      <td>True</td>\n",
       "      <td>Roman Messer</td>\n",
       "      <td>dance</td>\n",
       "      <td>Moscow</td>\n",
       "      <td>13:00:07</td>\n",
       "      <td>Wednesday</td>\n",
       "    </tr>\n",
       "    <tr>\n",
       "      <th>7</th>\n",
       "      <td>7</td>\n",
       "      <td>F03E1C1F</td>\n",
       "      <td>Feeling This Way</td>\n",
       "      <td>Polina Griffith</td>\n",
       "      <td>dance</td>\n",
       "      <td>Moscow</td>\n",
       "      <td>20:47:49</td>\n",
       "      <td>Wednesday</td>\n",
       "    </tr>\n",
       "    <tr>\n",
       "      <th>8</th>\n",
       "      <td>8</td>\n",
       "      <td>8FA1D3BE</td>\n",
       "      <td>И вновь продолжается бой</td>\n",
       "      <td>NaN</td>\n",
       "      <td>ruspop</td>\n",
       "      <td>Moscow</td>\n",
       "      <td>09:17:40</td>\n",
       "      <td>Friday</td>\n",
       "    </tr>\n",
       "    <tr>\n",
       "      <th>9</th>\n",
       "      <td>9</td>\n",
       "      <td>E772D5C0</td>\n",
       "      <td>Pessimist</td>\n",
       "      <td>NaN</td>\n",
       "      <td>dance</td>\n",
       "      <td>Saint-Petersburg</td>\n",
       "      <td>21:20:49</td>\n",
       "      <td>Wednesday</td>\n",
       "    </tr>\n",
       "  </tbody>\n",
       "</table>\n",
       "</div>"
      ],
      "text/plain": [
       "   Unnamed: 0    userID                        Track            artist  \\\n",
       "0           0  FFB692EC            Kamigata To Boots  The Mass Missile   \n",
       "1           1  55204538  Delayed Because of Accident  Andreas Rönnberg   \n",
       "2           2    20EC38            Funiculì funiculà       Mario Lanza   \n",
       "3           3  A3DD03C9        Dragons in the Sunset        Fire + Ice   \n",
       "4           4  E2DC1FAE                  Soul People        Space Echo   \n",
       "5           5  842029A1                    Преданная         IMPERVTOR   \n",
       "6           6  4CB90AA5                         True      Roman Messer   \n",
       "7           7  F03E1C1F             Feeling This Way   Polina Griffith   \n",
       "8           8  8FA1D3BE     И вновь продолжается бой               NaN   \n",
       "9           9  E772D5C0                    Pessimist               NaN   \n",
       "\n",
       "    genre            City        time        Day  \n",
       "0    rock  Saint-Petersburg  20:28:33  Wednesday  \n",
       "1    rock            Moscow  14:07:09     Friday  \n",
       "2     pop  Saint-Petersburg  20:58:07  Wednesday  \n",
       "3    folk  Saint-Petersburg  08:37:09     Monday  \n",
       "4   dance            Moscow  08:34:34     Monday  \n",
       "5  rusrap  Saint-Petersburg  13:09:41     Friday  \n",
       "6   dance            Moscow  13:00:07  Wednesday  \n",
       "7   dance            Moscow  20:47:49  Wednesday  \n",
       "8  ruspop            Moscow  09:17:40     Friday  \n",
       "9   dance  Saint-Petersburg  21:20:49  Wednesday  "
      ]
     },
     "execution_count": 4,
     "metadata": {},
     "output_type": "execute_result"
    }
   ],
   "source": [
    "# получение первых 10 строк таблицы df\n",
    "#display(df.head(10))\n",
    "df.head(10)"
   ]
  },
  {
   "cell_type": "markdown",
   "metadata": {
    "deletable": false,
    "editable": false,
    "id": "EO73Kwic_Zct",
    "tags": [
     "start_task"
    ]
   },
   "source": [
    "**Задание 4**\n",
    "\n",
    "\n",
    "Одной командой получить общую информацию о таблице c помощью метода `info()`:"
   ]
  },
  {
   "cell_type": "code",
   "execution_count": 5,
   "metadata": {
    "deletable": false,
    "id": "DSf2kIb-_Zct"
   },
   "outputs": [
    {
     "name": "stdout",
     "output_type": "stream",
     "text": [
      "<class 'pandas.core.frame.DataFrame'>\n",
      "RangeIndex: 65079 entries, 0 to 65078\n",
      "Data columns (total 8 columns):\n",
      " #   Column      Non-Null Count  Dtype \n",
      "---  ------      --------------  ----- \n",
      " 0   Unnamed: 0  65079 non-null  int64 \n",
      " 1     userID    65079 non-null  object\n",
      " 2   Track       63848 non-null  object\n",
      " 3   artist      57876 non-null  object\n",
      " 4   genre       63881 non-null  object\n",
      " 5     City      65079 non-null  object\n",
      " 6   time        65079 non-null  object\n",
      " 7   Day         65079 non-null  object\n",
      "dtypes: int64(1), object(7)\n",
      "memory usage: 4.0+ MB\n"
     ]
    }
   ],
   "source": [
    "# получение общей информации о данных в таблице df\n",
    "df.info()"
   ]
  },
  {
   "cell_type": "markdown",
   "metadata": {
    "deletable": false,
    "editable": false,
    "id": "TaQ2Iwbr_Zct"
   },
   "source": [
    "Итак, в таблице семь столбцов. Тип данных во всех столбцах — `object`.\n",
    "\n",
    "Согласно документации к данным:\n",
    "* `userID` — идентификатор пользователя;\n",
    "* `Track` — название трека;  \n",
    "* `artist` — имя исполнителя;\n",
    "* `genre` — название жанра;\n",
    "* `City` — город пользователя;\n",
    "* `time` — время начала прослушивания;\n",
    "* `Day` — день недели.\n",
    "\n",
    "Количество значений в столбцах различается. Значит, в данных есть пропущенные значения."
   ]
  },
  {
   "cell_type": "markdown",
   "metadata": {
    "deletable": false,
    "editable": false,
    "id": "rAfziTBDmf2h",
    "tags": [
     "start_task"
    ]
   },
   "source": [
    "**Задание 5**\n",
    "\n",
    "**Вопрос со свободной формой ответа**\n",
    "\n",
    "В названиях колонок видны нарушения стиля:\n",
    "* Строчные буквы сочетаются с прописными.\n",
    "* Встречаются пробелы.\n",
    "\n",
    "Какое третье нарушение?"
   ]
  },
  {
   "cell_type": "code",
   "execution_count": 6,
   "metadata": {
    "id": "jD8EXEIvmf2h"
   },
   "outputs": [],
   "source": [
    "# Напишите ваш ответ здесь комментарием. Не удаляйте символ #. Не меняйте тип этой ячейки на Markdown.\n",
    "# Не используется змеиный стиль в колонке userID"
   ]
  },
  {
   "cell_type": "markdown",
   "metadata": {
    "deletable": false,
    "editable": false,
    "id": "MCB6-dXG_Zct"
   },
   "source": [
    "**Выводы**\n",
    "\n",
    "В каждой строке таблицы — данные о прослушанном треке. Часть колонок описывает саму композицию: название, исполнителя и жанр. Остальные данные рассказывают о пользователе: из какого он города, когда он слушал музыку. \n",
    "\n",
    "Предварительно можно утверждать, что данных достаточно для проверки гипотез. Но встречаются пропуски в данных, а в названиях колонок — расхождения с хорошим стилем.\n",
    "\n",
    "Чтобы двигаться дальше, нужно устранить проблемы в данных."
   ]
  },
  {
   "cell_type": "markdown",
   "metadata": {
    "deletable": false,
    "editable": false,
    "id": "SjYF6Ub9_Zct"
   },
   "source": [
    "## Предобработка данных\n",
    "Исправьте стиль в заголовках столбцов, исключите пропуски. Затем проверьте данные на дубликаты."
   ]
  },
  {
   "cell_type": "markdown",
   "metadata": {
    "deletable": false,
    "editable": false,
    "id": "dIaKXr29_Zct",
    "tags": [
     "start_task"
    ]
   },
   "source": [
    "### Стиль заголовков\n",
    "\n",
    "**Задание 6**\n",
    "\n",
    "Выведите на экран названия столбцов:"
   ]
  },
  {
   "cell_type": "code",
   "execution_count": 7,
   "metadata": {
    "deletable": false,
    "id": "oKOTdF_Q_Zct"
   },
   "outputs": [
    {
     "data": {
      "text/plain": [
       "Index(['Unnamed: 0', '  userID', 'Track', 'artist', 'genre', '  City  ',\n",
       "       'time', 'Day'],\n",
       "      dtype='object')"
      ]
     },
     "execution_count": 7,
     "metadata": {},
     "output_type": "execute_result"
    }
   ],
   "source": [
    "# перечень названий столбцов таблицы df\n",
    "#display(df.columns)\n",
    "df.columns"
   ]
  },
  {
   "cell_type": "markdown",
   "metadata": {
    "deletable": false,
    "editable": false,
    "id": "zj5534cv_Zct",
    "tags": [
     "start_task"
    ]
   },
   "source": [
    "**Задание 7**\n",
    "\n",
    "\n",
    "Приведите названия в соответствие с хорошим стилем:\n",
    "* несколько слов в названии запишите в «змеином_регистре»,\n",
    "* все символы сделайте строчными,\n",
    "* устраните пробелы.\n",
    "\n",
    "Для этого переименуйте колонки так:\n",
    "* `'  userID'` → `'user_id'`;\n",
    "* `'Track'` → `'track'`;\n",
    "* `'  City  '` → `'city'`;\n",
    "* `'Day'` → `'day'`."
   ]
  },
  {
   "cell_type": "code",
   "execution_count": 8,
   "metadata": {
    "deletable": false,
    "id": "ISlFqs5y_Zct"
   },
   "outputs": [],
   "source": [
    "# переименование столбцов\n",
    "df = df.rename(columns ={'  userID':'user_id', 'Track':'track', '  City  ':'city', 'Day':'day'} )"
   ]
  },
  {
   "cell_type": "markdown",
   "metadata": {
    "deletable": false,
    "editable": false,
    "id": "1dqbh00J_Zct",
    "tags": [
     "start_task"
    ]
   },
   "source": [
    "**Задание 8**\n",
    "\n",
    "\n",
    "Проверьте результат. Для этого ещё раз выведите на экран названия столбцов:"
   ]
  },
  {
   "cell_type": "code",
   "execution_count": 9,
   "metadata": {
    "deletable": false,
    "id": "d4NOAmTW_Zct"
   },
   "outputs": [
    {
     "data": {
      "text/plain": [
       "Index(['Unnamed: 0', 'user_id', 'track', 'artist', 'genre', 'city', 'time',\n",
       "       'day'],\n",
       "      dtype='object')"
      ]
     },
     "execution_count": 9,
     "metadata": {},
     "output_type": "execute_result"
    }
   ],
   "source": [
    "# проверка результатов - перечень названий столбцов\n",
    "#display(df.columns)\n",
    "df.columns"
   ]
  },
  {
   "cell_type": "markdown",
   "metadata": {
    "deletable": false,
    "editable": false,
    "id": "5ISfbcfY_Zct",
    "tags": [
     "start_task"
    ]
   },
   "source": [
    "### Пропуски значений\n",
    "\n",
    "**Задание 9**\n",
    "\n",
    "Сначала посчитайте, сколько в таблице пропущенных значений. Для этого достаточно двух методов `pandas`:"
   ]
  },
  {
   "cell_type": "code",
   "execution_count": 10,
   "metadata": {
    "deletable": false,
    "id": "RskX29qr_Zct"
   },
   "outputs": [
    {
     "data": {
      "text/plain": [
       "Unnamed: 0       0\n",
       "user_id          0\n",
       "track         1231\n",
       "artist        7203\n",
       "genre         1198\n",
       "city             0\n",
       "time             0\n",
       "day              0\n",
       "dtype: int64"
      ]
     },
     "execution_count": 10,
     "metadata": {},
     "output_type": "execute_result"
    }
   ],
   "source": [
    "# подсчёт пропусков\n",
    "df.isna().sum()"
   ]
  },
  {
   "cell_type": "markdown",
   "metadata": {
    "deletable": false,
    "editable": false,
    "id": "qubhgnlO_Zct"
   },
   "source": [
    "Не все пропущенные значения влияют на исследование. Так в `track` и `artist` пропуски не важны для вашей работы. Достаточно заменить их явными обозначениями.\n",
    "\n",
    "Но пропуски в `genre` могут помешать сравнению музыкальных вкусов в Москве и Санкт-Петербурге. На практике было бы правильно установить причину пропусков и восстановить данные. Такой возможности нет в учебном проекте. Придётся:\n",
    "* заполнить и эти пропуски явными обозначениями;\n",
    "* оценить, насколько они повредят расчётам. "
   ]
  },
  {
   "cell_type": "markdown",
   "metadata": {
    "deletable": false,
    "editable": false,
    "id": "fSv2laPA_Zct",
    "tags": [
     "start_task"
    ]
   },
   "source": [
    "**Задание 10**\n",
    "\n",
    "Замените пропущенные значения в столбцах `track`, `artist` и `genre` на строку `'unknown'`. Для этого создайте список `columns_to_replace`, переберите его элементы циклом `for` и для каждого столбца выполните замену пропущенных значений:"
   ]
  },
  {
   "cell_type": "code",
   "execution_count": 11,
   "metadata": {
    "deletable": false,
    "id": "KplB5qWs_Zct"
   },
   "outputs": [],
   "source": [
    "# перебор названий столбцов в цикле и замена пропущенных значений на 'unknown'\n",
    "\n",
    "columns_to_replace = ['track', 'artist', 'genre']\n",
    "#df = df['track'].fillna(0)\n",
    "#display(df['track'])\n",
    "#df['track'] = df['track'].fillna(0)\n",
    "#df.isna().sum()\n",
    "\n",
    "for column in columns_to_replace:\n",
    "#    print(column)\n",
    "    df[column] = df[column].fillna('unknown')\n"
   ]
  },
  {
   "cell_type": "markdown",
   "metadata": {
    "deletable": false,
    "editable": false,
    "id": "Ilsm-MZo_Zct",
    "tags": [
     "start_task"
    ]
   },
   "source": [
    "**Задание 11**\n",
    "\n",
    "Убедитесь, что в таблице не осталось пропусков. Для этого ещё раз посчитайте пропущенные значения."
   ]
  },
  {
   "cell_type": "code",
   "execution_count": 12,
   "metadata": {
    "deletable": false,
    "id": "Tq4nYRX4_Zct"
   },
   "outputs": [
    {
     "data": {
      "text/plain": [
       "Unnamed: 0    0\n",
       "user_id       0\n",
       "track         0\n",
       "artist        0\n",
       "genre         0\n",
       "city          0\n",
       "time          0\n",
       "day           0\n",
       "dtype: int64"
      ]
     },
     "execution_count": 12,
     "metadata": {},
     "output_type": "execute_result"
    }
   ],
   "source": [
    "# подсчёт пропусков\n",
    "df.isna().sum()"
   ]
  },
  {
   "cell_type": "markdown",
   "metadata": {
    "deletable": false,
    "editable": false,
    "id": "BWKRtBJ3_Zct",
    "tags": [
     "start_task"
    ]
   },
   "source": [
    "### Дубликаты\n",
    "\n",
    "**Задание 12**\n",
    "\n",
    "Посчитайте явные дубликаты в таблице одной командой:"
   ]
  },
  {
   "cell_type": "code",
   "execution_count": 13,
   "metadata": {
    "deletable": false,
    "id": "36eES_S0_Zct"
   },
   "outputs": [
    {
     "data": {
      "text/plain": [
       "0"
      ]
     },
     "execution_count": 13,
     "metadata": {},
     "output_type": "execute_result"
    }
   ],
   "source": [
    "# подсчёт явных дубликатов\n",
    "df.duplicated().sum()"
   ]
  },
  {
   "cell_type": "markdown",
   "metadata": {
    "deletable": false,
    "editable": false,
    "id": "Ot25h6XR_Zct",
    "tags": [
     "start_task"
    ]
   },
   "source": [
    "**Задание 13**\n",
    "\n",
    "Вызовите специальный метод `pandas`, чтобы удалить явные дубликаты:"
   ]
  },
  {
   "cell_type": "code",
   "execution_count": 14,
   "metadata": {
    "deletable": false,
    "id": "exFHq6tt_Zct"
   },
   "outputs": [],
   "source": [
    "# удаление явных дубликатов\n",
    "df = df.drop_duplicates().reset_index(drop=True)"
   ]
  },
  {
   "cell_type": "markdown",
   "metadata": {
    "deletable": false,
    "editable": false,
    "id": "Im2YwBEG_Zct",
    "tags": [
     "start_task"
    ]
   },
   "source": [
    "**Задание 14**\n",
    "\n",
    "Ещё раз посчитайте явные дубликаты в таблице — убедитесь, что полностью от них избавились:"
   ]
  },
  {
   "cell_type": "code",
   "execution_count": 15,
   "metadata": {
    "deletable": false,
    "id": "-8PuNWQ0_Zct"
   },
   "outputs": [
    {
     "data": {
      "text/plain": [
       "0"
      ]
     },
     "execution_count": 15,
     "metadata": {},
     "output_type": "execute_result"
    }
   ],
   "source": [
    "# проверка на отсутствие дубликатов\n",
    "df.duplicated().sum()"
   ]
  },
  {
   "cell_type": "markdown",
   "metadata": {
    "deletable": false,
    "editable": false,
    "id": "QlFBsxAr_Zct"
   },
   "source": [
    "Теперь избавьтесь от неявных дубликатов в колонке `genre`. Например, название одного и того же жанра может быть записано немного по-разному. Такие ошибки тоже повлияют на результат исследования."
   ]
  },
  {
   "cell_type": "markdown",
   "metadata": {
    "deletable": false,
    "editable": false,
    "id": "eSjWwsOh_Zct",
    "tags": [
     "start_task"
    ]
   },
   "source": [
    "**Задание 15**\n",
    "\n",
    "Выведите на экран список уникальных названий жанров, отсортированный в алфавитном порядке. Для этого:\n",
    "1. извлеките нужный столбец датафрейма; \n",
    "2. примените к нему метод сортировки;\n",
    "3. для отсортированного столбца вызовите метод, который вернёт уникальные значения из столбца."
   ]
  },
  {
   "cell_type": "code",
   "execution_count": 16,
   "metadata": {
    "deletable": false,
    "id": "JIUcqzZN_Zct"
   },
   "outputs": [
    {
     "data": {
      "text/plain": [
       "array(['rock', 'pop', 'folk', 'dance', 'rusrap', 'ruspop', 'world',\n",
       "       'electronic', 'unknown', 'alternative', 'children', 'rnb', 'hip',\n",
       "       'jazz', 'postrock', 'latin', 'classical', 'metal', 'reggae',\n",
       "       'tatar', 'blues', 'instrumental', 'rusrock', 'dnb', 'türk', 'post',\n",
       "       'country', 'psychedelic', 'conjazz', 'indie', 'posthardcore',\n",
       "       'local', 'avantgarde', 'punk', 'videogame', 'techno', 'house',\n",
       "       'christmas', 'melodic', 'caucasian', 'reggaeton', 'soundtrack',\n",
       "       'singer', 'ska', 'shanson', 'ambient', 'film', 'western', 'rap',\n",
       "       'beats', \"hard'n'heavy\", 'progmetal', 'minimal', 'contemporary',\n",
       "       'new', 'soul', 'holiday', 'german', 'tropical', 'fairytail',\n",
       "       'spiritual', 'urban', 'gospel', 'nujazz', 'folkmetal', 'trance',\n",
       "       'miscellaneous', 'anime', 'hardcore', 'progressive', 'chanson',\n",
       "       'numetal', 'vocal', 'estrada', 'russian', 'classicmetal',\n",
       "       'dubstep', 'club', 'deep', 'southern', 'black', 'folkrock',\n",
       "       'fitness', 'french', 'disco', 'religious', 'hiphop', 'drum',\n",
       "       'extrememetal', 'türkçe', 'experimental', 'easy', 'metalcore',\n",
       "       'modern', 'argentinetango', 'old', 'breaks', 'eurofolk',\n",
       "       'stonerrock', 'industrial', 'funk', 'jpop', 'middle', 'variété',\n",
       "       'other', 'adult', 'christian', 'gothic', 'international', 'muslim',\n",
       "       'relax', 'schlager', 'caribbean', 'ukrrock', 'nu', 'breakbeat',\n",
       "       'comedy', 'chill', 'newage', 'specialty', 'uzbek', 'k-pop',\n",
       "       'balkan', 'chinese', 'meditative', 'dub', 'power', 'death',\n",
       "       'grime', 'arabesk', 'romance', 'flamenco', 'leftfield', 'european',\n",
       "       'tech', 'newwave', 'dancehall', 'mpb', 'piano', 'top', 'bigroom',\n",
       "       'opera', 'celtic', 'tradjazz', 'acoustic', 'epicmetal', 'hip-hop',\n",
       "       'historisch', 'downbeat', 'downtempo', 'africa', 'audiobook',\n",
       "       'jewish', 'sängerportrait', 'deutschrock', 'eastern', 'action',\n",
       "       'future', 'electropop', 'folklore', 'bollywood', 'marschmusik',\n",
       "       'rnr', 'karaoke', 'indian', 'rancheras', 'электроника',\n",
       "       'afrikaans', 'tango', 'rhythm', 'sound', 'deutschspr', 'trip',\n",
       "       'lovers', 'choral', 'dancepop', 'podcasts', 'retro', 'smooth',\n",
       "       'mexican', 'brazilian', 'ïîï', 'mood', 'surf', 'author', 'gangsta',\n",
       "       'triphop', 'inspirational', 'idm', 'ethnic', 'bluegrass',\n",
       "       'broadway', 'animated', 'americana', 'karadeniz', 'rockabilly',\n",
       "       'colombian', 'self', 'hop', 'synthrock', 'sertanejo', 'japanese',\n",
       "       'canzone', 'swing', 'lounge', 'sport', 'korean', 'ragga',\n",
       "       'traditional', 'gitarre', 'frankreich', 'alternativepunk', 'emo',\n",
       "       'laiko', 'cantopop', 'glitch', 'documentary', 'rockalternative',\n",
       "       'thrash', 'hymn', 'oceania', 'rockother', 'popeurodance', 'dark',\n",
       "       'vi', 'grunge', 'hardstyle', 'samba', 'garage', 'soft', 'art',\n",
       "       'folktronica', 'entehno', 'mediterranean', 'chamber', 'cuban',\n",
       "       'taraftar', 'rockindie', 'gypsy', 'hardtechno', 'shoegazing',\n",
       "       'skarock', 'bossa', 'salsa', 'latino', 'worldbeat', 'malaysian',\n",
       "       'baile', 'ghazal', 'loungeelectronic', 'arabic', 'popelectronic',\n",
       "       'acid', 'kayokyoku', 'neoklassik', 'tribal', 'tanzorchester',\n",
       "       'native', 'independent', 'cantautori', 'handsup', 'poprussian',\n",
       "       'punjabi', 'synthpop', 'rave', 'französisch', 'quebecois',\n",
       "       'speech', 'soulful', 'teen', 'jam', 'ram', 'horror', 'scenic',\n",
       "       'orchestral', 'neue', 'roots', 'slow', 'jungle', 'indipop', 'axé',\n",
       "       'fado', 'showtunes', 'arena', 'irish', 'mandopop', 'forró',\n",
       "       'popdance', 'dirty', 'regional'], dtype=object)"
      ]
     },
     "execution_count": 16,
     "metadata": {},
     "output_type": "execute_result"
    }
   ],
   "source": [
    "# Просмотр уникальных названий жанров\n",
    "\n",
    "df['genre'] = df['genre'].sort_values() \n",
    "df['genre'].unique()\n",
    "\n"
   ]
  },
  {
   "cell_type": "markdown",
   "metadata": {
    "deletable": false,
    "editable": false,
    "id": "qej-Qmuo_Zct",
    "tags": [
     "start_task"
    ]
   },
   "source": [
    "**Задание 16**\n",
    "\n",
    "Просмотрите список и найдите неявные дубликаты названия `hiphop`. Это могут быть названия с ошибками или альтернативные названия того же жанра.\n",
    "\n",
    "Вы увидите следующие неявные дубликаты:\n",
    "* *hip*,\n",
    "* *hop*,\n",
    "* *hip-hop*.\n",
    "\n",
    "Чтобы очистить от них таблицу используйте метод `replace()` с двумя аргументами: списком строк-дубликатов (включащий *hip*, *hop* и *hip-hop*) и строкой с правильным значением. Вам нужно исправить колонку `genre` в таблице `df`: заменить каждое значение из списка дубликатов на верное. Вместо `hip`, `hop` и `hip-hop` в таблице должно быть значение `hiphop`:"
   ]
  },
  {
   "cell_type": "code",
   "execution_count": 17,
   "metadata": {
    "deletable": false,
    "id": "ErNDkmns_Zct"
   },
   "outputs": [],
   "source": [
    "# Устранение неявных дубликатов\n",
    "df = df.replace(['hip', 'hop', 'hip-hop'], 'hiphop')"
   ]
  },
  {
   "cell_type": "markdown",
   "metadata": {
    "deletable": false,
    "editable": false,
    "id": "zQKF16_RG15m",
    "tags": [
     "start_task"
    ]
   },
   "source": [
    "**Задание 17**\n",
    "\n",
    "Проверьте, что заменили неправильные названия:\n",
    "\n",
    "*   hip,\n",
    "*   hop,\n",
    "*   hip-hop.\n",
    "\n",
    "Выведите отсортированный список уникальных значений столбца `genre`:"
   ]
  },
  {
   "cell_type": "code",
   "execution_count": 18,
   "metadata": {
    "deletable": false,
    "id": "wvixALnFG15m"
   },
   "outputs": [
    {
     "data": {
      "text/plain": [
       "array(['rock', 'pop', 'folk', 'dance', 'rusrap', 'ruspop', 'world',\n",
       "       'electronic', 'unknown', 'alternative', 'children', 'rnb',\n",
       "       'hiphop', 'jazz', 'postrock', 'latin', 'classical', 'metal',\n",
       "       'reggae', 'tatar', 'blues', 'instrumental', 'rusrock', 'dnb',\n",
       "       'türk', 'post', 'country', 'psychedelic', 'conjazz', 'indie',\n",
       "       'posthardcore', 'local', 'avantgarde', 'punk', 'videogame',\n",
       "       'techno', 'house', 'christmas', 'melodic', 'caucasian',\n",
       "       'reggaeton', 'soundtrack', 'singer', 'ska', 'shanson', 'ambient',\n",
       "       'film', 'western', 'rap', 'beats', \"hard'n'heavy\", 'progmetal',\n",
       "       'minimal', 'contemporary', 'new', 'soul', 'holiday', 'german',\n",
       "       'tropical', 'fairytail', 'spiritual', 'urban', 'gospel', 'nujazz',\n",
       "       'folkmetal', 'trance', 'miscellaneous', 'anime', 'hardcore',\n",
       "       'progressive', 'chanson', 'numetal', 'vocal', 'estrada', 'russian',\n",
       "       'classicmetal', 'dubstep', 'club', 'deep', 'southern', 'black',\n",
       "       'folkrock', 'fitness', 'french', 'disco', 'religious', 'drum',\n",
       "       'extrememetal', 'türkçe', 'experimental', 'easy', 'metalcore',\n",
       "       'modern', 'argentinetango', 'old', 'breaks', 'eurofolk',\n",
       "       'stonerrock', 'industrial', 'funk', 'jpop', 'middle', 'variété',\n",
       "       'other', 'adult', 'christian', 'gothic', 'international', 'muslim',\n",
       "       'relax', 'schlager', 'caribbean', 'ukrrock', 'nu', 'breakbeat',\n",
       "       'comedy', 'chill', 'newage', 'specialty', 'uzbek', 'k-pop',\n",
       "       'balkan', 'chinese', 'meditative', 'dub', 'power', 'death',\n",
       "       'grime', 'arabesk', 'romance', 'flamenco', 'leftfield', 'european',\n",
       "       'tech', 'newwave', 'dancehall', 'mpb', 'piano', 'top', 'bigroom',\n",
       "       'opera', 'celtic', 'tradjazz', 'acoustic', 'epicmetal',\n",
       "       'historisch', 'downbeat', 'downtempo', 'africa', 'audiobook',\n",
       "       'jewish', 'sängerportrait', 'deutschrock', 'eastern', 'action',\n",
       "       'future', 'electropop', 'folklore', 'bollywood', 'marschmusik',\n",
       "       'rnr', 'karaoke', 'indian', 'rancheras', 'электроника',\n",
       "       'afrikaans', 'tango', 'rhythm', 'sound', 'deutschspr', 'trip',\n",
       "       'lovers', 'choral', 'dancepop', 'podcasts', 'retro', 'smooth',\n",
       "       'mexican', 'brazilian', 'ïîï', 'mood', 'surf', 'author', 'gangsta',\n",
       "       'triphop', 'inspirational', 'idm', 'ethnic', 'bluegrass',\n",
       "       'broadway', 'animated', 'americana', 'karadeniz', 'rockabilly',\n",
       "       'colombian', 'self', 'synthrock', 'sertanejo', 'japanese',\n",
       "       'canzone', 'swing', 'lounge', 'sport', 'korean', 'ragga',\n",
       "       'traditional', 'gitarre', 'frankreich', 'alternativepunk', 'emo',\n",
       "       'laiko', 'cantopop', 'glitch', 'documentary', 'rockalternative',\n",
       "       'thrash', 'hymn', 'oceania', 'rockother', 'popeurodance', 'dark',\n",
       "       'vi', 'grunge', 'hardstyle', 'samba', 'garage', 'soft', 'art',\n",
       "       'folktronica', 'entehno', 'mediterranean', 'chamber', 'cuban',\n",
       "       'taraftar', 'rockindie', 'gypsy', 'hardtechno', 'shoegazing',\n",
       "       'skarock', 'bossa', 'salsa', 'latino', 'worldbeat', 'malaysian',\n",
       "       'baile', 'ghazal', 'loungeelectronic', 'arabic', 'popelectronic',\n",
       "       'acid', 'kayokyoku', 'neoklassik', 'tribal', 'tanzorchester',\n",
       "       'native', 'independent', 'cantautori', 'handsup', 'poprussian',\n",
       "       'punjabi', 'synthpop', 'rave', 'französisch', 'quebecois',\n",
       "       'speech', 'soulful', 'teen', 'jam', 'ram', 'horror', 'scenic',\n",
       "       'orchestral', 'neue', 'roots', 'slow', 'jungle', 'indipop', 'axé',\n",
       "       'fado', 'showtunes', 'arena', 'irish', 'mandopop', 'forró',\n",
       "       'popdance', 'dirty', 'regional'], dtype=object)"
      ]
     },
     "execution_count": 18,
     "metadata": {},
     "output_type": "execute_result"
    }
   ],
   "source": [
    "# Проверка на неявные дубликаты\n",
    "#display(df['genre'].unique())\n",
    "df['genre'].unique()"
   ]
  },
  {
   "cell_type": "markdown",
   "metadata": {
    "deletable": false,
    "editable": false,
    "id": "jz6a9-7HQUDd"
   },
   "source": [
    "**Выводы**\n",
    "\n",
    "Предобработка обнаружила три проблемы в данных:\n",
    "\n",
    "- нарушения в стиле заголовков,\n",
    "- пропущенные значения,\n",
    "- дубликаты — явные и неявные.\n",
    "\n",
    "Вы исправили заголовки, чтобы упростить работу с таблицей. Без дубликатов исследование станет более точным.\n",
    "\n",
    "Пропущенные значения вы заменили на `'unknown'`. Ещё предстоит увидеть, не повредят ли исследованию пропуски в колонке `genre`.\n",
    "\n",
    "Теперь можно перейти к проверке гипотез. "
   ]
  },
  {
   "cell_type": "markdown",
   "metadata": {
    "deletable": false,
    "editable": false,
    "id": "WttZHXH0SqKk"
   },
   "source": [
    "## Проверка гипотез"
   ]
  },
  {
   "cell_type": "markdown",
   "metadata": {
    "deletable": false,
    "editable": false,
    "id": "Im936VVi_Zcu"
   },
   "source": [
    "### Сравнение поведения пользователей двух столиц"
   ]
  },
  {
   "cell_type": "markdown",
   "metadata": {
    "deletable": false,
    "editable": false,
    "id": "nwt_MuaL_Zcu"
   },
   "source": [
    "Первая гипотеза утверждает, что пользователи по-разному слушают музыку в Москве и Санкт-Петербурге. Проверьте это предположение по данным о трёх днях недели — понедельнике, среде и пятнице. Для этого:\n",
    "\n",
    "* Разделите пользователей Москвы и Санкт-Петербурга.\n",
    "* Сравните, сколько треков послушала каждая группа пользователей в понедельник, среду и пятницу.\n"
   ]
  },
  {
   "cell_type": "markdown",
   "metadata": {
    "deletable": false,
    "editable": false,
    "id": "8Dw_YMmT_Zcu",
    "tags": [
     "start_task"
    ]
   },
   "source": [
    "**Задание 18**\n",
    "\n",
    "Для тренировки сначала выполните каждый из расчётов по отдельности. \n",
    "\n",
    "Оцените активность пользователей в каждом городе. Сгруппируйте данные по городу и посчитайте прослушивания в каждой группе.\n",
    "\n"
   ]
  },
  {
   "cell_type": "code",
   "execution_count": 19,
   "metadata": {
    "deletable": false,
    "id": "0_Qs96oh_Zcu"
   },
   "outputs": [
    {
     "data": {
      "text/plain": [
       "city\n",
       "Moscow              45360\n",
       "Saint-Petersburg    19719\n",
       "Name: track, dtype: int64"
      ]
     },
     "execution_count": 19,
     "metadata": {},
     "output_type": "execute_result"
    }
   ],
   "source": [
    "# Подсчёт прослушиваний в каждом городе\n",
    "listen = df.groupby('city')['track'].count() \n",
    "#display(listen)\n",
    "listen"
   ]
  },
  {
   "cell_type": "markdown",
   "metadata": {
    "deletable": false,
    "editable": false,
    "id": "dzli3w8o_Zcu",
    "tags": [
     "start_task"
    ]
   },
   "source": [
    "В Москве прослушиваний больше, чем в Петербурге. Из этого не следует, что московские пользователи чаще слушают музыку. Просто самих пользователей в Москве больше.\n",
    "\n",
    "**Задание 19**\n",
    "\n",
    "Теперь сгруппируйте данные по дню недели и посчитайте прослушивания в понедельник, среду и пятницу. Учтите, что в данных есть информация о прослушиваниях только за эти дни.\n"
   ]
  },
  {
   "cell_type": "code",
   "execution_count": 20,
   "metadata": {
    "deletable": false,
    "id": "uZMKjiJz_Zcu"
   },
   "outputs": [
    {
     "data": {
      "text/plain": [
       "day\n",
       "Friday       23149\n",
       "Monday       22697\n",
       "Wednesday    19233\n",
       "Name: track, dtype: int64"
      ]
     },
     "execution_count": 20,
     "metadata": {},
     "output_type": "execute_result"
    }
   ],
   "source": [
    "# Подсчёт прослушиваний в каждый из трёх дней\n",
    "week_day_sort = df.groupby('day')['track'].count()\n",
    "#display(week_day_sort)\n",
    "week_day_sort"
   ]
  },
  {
   "cell_type": "markdown",
   "metadata": {
    "deletable": false,
    "editable": false,
    "id": "cC2tNrlL_Zcu"
   },
   "source": [
    "В среднем пользователи из двух городов менее активны по средам. Но картина может измениться, если рассмотреть каждый город в отдельности."
   ]
  },
  {
   "cell_type": "markdown",
   "metadata": {
    "deletable": false,
    "editable": false,
    "id": "POzs8bGa_Zcu",
    "tags": [
     "start_task"
    ]
   },
   "source": [
    "**Задание 20**\n",
    "\n",
    "\n",
    "Вы видели, как работает группировка по городу и по дням недели. Теперь напишите функцию, которая объединит два эти расчёта.\n",
    "\n",
    "Создайте функцию `number_tracks()`, которая посчитает прослушивания для заданного дня и города. Ей понадобятся два параметра:\n",
    "* день недели,\n",
    "* название города.\n",
    "\n",
    "В функции сохраните в переменную строки исходной таблицы, у которых значение:\n",
    "  * в колонке `day` равно параметру `day`,\n",
    "  * в колонке `city` равно параметру `city`.\n",
    "\n",
    "Для этого примените последовательную фильтрацию с логической индексацией (или сложные логические выражения в одну строку, если вы уже знакомы с ними).\n",
    "\n",
    "Затем посчитайте значения в столбце `user_id` получившейся таблицы. Результат сохраните в новую переменную. Верните эту переменную из функции."
   ]
  },
  {
   "cell_type": "code",
   "execution_count": 21,
   "metadata": {
    "deletable": false,
    "id": "Nz3GdQB1_Zcu"
   },
   "outputs": [],
   "source": [
    "# <создание функции number_tracks()>\n",
    "# Объявляется функция с двумя параметрами: day, city.\n",
    "# В переменной track_list сохраняются те строки таблицы df, для которых \n",
    "# значение в столбце 'day' равно параметру day и одновременно значение\n",
    "# в столбце 'city' равно параметру city (используйте последовательную фильтрацию\n",
    "# с помощью логической индексации или сложные логические выражения в одну строку, если вы уже знакомы с ними).\n",
    "# В переменной track_list_count сохраняется число значений столбца 'user_id',\n",
    "# рассчитанное методом count() для таблицы track_list.\n",
    "# Функция возвращает число - значение track_list_count.\n",
    "\n",
    "# Функция для подсчёта прослушиваний для конкретного города и дня.\n",
    "# С помощью последовательной фильтрации с логической индексацией она \n",
    "# сначала получит из исходной таблицы строки с нужным днём,\n",
    "# затем из результата отфильтрует строки с нужным городом,\n",
    "# методом count() посчитает количество значений в колонке user_id. \n",
    "# Это количество функция вернёт в качестве результата\n",
    "\n",
    "def number_tracks(day, city):\n",
    "    track_list = df[df['day'] == day]\n",
    "    track_list = track_list[track_list['city'] == city]\n",
    "    track_list_count = track_list['user_id'].count()\n",
    "    print(day, city, track_list_count)\n",
    "    return track_list_count"
   ]
  },
  {
   "cell_type": "markdown",
   "metadata": {
    "deletable": false,
    "editable": false,
    "id": "ytf7xFrFJQ2r",
    "tags": [
     "start_task"
    ]
   },
   "source": [
    "**Задание 21**\n",
    "\n",
    "Вызовите `number_tracks()` шесть раз, меняя значение параметров — так, чтобы получить данные для каждого города в каждый из трёх дней."
   ]
  },
  {
   "cell_type": "code",
   "execution_count": 22,
   "metadata": {
    "deletable": false,
    "id": "rJcRATNQ_Zcu"
   },
   "outputs": [
    {
     "name": "stdout",
     "output_type": "stream",
     "text": [
      "Monday Moscow 16715\n"
     ]
    },
    {
     "data": {
      "text/plain": [
       "16715"
      ]
     },
     "execution_count": 22,
     "metadata": {},
     "output_type": "execute_result"
    }
   ],
   "source": [
    "# количество прослушиваний в Москве по понедельникам\n",
    "number_tracks('Monday', \"Moscow\")"
   ]
  },
  {
   "cell_type": "code",
   "execution_count": 23,
   "metadata": {
    "deletable": false,
    "id": "hq_ncZ5T_Zcu"
   },
   "outputs": [
    {
     "name": "stdout",
     "output_type": "stream",
     "text": [
      "Monday Saint-Petersburg 5982\n"
     ]
    },
    {
     "data": {
      "text/plain": [
       "5982"
      ]
     },
     "execution_count": 23,
     "metadata": {},
     "output_type": "execute_result"
    }
   ],
   "source": [
    "# количество прослушиваний в Санкт-Петербурге по понедельникам\n",
    "number_tracks('Monday', \"Saint-Petersburg\")"
   ]
  },
  {
   "cell_type": "code",
   "execution_count": 24,
   "metadata": {
    "deletable": false,
    "id": "_NTy2VPU_Zcu"
   },
   "outputs": [
    {
     "name": "stdout",
     "output_type": "stream",
     "text": [
      "Wednesday Moscow 11755\n"
     ]
    },
    {
     "data": {
      "text/plain": [
       "11755"
      ]
     },
     "execution_count": 24,
     "metadata": {},
     "output_type": "execute_result"
    }
   ],
   "source": [
    "# количество прослушиваний в Москве по средам\n",
    "number_tracks('Wednesday', \"Moscow\")"
   ]
  },
  {
   "cell_type": "code",
   "execution_count": 25,
   "metadata": {
    "deletable": false,
    "id": "j2y3TAwo_Zcu"
   },
   "outputs": [
    {
     "name": "stdout",
     "output_type": "stream",
     "text": [
      "Wednesday Saint-Petersburg 7478\n"
     ]
    },
    {
     "data": {
      "text/plain": [
       "7478"
      ]
     },
     "execution_count": 25,
     "metadata": {},
     "output_type": "execute_result"
    }
   ],
   "source": [
    "# количество прослушиваний в Санкт-Петербурге по средам\n",
    "number_tracks('Wednesday', \"Saint-Petersburg\")"
   ]
  },
  {
   "cell_type": "code",
   "execution_count": 26,
   "metadata": {
    "deletable": false,
    "id": "vYDw5u_K_Zcu"
   },
   "outputs": [
    {
     "name": "stdout",
     "output_type": "stream",
     "text": [
      "Friday Moscow 16890\n"
     ]
    },
    {
     "data": {
      "text/plain": [
       "16890"
      ]
     },
     "execution_count": 26,
     "metadata": {},
     "output_type": "execute_result"
    }
   ],
   "source": [
    "# количество прослушиваний в Москве по пятницам\n",
    "number_tracks('Friday', \"Moscow\")"
   ]
  },
  {
   "cell_type": "code",
   "execution_count": 27,
   "metadata": {
    "deletable": false,
    "id": "8_yzFtW3_Zcu"
   },
   "outputs": [
    {
     "name": "stdout",
     "output_type": "stream",
     "text": [
      "Friday Saint-Petersburg 6259\n"
     ]
    },
    {
     "data": {
      "text/plain": [
       "6259"
      ]
     },
     "execution_count": 27,
     "metadata": {},
     "output_type": "execute_result"
    }
   ],
   "source": [
    "# количество прослушиваний в Санкт-Петербурге по пятницам\n",
    "number_tracks('Friday', \"Saint-Petersburg\")"
   ]
  },
  {
   "cell_type": "markdown",
   "metadata": {
    "deletable": false,
    "editable": false,
    "id": "7QXffbO-_Zcu",
    "tags": [
     "start_task"
    ]
   },
   "source": [
    "**Задание 22**\n",
    "\n",
    "Создайте c помощью конструктора `pd.DataFrame` таблицу, где\n",
    "* названия колонок — `['city', 'monday', 'wednesday', 'friday']`;\n",
    "* данные — результаты, которые вы получили с помощью `number_tracks`."
   ]
  },
  {
   "cell_type": "code",
   "execution_count": 28,
   "metadata": {
    "deletable": false,
    "id": "APAcLpOr_Zcu"
   },
   "outputs": [
    {
     "data": {
      "text/html": [
       "<div>\n",
       "<style scoped>\n",
       "    .dataframe tbody tr th:only-of-type {\n",
       "        vertical-align: middle;\n",
       "    }\n",
       "\n",
       "    .dataframe tbody tr th {\n",
       "        vertical-align: top;\n",
       "    }\n",
       "\n",
       "    .dataframe thead th {\n",
       "        text-align: right;\n",
       "    }\n",
       "</style>\n",
       "<table border=\"1\" class=\"dataframe\">\n",
       "  <thead>\n",
       "    <tr style=\"text-align: right;\">\n",
       "      <th></th>\n",
       "      <th>city</th>\n",
       "      <th>monday</th>\n",
       "      <th>wednesday</th>\n",
       "      <th>friday</th>\n",
       "    </tr>\n",
       "  </thead>\n",
       "  <tbody>\n",
       "    <tr>\n",
       "      <th>0</th>\n",
       "      <td>Moscow</td>\n",
       "      <td>15740</td>\n",
       "      <td>11056</td>\n",
       "      <td>15945</td>\n",
       "    </tr>\n",
       "    <tr>\n",
       "      <th>1</th>\n",
       "      <td>Saint-Petersburg</td>\n",
       "      <td>5614</td>\n",
       "      <td>7003</td>\n",
       "      <td>5895</td>\n",
       "    </tr>\n",
       "  </tbody>\n",
       "</table>\n",
       "</div>"
      ],
      "text/plain": [
       "               city  monday  wednesday  friday\n",
       "0            Moscow   15740      11056   15945\n",
       "1  Saint-Petersburg    5614       7003    5895"
      ]
     },
     "execution_count": 28,
     "metadata": {},
     "output_type": "execute_result"
    }
   ],
   "source": [
    "# Таблица с результатами\n",
    "pd.DataFrame(data=[['Moscow',15740, 11056,15945], ['Saint-Petersburg', 5614, 7003, 5895]], columns = ['city', 'monday', 'wednesday', 'friday']) "
   ]
  },
  {
   "cell_type": "markdown",
   "metadata": {
    "deletable": false,
    "editable": false,
    "id": "-EgPIHYu_Zcu"
   },
   "source": [
    "**Выводы**\n",
    "\n",
    "Данные показывают разницу поведения пользователей:\n",
    "\n",
    "- В Москве пик прослушиваний приходится на понедельник и пятницу, а в среду заметен спад.\n",
    "- В Петербурге, наоборот, больше слушают музыку по средам. Активность в понедельник и пятницу здесь почти в равной мере уступает среде.\n",
    "\n",
    "Значит, данные говорят в пользу первой гипотезы."
   ]
  },
  {
   "cell_type": "markdown",
   "metadata": {
    "deletable": false,
    "editable": false,
    "id": "atZAxtq4_Zcu"
   },
   "source": [
    "### Музыка в начале и в конце недели"
   ]
  },
  {
   "cell_type": "markdown",
   "metadata": {
    "deletable": false,
    "editable": false,
    "id": "eXrQqXFH_Zcu"
   },
   "source": [
    "Согласно второй гипотезе, утром в понедельник в Москве преобладают одни жанры, а в Петербурге — другие. Так же и вечером пятницы преобладают разные жанры — в зависимости от города."
   ]
  },
  {
   "cell_type": "markdown",
   "metadata": {
    "deletable": false,
    "editable": false,
    "id": "S8UcW6Hw_Zcu",
    "tags": [
     "start_task"
    ]
   },
   "source": [
    "**Задание 23**\n",
    "\n",
    "Сохраните таблицы с данными в две переменные:\n",
    "* по Москве — в `moscow_general`;\n",
    "* по Санкт-Петербургу — в `spb_general`."
   ]
  },
  {
   "cell_type": "code",
   "execution_count": 29,
   "metadata": {
    "deletable": false,
    "id": "qeaFfM_P_Zcu"
   },
   "outputs": [],
   "source": [
    "# получение таблицы moscow_general из тех строк таблицы df, \n",
    "# для которых значение в столбце 'city' равно 'Moscow'\n",
    "moscow_general = df[df['city']=='Moscow']"
   ]
  },
  {
   "cell_type": "code",
   "execution_count": 30,
   "metadata": {
    "deletable": false,
    "id": "ORaVRKto_Zcu"
   },
   "outputs": [],
   "source": [
    "# получение таблицы spb_general из тех строк таблицы df,\n",
    "# для которых значение в столбце 'city' равно 'Saint-Petersburg'\n",
    "spb_general = df[df['city']=='Saint-Petersburg']"
   ]
  },
  {
   "cell_type": "markdown",
   "metadata": {
    "deletable": false,
    "editable": false,
    "id": "MEJV-CX2_Zcu",
    "tags": [
     "start_task"
    ]
   },
   "source": [
    "**Задание 24**\n",
    "\n",
    "Создайте функцию `genre_weekday()` с четырьмя параметрами:\n",
    "* таблица (датафрейм) с данными,\n",
    "* день недели,\n",
    "* начальная временная метка в формате 'hh:mm', \n",
    "* последняя временная метка в формате 'hh:mm'.\n",
    "\n",
    "Функция должна вернуть информацию о топ-10 жанров тех треков, которые прослушивали в указанный день, в промежутке между двумя отметками времени."
   ]
  },
  {
   "cell_type": "code",
   "execution_count": 31,
   "metadata": {
    "deletable": false,
    "id": "laJT9BYl_Zcu"
   },
   "outputs": [],
   "source": [
    "# Объявление функции genre_weekday() с параметрами table, day, time1, time2,\n",
    "# которая возвращает информацию о самых популярных жанрах в указанный день в\n",
    "# заданное время:\n",
    "# 1) в переменную genre_df сохраняются те строки переданного датафрейма table, для\n",
    "#    которых одновременно:\n",
    "#    - значение в столбце day равно значению аргумента day\n",
    "#    - значение в столбце time больше значения аргумента time1\n",
    "#    - значение в столбце time меньше значения аргумента time2\n",
    "#    Используйте последовательную фильтрацию с помощью логической индексации.\n",
    "# 2) сгруппировать датафрейм genre_df по столбцу genre, взять один из его\n",
    "#    столбцов и посчитать методом count() количество записей для каждого из\n",
    "#    присутствующих жанров, получившийся Series записать в переменную\n",
    "#    genre_df_count\n",
    "# 3) отсортировать genre_df_count по убыванию встречаемости и сохранить\n",
    "#    в переменную genre_df_sorted\n",
    "# 4) вернуть Series из 10 первых значений genre_df_sorted, это будут топ-10\n",
    "#    популярных жанров (в указанный день, в заданное время)\n",
    "\n",
    "def genre_weekday(df, day, time1, time2):\n",
    "    # последовательная фильтрация\n",
    "    # оставляем в genre_df только те строки df, у которых день равен day\n",
    "    genre_df = df[df['day']==day] # ваш код здесь\n",
    "    # оставляем в genre_df только те строки genre_df, у которых время меньше time2\n",
    "    genre_df = genre_df[genre_df['time'] < time2] # ваш код здесь\n",
    "    # оставляем в genre_df только те строки genre_df, у которых время больше time1\n",
    "    genre_df = genre_df[genre_df['time'] > time1] # ваш код здесь\n",
    "    # сгруппируем отфильтрованный датафрейм по столбцу с названиями жанров, возьмём столбец genre и посчитаем кол-во строк для каждого жанра методом count()\n",
    "    genre_df_grouped = genre_df.groupby('genre')['genre'].count() # ваш код здесь\n",
    "    # отсортируем результат по убыванию (чтобы в начале Series оказались самые популярные жанры)\n",
    "    genre_df_sorted = genre_df_grouped.sort_values(ascending=False)  # ваш код здесь\n",
    "    # вернём Series с 10 самыми популярными жанрами в указанный отрезок времени заданного дня\n",
    "    return genre_df_sorted[:10]"
   ]
  },
  {
   "cell_type": "markdown",
   "metadata": {
    "deletable": false,
    "editable": false,
    "id": "la2s2_PF_Zcu",
    "tags": [
     "start_task"
    ]
   },
   "source": [
    "**Задание 25**\n",
    "\n",
    "\n",
    "Cравните результаты функции `genre_weekday()` для Москвы и Санкт-Петербурга в понедельник утром (с 7:00 до 11:00) и в пятницу вечером (с 17:00 до 23:00):"
   ]
  },
  {
   "cell_type": "code",
   "execution_count": 32,
   "metadata": {
    "deletable": false,
    "id": "yz7itPUQ_Zcu"
   },
   "outputs": [
    {
     "data": {
      "text/plain": [
       "genre\n",
       "pop            830\n",
       "dance          589\n",
       "rock           511\n",
       "electronic     501\n",
       "hiphop         311\n",
       "ruspop         203\n",
       "world          190\n",
       "rusrap         188\n",
       "alternative    175\n",
       "unknown        172\n",
       "Name: genre, dtype: int64"
      ]
     },
     "execution_count": 32,
     "metadata": {},
     "output_type": "execute_result"
    }
   ],
   "source": [
    "# вызов функции для утра понедельника в Москве (вместо df — таблица moscow_general)\n",
    "# объекты, хранящие время, являются строками и сравниваются как строки\n",
    "# пример вызова: genre_weekday(moscow_general, 'Monday', '07:00', '11:00')\n",
    "genre_weekday(moscow_general, 'Monday', '07:00', '11:00')"
   ]
  },
  {
   "cell_type": "code",
   "execution_count": 33,
   "metadata": {
    "deletable": false,
    "id": "kwUcHPdy_Zcu"
   },
   "outputs": [
    {
     "data": {
      "text/plain": [
       "genre\n",
       "pop            238\n",
       "dance          192\n",
       "rock           173\n",
       "electronic     154\n",
       "hiphop          88\n",
       "ruspop          68\n",
       "alternative     65\n",
       "rusrap          56\n",
       "jazz            47\n",
       "classical       42\n",
       "Name: genre, dtype: int64"
      ]
     },
     "execution_count": 33,
     "metadata": {},
     "output_type": "execute_result"
    }
   ],
   "source": [
    "# вызов функции для утра понедельника в Петербурге (вместо df — таблица spb_general)\n",
    "genre_weekday(spb_general, 'Monday', '07:00', '11:00')"
   ]
  },
  {
   "cell_type": "code",
   "execution_count": 34,
   "metadata": {
    "deletable": false,
    "id": "EzXVRE1o_Zcu"
   },
   "outputs": [
    {
     "data": {
      "text/plain": [
       "genre\n",
       "pop            761\n",
       "rock           546\n",
       "dance          521\n",
       "electronic     510\n",
       "hiphop         282\n",
       "world          220\n",
       "ruspop         184\n",
       "alternative    176\n",
       "classical      171\n",
       "rusrap         151\n",
       "Name: genre, dtype: int64"
      ]
     },
     "execution_count": 34,
     "metadata": {},
     "output_type": "execute_result"
    }
   ],
   "source": [
    "# вызов функции для вечера пятницы в Москве\n",
    "genre_weekday(moscow_general, 'Friday', '19:00', '23:59')"
   ]
  },
  {
   "cell_type": "code",
   "execution_count": 35,
   "metadata": {
    "deletable": false,
    "id": "JZaEKu5v_Zcu"
   },
   "outputs": [
    {
     "data": {
      "text/plain": [
       "genre\n",
       "pop            279\n",
       "rock           230\n",
       "electronic     227\n",
       "dance          221\n",
       "hiphop         103\n",
       "alternative     67\n",
       "jazz            66\n",
       "rusrap          66\n",
       "classical       64\n",
       "world           60\n",
       "Name: genre, dtype: int64"
      ]
     },
     "execution_count": 35,
     "metadata": {},
     "output_type": "execute_result"
    }
   ],
   "source": [
    "# вызов функции для вечера пятницы в Петербурге\n",
    "genre_weekday(spb_general, 'Friday', '19:00', '23:59')"
   ]
  },
  {
   "cell_type": "markdown",
   "metadata": {
    "deletable": false,
    "editable": false,
    "id": "wrCe4MNX_Zcu"
   },
   "source": [
    "**Выводы**\n",
    "\n",
    "Если сравнить топ-10 жанров в понедельник утром, можно сделать такие выводы:\n",
    "\n",
    "1. В Москве и Петербурге слушают похожую музыку. Единственное отличие — в московский рейтинг вошёл жанр “world”, а в петербургский — джаз и классика.\n",
    "\n",
    "2. В Москве пропущенных значений оказалось так много, что значение `'unknown'` заняло десятое место среди самых популярных жанров. Значит, пропущенные значения занимают существенную долю в данных и угрожают достоверности исследования.\n",
    "\n",
    "Вечер пятницы не меняет эту картину. Некоторые жанры поднимаются немного выше, другие спускаются, но в целом топ-10 остаётся тем же самым.\n",
    "\n",
    "Таким образом, вторая гипотеза подтвердилась лишь частично:\n",
    "* Пользователи слушают похожую музыку в начале недели и в конце.\n",
    "* Разница между Москвой и Петербургом не слишком выражена. В Москве чаще слушают русскую популярную музыку, в Петербурге — джаз.\n",
    "\n",
    "Однако пропуски в данных ставят под сомнение этот результат. В Москве их так много, что рейтинг топ-10 мог бы выглядеть иначе, если бы не утерянные  данные о жанрах."
   ]
  },
  {
   "cell_type": "markdown",
   "metadata": {
    "deletable": false,
    "editable": false,
    "id": "JolODAqr_Zcu"
   },
   "source": [
    "### Жанровые предпочтения в Москве и Петербурге\n",
    "\n",
    "Гипотеза: Петербург — столица рэпа, музыку этого жанра там слушают чаще, чем в Москве.  А Москва — город контрастов, в котором, тем не менее, преобладает поп-музыка."
   ]
  },
  {
   "cell_type": "markdown",
   "metadata": {
    "deletable": false,
    "editable": false,
    "id": "DlegSvaT_Zcu",
    "tags": [
     "start_task"
    ]
   },
   "source": [
    "**Задание 26**\n",
    "\n",
    "Сгруппируйте таблицу `moscow_general` по жанру и посчитайте прослушивания треков каждого жанра методом `count()`. Затем отсортируйте результат в порядке убывания и сохраните его в таблице `moscow_genres`."
   ]
  },
  {
   "cell_type": "code",
   "execution_count": 36,
   "metadata": {
    "deletable": false,
    "id": "r19lIPke_Zcu"
   },
   "outputs": [],
   "source": [
    "# одной строкой: группировка таблицы moscow_general по столбцу 'genre', \n",
    "# подсчёт числа значений 'genre' в этой группировке методом count(), \n",
    "# сортировка получившегося Series в порядке убывания и сохранение в moscow_genres\n",
    "moscow_genres = moscow_general.groupby('genre')['genre'].count().sort_values(ascending=False)"
   ]
  },
  {
   "cell_type": "markdown",
   "metadata": {
    "deletable": false,
    "editable": false,
    "id": "6kMuomxTiIr8",
    "tags": [
     "start_task"
    ]
   },
   "source": [
    "**Задание 27**\n",
    "\n",
    "Выведите на экран первые десять строк `moscow_genres`:"
   ]
  },
  {
   "cell_type": "code",
   "execution_count": 37,
   "metadata": {
    "deletable": false,
    "id": "WhCSooF8_Zcv"
   },
   "outputs": [
    {
     "data": {
      "text/plain": [
       "genre\n",
       "pop            6253\n",
       "dance          4707\n",
       "rock           4188\n",
       "electronic     4010\n",
       "hiphop         2215\n",
       "classical      1712\n",
       "world          1516\n",
       "alternative    1466\n",
       "ruspop         1453\n",
       "rusrap         1239\n",
       "Name: genre, dtype: int64"
      ]
     },
     "execution_count": 37,
     "metadata": {},
     "output_type": "execute_result"
    }
   ],
   "source": [
    "# просмотр первых 10 строк moscow_genres\n",
    "#display(moscow_genres[:10])\n",
    "moscow_genres[:10]"
   ]
  },
  {
   "cell_type": "markdown",
   "metadata": {
    "deletable": false,
    "editable": false,
    "id": "cnPG2vnN_Zcv",
    "tags": [
     "start_task"
    ]
   },
   "source": [
    "**Задание 28**\n",
    "\n",
    "\n",
    "Теперь повторите то же и для Петербурга.\n",
    "\n",
    "Сгруппируйте таблицу `spb_general` по жанру. Посчитайте прослушивания треков каждого жанра. Результат отсортируйте в порядке убывания и сохраните в таблице `spb_genres`:\n"
   ]
  },
  {
   "cell_type": "code",
   "execution_count": 38,
   "metadata": {
    "deletable": false,
    "id": "gluLIpE7_Zcv"
   },
   "outputs": [],
   "source": [
    "# одной строкой: группировка таблицы spb_general по столбцу 'genre', \n",
    "# подсчёт числа значений 'genre' в этой группировке методом count(), \n",
    "# сортировка получившегося Series в порядке убывания и сохранение в spb_genres\n",
    "spb_genres = spb_general.groupby('genre')['genre'].count().sort_values(ascending=False)"
   ]
  },
  {
   "cell_type": "markdown",
   "metadata": {
    "deletable": false,
    "editable": false,
    "id": "5Doha_ODgyQ8",
    "tags": [
     "start_task"
    ]
   },
   "source": [
    "**Задание 29**\n",
    "\n",
    "Выведите на экран первые десять строк `spb_genres`:"
   ]
  },
  {
   "cell_type": "code",
   "execution_count": 39,
   "metadata": {
    "deletable": false,
    "id": "uaGJHjVU_Zcv"
   },
   "outputs": [
    {
     "data": {
      "text/plain": [
       "genre\n",
       "pop            2597\n",
       "dance          2054\n",
       "rock           2004\n",
       "electronic     1842\n",
       "hiphop         1020\n",
       "alternative     700\n",
       "classical       684\n",
       "rusrap          604\n",
       "ruspop          565\n",
       "world           553\n",
       "Name: genre, dtype: int64"
      ]
     },
     "execution_count": 39,
     "metadata": {},
     "output_type": "execute_result"
    }
   ],
   "source": [
    "# просмотр первых 10 строк spb_genres\n",
    "#display(spb_genres[:10])\n",
    "spb_genres[:10]"
   ]
  },
  {
   "cell_type": "markdown",
   "metadata": {
    "deletable": false,
    "editable": false,
    "id": "RY51YJYu_Zcv"
   },
   "source": [
    "**Выводы**"
   ]
  },
  {
   "cell_type": "markdown",
   "metadata": {
    "deletable": false,
    "editable": false,
    "id": "nVhnJEm__Zcv"
   },
   "source": [
    "Гипотеза частично подтвердилась:\n",
    "* Поп-музыка — самый популярный жанр в Москве, как и предполагала гипотеза. Более того, в топ-10 жанров встречается близкий жанр — русская популярная музыка.\n",
    "* Вопреки ожиданиям, рэп одинаково популярен в Москве и Петербурге. \n"
   ]
  },
  {
   "cell_type": "markdown",
   "metadata": {
    "deletable": false,
    "editable": false,
    "id": "ykKQ0N65_Zcv"
   },
   "source": [
    "## Итоги исследования"
   ]
  },
  {
   "cell_type": "markdown",
   "metadata": {
    "deletable": false,
    "editable": false,
    "id": "tjUwbHb3_Zcv"
   },
   "source": [
    "Вы проверили три гипотезы и установили:\n",
    "\n",
    "1. День недели по-разному влияет на активность пользователей в Москве и Петербурге. \n",
    "\n",
    "Первая гипотеза полностью подтвердилась.\n",
    "\n",
    "2. Музыкальные предпочтения не сильно меняются в течение недели — будь то Москва или Петербург. Небольшие различия заметны в начале недели, по понедельникам:\n",
    "* в Москве слушают музыку жанра “world”,\n",
    "* в Петербурге — джаз и классику.\n",
    "\n",
    "Таким образом, вторая гипотеза подтвердилась лишь отчасти. Этот результат мог оказаться иным, если бы не пропуски в данных.\n",
    "\n",
    "3. Во вкусах пользователей Москвы и Петербурга больше общего чем различий. Вопреки ожиданиям, предпочтения жанров в Петербурге напоминают московские.\n",
    "\n",
    "Третья гипотеза не подтвердилась. Если различия в предпочтениях и существуют, на основной массе пользователей они незаметны.\n",
    "\n",
    "**На практике исследования содержат проверки статистических гипотез.**\n",
    "Из данных одного сервиса не всегда можно сделать вывод о всех жителях города.\n",
    "Проверки статистических гипотез покажут, насколько они достоверны, исходя из имеющихся данных. \n",
    "С методами проверок гипотез вы ещё познакомитесь в следующих темах."
   ]
  },
  {
   "cell_type": "code",
   "execution_count": 40,
   "metadata": {},
   "outputs": [
    {
     "name": "stdout",
     "output_type": "stream",
     "text": [
      "Конверсия рассылок: 5%\n",
      "Конверсия контекстной рекламы: 4%\n"
     ]
    }
   ],
   "source": [
    "email_visits = 1000 # количество визитов из рассылок\n",
    "context_visits = 2500 # количество визитов из контекстной рекламы\n",
    "email_purchases = 50 # количество покупок из рассылок\n",
    "context_purchases = 100 # количество покупок из контекстной рекламы\n",
    "\n",
    "email_conversion = email_purchases / email_visits # поделите email_purchases на email_visits\n",
    "context_conversion = context_purchases / context_visits# напишите ваш код здесь\n",
    "# выведите значение конверсий рассылок\n",
    "print('Конверсия рассылок: {:.0%}'.format(email_conversion))\n",
    "# выведите на экран значения конверсий контекстной рекламы\n",
    "print('Конверсия контекстной рекламы: {:.0%}'.format(context_conversion))"
   ]
  }
 ],
 "metadata": {
  "ExecuteTimeLog": [
   {
    "duration": 415,
    "start_time": "2022-08-26T13:57:11.898Z"
   },
   {
    "duration": 2,
    "start_time": "2022-08-26T13:57:13.730Z"
   },
   {
    "duration": 2,
    "start_time": "2022-08-26T13:57:18.718Z"
   },
   {
    "duration": 231,
    "start_time": "2022-08-26T13:57:21.404Z"
   },
   {
    "duration": 168,
    "start_time": "2022-08-26T13:57:26.174Z"
   },
   {
    "duration": 167,
    "start_time": "2022-08-26T13:57:28.265Z"
   },
   {
    "duration": 196,
    "start_time": "2022-08-26T13:57:42.148Z"
   },
   {
    "duration": 87,
    "start_time": "2022-08-26T13:59:34.553Z"
   },
   {
    "duration": 11,
    "start_time": "2022-08-26T14:10:24.944Z"
   },
   {
    "duration": 59,
    "start_time": "2022-08-27T16:22:32.665Z"
   },
   {
    "duration": 410,
    "start_time": "2022-08-27T16:22:42.108Z"
   },
   {
    "duration": 249,
    "start_time": "2022-08-27T16:22:44.815Z"
   },
   {
    "duration": 10,
    "start_time": "2022-08-27T16:22:48.569Z"
   },
   {
    "duration": 25,
    "start_time": "2022-08-27T16:22:51.437Z"
   },
   {
    "duration": 4,
    "start_time": "2022-08-27T16:29:12.731Z"
   },
   {
    "duration": 41,
    "start_time": "2022-08-27T16:34:33.565Z"
   },
   {
    "duration": 13,
    "start_time": "2022-08-27T16:35:14.444Z"
   },
   {
    "duration": 9,
    "start_time": "2022-08-27T16:36:13.436Z"
   },
   {
    "duration": 4,
    "start_time": "2022-08-27T16:36:26.325Z"
   },
   {
    "duration": 17,
    "start_time": "2022-08-27T16:37:07.899Z"
   },
   {
    "duration": 8,
    "start_time": "2022-08-27T16:37:17.983Z"
   },
   {
    "duration": 4,
    "start_time": "2022-08-27T16:37:22.078Z"
   },
   {
    "duration": 8,
    "start_time": "2022-08-27T16:37:42.060Z"
   },
   {
    "duration": 4,
    "start_time": "2022-08-27T16:37:45.215Z"
   },
   {
    "duration": 8,
    "start_time": "2022-08-27T16:37:52.540Z"
   },
   {
    "duration": 5,
    "start_time": "2022-08-27T16:37:54.464Z"
   },
   {
    "duration": 38,
    "start_time": "2022-08-27T16:39:53.074Z"
   },
   {
    "duration": 4,
    "start_time": "2022-08-27T16:42:58.401Z"
   },
   {
    "duration": 4,
    "start_time": "2022-08-27T16:43:08.887Z"
   },
   {
    "duration": 4,
    "start_time": "2022-08-27T16:43:22.755Z"
   },
   {
    "duration": 773,
    "start_time": "2022-08-27T16:44:09.306Z"
   },
   {
    "duration": 15,
    "start_time": "2022-08-27T16:44:40.880Z"
   },
   {
    "duration": 9,
    "start_time": "2022-08-27T16:45:33.347Z"
   },
   {
    "duration": 9,
    "start_time": "2022-08-27T16:45:46.748Z"
   },
   {
    "duration": 9,
    "start_time": "2022-08-27T16:46:33.544Z"
   },
   {
    "duration": 9,
    "start_time": "2022-08-27T16:46:53.825Z"
   },
   {
    "duration": 9,
    "start_time": "2022-08-27T16:47:39.775Z"
   },
   {
    "duration": 10,
    "start_time": "2022-08-27T16:48:17.627Z"
   },
   {
    "duration": 7,
    "start_time": "2022-08-27T16:48:28.085Z"
   },
   {
    "duration": 7,
    "start_time": "2022-08-27T16:48:31.471Z"
   },
   {
    "duration": 7,
    "start_time": "2022-08-27T16:48:44.005Z"
   },
   {
    "duration": 9,
    "start_time": "2022-08-27T16:48:48.105Z"
   },
   {
    "duration": 5,
    "start_time": "2022-08-27T16:48:56.309Z"
   },
   {
    "duration": 5,
    "start_time": "2022-08-27T16:49:00.591Z"
   },
   {
    "duration": 3,
    "start_time": "2022-08-27T16:49:15.709Z"
   },
   {
    "duration": 170,
    "start_time": "2022-08-27T16:49:18.169Z"
   },
   {
    "duration": 10,
    "start_time": "2022-08-27T16:49:21.488Z"
   },
   {
    "duration": 32,
    "start_time": "2022-08-27T16:49:24.522Z"
   },
   {
    "duration": 4,
    "start_time": "2022-08-27T16:49:31.181Z"
   },
   {
    "duration": 12,
    "start_time": "2022-08-27T16:49:37.533Z"
   },
   {
    "duration": 4,
    "start_time": "2022-08-27T16:49:40.032Z"
   },
   {
    "duration": 23,
    "start_time": "2022-08-27T16:49:59.312Z"
   },
   {
    "duration": 26,
    "start_time": "2022-08-27T16:50:03.549Z"
   },
   {
    "duration": 38,
    "start_time": "2022-08-27T16:50:16.194Z"
   },
   {
    "duration": 9,
    "start_time": "2022-08-27T16:50:26.260Z"
   },
   {
    "duration": 10,
    "start_time": "2022-08-27T16:50:31.498Z"
   },
   {
    "duration": 441,
    "start_time": "2022-08-27T16:50:54.972Z"
   },
   {
    "duration": 161,
    "start_time": "2022-08-27T16:50:55.415Z"
   },
   {
    "duration": 10,
    "start_time": "2022-08-27T16:50:55.578Z"
   },
   {
    "duration": 38,
    "start_time": "2022-08-27T16:50:55.590Z"
   },
   {
    "duration": 2,
    "start_time": "2022-08-27T16:50:55.630Z"
   },
   {
    "duration": 6,
    "start_time": "2022-08-27T16:50:55.634Z"
   },
   {
    "duration": 14,
    "start_time": "2022-08-27T16:50:55.641Z"
   },
   {
    "duration": 29,
    "start_time": "2022-08-27T16:50:55.656Z"
   },
   {
    "duration": 21,
    "start_time": "2022-08-27T16:50:55.687Z"
   },
   {
    "duration": 25,
    "start_time": "2022-08-27T16:50:55.711Z"
   },
   {
    "duration": 7,
    "start_time": "2022-08-27T16:50:55.738Z"
   },
   {
    "duration": 11,
    "start_time": "2022-08-27T16:50:55.746Z"
   },
   {
    "duration": 5,
    "start_time": "2022-08-27T16:50:55.758Z"
   },
   {
    "duration": 21,
    "start_time": "2022-08-27T16:50:55.764Z"
   },
   {
    "duration": 4,
    "start_time": "2022-08-27T16:50:55.786Z"
   },
   {
    "duration": 4,
    "start_time": "2022-08-27T16:50:55.792Z"
   },
   {
    "duration": 6,
    "start_time": "2022-08-27T16:50:55.797Z"
   },
   {
    "duration": 6,
    "start_time": "2022-08-27T16:50:55.805Z"
   },
   {
    "duration": 9,
    "start_time": "2022-08-27T16:50:55.812Z"
   },
   {
    "duration": 8,
    "start_time": "2022-08-27T16:50:55.822Z"
   },
   {
    "duration": 6,
    "start_time": "2022-08-27T16:50:55.831Z"
   },
   {
    "duration": 6,
    "start_time": "2022-08-27T16:50:55.838Z"
   },
   {
    "duration": 5,
    "start_time": "2022-08-27T16:50:55.846Z"
   },
   {
    "duration": 4,
    "start_time": "2022-08-27T16:50:55.852Z"
   },
   {
    "duration": 6,
    "start_time": "2022-08-27T16:50:55.857Z"
   },
   {
    "duration": 4,
    "start_time": "2022-08-27T16:50:55.865Z"
   },
   {
    "duration": 14,
    "start_time": "2022-08-27T16:50:55.870Z"
   },
   {
    "duration": 6,
    "start_time": "2022-08-27T16:50:55.887Z"
   },
   {
    "duration": 7,
    "start_time": "2022-08-27T16:50:55.894Z"
   },
   {
    "duration": 48,
    "start_time": "2022-08-27T16:50:55.903Z"
   },
   {
    "duration": 0,
    "start_time": "2022-08-27T16:50:55.953Z"
   },
   {
    "duration": 0,
    "start_time": "2022-08-27T16:50:55.954Z"
   },
   {
    "duration": 0,
    "start_time": "2022-08-27T16:50:55.955Z"
   },
   {
    "duration": 0,
    "start_time": "2022-08-27T16:50:55.956Z"
   },
   {
    "duration": 0,
    "start_time": "2022-08-27T16:50:55.957Z"
   },
   {
    "duration": 0,
    "start_time": "2022-08-27T16:50:55.958Z"
   },
   {
    "duration": 0,
    "start_time": "2022-08-27T16:50:55.959Z"
   },
   {
    "duration": 0,
    "start_time": "2022-08-27T16:50:55.960Z"
   },
   {
    "duration": 83,
    "start_time": "2022-08-27T16:52:05.388Z"
   },
   {
    "duration": 11,
    "start_time": "2022-08-27T16:54:26.918Z"
   },
   {
    "duration": 45,
    "start_time": "2022-08-27T16:54:40.542Z"
   },
   {
    "duration": 369,
    "start_time": "2022-08-27T16:54:55.740Z"
   },
   {
    "duration": 163,
    "start_time": "2022-08-27T16:54:56.111Z"
   },
   {
    "duration": 13,
    "start_time": "2022-08-27T16:54:56.275Z"
   },
   {
    "duration": 35,
    "start_time": "2022-08-27T16:54:56.290Z"
   },
   {
    "duration": 3,
    "start_time": "2022-08-27T16:54:56.327Z"
   },
   {
    "duration": 10,
    "start_time": "2022-08-27T16:54:56.332Z"
   },
   {
    "duration": 17,
    "start_time": "2022-08-27T16:54:56.343Z"
   },
   {
    "duration": 4,
    "start_time": "2022-08-27T16:54:56.385Z"
   },
   {
    "duration": 32,
    "start_time": "2022-08-27T16:54:56.391Z"
   },
   {
    "duration": 23,
    "start_time": "2022-08-27T16:54:56.427Z"
   },
   {
    "duration": 2,
    "start_time": "2022-08-27T16:54:56.452Z"
   },
   {
    "duration": 5,
    "start_time": "2022-08-27T16:54:56.455Z"
   },
   {
    "duration": 3,
    "start_time": "2022-08-27T16:54:56.484Z"
   },
   {
    "duration": 5,
    "start_time": "2022-08-27T16:54:56.488Z"
   },
   {
    "duration": 6,
    "start_time": "2022-08-27T16:54:56.494Z"
   },
   {
    "duration": 6,
    "start_time": "2022-08-27T16:54:56.501Z"
   },
   {
    "duration": 6,
    "start_time": "2022-08-27T16:54:56.508Z"
   },
   {
    "duration": 5,
    "start_time": "2022-08-27T16:54:56.515Z"
   },
   {
    "duration": 6,
    "start_time": "2022-08-27T16:54:56.521Z"
   },
   {
    "duration": 12,
    "start_time": "2022-08-27T16:54:56.528Z"
   },
   {
    "duration": 9,
    "start_time": "2022-08-27T16:54:56.541Z"
   },
   {
    "duration": 5,
    "start_time": "2022-08-27T16:54:56.551Z"
   },
   {
    "duration": 4,
    "start_time": "2022-08-27T16:54:56.557Z"
   },
   {
    "duration": 5,
    "start_time": "2022-08-27T16:54:56.562Z"
   },
   {
    "duration": 6,
    "start_time": "2022-08-27T16:54:56.569Z"
   },
   {
    "duration": 4,
    "start_time": "2022-08-27T16:54:56.577Z"
   },
   {
    "duration": 5,
    "start_time": "2022-08-27T16:54:56.585Z"
   },
   {
    "duration": 5,
    "start_time": "2022-08-27T16:54:56.593Z"
   },
   {
    "duration": 7,
    "start_time": "2022-08-27T16:54:56.599Z"
   },
   {
    "duration": 38,
    "start_time": "2022-08-27T16:54:56.607Z"
   },
   {
    "duration": 0,
    "start_time": "2022-08-27T16:54:56.646Z"
   },
   {
    "duration": 0,
    "start_time": "2022-08-27T16:54:56.647Z"
   },
   {
    "duration": 0,
    "start_time": "2022-08-27T16:54:56.649Z"
   },
   {
    "duration": 0,
    "start_time": "2022-08-27T16:54:56.650Z"
   },
   {
    "duration": 0,
    "start_time": "2022-08-27T16:54:56.651Z"
   },
   {
    "duration": 0,
    "start_time": "2022-08-27T16:54:56.652Z"
   },
   {
    "duration": 0,
    "start_time": "2022-08-27T16:54:56.654Z"
   },
   {
    "duration": 0,
    "start_time": "2022-08-27T16:54:56.655Z"
   },
   {
    "duration": 34,
    "start_time": "2022-08-27T16:56:17.536Z"
   },
   {
    "duration": 22,
    "start_time": "2022-08-27T16:56:28.428Z"
   },
   {
    "duration": 25,
    "start_time": "2022-08-27T16:56:49.799Z"
   },
   {
    "duration": 35,
    "start_time": "2022-08-27T16:56:52.883Z"
   },
   {
    "duration": 393,
    "start_time": "2022-08-27T16:57:00.976Z"
   },
   {
    "duration": 172,
    "start_time": "2022-08-27T16:57:01.371Z"
   },
   {
    "duration": 10,
    "start_time": "2022-08-27T16:57:01.545Z"
   },
   {
    "duration": 40,
    "start_time": "2022-08-27T16:57:01.557Z"
   },
   {
    "duration": 8,
    "start_time": "2022-08-27T16:57:01.598Z"
   },
   {
    "duration": 9,
    "start_time": "2022-08-27T16:57:01.607Z"
   },
   {
    "duration": 23,
    "start_time": "2022-08-27T16:57:01.617Z"
   },
   {
    "duration": 26,
    "start_time": "2022-08-27T16:57:01.641Z"
   },
   {
    "duration": 31,
    "start_time": "2022-08-27T16:57:01.669Z"
   },
   {
    "duration": 38,
    "start_time": "2022-08-27T16:57:01.703Z"
   },
   {
    "duration": 8,
    "start_time": "2022-08-27T16:57:01.742Z"
   },
   {
    "duration": 11,
    "start_time": "2022-08-27T16:57:01.751Z"
   },
   {
    "duration": 17,
    "start_time": "2022-08-27T16:57:01.763Z"
   },
   {
    "duration": 7,
    "start_time": "2022-08-27T16:57:01.782Z"
   },
   {
    "duration": 26,
    "start_time": "2022-08-27T16:57:01.791Z"
   },
   {
    "duration": 36,
    "start_time": "2022-08-27T16:57:01.818Z"
   },
   {
    "duration": 9,
    "start_time": "2022-08-27T16:57:01.855Z"
   },
   {
    "duration": 10,
    "start_time": "2022-08-27T16:57:01.865Z"
   },
   {
    "duration": 7,
    "start_time": "2022-08-27T16:57:01.877Z"
   },
   {
    "duration": 6,
    "start_time": "2022-08-27T16:57:01.885Z"
   },
   {
    "duration": 7,
    "start_time": "2022-08-27T16:57:01.892Z"
   },
   {
    "duration": 8,
    "start_time": "2022-08-27T16:57:01.901Z"
   },
   {
    "duration": 11,
    "start_time": "2022-08-27T16:57:01.910Z"
   },
   {
    "duration": 7,
    "start_time": "2022-08-27T16:57:01.923Z"
   },
   {
    "duration": 32,
    "start_time": "2022-08-27T16:57:01.932Z"
   },
   {
    "duration": 7,
    "start_time": "2022-08-27T16:57:01.966Z"
   },
   {
    "duration": 6,
    "start_time": "2022-08-27T16:57:01.974Z"
   },
   {
    "duration": 6,
    "start_time": "2022-08-27T16:57:01.983Z"
   },
   {
    "duration": 5,
    "start_time": "2022-08-27T16:57:01.990Z"
   },
   {
    "duration": 51,
    "start_time": "2022-08-27T16:57:01.996Z"
   },
   {
    "duration": 0,
    "start_time": "2022-08-27T16:57:02.049Z"
   },
   {
    "duration": 0,
    "start_time": "2022-08-27T16:57:02.050Z"
   },
   {
    "duration": 0,
    "start_time": "2022-08-27T16:57:02.052Z"
   },
   {
    "duration": 0,
    "start_time": "2022-08-27T16:57:02.053Z"
   },
   {
    "duration": 0,
    "start_time": "2022-08-27T16:57:02.054Z"
   },
   {
    "duration": 0,
    "start_time": "2022-08-27T16:57:02.056Z"
   },
   {
    "duration": 0,
    "start_time": "2022-08-27T16:57:02.057Z"
   },
   {
    "duration": 0,
    "start_time": "2022-08-27T16:57:02.058Z"
   },
   {
    "duration": 17,
    "start_time": "2022-08-27T16:57:19.005Z"
   },
   {
    "duration": 69,
    "start_time": "2022-08-27T16:57:29.018Z"
   },
   {
    "duration": 9,
    "start_time": "2022-08-27T17:00:27.344Z"
   },
   {
    "duration": 408,
    "start_time": "2022-08-27T17:00:35.879Z"
   },
   {
    "duration": 174,
    "start_time": "2022-08-27T17:00:36.289Z"
   },
   {
    "duration": 10,
    "start_time": "2022-08-27T17:00:36.465Z"
   },
   {
    "duration": 27,
    "start_time": "2022-08-27T17:00:36.485Z"
   },
   {
    "duration": 2,
    "start_time": "2022-08-27T17:00:36.513Z"
   },
   {
    "duration": 6,
    "start_time": "2022-08-27T17:00:36.517Z"
   },
   {
    "duration": 15,
    "start_time": "2022-08-27T17:00:36.524Z"
   },
   {
    "duration": 6,
    "start_time": "2022-08-27T17:00:36.540Z"
   },
   {
    "duration": 47,
    "start_time": "2022-08-27T17:00:36.547Z"
   },
   {
    "duration": 28,
    "start_time": "2022-08-27T17:00:36.596Z"
   },
   {
    "duration": 2,
    "start_time": "2022-08-27T17:00:36.625Z"
   },
   {
    "duration": 6,
    "start_time": "2022-08-27T17:00:36.628Z"
   },
   {
    "duration": 6,
    "start_time": "2022-08-27T17:00:36.635Z"
   },
   {
    "duration": 5,
    "start_time": "2022-08-27T17:00:36.642Z"
   },
   {
    "duration": 5,
    "start_time": "2022-08-27T17:00:36.648Z"
   },
   {
    "duration": 5,
    "start_time": "2022-08-27T17:00:36.654Z"
   },
   {
    "duration": 25,
    "start_time": "2022-08-27T17:00:36.660Z"
   },
   {
    "duration": 5,
    "start_time": "2022-08-27T17:00:36.687Z"
   },
   {
    "duration": 4,
    "start_time": "2022-08-27T17:00:36.693Z"
   },
   {
    "duration": 4,
    "start_time": "2022-08-27T17:00:36.699Z"
   },
   {
    "duration": 5,
    "start_time": "2022-08-27T17:00:36.705Z"
   },
   {
    "duration": 5,
    "start_time": "2022-08-27T17:00:36.711Z"
   },
   {
    "duration": 4,
    "start_time": "2022-08-27T17:00:36.717Z"
   },
   {
    "duration": 4,
    "start_time": "2022-08-27T17:00:36.723Z"
   },
   {
    "duration": 9,
    "start_time": "2022-08-27T17:00:36.728Z"
   },
   {
    "duration": 7,
    "start_time": "2022-08-27T17:00:36.738Z"
   },
   {
    "duration": 4,
    "start_time": "2022-08-27T17:00:36.746Z"
   },
   {
    "duration": 2,
    "start_time": "2022-08-27T17:00:36.753Z"
   },
   {
    "duration": 4,
    "start_time": "2022-08-27T17:00:36.757Z"
   },
   {
    "duration": 49,
    "start_time": "2022-08-27T17:00:36.762Z"
   },
   {
    "duration": 0,
    "start_time": "2022-08-27T17:00:36.812Z"
   },
   {
    "duration": 0,
    "start_time": "2022-08-27T17:00:36.813Z"
   },
   {
    "duration": 0,
    "start_time": "2022-08-27T17:00:36.814Z"
   },
   {
    "duration": 0,
    "start_time": "2022-08-27T17:00:36.816Z"
   },
   {
    "duration": 0,
    "start_time": "2022-08-27T17:00:36.817Z"
   },
   {
    "duration": 0,
    "start_time": "2022-08-27T17:00:36.818Z"
   },
   {
    "duration": 0,
    "start_time": "2022-08-27T17:00:36.819Z"
   },
   {
    "duration": 0,
    "start_time": "2022-08-27T17:00:36.820Z"
   },
   {
    "duration": 34,
    "start_time": "2022-08-27T17:02:45.122Z"
   },
   {
    "duration": 24,
    "start_time": "2022-08-27T17:02:58.583Z"
   },
   {
    "duration": 48,
    "start_time": "2022-08-29T07:50:14.931Z"
   },
   {
    "duration": 404,
    "start_time": "2022-08-29T07:50:20.296Z"
   },
   {
    "duration": 224,
    "start_time": "2022-08-29T07:50:20.702Z"
   },
   {
    "duration": 9,
    "start_time": "2022-08-29T07:50:20.927Z"
   },
   {
    "duration": 29,
    "start_time": "2022-08-29T07:50:20.938Z"
   },
   {
    "duration": 2,
    "start_time": "2022-08-29T07:50:20.968Z"
   },
   {
    "duration": 8,
    "start_time": "2022-08-29T07:50:20.972Z"
   },
   {
    "duration": 19,
    "start_time": "2022-08-29T07:50:20.981Z"
   },
   {
    "duration": 9,
    "start_time": "2022-08-29T07:50:21.002Z"
   },
   {
    "duration": 26,
    "start_time": "2022-08-29T07:50:21.013Z"
   },
   {
    "duration": 16,
    "start_time": "2022-08-29T07:50:21.041Z"
   },
   {
    "duration": 19,
    "start_time": "2022-08-29T07:50:21.058Z"
   },
   {
    "duration": 74,
    "start_time": "2022-08-29T07:50:21.078Z"
   },
   {
    "duration": 3,
    "start_time": "2022-08-29T07:50:21.153Z"
   },
   {
    "duration": 5,
    "start_time": "2022-08-29T07:50:21.158Z"
   },
   {
    "duration": 6,
    "start_time": "2022-08-29T07:50:21.164Z"
   },
   {
    "duration": 7,
    "start_time": "2022-08-29T07:50:21.171Z"
   },
   {
    "duration": 4,
    "start_time": "2022-08-29T07:50:21.180Z"
   },
   {
    "duration": 9,
    "start_time": "2022-08-29T07:50:21.186Z"
   },
   {
    "duration": 5,
    "start_time": "2022-08-29T07:50:21.196Z"
   },
   {
    "duration": 9,
    "start_time": "2022-08-29T07:50:21.202Z"
   },
   {
    "duration": 5,
    "start_time": "2022-08-29T07:50:21.212Z"
   },
   {
    "duration": 5,
    "start_time": "2022-08-29T07:50:21.218Z"
   },
   {
    "duration": 12,
    "start_time": "2022-08-29T07:50:21.224Z"
   },
   {
    "duration": 8,
    "start_time": "2022-08-29T07:50:21.237Z"
   },
   {
    "duration": 4,
    "start_time": "2022-08-29T07:50:21.247Z"
   },
   {
    "duration": 4,
    "start_time": "2022-08-29T07:50:21.252Z"
   },
   {
    "duration": 4,
    "start_time": "2022-08-29T07:50:21.257Z"
   },
   {
    "duration": 3,
    "start_time": "2022-08-29T07:50:21.264Z"
   },
   {
    "duration": 9,
    "start_time": "2022-08-29T07:50:21.268Z"
   },
   {
    "duration": 56,
    "start_time": "2022-08-29T07:50:21.278Z"
   },
   {
    "duration": 0,
    "start_time": "2022-08-29T07:50:21.336Z"
   },
   {
    "duration": 0,
    "start_time": "2022-08-29T07:50:21.337Z"
   },
   {
    "duration": 0,
    "start_time": "2022-08-29T07:50:21.338Z"
   },
   {
    "duration": 0,
    "start_time": "2022-08-29T07:50:21.339Z"
   },
   {
    "duration": 0,
    "start_time": "2022-08-29T07:50:21.340Z"
   },
   {
    "duration": 0,
    "start_time": "2022-08-29T07:50:21.340Z"
   },
   {
    "duration": 0,
    "start_time": "2022-08-29T07:50:21.341Z"
   },
   {
    "duration": 0,
    "start_time": "2022-08-29T07:50:21.342Z"
   },
   {
    "duration": 68,
    "start_time": "2022-08-29T07:51:04.819Z"
   },
   {
    "duration": 55,
    "start_time": "2022-08-29T07:51:14.369Z"
   },
   {
    "duration": 3,
    "start_time": "2022-08-29T07:54:36.356Z"
   },
   {
    "duration": 38,
    "start_time": "2022-08-29T07:55:13.166Z"
   },
   {
    "duration": 40,
    "start_time": "2022-08-29T07:56:09.168Z"
   },
   {
    "duration": 48,
    "start_time": "2022-08-29T07:56:23.673Z"
   },
   {
    "duration": 57,
    "start_time": "2022-08-29T07:59:35.252Z"
   },
   {
    "duration": 37,
    "start_time": "2022-08-29T08:00:11.155Z"
   },
   {
    "duration": 8,
    "start_time": "2022-08-29T08:01:13.721Z"
   },
   {
    "duration": 3,
    "start_time": "2022-08-29T08:20:18.791Z"
   },
   {
    "duration": 9,
    "start_time": "2022-08-29T08:20:28.306Z"
   },
   {
    "duration": 12,
    "start_time": "2022-08-29T08:20:38.135Z"
   },
   {
    "duration": 4,
    "start_time": "2022-08-29T08:20:49.969Z"
   },
   {
    "duration": 12,
    "start_time": "2022-08-29T08:21:21.779Z"
   },
   {
    "duration": 34,
    "start_time": "2022-08-29T09:09:50.297Z"
   },
   {
    "duration": 11,
    "start_time": "2022-08-29T09:10:16.156Z"
   },
   {
    "duration": 10,
    "start_time": "2022-08-29T09:10:41.716Z"
   },
   {
    "duration": 397,
    "start_time": "2022-08-29T09:11:15.814Z"
   },
   {
    "duration": 161,
    "start_time": "2022-08-29T09:11:16.212Z"
   },
   {
    "duration": 9,
    "start_time": "2022-08-29T09:11:16.375Z"
   },
   {
    "duration": 28,
    "start_time": "2022-08-29T09:11:16.385Z"
   },
   {
    "duration": 2,
    "start_time": "2022-08-29T09:11:16.415Z"
   },
   {
    "duration": 8,
    "start_time": "2022-08-29T09:11:16.419Z"
   },
   {
    "duration": 20,
    "start_time": "2022-08-29T09:11:16.428Z"
   },
   {
    "duration": 6,
    "start_time": "2022-08-29T09:11:16.450Z"
   },
   {
    "duration": 24,
    "start_time": "2022-08-29T09:11:16.458Z"
   },
   {
    "duration": 16,
    "start_time": "2022-08-29T09:11:16.484Z"
   },
   {
    "duration": 20,
    "start_time": "2022-08-29T09:11:16.510Z"
   },
   {
    "duration": 58,
    "start_time": "2022-08-29T09:11:16.532Z"
   },
   {
    "duration": 78,
    "start_time": "2022-08-29T09:11:16.592Z"
   },
   {
    "duration": 61,
    "start_time": "2022-08-29T09:11:16.674Z"
   },
   {
    "duration": 44,
    "start_time": "2022-08-29T09:11:16.736Z"
   },
   {
    "duration": 68,
    "start_time": "2022-08-29T09:11:16.781Z"
   },
   {
    "duration": 7,
    "start_time": "2022-08-29T09:11:16.851Z"
   },
   {
    "duration": 11,
    "start_time": "2022-08-29T09:11:16.860Z"
   },
   {
    "duration": 83,
    "start_time": "2022-08-29T09:11:16.872Z"
   },
   {
    "duration": 0,
    "start_time": "2022-08-29T09:11:16.957Z"
   },
   {
    "duration": 0,
    "start_time": "2022-08-29T09:11:16.958Z"
   },
   {
    "duration": 0,
    "start_time": "2022-08-29T09:11:16.960Z"
   },
   {
    "duration": 0,
    "start_time": "2022-08-29T09:11:16.961Z"
   },
   {
    "duration": 0,
    "start_time": "2022-08-29T09:11:16.962Z"
   },
   {
    "duration": 0,
    "start_time": "2022-08-29T09:11:16.964Z"
   },
   {
    "duration": 0,
    "start_time": "2022-08-29T09:11:16.966Z"
   },
   {
    "duration": 0,
    "start_time": "2022-08-29T09:11:16.967Z"
   },
   {
    "duration": 0,
    "start_time": "2022-08-29T09:11:16.968Z"
   },
   {
    "duration": 0,
    "start_time": "2022-08-29T09:11:16.969Z"
   },
   {
    "duration": 0,
    "start_time": "2022-08-29T09:11:16.971Z"
   },
   {
    "duration": 0,
    "start_time": "2022-08-29T09:11:16.972Z"
   },
   {
    "duration": 0,
    "start_time": "2022-08-29T09:11:16.973Z"
   },
   {
    "duration": 0,
    "start_time": "2022-08-29T09:11:16.973Z"
   },
   {
    "duration": 0,
    "start_time": "2022-08-29T09:11:16.974Z"
   },
   {
    "duration": 0,
    "start_time": "2022-08-29T09:11:17.011Z"
   },
   {
    "duration": 0,
    "start_time": "2022-08-29T09:11:17.012Z"
   },
   {
    "duration": 0,
    "start_time": "2022-08-29T09:11:17.013Z"
   },
   {
    "duration": 0,
    "start_time": "2022-08-29T09:11:17.013Z"
   },
   {
    "duration": 5,
    "start_time": "2022-08-29T09:12:42.117Z"
   },
   {
    "duration": 6,
    "start_time": "2022-08-29T09:12:45.799Z"
   },
   {
    "duration": 411,
    "start_time": "2022-08-29T09:12:56.483Z"
   },
   {
    "duration": 160,
    "start_time": "2022-08-29T09:12:56.896Z"
   },
   {
    "duration": 9,
    "start_time": "2022-08-29T09:12:57.058Z"
   },
   {
    "duration": 28,
    "start_time": "2022-08-29T09:12:57.069Z"
   },
   {
    "duration": 3,
    "start_time": "2022-08-29T09:12:57.098Z"
   },
   {
    "duration": 3,
    "start_time": "2022-08-29T09:12:57.111Z"
   },
   {
    "duration": 14,
    "start_time": "2022-08-29T09:12:57.116Z"
   },
   {
    "duration": 6,
    "start_time": "2022-08-29T09:12:57.131Z"
   },
   {
    "duration": 22,
    "start_time": "2022-08-29T09:12:57.138Z"
   },
   {
    "duration": 15,
    "start_time": "2022-08-29T09:12:57.163Z"
   },
   {
    "duration": 44,
    "start_time": "2022-08-29T09:12:57.180Z"
   },
   {
    "duration": 62,
    "start_time": "2022-08-29T09:12:57.226Z"
   },
   {
    "duration": 85,
    "start_time": "2022-08-29T09:12:57.289Z"
   },
   {
    "duration": 60,
    "start_time": "2022-08-29T09:12:57.375Z"
   },
   {
    "duration": 43,
    "start_time": "2022-08-29T09:12:57.437Z"
   },
   {
    "duration": 71,
    "start_time": "2022-08-29T09:12:57.481Z"
   },
   {
    "duration": 7,
    "start_time": "2022-08-29T09:12:57.554Z"
   },
   {
    "duration": 11,
    "start_time": "2022-08-29T09:12:57.563Z"
   },
   {
    "duration": 8,
    "start_time": "2022-08-29T09:12:57.575Z"
   },
   {
    "duration": 2,
    "start_time": "2022-08-29T09:12:57.585Z"
   },
   {
    "duration": 2,
    "start_time": "2022-08-29T09:12:57.611Z"
   },
   {
    "duration": 4,
    "start_time": "2022-08-29T09:12:57.615Z"
   },
   {
    "duration": 4,
    "start_time": "2022-08-29T09:12:57.620Z"
   },
   {
    "duration": 4,
    "start_time": "2022-08-29T09:12:57.625Z"
   },
   {
    "duration": 6,
    "start_time": "2022-08-29T09:12:57.630Z"
   },
   {
    "duration": 4,
    "start_time": "2022-08-29T09:12:57.637Z"
   },
   {
    "duration": 4,
    "start_time": "2022-08-29T09:12:57.642Z"
   },
   {
    "duration": 5,
    "start_time": "2022-08-29T09:12:57.649Z"
   },
   {
    "duration": 5,
    "start_time": "2022-08-29T09:12:57.655Z"
   },
   {
    "duration": 54,
    "start_time": "2022-08-29T09:12:57.661Z"
   },
   {
    "duration": 0,
    "start_time": "2022-08-29T09:12:57.716Z"
   },
   {
    "duration": 0,
    "start_time": "2022-08-29T09:12:57.717Z"
   },
   {
    "duration": 0,
    "start_time": "2022-08-29T09:12:57.718Z"
   },
   {
    "duration": 0,
    "start_time": "2022-08-29T09:12:57.719Z"
   },
   {
    "duration": 0,
    "start_time": "2022-08-29T09:12:57.720Z"
   },
   {
    "duration": 0,
    "start_time": "2022-08-29T09:12:57.721Z"
   },
   {
    "duration": 0,
    "start_time": "2022-08-29T09:12:57.722Z"
   },
   {
    "duration": 0,
    "start_time": "2022-08-29T09:12:57.723Z"
   },
   {
    "duration": 12,
    "start_time": "2022-08-29T09:13:41.119Z"
   },
   {
    "duration": 3,
    "start_time": "2022-08-29T09:16:44.746Z"
   },
   {
    "duration": 876,
    "start_time": "2022-08-29T09:18:42.048Z"
   },
   {
    "duration": 6,
    "start_time": "2022-08-29T09:18:58.567Z"
   },
   {
    "duration": 9,
    "start_time": "2022-08-29T11:19:58.297Z"
   },
   {
    "duration": 434,
    "start_time": "2022-08-29T11:20:22.309Z"
   },
   {
    "duration": 186,
    "start_time": "2022-08-29T11:20:22.745Z"
   },
   {
    "duration": 9,
    "start_time": "2022-08-29T11:20:22.932Z"
   },
   {
    "duration": 46,
    "start_time": "2022-08-29T11:20:22.943Z"
   },
   {
    "duration": 4,
    "start_time": "2022-08-29T11:20:22.991Z"
   },
   {
    "duration": 8,
    "start_time": "2022-08-29T11:20:22.996Z"
   },
   {
    "duration": 15,
    "start_time": "2022-08-29T11:20:23.005Z"
   },
   {
    "duration": 7,
    "start_time": "2022-08-29T11:20:23.022Z"
   },
   {
    "duration": 24,
    "start_time": "2022-08-29T11:20:23.030Z"
   },
   {
    "duration": 14,
    "start_time": "2022-08-29T11:20:23.057Z"
   },
   {
    "duration": 19,
    "start_time": "2022-08-29T11:20:23.073Z"
   },
   {
    "duration": 76,
    "start_time": "2022-08-29T11:20:23.094Z"
   },
   {
    "duration": 81,
    "start_time": "2022-08-29T11:20:23.172Z"
   },
   {
    "duration": 62,
    "start_time": "2022-08-29T11:20:23.255Z"
   },
   {
    "duration": 41,
    "start_time": "2022-08-29T11:20:23.318Z"
   },
   {
    "duration": 69,
    "start_time": "2022-08-29T11:20:23.360Z"
   },
   {
    "duration": 9,
    "start_time": "2022-08-29T11:20:23.431Z"
   },
   {
    "duration": 17,
    "start_time": "2022-08-29T11:20:23.442Z"
   },
   {
    "duration": 14,
    "start_time": "2022-08-29T11:20:23.460Z"
   },
   {
    "duration": 90,
    "start_time": "2022-08-29T11:20:23.476Z"
   },
   {
    "duration": 0,
    "start_time": "2022-08-29T11:20:23.568Z"
   },
   {
    "duration": 0,
    "start_time": "2022-08-29T11:20:23.569Z"
   },
   {
    "duration": 0,
    "start_time": "2022-08-29T11:20:23.570Z"
   },
   {
    "duration": 0,
    "start_time": "2022-08-29T11:20:23.571Z"
   },
   {
    "duration": 0,
    "start_time": "2022-08-29T11:20:23.572Z"
   },
   {
    "duration": 0,
    "start_time": "2022-08-29T11:20:23.573Z"
   },
   {
    "duration": 0,
    "start_time": "2022-08-29T11:20:23.574Z"
   },
   {
    "duration": 0,
    "start_time": "2022-08-29T11:20:23.575Z"
   },
   {
    "duration": 0,
    "start_time": "2022-08-29T11:20:23.575Z"
   },
   {
    "duration": 0,
    "start_time": "2022-08-29T11:20:23.576Z"
   },
   {
    "duration": 0,
    "start_time": "2022-08-29T11:20:23.577Z"
   },
   {
    "duration": 0,
    "start_time": "2022-08-29T11:20:23.578Z"
   },
   {
    "duration": 0,
    "start_time": "2022-08-29T11:20:23.579Z"
   },
   {
    "duration": 0,
    "start_time": "2022-08-29T11:20:23.579Z"
   },
   {
    "duration": 0,
    "start_time": "2022-08-29T11:20:23.581Z"
   },
   {
    "duration": 0,
    "start_time": "2022-08-29T11:20:23.581Z"
   },
   {
    "duration": 0,
    "start_time": "2022-08-29T11:20:23.610Z"
   },
   {
    "duration": 0,
    "start_time": "2022-08-29T11:20:23.611Z"
   },
   {
    "duration": 4,
    "start_time": "2022-08-29T11:21:00.360Z"
   },
   {
    "duration": 5,
    "start_time": "2022-08-29T11:21:22.186Z"
   },
   {
    "duration": 788,
    "start_time": "2022-08-29T11:21:37.009Z"
   },
   {
    "duration": 74,
    "start_time": "2022-08-29T11:41:57.774Z"
   },
   {
    "duration": 15,
    "start_time": "2022-08-29T11:42:07.053Z"
   },
   {
    "duration": 10,
    "start_time": "2022-08-29T11:42:27.552Z"
   },
   {
    "duration": 15,
    "start_time": "2022-08-29T11:42:33.199Z"
   },
   {
    "duration": 14,
    "start_time": "2022-08-29T11:43:21.226Z"
   },
   {
    "duration": 24,
    "start_time": "2022-08-29T11:43:32.131Z"
   },
   {
    "duration": 24,
    "start_time": "2022-08-29T11:44:43.597Z"
   },
   {
    "duration": 20,
    "start_time": "2022-08-29T11:45:37.993Z"
   },
   {
    "duration": 21,
    "start_time": "2022-08-29T11:48:09.872Z"
   },
   {
    "duration": 25,
    "start_time": "2022-08-29T11:48:56.394Z"
   },
   {
    "duration": 23,
    "start_time": "2022-08-29T11:49:14.172Z"
   },
   {
    "duration": 27,
    "start_time": "2022-08-29T11:51:03.856Z"
   },
   {
    "duration": 30,
    "start_time": "2022-08-29T11:51:17.033Z"
   },
   {
    "duration": 41,
    "start_time": "2022-08-29T11:51:44.139Z"
   },
   {
    "duration": 31,
    "start_time": "2022-08-29T11:51:59.394Z"
   },
   {
    "duration": 18,
    "start_time": "2022-08-29T11:52:14.723Z"
   },
   {
    "duration": 20,
    "start_time": "2022-08-29T11:52:35.900Z"
   },
   {
    "duration": 19,
    "start_time": "2022-08-29T11:53:40.003Z"
   },
   {
    "duration": 16,
    "start_time": "2022-08-29T11:53:43.735Z"
   },
   {
    "duration": 67,
    "start_time": "2022-08-29T12:06:43.422Z"
   },
   {
    "duration": 44,
    "start_time": "2022-08-29T12:08:34.228Z"
   },
   {
    "duration": 48,
    "start_time": "2022-08-29T12:08:42.796Z"
   },
   {
    "duration": 64,
    "start_time": "2022-08-29T12:10:32.716Z"
   },
   {
    "duration": 62,
    "start_time": "2022-08-29T12:10:39.146Z"
   },
   {
    "duration": 62,
    "start_time": "2022-08-29T12:11:59.574Z"
   },
   {
    "duration": 89,
    "start_time": "2022-08-29T12:12:54.449Z"
   },
   {
    "duration": 154,
    "start_time": "2022-08-29T12:13:46.811Z"
   },
   {
    "duration": 51,
    "start_time": "2022-08-29T12:14:09.204Z"
   },
   {
    "duration": 51,
    "start_time": "2022-08-29T12:16:35.459Z"
   },
   {
    "duration": 47,
    "start_time": "2022-08-29T12:16:43.284Z"
   },
   {
    "duration": 61,
    "start_time": "2022-08-29T12:21:09.430Z"
   },
   {
    "duration": 48,
    "start_time": "2022-08-29T12:22:20.983Z"
   },
   {
    "duration": 50,
    "start_time": "2022-08-29T12:22:57.190Z"
   },
   {
    "duration": 74,
    "start_time": "2022-08-29T12:23:12.022Z"
   },
   {
    "duration": 63,
    "start_time": "2022-08-29T12:23:59.889Z"
   },
   {
    "duration": 68,
    "start_time": "2022-08-29T12:24:10.037Z"
   },
   {
    "duration": 64,
    "start_time": "2022-08-29T12:37:19.594Z"
   },
   {
    "duration": 68,
    "start_time": "2022-08-29T12:37:47.122Z"
   },
   {
    "duration": 68,
    "start_time": "2022-08-29T12:38:28.020Z"
   },
   {
    "duration": 67,
    "start_time": "2022-08-29T12:38:46.047Z"
   },
   {
    "duration": 65,
    "start_time": "2022-08-29T12:38:56.014Z"
   },
   {
    "duration": 62,
    "start_time": "2022-08-29T12:42:03.944Z"
   },
   {
    "duration": 64,
    "start_time": "2022-08-29T12:42:48.050Z"
   },
   {
    "duration": 49,
    "start_time": "2022-08-29T12:43:27.139Z"
   },
   {
    "duration": 109,
    "start_time": "2022-08-29T12:43:45.581Z"
   },
   {
    "duration": 64,
    "start_time": "2022-08-29T12:44:32.246Z"
   },
   {
    "duration": 9,
    "start_time": "2022-08-29T12:46:11.425Z"
   },
   {
    "duration": 8,
    "start_time": "2022-08-29T13:20:40.016Z"
   },
   {
    "duration": 6,
    "start_time": "2022-08-29T13:22:09.919Z"
   },
   {
    "duration": 9,
    "start_time": "2022-08-29T13:22:22.423Z"
   },
   {
    "duration": 15,
    "start_time": "2022-08-29T13:22:28.054Z"
   },
   {
    "duration": 8,
    "start_time": "2022-08-29T13:23:10.349Z"
   },
   {
    "duration": 5,
    "start_time": "2022-08-29T13:33:12.492Z"
   },
   {
    "duration": 4,
    "start_time": "2022-08-29T13:33:49.170Z"
   },
   {
    "duration": 24,
    "start_time": "2022-08-29T13:34:02.114Z"
   },
   {
    "duration": 4,
    "start_time": "2022-08-29T13:35:36.323Z"
   },
   {
    "duration": 41,
    "start_time": "2022-08-29T13:35:39.195Z"
   },
   {
    "duration": 42,
    "start_time": "2022-08-29T13:38:03.625Z"
   },
   {
    "duration": 41,
    "start_time": "2022-08-29T13:38:09.277Z"
   },
   {
    "duration": 4,
    "start_time": "2022-08-29T13:38:21.615Z"
   },
   {
    "duration": 43,
    "start_time": "2022-08-29T13:38:23.631Z"
   },
   {
    "duration": 4,
    "start_time": "2022-08-29T13:39:14.177Z"
   },
   {
    "duration": 9,
    "start_time": "2022-08-29T13:39:16.531Z"
   },
   {
    "duration": 4,
    "start_time": "2022-08-29T13:39:38.488Z"
   },
   {
    "duration": 8,
    "start_time": "2022-08-29T13:39:44.428Z"
   },
   {
    "duration": 7,
    "start_time": "2022-08-29T13:40:00.243Z"
   },
   {
    "duration": 10,
    "start_time": "2022-08-29T13:40:01.890Z"
   },
   {
    "duration": 5,
    "start_time": "2022-08-29T13:41:20.534Z"
   },
   {
    "duration": 12,
    "start_time": "2022-08-29T13:41:22.287Z"
   },
   {
    "duration": 5,
    "start_time": "2022-08-29T13:41:50.766Z"
   },
   {
    "duration": 10,
    "start_time": "2022-08-29T13:41:51.873Z"
   },
   {
    "duration": 5,
    "start_time": "2022-08-29T13:42:08.844Z"
   },
   {
    "duration": 13,
    "start_time": "2022-08-29T13:42:10.179Z"
   },
   {
    "duration": 5,
    "start_time": "2022-08-29T13:42:16.966Z"
   },
   {
    "duration": 20,
    "start_time": "2022-08-29T13:42:18.058Z"
   },
   {
    "duration": 5,
    "start_time": "2022-08-29T13:42:29.084Z"
   },
   {
    "duration": 22,
    "start_time": "2022-08-29T13:42:30.187Z"
   },
   {
    "duration": 5,
    "start_time": "2022-08-29T13:43:13.502Z"
   },
   {
    "duration": 36,
    "start_time": "2022-08-29T13:43:14.676Z"
   },
   {
    "duration": 5,
    "start_time": "2022-08-29T13:43:20.062Z"
   },
   {
    "duration": 38,
    "start_time": "2022-08-29T13:43:21.157Z"
   },
   {
    "duration": 6,
    "start_time": "2022-08-29T13:43:55.120Z"
   },
   {
    "duration": 17,
    "start_time": "2022-08-29T13:43:56.845Z"
   },
   {
    "duration": 6,
    "start_time": "2022-08-29T13:44:35.721Z"
   },
   {
    "duration": 22,
    "start_time": "2022-08-29T13:44:36.488Z"
   },
   {
    "duration": 4,
    "start_time": "2022-08-29T13:45:10.666Z"
   },
   {
    "duration": 19,
    "start_time": "2022-08-29T13:45:11.609Z"
   },
   {
    "duration": 4,
    "start_time": "2022-08-29T13:45:41.540Z"
   },
   {
    "duration": 22,
    "start_time": "2022-08-29T13:45:42.812Z"
   },
   {
    "duration": 5,
    "start_time": "2022-08-29T13:47:09.176Z"
   },
   {
    "duration": 30,
    "start_time": "2022-08-29T13:47:09.951Z"
   },
   {
    "duration": 4,
    "start_time": "2022-08-29T13:47:51.522Z"
   },
   {
    "duration": 22,
    "start_time": "2022-08-29T13:47:52.916Z"
   },
   {
    "duration": 5,
    "start_time": "2022-08-29T13:48:10.100Z"
   },
   {
    "duration": 25,
    "start_time": "2022-08-29T13:48:11.259Z"
   },
   {
    "duration": 5,
    "start_time": "2022-08-29T13:48:48.316Z"
   },
   {
    "duration": 24,
    "start_time": "2022-08-29T13:48:49.429Z"
   },
   {
    "duration": 5,
    "start_time": "2022-08-29T13:50:02.586Z"
   },
   {
    "duration": 25,
    "start_time": "2022-08-29T13:50:03.836Z"
   },
   {
    "duration": 5,
    "start_time": "2022-08-29T13:50:13.297Z"
   },
   {
    "duration": 22,
    "start_time": "2022-08-29T13:50:14.090Z"
   },
   {
    "duration": 5,
    "start_time": "2022-08-29T13:50:30.219Z"
   },
   {
    "duration": 24,
    "start_time": "2022-08-29T13:50:31.712Z"
   },
   {
    "duration": 4,
    "start_time": "2022-08-29T13:50:57.189Z"
   },
   {
    "duration": 21,
    "start_time": "2022-08-29T13:50:58.412Z"
   },
   {
    "duration": 5,
    "start_time": "2022-08-29T13:51:41.213Z"
   },
   {
    "duration": 21,
    "start_time": "2022-08-29T13:51:42.172Z"
   },
   {
    "duration": 5,
    "start_time": "2022-08-29T13:51:52.095Z"
   },
   {
    "duration": 4,
    "start_time": "2022-08-29T13:52:02.122Z"
   },
   {
    "duration": 19,
    "start_time": "2022-08-29T13:52:03.181Z"
   },
   {
    "duration": 4,
    "start_time": "2022-08-29T13:52:13.463Z"
   },
   {
    "duration": 22,
    "start_time": "2022-08-29T13:52:15.550Z"
   },
   {
    "duration": 7,
    "start_time": "2022-08-29T13:53:32.763Z"
   },
   {
    "duration": 25,
    "start_time": "2022-08-29T13:53:33.602Z"
   },
   {
    "duration": 5,
    "start_time": "2022-08-29T13:55:49.763Z"
   },
   {
    "duration": 24,
    "start_time": "2022-08-29T13:55:50.529Z"
   },
   {
    "duration": 5,
    "start_time": "2022-08-29T13:56:06.323Z"
   },
   {
    "duration": 25,
    "start_time": "2022-08-29T13:56:06.985Z"
   },
   {
    "duration": 9,
    "start_time": "2022-08-29T13:57:14.712Z"
   },
   {
    "duration": 26,
    "start_time": "2022-08-29T13:57:15.437Z"
   },
   {
    "duration": 5,
    "start_time": "2022-08-29T13:58:46.642Z"
   },
   {
    "duration": 879,
    "start_time": "2022-08-29T13:58:47.387Z"
   },
   {
    "duration": 5,
    "start_time": "2022-08-29T13:58:54.523Z"
   },
   {
    "duration": 26,
    "start_time": "2022-08-29T13:58:55.294Z"
   },
   {
    "duration": 9,
    "start_time": "2022-08-29T13:59:21.716Z"
   },
   {
    "duration": 24,
    "start_time": "2022-08-29T13:59:22.371Z"
   },
   {
    "duration": 37,
    "start_time": "2022-08-29T13:59:47.173Z"
   },
   {
    "duration": 23,
    "start_time": "2022-08-29T13:59:48.838Z"
   },
   {
    "duration": 5,
    "start_time": "2022-08-29T14:00:14.023Z"
   },
   {
    "duration": 1130,
    "start_time": "2022-08-29T14:00:15.150Z"
   },
   {
    "duration": 6,
    "start_time": "2022-08-29T14:00:50.472Z"
   },
   {
    "duration": 23,
    "start_time": "2022-08-29T14:00:51.039Z"
   },
   {
    "duration": 5,
    "start_time": "2022-08-29T14:01:25.338Z"
   },
   {
    "duration": 29,
    "start_time": "2022-08-29T14:01:26.726Z"
   },
   {
    "duration": 5,
    "start_time": "2022-08-29T14:02:00.875Z"
   },
   {
    "duration": 27,
    "start_time": "2022-08-29T14:02:02.196Z"
   },
   {
    "duration": 5,
    "start_time": "2022-08-29T14:04:28.868Z"
   },
   {
    "duration": 27,
    "start_time": "2022-08-29T14:04:30.667Z"
   },
   {
    "duration": 6,
    "start_time": "2022-08-29T14:05:58.440Z"
   },
   {
    "duration": 26,
    "start_time": "2022-08-29T14:05:59.114Z"
   },
   {
    "duration": 5,
    "start_time": "2022-08-29T14:06:42.372Z"
   },
   {
    "duration": 21,
    "start_time": "2022-08-29T14:06:43.689Z"
   },
   {
    "duration": 5,
    "start_time": "2022-08-29T14:06:57.244Z"
   },
   {
    "duration": 19,
    "start_time": "2022-08-29T14:06:58.101Z"
   },
   {
    "duration": 4,
    "start_time": "2022-08-29T14:07:29.788Z"
   },
   {
    "duration": 18,
    "start_time": "2022-08-29T14:07:30.539Z"
   },
   {
    "duration": 5,
    "start_time": "2022-08-29T14:07:59.616Z"
   },
   {
    "duration": 15,
    "start_time": "2022-08-29T14:08:00.519Z"
   },
   {
    "duration": 11,
    "start_time": "2022-08-29T14:24:29.317Z"
   },
   {
    "duration": 11,
    "start_time": "2022-08-29T14:24:33.350Z"
   },
   {
    "duration": 21,
    "start_time": "2022-08-29T14:24:49.445Z"
   },
   {
    "duration": 10,
    "start_time": "2022-08-29T14:24:53.725Z"
   },
   {
    "duration": 12,
    "start_time": "2022-08-29T14:24:58.872Z"
   },
   {
    "duration": 4,
    "start_time": "2022-08-29T14:33:10.527Z"
   },
   {
    "duration": 9,
    "start_time": "2022-08-29T14:33:23.943Z"
   },
   {
    "duration": 3,
    "start_time": "2022-08-29T14:33:36.967Z"
   },
   {
    "duration": 8,
    "start_time": "2022-08-29T14:34:08.192Z"
   },
   {
    "duration": 5,
    "start_time": "2022-08-29T14:36:41.097Z"
   },
   {
    "duration": 5,
    "start_time": "2022-08-29T14:36:51.123Z"
   },
   {
    "duration": 14,
    "start_time": "2022-08-29T14:37:13.474Z"
   },
   {
    "duration": 12,
    "start_time": "2022-08-29T14:37:20.964Z"
   },
   {
    "duration": 15,
    "start_time": "2022-08-29T14:37:29.282Z"
   },
   {
    "duration": 14,
    "start_time": "2022-08-29T14:38:09.325Z"
   },
   {
    "duration": 10,
    "start_time": "2022-08-29T14:38:17.773Z"
   },
   {
    "duration": 7,
    "start_time": "2022-08-29T14:38:32.999Z"
   },
   {
    "duration": 8,
    "start_time": "2022-08-29T14:38:40.014Z"
   },
   {
    "duration": 7,
    "start_time": "2022-08-29T14:38:51.847Z"
   },
   {
    "duration": 8,
    "start_time": "2022-08-29T14:39:01.920Z"
   },
   {
    "duration": 3,
    "start_time": "2022-08-29T14:39:06.087Z"
   },
   {
    "duration": 3,
    "start_time": "2022-08-29T14:39:17.664Z"
   },
   {
    "duration": 9,
    "start_time": "2022-08-29T14:39:24.064Z"
   },
   {
    "duration": 8,
    "start_time": "2022-08-29T14:39:29.001Z"
   },
   {
    "duration": 3,
    "start_time": "2022-08-29T14:39:55.841Z"
   },
   {
    "duration": 7,
    "start_time": "2022-08-29T14:40:04.827Z"
   },
   {
    "duration": 408,
    "start_time": "2022-08-29T14:40:19.296Z"
   },
   {
    "duration": 162,
    "start_time": "2022-08-29T14:40:19.705Z"
   },
   {
    "duration": 10,
    "start_time": "2022-08-29T14:40:19.868Z"
   },
   {
    "duration": 31,
    "start_time": "2022-08-29T14:40:19.880Z"
   },
   {
    "duration": 2,
    "start_time": "2022-08-29T14:40:19.913Z"
   },
   {
    "duration": 8,
    "start_time": "2022-08-29T14:40:19.916Z"
   },
   {
    "duration": 13,
    "start_time": "2022-08-29T14:40:19.925Z"
   },
   {
    "duration": 3,
    "start_time": "2022-08-29T14:40:19.940Z"
   },
   {
    "duration": 21,
    "start_time": "2022-08-29T14:40:19.944Z"
   },
   {
    "duration": 13,
    "start_time": "2022-08-29T14:40:19.968Z"
   },
   {
    "duration": 39,
    "start_time": "2022-08-29T14:40:19.982Z"
   },
   {
    "duration": 62,
    "start_time": "2022-08-29T14:40:20.023Z"
   },
   {
    "duration": 78,
    "start_time": "2022-08-29T14:40:20.087Z"
   },
   {
    "duration": 60,
    "start_time": "2022-08-29T14:40:20.167Z"
   },
   {
    "duration": 39,
    "start_time": "2022-08-29T14:40:20.228Z"
   },
   {
    "duration": 67,
    "start_time": "2022-08-29T14:40:20.269Z"
   },
   {
    "duration": 8,
    "start_time": "2022-08-29T14:40:20.337Z"
   },
   {
    "duration": 12,
    "start_time": "2022-08-29T14:40:20.346Z"
   },
   {
    "duration": 9,
    "start_time": "2022-08-29T14:40:20.360Z"
   },
   {
    "duration": 3,
    "start_time": "2022-08-29T14:40:20.371Z"
   },
   {
    "duration": 40,
    "start_time": "2022-08-29T14:40:20.375Z"
   },
   {
    "duration": 13,
    "start_time": "2022-08-29T14:40:20.417Z"
   },
   {
    "duration": 12,
    "start_time": "2022-08-29T14:40:20.431Z"
   },
   {
    "duration": 11,
    "start_time": "2022-08-29T14:40:20.445Z"
   },
   {
    "duration": 14,
    "start_time": "2022-08-29T14:40:20.458Z"
   },
   {
    "duration": 46,
    "start_time": "2022-08-29T14:40:20.473Z"
   },
   {
    "duration": 7,
    "start_time": "2022-08-29T14:40:20.521Z"
   },
   {
    "duration": 14,
    "start_time": "2022-08-29T14:40:20.531Z"
   },
   {
    "duration": 9,
    "start_time": "2022-08-29T14:40:20.546Z"
   },
   {
    "duration": 4,
    "start_time": "2022-08-29T14:40:20.557Z"
   },
   {
    "duration": 24,
    "start_time": "2022-08-29T14:40:20.562Z"
   },
   {
    "duration": 23,
    "start_time": "2022-08-29T14:40:20.588Z"
   },
   {
    "duration": 15,
    "start_time": "2022-08-29T14:40:20.613Z"
   },
   {
    "duration": 10,
    "start_time": "2022-08-29T14:40:20.629Z"
   },
   {
    "duration": 4,
    "start_time": "2022-08-29T14:40:20.640Z"
   },
   {
    "duration": 4,
    "start_time": "2022-08-29T14:40:20.645Z"
   },
   {
    "duration": 5,
    "start_time": "2022-08-29T14:40:20.650Z"
   },
   {
    "duration": 4,
    "start_time": "2022-08-29T14:40:20.657Z"
   },
   {
    "duration": 67,
    "start_time": "2022-08-29T14:41:09.340Z"
   },
   {
    "duration": 7,
    "start_time": "2022-08-29T14:41:50.814Z"
   },
   {
    "duration": 362,
    "start_time": "2022-08-29T14:42:00.459Z"
   },
   {
    "duration": 177,
    "start_time": "2022-08-29T14:42:00.823Z"
   },
   {
    "duration": 11,
    "start_time": "2022-08-29T14:42:01.001Z"
   },
   {
    "duration": 28,
    "start_time": "2022-08-29T14:42:01.014Z"
   },
   {
    "duration": 5,
    "start_time": "2022-08-29T14:42:01.043Z"
   },
   {
    "duration": 7,
    "start_time": "2022-08-29T14:42:01.050Z"
   },
   {
    "duration": 24,
    "start_time": "2022-08-29T14:42:01.058Z"
   },
   {
    "duration": 30,
    "start_time": "2022-08-29T14:42:01.084Z"
   },
   {
    "duration": 51,
    "start_time": "2022-08-29T14:42:01.115Z"
   },
   {
    "duration": 15,
    "start_time": "2022-08-29T14:42:01.169Z"
   },
   {
    "duration": 33,
    "start_time": "2022-08-29T14:42:01.185Z"
   },
   {
    "duration": 66,
    "start_time": "2022-08-29T14:42:01.220Z"
   },
   {
    "duration": 75,
    "start_time": "2022-08-29T14:42:01.287Z"
   },
   {
    "duration": 63,
    "start_time": "2022-08-29T14:42:01.364Z"
   },
   {
    "duration": 41,
    "start_time": "2022-08-29T14:42:01.429Z"
   },
   {
    "duration": 79,
    "start_time": "2022-08-29T14:42:01.472Z"
   },
   {
    "duration": 9,
    "start_time": "2022-08-29T14:42:01.552Z"
   },
   {
    "duration": 32,
    "start_time": "2022-08-29T14:42:01.563Z"
   },
   {
    "duration": 17,
    "start_time": "2022-08-29T14:42:01.596Z"
   },
   {
    "duration": 4,
    "start_time": "2022-08-29T14:42:01.615Z"
   },
   {
    "duration": 32,
    "start_time": "2022-08-29T14:42:01.621Z"
   },
   {
    "duration": 20,
    "start_time": "2022-08-29T14:42:01.654Z"
   },
   {
    "duration": 24,
    "start_time": "2022-08-29T14:42:01.676Z"
   },
   {
    "duration": 14,
    "start_time": "2022-08-29T14:42:01.702Z"
   },
   {
    "duration": 26,
    "start_time": "2022-08-29T14:42:01.717Z"
   },
   {
    "duration": 22,
    "start_time": "2022-08-29T14:42:01.745Z"
   },
   {
    "duration": 36,
    "start_time": "2022-08-29T14:42:01.769Z"
   },
   {
    "duration": 29,
    "start_time": "2022-08-29T14:42:01.808Z"
   },
   {
    "duration": 14,
    "start_time": "2022-08-29T14:42:01.839Z"
   },
   {
    "duration": 7,
    "start_time": "2022-08-29T14:42:01.855Z"
   },
   {
    "duration": 26,
    "start_time": "2022-08-29T14:42:01.863Z"
   },
   {
    "duration": 22,
    "start_time": "2022-08-29T14:42:01.891Z"
   },
   {
    "duration": 17,
    "start_time": "2022-08-29T14:42:01.915Z"
   },
   {
    "duration": 15,
    "start_time": "2022-08-29T14:42:01.933Z"
   },
   {
    "duration": 53,
    "start_time": "2022-08-29T14:42:01.950Z"
   },
   {
    "duration": 3,
    "start_time": "2022-08-29T14:42:02.005Z"
   },
   {
    "duration": 21,
    "start_time": "2022-08-29T14:42:02.010Z"
   },
   {
    "duration": 26,
    "start_time": "2022-08-29T14:42:02.032Z"
   },
   {
    "duration": 32,
    "start_time": "2022-08-29T14:42:12.743Z"
   },
   {
    "duration": 82,
    "start_time": "2022-08-29T14:45:38.683Z"
   },
   {
    "duration": 8,
    "start_time": "2022-08-29T14:45:59.049Z"
   },
   {
    "duration": 367,
    "start_time": "2022-08-29T14:46:19.748Z"
   },
   {
    "duration": 159,
    "start_time": "2022-08-29T14:46:20.117Z"
   },
   {
    "duration": 9,
    "start_time": "2022-08-29T14:46:20.278Z"
   },
   {
    "duration": 37,
    "start_time": "2022-08-29T14:46:20.289Z"
   },
   {
    "duration": 2,
    "start_time": "2022-08-29T14:46:20.328Z"
   },
   {
    "duration": 16,
    "start_time": "2022-08-29T14:46:20.331Z"
   },
   {
    "duration": 35,
    "start_time": "2022-08-29T14:46:20.349Z"
   },
   {
    "duration": 16,
    "start_time": "2022-08-29T14:46:20.386Z"
   },
   {
    "duration": 27,
    "start_time": "2022-08-29T14:46:20.403Z"
   },
   {
    "duration": 17,
    "start_time": "2022-08-29T14:46:20.432Z"
   },
   {
    "duration": 33,
    "start_time": "2022-08-29T14:46:20.450Z"
   },
   {
    "duration": 72,
    "start_time": "2022-08-29T14:46:20.485Z"
   },
   {
    "duration": 75,
    "start_time": "2022-08-29T14:46:20.559Z"
   },
   {
    "duration": 58,
    "start_time": "2022-08-29T14:46:20.636Z"
   },
   {
    "duration": 54,
    "start_time": "2022-08-29T14:46:20.695Z"
   },
   {
    "duration": 71,
    "start_time": "2022-08-29T14:46:20.751Z"
   },
   {
    "duration": 8,
    "start_time": "2022-08-29T14:46:20.824Z"
   },
   {
    "duration": 28,
    "start_time": "2022-08-29T14:46:20.834Z"
   },
   {
    "duration": 16,
    "start_time": "2022-08-29T14:46:20.863Z"
   },
   {
    "duration": 16,
    "start_time": "2022-08-29T14:46:20.881Z"
   },
   {
    "duration": 31,
    "start_time": "2022-08-29T14:46:20.898Z"
   },
   {
    "duration": 23,
    "start_time": "2022-08-29T14:46:20.931Z"
   },
   {
    "duration": 22,
    "start_time": "2022-08-29T14:46:20.956Z"
   },
   {
    "duration": 18,
    "start_time": "2022-08-29T14:46:20.980Z"
   },
   {
    "duration": 35,
    "start_time": "2022-08-29T14:46:21.000Z"
   },
   {
    "duration": 22,
    "start_time": "2022-08-29T14:46:21.037Z"
   },
   {
    "duration": 17,
    "start_time": "2022-08-29T14:46:21.061Z"
   },
   {
    "duration": 26,
    "start_time": "2022-08-29T14:46:21.081Z"
   },
   {
    "duration": 17,
    "start_time": "2022-08-29T14:46:21.108Z"
   },
   {
    "duration": 10,
    "start_time": "2022-08-29T14:46:21.127Z"
   },
   {
    "duration": 46,
    "start_time": "2022-08-29T14:46:21.138Z"
   },
   {
    "duration": 12,
    "start_time": "2022-08-29T14:46:21.186Z"
   },
   {
    "duration": 37,
    "start_time": "2022-08-29T14:46:21.200Z"
   },
   {
    "duration": 17,
    "start_time": "2022-08-29T14:46:21.239Z"
   },
   {
    "duration": 84,
    "start_time": "2022-08-29T14:46:21.257Z"
   },
   {
    "duration": 0,
    "start_time": "2022-08-29T14:46:21.342Z"
   },
   {
    "duration": 0,
    "start_time": "2022-08-29T14:46:21.343Z"
   },
   {
    "duration": 0,
    "start_time": "2022-08-29T14:46:21.344Z"
   },
   {
    "duration": 410,
    "start_time": "2022-08-29T14:47:17.520Z"
   },
   {
    "duration": 157,
    "start_time": "2022-08-29T14:47:17.932Z"
   },
   {
    "duration": 10,
    "start_time": "2022-08-29T14:47:18.090Z"
   },
   {
    "duration": 26,
    "start_time": "2022-08-29T14:47:18.102Z"
   },
   {
    "duration": 2,
    "start_time": "2022-08-29T14:47:18.129Z"
   },
   {
    "duration": 8,
    "start_time": "2022-08-29T14:47:18.133Z"
   },
   {
    "duration": 12,
    "start_time": "2022-08-29T14:47:18.143Z"
   },
   {
    "duration": 7,
    "start_time": "2022-08-29T14:47:18.156Z"
   },
   {
    "duration": 24,
    "start_time": "2022-08-29T14:47:18.164Z"
   },
   {
    "duration": 14,
    "start_time": "2022-08-29T14:47:18.213Z"
   },
   {
    "duration": 19,
    "start_time": "2022-08-29T14:47:18.229Z"
   },
   {
    "duration": 81,
    "start_time": "2022-08-29T14:47:18.249Z"
   },
   {
    "duration": 64,
    "start_time": "2022-08-29T14:47:18.331Z"
   },
   {
    "duration": 59,
    "start_time": "2022-08-29T14:47:18.397Z"
   },
   {
    "duration": 40,
    "start_time": "2022-08-29T14:47:18.457Z"
   },
   {
    "duration": 56,
    "start_time": "2022-08-29T14:47:18.511Z"
   },
   {
    "duration": 7,
    "start_time": "2022-08-29T14:47:18.569Z"
   },
   {
    "duration": 15,
    "start_time": "2022-08-29T14:47:18.577Z"
   },
   {
    "duration": 12,
    "start_time": "2022-08-29T14:47:18.610Z"
   },
   {
    "duration": 4,
    "start_time": "2022-08-29T14:47:18.624Z"
   },
   {
    "duration": 17,
    "start_time": "2022-08-29T14:47:18.630Z"
   },
   {
    "duration": 15,
    "start_time": "2022-08-29T14:47:18.649Z"
   },
   {
    "duration": 51,
    "start_time": "2022-08-29T14:47:18.666Z"
   },
   {
    "duration": 14,
    "start_time": "2022-08-29T14:47:18.719Z"
   },
   {
    "duration": 15,
    "start_time": "2022-08-29T14:47:18.735Z"
   },
   {
    "duration": 12,
    "start_time": "2022-08-29T14:47:18.752Z"
   },
   {
    "duration": 8,
    "start_time": "2022-08-29T14:47:18.766Z"
   },
   {
    "duration": 9,
    "start_time": "2022-08-29T14:47:18.810Z"
   },
   {
    "duration": 7,
    "start_time": "2022-08-29T14:47:18.821Z"
   },
   {
    "duration": 4,
    "start_time": "2022-08-29T14:47:18.830Z"
   },
   {
    "duration": 21,
    "start_time": "2022-08-29T14:47:18.836Z"
   },
   {
    "duration": 11,
    "start_time": "2022-08-29T14:47:18.859Z"
   },
   {
    "duration": 41,
    "start_time": "2022-08-29T14:47:18.871Z"
   },
   {
    "duration": 11,
    "start_time": "2022-08-29T14:47:18.913Z"
   },
   {
    "duration": 93,
    "start_time": "2022-08-29T14:47:18.925Z"
   },
   {
    "duration": 0,
    "start_time": "2022-08-29T14:47:19.020Z"
   },
   {
    "duration": 0,
    "start_time": "2022-08-29T14:47:19.021Z"
   },
   {
    "duration": 0,
    "start_time": "2022-08-29T14:47:19.021Z"
   },
   {
    "duration": 22,
    "start_time": "2022-08-29T14:47:55.503Z"
   },
   {
    "duration": 43,
    "start_time": "2022-08-29T14:48:22.193Z"
   },
   {
    "duration": 27,
    "start_time": "2022-08-29T14:48:28.505Z"
   },
   {
    "duration": 9,
    "start_time": "2022-08-29T14:49:06.619Z"
   },
   {
    "duration": 12,
    "start_time": "2022-08-29T14:49:10.876Z"
   },
   {
    "duration": 10,
    "start_time": "2022-08-29T14:49:16.548Z"
   },
   {
    "duration": 5,
    "start_time": "2022-08-29T14:50:16.871Z"
   },
   {
    "duration": 6,
    "start_time": "2022-08-29T14:51:05.305Z"
   },
   {
    "duration": 4,
    "start_time": "2022-08-29T14:51:07.320Z"
   },
   {
    "duration": 2,
    "start_time": "2022-08-29T14:55:38.981Z"
   },
   {
    "duration": 170,
    "start_time": "2022-08-29T14:55:38.985Z"
   },
   {
    "duration": 9,
    "start_time": "2022-08-29T14:55:39.157Z"
   },
   {
    "duration": 27,
    "start_time": "2022-08-29T14:55:39.167Z"
   },
   {
    "duration": 2,
    "start_time": "2022-08-29T14:55:39.210Z"
   },
   {
    "duration": 6,
    "start_time": "2022-08-29T14:55:39.214Z"
   },
   {
    "duration": 7,
    "start_time": "2022-08-29T14:55:39.222Z"
   },
   {
    "duration": 10,
    "start_time": "2022-08-29T14:55:39.231Z"
   },
   {
    "duration": 20,
    "start_time": "2022-08-29T14:55:39.243Z"
   },
   {
    "duration": 15,
    "start_time": "2022-08-29T14:55:39.265Z"
   },
   {
    "duration": 36,
    "start_time": "2022-08-29T14:55:39.283Z"
   },
   {
    "duration": 58,
    "start_time": "2022-08-29T14:55:39.320Z"
   },
   {
    "duration": 84,
    "start_time": "2022-08-29T14:55:39.379Z"
   },
   {
    "duration": 63,
    "start_time": "2022-08-29T14:55:39.465Z"
   },
   {
    "duration": 42,
    "start_time": "2022-08-29T14:55:39.530Z"
   },
   {
    "duration": 76,
    "start_time": "2022-08-29T14:55:39.574Z"
   },
   {
    "duration": 7,
    "start_time": "2022-08-29T14:55:39.652Z"
   },
   {
    "duration": 11,
    "start_time": "2022-08-29T14:55:39.661Z"
   },
   {
    "duration": 11,
    "start_time": "2022-08-29T14:55:39.674Z"
   },
   {
    "duration": 3,
    "start_time": "2022-08-29T14:55:39.686Z"
   },
   {
    "duration": 43,
    "start_time": "2022-08-29T14:55:39.690Z"
   },
   {
    "duration": 18,
    "start_time": "2022-08-29T14:55:39.735Z"
   },
   {
    "duration": 14,
    "start_time": "2022-08-29T14:55:39.754Z"
   },
   {
    "duration": 13,
    "start_time": "2022-08-29T14:55:39.770Z"
   },
   {
    "duration": 37,
    "start_time": "2022-08-29T14:55:39.785Z"
   },
   {
    "duration": 16,
    "start_time": "2022-08-29T14:55:39.823Z"
   },
   {
    "duration": 11,
    "start_time": "2022-08-29T14:55:39.841Z"
   },
   {
    "duration": 14,
    "start_time": "2022-08-29T14:55:39.854Z"
   },
   {
    "duration": 43,
    "start_time": "2022-08-29T14:55:39.871Z"
   },
   {
    "duration": 4,
    "start_time": "2022-08-29T14:55:39.916Z"
   },
   {
    "duration": 36,
    "start_time": "2022-08-29T14:55:39.922Z"
   },
   {
    "duration": 9,
    "start_time": "2022-08-29T14:55:39.960Z"
   },
   {
    "duration": 14,
    "start_time": "2022-08-29T14:55:39.971Z"
   },
   {
    "duration": 26,
    "start_time": "2022-08-29T14:55:39.986Z"
   },
   {
    "duration": 11,
    "start_time": "2022-08-29T14:55:40.014Z"
   },
   {
    "duration": 8,
    "start_time": "2022-08-29T14:55:40.027Z"
   },
   {
    "duration": 11,
    "start_time": "2022-08-29T14:55:40.037Z"
   },
   {
    "duration": 8,
    "start_time": "2022-08-29T14:55:40.050Z"
   },
   {
    "duration": 400,
    "start_time": "2022-09-05T08:03:47.685Z"
   },
   {
    "duration": 234,
    "start_time": "2022-09-05T08:03:56.811Z"
   },
   {
    "duration": 9,
    "start_time": "2022-09-05T08:03:59.927Z"
   },
   {
    "duration": 26,
    "start_time": "2022-09-05T08:04:01.961Z"
   },
   {
    "duration": 2,
    "start_time": "2022-09-05T08:04:05.547Z"
   },
   {
    "duration": 3,
    "start_time": "2022-09-05T08:04:08.015Z"
   },
   {
    "duration": 11,
    "start_time": "2022-09-05T08:04:09.133Z"
   },
   {
    "duration": 4,
    "start_time": "2022-09-05T08:04:10.639Z"
   },
   {
    "duration": 20,
    "start_time": "2022-09-05T08:04:12.622Z"
   },
   {
    "duration": 14,
    "start_time": "2022-09-05T08:04:15.522Z"
   },
   {
    "duration": 20,
    "start_time": "2022-09-05T08:04:17.224Z"
   },
   {
    "duration": 59,
    "start_time": "2022-09-05T08:04:18.524Z"
   },
   {
    "duration": 73,
    "start_time": "2022-09-05T08:04:19.496Z"
   },
   {
    "duration": 59,
    "start_time": "2022-09-05T08:04:20.394Z"
   },
   {
    "duration": 47,
    "start_time": "2022-09-05T08:04:21.795Z"
   },
   {
    "duration": 57,
    "start_time": "2022-09-05T08:04:23.114Z"
   },
   {
    "duration": 8,
    "start_time": "2022-09-05T08:04:23.913Z"
   },
   {
    "duration": 11,
    "start_time": "2022-09-05T08:04:26.565Z"
   },
   {
    "duration": 12,
    "start_time": "2022-09-05T08:04:27.457Z"
   },
   {
    "duration": 3,
    "start_time": "2022-09-05T08:04:28.667Z"
   },
   {
    "duration": 17,
    "start_time": "2022-09-05T08:04:29.422Z"
   },
   {
    "duration": 14,
    "start_time": "2022-09-05T08:04:29.810Z"
   },
   {
    "duration": 13,
    "start_time": "2022-09-05T08:04:30.219Z"
   },
   {
    "duration": 13,
    "start_time": "2022-09-05T08:04:30.519Z"
   },
   {
    "duration": 15,
    "start_time": "2022-09-05T08:04:30.836Z"
   },
   {
    "duration": 14,
    "start_time": "2022-09-05T08:04:31.157Z"
   },
   {
    "duration": 7,
    "start_time": "2022-09-05T08:04:31.839Z"
   },
   {
    "duration": 11,
    "start_time": "2022-09-05T08:04:33.510Z"
   },
   {
    "duration": 7,
    "start_time": "2022-09-05T08:04:33.738Z"
   },
   {
    "duration": 4,
    "start_time": "2022-09-05T08:04:34.274Z"
   },
   {
    "duration": 14,
    "start_time": "2022-09-05T08:04:34.824Z"
   },
   {
    "duration": 11,
    "start_time": "2022-09-05T08:04:35.056Z"
   },
   {
    "duration": 17,
    "start_time": "2022-09-05T08:04:35.290Z"
   },
   {
    "duration": 11,
    "start_time": "2022-09-05T08:04:35.573Z"
   },
   {
    "duration": 8,
    "start_time": "2022-09-05T08:04:36.541Z"
   },
   {
    "duration": 4,
    "start_time": "2022-09-05T08:04:37.074Z"
   },
   {
    "duration": 7,
    "start_time": "2022-09-05T08:04:37.510Z"
   },
   {
    "duration": 4,
    "start_time": "2022-09-05T08:04:38.043Z"
   },
   {
    "duration": 153,
    "start_time": "2022-09-05T09:11:49.015Z"
   },
   {
    "duration": 160,
    "start_time": "2022-09-05T09:12:09.946Z"
   },
   {
    "duration": 428,
    "start_time": "2022-09-05T09:13:05.297Z"
   },
   {
    "duration": 177,
    "start_time": "2022-09-05T09:13:12.452Z"
   },
   {
    "duration": 389,
    "start_time": "2022-09-05T09:17:23.509Z"
   },
   {
    "duration": 158,
    "start_time": "2022-09-05T09:17:26.312Z"
   },
   {
    "duration": 393,
    "start_time": "2022-09-05T09:18:37.189Z"
   },
   {
    "duration": 159,
    "start_time": "2022-09-05T09:18:39.224Z"
   },
   {
    "duration": 443,
    "start_time": "2022-09-05T09:19:24.194Z"
   },
   {
    "duration": 166,
    "start_time": "2022-09-05T09:19:25.144Z"
   },
   {
    "duration": 2,
    "start_time": "2022-09-05T09:22:07.254Z"
   },
   {
    "duration": 3,
    "start_time": "2022-09-05T09:22:29.874Z"
   },
   {
    "duration": 338,
    "start_time": "2022-09-05T09:35:16.256Z"
   },
   {
    "duration": 191,
    "start_time": "2022-09-05T09:35:17.175Z"
   },
   {
    "duration": 375,
    "start_time": "2022-09-05T09:36:17.614Z"
   },
   {
    "duration": 181,
    "start_time": "2022-09-05T09:36:18.482Z"
   }
  ],
  "colab": {
   "collapsed_sections": [
    "E0vqbgi9ay0H",
    "VUC88oWjTJw2"
   ],
   "name": "automatization_template_upd4.ipynb",
   "provenance": []
  },
  "kernelspec": {
   "display_name": "Python 3 (ipykernel)",
   "language": "python",
   "name": "python3"
  },
  "language_info": {
   "codemirror_mode": {
    "name": "ipython",
    "version": 3
   },
   "file_extension": ".py",
   "mimetype": "text/x-python",
   "name": "python",
   "nbconvert_exporter": "python",
   "pygments_lexer": "ipython3",
   "version": "3.9.16"
  },
  "toc": {
   "base_numbering": 1,
   "nav_menu": {
    "height": "215px",
    "width": "403px"
   },
   "number_sections": true,
   "sideBar": true,
   "skip_h1_title": true,
   "title_cell": "Table of Contents",
   "title_sidebar": "Contents",
   "toc_cell": false,
   "toc_position": {
    "height": "calc(100% - 180px)",
    "left": "10px",
    "top": "150px",
    "width": "285.825px"
   },
   "toc_section_display": true,
   "toc_window_display": false
  }
 },
 "nbformat": 4,
 "nbformat_minor": 4
}
