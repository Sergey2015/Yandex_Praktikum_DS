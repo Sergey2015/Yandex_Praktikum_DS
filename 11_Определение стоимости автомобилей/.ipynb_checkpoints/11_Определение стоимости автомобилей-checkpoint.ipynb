{
 "cells": [
  {
   "cell_type": "markdown",
   "id": "8e6fa6c4-73ec-481d-8de6-eb51adfae841",
   "metadata": {},
   "source": [
    "# Определение стоимости автомобилей\n",
    " \n",
    "## Описание проекта\n",
    "\n",
    "Сервис по продаже автомобилей с пробегом «Не бит, не крашен» разрабатывает приложение, чтобы привлечь новых клиентов. В нём можно будет узнать рыночную стоимость своего автомобиля. \n",
    "Постройте модель, которая умеет её определять. В вашем распоряжении данные о технических характеристиках, комплектации и ценах других автомобилей.\n",
    "\n",
    "Критерии, которые важны заказчику:\n",
    "\n",
    "- качество предсказания;\n",
    "- время обучения модели;\n",
    "- время предсказания модели.\n",
    "\n",
    "**Описание данных**\n",
    "\n",
    "Данные находятся в файле /datasets/autos.csv. Скачать датасет. \n",
    "\n",
    "**Признаки**\n",
    "\n",
    "- DateCrawled — дата скачивания анкеты из базы\n",
    "- VehicleType — тип автомобильного кузова\n",
    "- RegistrationYear — год регистрации автомобиля\n",
    "- Gearbox — тип коробки передач\n",
    "- Power — мощность (л. с.)\n",
    "- Model — модель автомобиля\n",
    "- Kilometer — пробег (км)\n",
    "- RegistrationMonth — месяц регистрации автомобиля\n",
    "- FuelType — тип топлива\n",
    "- Brand — марка автомобиля\n",
    "- Repaired — была машина в ремонте или нет\n",
    "- DateCreated — дата создания анкеты\n",
    "- NumberOfPictures — количество фотографий автомобиля\n",
    "- PostalCode — почтовый индекс владельца анкеты (пользователя)\n",
    "- LastSeen — дата последней активности пользователя\n",
    "\n",
    "**Целевой признак**\n",
    "- Price — цена (евро)\n"
   ]
  },
  {
   "cell_type": "markdown",
   "id": "4c6e4075-d1b6-425e-a46a-0446ae8fc111",
   "metadata": {},
   "source": [
    "## 1. Загрузка и изучение данных"
   ]
  },
  {
   "cell_type": "code",
   "execution_count": 2,
   "id": "333213aa-7502-4541-908b-4a19419cfe86",
   "metadata": {},
   "outputs": [],
   "source": [
    "# Импортируем необходимые библиотеки\n",
    "\n",
    "import pandas as pd\n",
    "import numpy as np\n",
    "import matplotlib.pyplot as plt\n",
    "import seaborn as sns\n",
    "import sklearn.metrics as metrics\n",
    "import lightgbm as lgb\n",
    "import time\n",
    "import warnings\n",
    "\n",
    "from sklearn.model_selection import train_test_split, GridSearchCV, RandomizedSearchCV, cross_val_score\n",
    "from sklearn.linear_model import LinearRegression\n",
    "from lightgbm import LGBMRegressor \n",
    "from numpy.random import RandomState\n",
    "from sklearn.metrics import r2_score, mean_squared_error\n",
    "from sklearn.ensemble import RandomForestRegressor\n",
    "from catboost import Pool, CatBoostRegressor, cv\n",
    "from sklearn.preprocessing import OrdinalEncoder\n"
   ]
  },
  {
   "cell_type": "code",
   "execution_count": 3,
   "id": "52195d20-2a30-48bd-816a-bbb50c240038",
   "metadata": {},
   "outputs": [],
   "source": [
    "# Читаем данные из файлов\n",
    "try:\n",
    "    data = pd.read_csv('datasets/autos.csv')\n",
    "except:\n",
    "    data = pd.read_csv('/datasets/autos.csv')"
   ]
  },
  {
   "cell_type": "markdown",
   "id": "37e8bca3-d053-47b1-b165-b7833300ea38",
   "metadata": {},
   "source": [
    "**Вывод: Импортировали необходимые библиотеки и успешно загрузили данные используя конструкцию try-except** "
   ]
  },
  {
   "cell_type": "markdown",
   "id": "fde214d1-c993-41df-b18c-1837c9258ee4",
   "metadata": {},
   "source": [
    "## 2. EDA-анализ и предобработка данных"
   ]
  },
  {
   "cell_type": "code",
   "execution_count": 4,
   "id": "fb31e216-c92a-4fbc-a5ed-650c49cdc005",
   "metadata": {},
   "outputs": [],
   "source": [
    "# Напишем функцию, которая покажет общую информацию о датафрейме\n",
    "\n",
    "def show_dataframe_info(data, name):\n",
    "    rows, columns = data.shape\n",
    "    print(f\"\\033[1m{name}\\033[0m\")\n",
    "    print(f'В датафрейме количество стоблцов равно: ', columns)\n",
    "    print(f'В датафрейме количество строк равно:', rows)\n",
    "    display(data.head(5))\n",
    "    display(data.describe())\n",
    "    data.info()\n",
    "    print(\"\")"
   ]
  },
  {
   "cell_type": "code",
   "execution_count": 5,
   "id": "3867cffa-ab31-4d11-98f0-1d7d7b93730b",
   "metadata": {},
   "outputs": [],
   "source": [
    "# Напишем функцию, которая удаляет строки с выбросами. Ф-ция принимает значение датафрейма и колонки.\n",
    "def delete_outliers(df, cols):\n",
    "    q1 = df[cols].quantile(0.25)\n",
    "    q3 = df[cols].quantile(0.75)   \n",
    "    iqr = q3 - q1\n",
    "    df = df.loc[(df[cols] < (q3 + 1.5 * iqr)) & (df[cols] > (q1 - 1.5 * iqr))]\n",
    "    return df"
   ]
  },
  {
   "cell_type": "code",
   "execution_count": 6,
   "id": "7743bb99-c2f2-476d-84fe-1708911d4c09",
   "metadata": {},
   "outputs": [
    {
     "name": "stdout",
     "output_type": "stream",
     "text": [
      "\u001b[1mИсходный датафрейм\u001b[0m\n",
      "В датафрейме количество стоблцов равно:  16\n",
      "В датафрейме количество строк равно: 354369\n"
     ]
    },
    {
     "data": {
      "text/html": [
       "<div>\n",
       "<style scoped>\n",
       "    .dataframe tbody tr th:only-of-type {\n",
       "        vertical-align: middle;\n",
       "    }\n",
       "\n",
       "    .dataframe tbody tr th {\n",
       "        vertical-align: top;\n",
       "    }\n",
       "\n",
       "    .dataframe thead th {\n",
       "        text-align: right;\n",
       "    }\n",
       "</style>\n",
       "<table border=\"1\" class=\"dataframe\">\n",
       "  <thead>\n",
       "    <tr style=\"text-align: right;\">\n",
       "      <th></th>\n",
       "      <th>DateCrawled</th>\n",
       "      <th>Price</th>\n",
       "      <th>VehicleType</th>\n",
       "      <th>RegistrationYear</th>\n",
       "      <th>Gearbox</th>\n",
       "      <th>Power</th>\n",
       "      <th>Model</th>\n",
       "      <th>Kilometer</th>\n",
       "      <th>RegistrationMonth</th>\n",
       "      <th>FuelType</th>\n",
       "      <th>Brand</th>\n",
       "      <th>Repaired</th>\n",
       "      <th>DateCreated</th>\n",
       "      <th>NumberOfPictures</th>\n",
       "      <th>PostalCode</th>\n",
       "      <th>LastSeen</th>\n",
       "    </tr>\n",
       "  </thead>\n",
       "  <tbody>\n",
       "    <tr>\n",
       "      <th>0</th>\n",
       "      <td>2016-03-24 11:52:17</td>\n",
       "      <td>480</td>\n",
       "      <td>NaN</td>\n",
       "      <td>1993</td>\n",
       "      <td>manual</td>\n",
       "      <td>0</td>\n",
       "      <td>golf</td>\n",
       "      <td>150000</td>\n",
       "      <td>0</td>\n",
       "      <td>petrol</td>\n",
       "      <td>volkswagen</td>\n",
       "      <td>NaN</td>\n",
       "      <td>2016-03-24 00:00:00</td>\n",
       "      <td>0</td>\n",
       "      <td>70435</td>\n",
       "      <td>2016-04-07 03:16:57</td>\n",
       "    </tr>\n",
       "    <tr>\n",
       "      <th>1</th>\n",
       "      <td>2016-03-24 10:58:45</td>\n",
       "      <td>18300</td>\n",
       "      <td>coupe</td>\n",
       "      <td>2011</td>\n",
       "      <td>manual</td>\n",
       "      <td>190</td>\n",
       "      <td>NaN</td>\n",
       "      <td>125000</td>\n",
       "      <td>5</td>\n",
       "      <td>gasoline</td>\n",
       "      <td>audi</td>\n",
       "      <td>yes</td>\n",
       "      <td>2016-03-24 00:00:00</td>\n",
       "      <td>0</td>\n",
       "      <td>66954</td>\n",
       "      <td>2016-04-07 01:46:50</td>\n",
       "    </tr>\n",
       "    <tr>\n",
       "      <th>2</th>\n",
       "      <td>2016-03-14 12:52:21</td>\n",
       "      <td>9800</td>\n",
       "      <td>suv</td>\n",
       "      <td>2004</td>\n",
       "      <td>auto</td>\n",
       "      <td>163</td>\n",
       "      <td>grand</td>\n",
       "      <td>125000</td>\n",
       "      <td>8</td>\n",
       "      <td>gasoline</td>\n",
       "      <td>jeep</td>\n",
       "      <td>NaN</td>\n",
       "      <td>2016-03-14 00:00:00</td>\n",
       "      <td>0</td>\n",
       "      <td>90480</td>\n",
       "      <td>2016-04-05 12:47:46</td>\n",
       "    </tr>\n",
       "    <tr>\n",
       "      <th>3</th>\n",
       "      <td>2016-03-17 16:54:04</td>\n",
       "      <td>1500</td>\n",
       "      <td>small</td>\n",
       "      <td>2001</td>\n",
       "      <td>manual</td>\n",
       "      <td>75</td>\n",
       "      <td>golf</td>\n",
       "      <td>150000</td>\n",
       "      <td>6</td>\n",
       "      <td>petrol</td>\n",
       "      <td>volkswagen</td>\n",
       "      <td>no</td>\n",
       "      <td>2016-03-17 00:00:00</td>\n",
       "      <td>0</td>\n",
       "      <td>91074</td>\n",
       "      <td>2016-03-17 17:40:17</td>\n",
       "    </tr>\n",
       "    <tr>\n",
       "      <th>4</th>\n",
       "      <td>2016-03-31 17:25:20</td>\n",
       "      <td>3600</td>\n",
       "      <td>small</td>\n",
       "      <td>2008</td>\n",
       "      <td>manual</td>\n",
       "      <td>69</td>\n",
       "      <td>fabia</td>\n",
       "      <td>90000</td>\n",
       "      <td>7</td>\n",
       "      <td>gasoline</td>\n",
       "      <td>skoda</td>\n",
       "      <td>no</td>\n",
       "      <td>2016-03-31 00:00:00</td>\n",
       "      <td>0</td>\n",
       "      <td>60437</td>\n",
       "      <td>2016-04-06 10:17:21</td>\n",
       "    </tr>\n",
       "  </tbody>\n",
       "</table>\n",
       "</div>"
      ],
      "text/plain": [
       "           DateCrawled  Price VehicleType  RegistrationYear Gearbox  Power  \\\n",
       "0  2016-03-24 11:52:17    480         NaN              1993  manual      0   \n",
       "1  2016-03-24 10:58:45  18300       coupe              2011  manual    190   \n",
       "2  2016-03-14 12:52:21   9800         suv              2004    auto    163   \n",
       "3  2016-03-17 16:54:04   1500       small              2001  manual     75   \n",
       "4  2016-03-31 17:25:20   3600       small              2008  manual     69   \n",
       "\n",
       "   Model  Kilometer  RegistrationMonth  FuelType       Brand Repaired  \\\n",
       "0   golf     150000                  0    petrol  volkswagen      NaN   \n",
       "1    NaN     125000                  5  gasoline        audi      yes   \n",
       "2  grand     125000                  8  gasoline        jeep      NaN   \n",
       "3   golf     150000                  6    petrol  volkswagen       no   \n",
       "4  fabia      90000                  7  gasoline       skoda       no   \n",
       "\n",
       "           DateCreated  NumberOfPictures  PostalCode             LastSeen  \n",
       "0  2016-03-24 00:00:00                 0       70435  2016-04-07 03:16:57  \n",
       "1  2016-03-24 00:00:00                 0       66954  2016-04-07 01:46:50  \n",
       "2  2016-03-14 00:00:00                 0       90480  2016-04-05 12:47:46  \n",
       "3  2016-03-17 00:00:00                 0       91074  2016-03-17 17:40:17  \n",
       "4  2016-03-31 00:00:00                 0       60437  2016-04-06 10:17:21  "
      ]
     },
     "metadata": {},
     "output_type": "display_data"
    },
    {
     "data": {
      "text/html": [
       "<div>\n",
       "<style scoped>\n",
       "    .dataframe tbody tr th:only-of-type {\n",
       "        vertical-align: middle;\n",
       "    }\n",
       "\n",
       "    .dataframe tbody tr th {\n",
       "        vertical-align: top;\n",
       "    }\n",
       "\n",
       "    .dataframe thead th {\n",
       "        text-align: right;\n",
       "    }\n",
       "</style>\n",
       "<table border=\"1\" class=\"dataframe\">\n",
       "  <thead>\n",
       "    <tr style=\"text-align: right;\">\n",
       "      <th></th>\n",
       "      <th>Price</th>\n",
       "      <th>RegistrationYear</th>\n",
       "      <th>Power</th>\n",
       "      <th>Kilometer</th>\n",
       "      <th>RegistrationMonth</th>\n",
       "      <th>NumberOfPictures</th>\n",
       "      <th>PostalCode</th>\n",
       "    </tr>\n",
       "  </thead>\n",
       "  <tbody>\n",
       "    <tr>\n",
       "      <th>count</th>\n",
       "      <td>354369.000000</td>\n",
       "      <td>354369.000000</td>\n",
       "      <td>354369.000000</td>\n",
       "      <td>354369.000000</td>\n",
       "      <td>354369.000000</td>\n",
       "      <td>354369.0</td>\n",
       "      <td>354369.000000</td>\n",
       "    </tr>\n",
       "    <tr>\n",
       "      <th>mean</th>\n",
       "      <td>4416.656776</td>\n",
       "      <td>2004.234448</td>\n",
       "      <td>110.094337</td>\n",
       "      <td>128211.172535</td>\n",
       "      <td>5.714645</td>\n",
       "      <td>0.0</td>\n",
       "      <td>50508.689087</td>\n",
       "    </tr>\n",
       "    <tr>\n",
       "      <th>std</th>\n",
       "      <td>4514.158514</td>\n",
       "      <td>90.227958</td>\n",
       "      <td>189.850405</td>\n",
       "      <td>37905.341530</td>\n",
       "      <td>3.726421</td>\n",
       "      <td>0.0</td>\n",
       "      <td>25783.096248</td>\n",
       "    </tr>\n",
       "    <tr>\n",
       "      <th>min</th>\n",
       "      <td>0.000000</td>\n",
       "      <td>1000.000000</td>\n",
       "      <td>0.000000</td>\n",
       "      <td>5000.000000</td>\n",
       "      <td>0.000000</td>\n",
       "      <td>0.0</td>\n",
       "      <td>1067.000000</td>\n",
       "    </tr>\n",
       "    <tr>\n",
       "      <th>25%</th>\n",
       "      <td>1050.000000</td>\n",
       "      <td>1999.000000</td>\n",
       "      <td>69.000000</td>\n",
       "      <td>125000.000000</td>\n",
       "      <td>3.000000</td>\n",
       "      <td>0.0</td>\n",
       "      <td>30165.000000</td>\n",
       "    </tr>\n",
       "    <tr>\n",
       "      <th>50%</th>\n",
       "      <td>2700.000000</td>\n",
       "      <td>2003.000000</td>\n",
       "      <td>105.000000</td>\n",
       "      <td>150000.000000</td>\n",
       "      <td>6.000000</td>\n",
       "      <td>0.0</td>\n",
       "      <td>49413.000000</td>\n",
       "    </tr>\n",
       "    <tr>\n",
       "      <th>75%</th>\n",
       "      <td>6400.000000</td>\n",
       "      <td>2008.000000</td>\n",
       "      <td>143.000000</td>\n",
       "      <td>150000.000000</td>\n",
       "      <td>9.000000</td>\n",
       "      <td>0.0</td>\n",
       "      <td>71083.000000</td>\n",
       "    </tr>\n",
       "    <tr>\n",
       "      <th>max</th>\n",
       "      <td>20000.000000</td>\n",
       "      <td>9999.000000</td>\n",
       "      <td>20000.000000</td>\n",
       "      <td>150000.000000</td>\n",
       "      <td>12.000000</td>\n",
       "      <td>0.0</td>\n",
       "      <td>99998.000000</td>\n",
       "    </tr>\n",
       "  </tbody>\n",
       "</table>\n",
       "</div>"
      ],
      "text/plain": [
       "               Price  RegistrationYear          Power      Kilometer  \\\n",
       "count  354369.000000     354369.000000  354369.000000  354369.000000   \n",
       "mean     4416.656776       2004.234448     110.094337  128211.172535   \n",
       "std      4514.158514         90.227958     189.850405   37905.341530   \n",
       "min         0.000000       1000.000000       0.000000    5000.000000   \n",
       "25%      1050.000000       1999.000000      69.000000  125000.000000   \n",
       "50%      2700.000000       2003.000000     105.000000  150000.000000   \n",
       "75%      6400.000000       2008.000000     143.000000  150000.000000   \n",
       "max     20000.000000       9999.000000   20000.000000  150000.000000   \n",
       "\n",
       "       RegistrationMonth  NumberOfPictures     PostalCode  \n",
       "count      354369.000000          354369.0  354369.000000  \n",
       "mean            5.714645               0.0   50508.689087  \n",
       "std             3.726421               0.0   25783.096248  \n",
       "min             0.000000               0.0    1067.000000  \n",
       "25%             3.000000               0.0   30165.000000  \n",
       "50%             6.000000               0.0   49413.000000  \n",
       "75%             9.000000               0.0   71083.000000  \n",
       "max            12.000000               0.0   99998.000000  "
      ]
     },
     "metadata": {},
     "output_type": "display_data"
    },
    {
     "name": "stdout",
     "output_type": "stream",
     "text": [
      "<class 'pandas.core.frame.DataFrame'>\n",
      "RangeIndex: 354369 entries, 0 to 354368\n",
      "Data columns (total 16 columns):\n",
      " #   Column             Non-Null Count   Dtype \n",
      "---  ------             --------------   ----- \n",
      " 0   DateCrawled        354369 non-null  object\n",
      " 1   Price              354369 non-null  int64 \n",
      " 2   VehicleType        316879 non-null  object\n",
      " 3   RegistrationYear   354369 non-null  int64 \n",
      " 4   Gearbox            334536 non-null  object\n",
      " 5   Power              354369 non-null  int64 \n",
      " 6   Model              334664 non-null  object\n",
      " 7   Kilometer          354369 non-null  int64 \n",
      " 8   RegistrationMonth  354369 non-null  int64 \n",
      " 9   FuelType           321474 non-null  object\n",
      " 10  Brand              354369 non-null  object\n",
      " 11  Repaired           283215 non-null  object\n",
      " 12  DateCreated        354369 non-null  object\n",
      " 13  NumberOfPictures   354369 non-null  int64 \n",
      " 14  PostalCode         354369 non-null  int64 \n",
      " 15  LastSeen           354369 non-null  object\n",
      "dtypes: int64(7), object(9)\n",
      "memory usage: 43.3+ MB\n",
      "\n"
     ]
    }
   ],
   "source": [
    "show_dataframe_info(data, \"Исходный датафрейм\")"
   ]
  },
  {
   "cell_type": "code",
   "execution_count": 7,
   "id": "6cbc7138-6e87-418a-a1e4-f0868c8fed16",
   "metadata": {},
   "outputs": [
    {
     "data": {
      "text/html": [
       "<style type=\"text/css\">\n",
       "#T_49584_row0_col0 {\n",
       "  background-color: #b40426;\n",
       "  color: #f1f1f1;\n",
       "}\n",
       "#T_49584_row1_col0 {\n",
       "  background-color: #e9d5cb;\n",
       "  color: #000000;\n",
       "}\n",
       "#T_49584_row2_col0 {\n",
       "  background-color: #cfdaea;\n",
       "  color: #000000;\n",
       "}\n",
       "#T_49584_row3_col0, #T_49584_row4_col0 {\n",
       "  background-color: #9ebeff;\n",
       "  color: #000000;\n",
       "}\n",
       "#T_49584_row5_col0, #T_49584_row6_col0, #T_49584_row7_col0, #T_49584_row8_col0, #T_49584_row9_col0, #T_49584_row10_col0, #T_49584_row11_col0, #T_49584_row12_col0, #T_49584_row13_col0, #T_49584_row14_col0, #T_49584_row15_col0 {\n",
       "  background-color: #3b4cc0;\n",
       "  color: #f1f1f1;\n",
       "}\n",
       "</style>\n",
       "<table id=\"T_49584\">\n",
       "  <thead>\n",
       "    <tr>\n",
       "      <th class=\"blank level0\" >&nbsp;</th>\n",
       "      <th id=\"T_49584_level0_col0\" class=\"col_heading level0 col0\" >0</th>\n",
       "    </tr>\n",
       "  </thead>\n",
       "  <tbody>\n",
       "    <tr>\n",
       "      <th id=\"T_49584_level0_row0\" class=\"row_heading level0 row0\" >Repaired</th>\n",
       "      <td id=\"T_49584_row0_col0\" class=\"data row0 col0\" >20.000000</td>\n",
       "    </tr>\n",
       "    <tr>\n",
       "      <th id=\"T_49584_level0_row1\" class=\"row_heading level0 row1\" >VehicleType</th>\n",
       "      <td id=\"T_49584_row1_col0\" class=\"data row1 col0\" >11.000000</td>\n",
       "    </tr>\n",
       "    <tr>\n",
       "      <th id=\"T_49584_level0_row2\" class=\"row_heading level0 row2\" >FuelType</th>\n",
       "      <td id=\"T_49584_row2_col0\" class=\"data row2 col0\" >9.000000</td>\n",
       "    </tr>\n",
       "    <tr>\n",
       "      <th id=\"T_49584_level0_row3\" class=\"row_heading level0 row3\" >Gearbox</th>\n",
       "      <td id=\"T_49584_row3_col0\" class=\"data row3 col0\" >6.000000</td>\n",
       "    </tr>\n",
       "    <tr>\n",
       "      <th id=\"T_49584_level0_row4\" class=\"row_heading level0 row4\" >Model</th>\n",
       "      <td id=\"T_49584_row4_col0\" class=\"data row4 col0\" >6.000000</td>\n",
       "    </tr>\n",
       "    <tr>\n",
       "      <th id=\"T_49584_level0_row5\" class=\"row_heading level0 row5\" >DateCrawled</th>\n",
       "      <td id=\"T_49584_row5_col0\" class=\"data row5 col0\" >0.000000</td>\n",
       "    </tr>\n",
       "    <tr>\n",
       "      <th id=\"T_49584_level0_row6\" class=\"row_heading level0 row6\" >Price</th>\n",
       "      <td id=\"T_49584_row6_col0\" class=\"data row6 col0\" >0.000000</td>\n",
       "    </tr>\n",
       "    <tr>\n",
       "      <th id=\"T_49584_level0_row7\" class=\"row_heading level0 row7\" >RegistrationYear</th>\n",
       "      <td id=\"T_49584_row7_col0\" class=\"data row7 col0\" >0.000000</td>\n",
       "    </tr>\n",
       "    <tr>\n",
       "      <th id=\"T_49584_level0_row8\" class=\"row_heading level0 row8\" >Power</th>\n",
       "      <td id=\"T_49584_row8_col0\" class=\"data row8 col0\" >0.000000</td>\n",
       "    </tr>\n",
       "    <tr>\n",
       "      <th id=\"T_49584_level0_row9\" class=\"row_heading level0 row9\" >Kilometer</th>\n",
       "      <td id=\"T_49584_row9_col0\" class=\"data row9 col0\" >0.000000</td>\n",
       "    </tr>\n",
       "    <tr>\n",
       "      <th id=\"T_49584_level0_row10\" class=\"row_heading level0 row10\" >RegistrationMonth</th>\n",
       "      <td id=\"T_49584_row10_col0\" class=\"data row10 col0\" >0.000000</td>\n",
       "    </tr>\n",
       "    <tr>\n",
       "      <th id=\"T_49584_level0_row11\" class=\"row_heading level0 row11\" >Brand</th>\n",
       "      <td id=\"T_49584_row11_col0\" class=\"data row11 col0\" >0.000000</td>\n",
       "    </tr>\n",
       "    <tr>\n",
       "      <th id=\"T_49584_level0_row12\" class=\"row_heading level0 row12\" >DateCreated</th>\n",
       "      <td id=\"T_49584_row12_col0\" class=\"data row12 col0\" >0.000000</td>\n",
       "    </tr>\n",
       "    <tr>\n",
       "      <th id=\"T_49584_level0_row13\" class=\"row_heading level0 row13\" >NumberOfPictures</th>\n",
       "      <td id=\"T_49584_row13_col0\" class=\"data row13 col0\" >0.000000</td>\n",
       "    </tr>\n",
       "    <tr>\n",
       "      <th id=\"T_49584_level0_row14\" class=\"row_heading level0 row14\" >PostalCode</th>\n",
       "      <td id=\"T_49584_row14_col0\" class=\"data row14 col0\" >0.000000</td>\n",
       "    </tr>\n",
       "    <tr>\n",
       "      <th id=\"T_49584_level0_row15\" class=\"row_heading level0 row15\" >LastSeen</th>\n",
       "      <td id=\"T_49584_row15_col0\" class=\"data row15 col0\" >0.000000</td>\n",
       "    </tr>\n",
       "  </tbody>\n",
       "</table>\n"
      ],
      "text/plain": [
       "<pandas.io.formats.style.Styler at 0x7f836b6ba160>"
      ]
     },
     "metadata": {},
     "output_type": "display_data"
    }
   ],
   "source": [
    "# Посмотрим сколько всего пропусков, %\n",
    "display(pd.DataFrame(round(data.isna().mean()*100, ).sort_values(ascending=False)).style.background_gradient('coolwarm'))"
   ]
  },
  {
   "cell_type": "code",
   "execution_count": 8,
   "id": "11a656ae-d2e3-4ed4-804d-3729f2398b81",
   "metadata": {},
   "outputs": [
    {
     "name": "stdout",
     "output_type": "stream",
     "text": [
      "Явных дубликатов в сете: 4\n"
     ]
    }
   ],
   "source": [
    "# подсчёт явных дубликатов\n",
    "print(\"Явных дубликатов в сете:\", data.duplicated().sum())"
   ]
  },
  {
   "cell_type": "code",
   "execution_count": 9,
   "id": "06afddea-2f50-440a-ae6f-28dee1169f51",
   "metadata": {},
   "outputs": [
    {
     "data": {
      "text/html": [
       "<div>\n",
       "<style scoped>\n",
       "    .dataframe tbody tr th:only-of-type {\n",
       "        vertical-align: middle;\n",
       "    }\n",
       "\n",
       "    .dataframe tbody tr th {\n",
       "        vertical-align: top;\n",
       "    }\n",
       "\n",
       "    .dataframe thead th {\n",
       "        text-align: right;\n",
       "    }\n",
       "</style>\n",
       "<table border=\"1\" class=\"dataframe\">\n",
       "  <thead>\n",
       "    <tr style=\"text-align: right;\">\n",
       "      <th></th>\n",
       "      <th>DateCrawled</th>\n",
       "      <th>Price</th>\n",
       "      <th>VehicleType</th>\n",
       "      <th>RegistrationYear</th>\n",
       "      <th>Gearbox</th>\n",
       "      <th>Power</th>\n",
       "      <th>Model</th>\n",
       "      <th>Kilometer</th>\n",
       "      <th>RegistrationMonth</th>\n",
       "      <th>FuelType</th>\n",
       "      <th>Brand</th>\n",
       "      <th>Repaired</th>\n",
       "      <th>DateCreated</th>\n",
       "      <th>NumberOfPictures</th>\n",
       "      <th>PostalCode</th>\n",
       "      <th>LastSeen</th>\n",
       "    </tr>\n",
       "  </thead>\n",
       "  <tbody>\n",
       "    <tr>\n",
       "      <th>171088</th>\n",
       "      <td>2016-03-08 18:42:48</td>\n",
       "      <td>1799</td>\n",
       "      <td>coupe</td>\n",
       "      <td>1999</td>\n",
       "      <td>auto</td>\n",
       "      <td>193</td>\n",
       "      <td>clk</td>\n",
       "      <td>20000</td>\n",
       "      <td>7</td>\n",
       "      <td>petrol</td>\n",
       "      <td>mercedes_benz</td>\n",
       "      <td>no</td>\n",
       "      <td>2016-03-08 00:00:00</td>\n",
       "      <td>0</td>\n",
       "      <td>89518</td>\n",
       "      <td>2016-03-09 09:46:57</td>\n",
       "    </tr>\n",
       "    <tr>\n",
       "      <th>231258</th>\n",
       "      <td>2016-03-28 00:56:10</td>\n",
       "      <td>1000</td>\n",
       "      <td>small</td>\n",
       "      <td>2002</td>\n",
       "      <td>manual</td>\n",
       "      <td>83</td>\n",
       "      <td>other</td>\n",
       "      <td>150000</td>\n",
       "      <td>1</td>\n",
       "      <td>petrol</td>\n",
       "      <td>suzuki</td>\n",
       "      <td>no</td>\n",
       "      <td>2016-03-28 00:00:00</td>\n",
       "      <td>0</td>\n",
       "      <td>66589</td>\n",
       "      <td>2016-03-28 08:46:21</td>\n",
       "    </tr>\n",
       "    <tr>\n",
       "      <th>258109</th>\n",
       "      <td>2016-04-03 09:01:15</td>\n",
       "      <td>4699</td>\n",
       "      <td>coupe</td>\n",
       "      <td>2003</td>\n",
       "      <td>auto</td>\n",
       "      <td>218</td>\n",
       "      <td>clk</td>\n",
       "      <td>125000</td>\n",
       "      <td>6</td>\n",
       "      <td>petrol</td>\n",
       "      <td>mercedes_benz</td>\n",
       "      <td>yes</td>\n",
       "      <td>2016-04-03 00:00:00</td>\n",
       "      <td>0</td>\n",
       "      <td>75196</td>\n",
       "      <td>2016-04-07 09:44:54</td>\n",
       "    </tr>\n",
       "    <tr>\n",
       "      <th>325651</th>\n",
       "      <td>2016-03-18 18:46:15</td>\n",
       "      <td>1999</td>\n",
       "      <td>wagon</td>\n",
       "      <td>2001</td>\n",
       "      <td>manual</td>\n",
       "      <td>131</td>\n",
       "      <td>passat</td>\n",
       "      <td>150000</td>\n",
       "      <td>7</td>\n",
       "      <td>gasoline</td>\n",
       "      <td>volkswagen</td>\n",
       "      <td>no</td>\n",
       "      <td>2016-03-18 00:00:00</td>\n",
       "      <td>0</td>\n",
       "      <td>36391</td>\n",
       "      <td>2016-03-18 18:46:15</td>\n",
       "    </tr>\n",
       "  </tbody>\n",
       "</table>\n",
       "</div>"
      ],
      "text/plain": [
       "                DateCrawled  Price VehicleType  RegistrationYear Gearbox  \\\n",
       "171088  2016-03-08 18:42:48   1799       coupe              1999    auto   \n",
       "231258  2016-03-28 00:56:10   1000       small              2002  manual   \n",
       "258109  2016-04-03 09:01:15   4699       coupe              2003    auto   \n",
       "325651  2016-03-18 18:46:15   1999       wagon              2001  manual   \n",
       "\n",
       "        Power   Model  Kilometer  RegistrationMonth  FuelType          Brand  \\\n",
       "171088    193     clk      20000                  7    petrol  mercedes_benz   \n",
       "231258     83   other     150000                  1    petrol         suzuki   \n",
       "258109    218     clk     125000                  6    petrol  mercedes_benz   \n",
       "325651    131  passat     150000                  7  gasoline     volkswagen   \n",
       "\n",
       "       Repaired          DateCreated  NumberOfPictures  PostalCode  \\\n",
       "171088       no  2016-03-08 00:00:00                 0       89518   \n",
       "231258       no  2016-03-28 00:00:00                 0       66589   \n",
       "258109      yes  2016-04-03 00:00:00                 0       75196   \n",
       "325651       no  2016-03-18 00:00:00                 0       36391   \n",
       "\n",
       "                   LastSeen  \n",
       "171088  2016-03-09 09:46:57  \n",
       "231258  2016-03-28 08:46:21  \n",
       "258109  2016-04-07 09:44:54  \n",
       "325651  2016-03-18 18:46:15  "
      ]
     },
     "execution_count": 9,
     "metadata": {},
     "output_type": "execute_result"
    }
   ],
   "source": [
    "data[data.duplicated()]"
   ]
  },
  {
   "cell_type": "code",
   "execution_count": 10,
   "id": "19110a8e-e3d3-4a60-80d7-e6e0f8bfb4f9",
   "metadata": {},
   "outputs": [
    {
     "name": "stdout",
     "output_type": "stream",
     "text": [
      "count    354369.0\n",
      "mean       2016.0\n",
      "std           0.0\n",
      "min        2016.0\n",
      "25%        2016.0\n",
      "50%        2016.0\n",
      "75%        2016.0\n",
      "max        2016.0\n",
      "Name: DateCrawled, dtype: float64\n"
     ]
    },
    {
     "data": {
      "text/plain": [
       "count    339839.000000\n",
       "mean       2002.322862\n",
       "std          13.946854\n",
       "min        1000.000000\n",
       "25%        1999.000000\n",
       "50%        2003.000000\n",
       "75%        2007.000000\n",
       "max        2016.000000\n",
       "Name: RegistrationYear, dtype: float64"
      ]
     },
     "execution_count": 10,
     "metadata": {},
     "output_type": "execute_result"
    }
   ],
   "source": [
    "year = pd.to_datetime(data['DateCrawled']).dt.year\n",
    "print(year.describe())\n",
    "\n",
    "# Верхнее значение даты подачи анкеты - 2016 год. Следовательно в 2016 была выгружена эта БД. Соответственно удалим также строки, в которых год регистрации авто выше 2016. Их всего 4089\n",
    "data = data.query('RegistrationYear < 2017')\n",
    "data['RegistrationYear'].describe()"
   ]
  },
  {
   "cell_type": "code",
   "execution_count": 11,
   "id": "0823d209-8d73-436b-a377-8805a72c9c1f",
   "metadata": {},
   "outputs": [
    {
     "data": {
      "text/plain": [
       "0"
      ]
     },
     "execution_count": 11,
     "metadata": {},
     "output_type": "execute_result"
    }
   ],
   "source": [
    "# Удалим явные дубли\n",
    "\n",
    "data = data.drop_duplicates()\n",
    "data.duplicated().sum()"
   ]
  },
  {
   "cell_type": "markdown",
   "id": "283a273f-a13d-4c1d-ac94-5ec688ee5bf1",
   "metadata": {},
   "source": [
    "**В датафрейме имеются столбцы, которые будут мешать обучению и которые не влиют на целевую переменную. А имеено: дата скачивания анкеты DateCrawled, дата создания анкеты DateCreated, количество фото авто NumberOfPictures, дата последней активности пользователя LastSeen, почтовый индекс PostalCode. Избавимся от них.**"
   ]
  },
  {
   "cell_type": "code",
   "execution_count": 12,
   "id": "f5c375a7-5726-438d-b442-c6329092bef1",
   "metadata": {},
   "outputs": [],
   "source": [
    "data = data.drop([\"DateCrawled\", \"DateCreated\", \"NumberOfPictures\", \"LastSeen\", \"PostalCode\"],axis = 1)"
   ]
  },
  {
   "cell_type": "code",
   "execution_count": 13,
   "id": "28b93251-758d-43aa-a46f-c360e2703998",
   "metadata": {},
   "outputs": [
    {
     "name": "stdout",
     "output_type": "stream",
     "text": [
      "<class 'pandas.core.frame.DataFrame'>\n",
      "Int64Index: 339835 entries, 0 to 354368\n",
      "Data columns (total 11 columns):\n",
      " #   Column             Non-Null Count   Dtype \n",
      "---  ------             --------------   ----- \n",
      " 0   Price              339835 non-null  int64 \n",
      " 1   VehicleType        316855 non-null  object\n",
      " 2   RegistrationYear   339835 non-null  int64 \n",
      " 3   Gearbox            321869 non-null  object\n",
      " 4   Power              339835 non-null  int64 \n",
      " 5   Model              322177 non-null  object\n",
      " 6   Kilometer          339835 non-null  int64 \n",
      " 7   RegistrationMonth  339835 non-null  int64 \n",
      " 8   FuelType           312534 non-null  object\n",
      " 9   Brand              339835 non-null  object\n",
      " 10  Repaired           274980 non-null  object\n",
      "dtypes: int64(5), object(6)\n",
      "memory usage: 31.1+ MB\n"
     ]
    },
    {
     "data": {
      "text/html": [
       "<div>\n",
       "<style scoped>\n",
       "    .dataframe tbody tr th:only-of-type {\n",
       "        vertical-align: middle;\n",
       "    }\n",
       "\n",
       "    .dataframe tbody tr th {\n",
       "        vertical-align: top;\n",
       "    }\n",
       "\n",
       "    .dataframe thead th {\n",
       "        text-align: right;\n",
       "    }\n",
       "</style>\n",
       "<table border=\"1\" class=\"dataframe\">\n",
       "  <thead>\n",
       "    <tr style=\"text-align: right;\">\n",
       "      <th></th>\n",
       "      <th>Price</th>\n",
       "      <th>RegistrationYear</th>\n",
       "      <th>Power</th>\n",
       "      <th>Kilometer</th>\n",
       "      <th>RegistrationMonth</th>\n",
       "    </tr>\n",
       "  </thead>\n",
       "  <tbody>\n",
       "    <tr>\n",
       "      <th>count</th>\n",
       "      <td>339835.000000</td>\n",
       "      <td>339835.000000</td>\n",
       "      <td>339835.000000</td>\n",
       "      <td>339835.000000</td>\n",
       "      <td>339835.000000</td>\n",
       "    </tr>\n",
       "    <tr>\n",
       "      <th>mean</th>\n",
       "      <td>4470.743899</td>\n",
       "      <td>2002.322874</td>\n",
       "      <td>111.018385</td>\n",
       "      <td>128064.045787</td>\n",
       "      <td>5.755446</td>\n",
       "    </tr>\n",
       "    <tr>\n",
       "      <th>std</th>\n",
       "      <td>4546.008104</td>\n",
       "      <td>13.946934</td>\n",
       "      <td>186.977064</td>\n",
       "      <td>37928.204240</td>\n",
       "      <td>3.708636</td>\n",
       "    </tr>\n",
       "    <tr>\n",
       "      <th>min</th>\n",
       "      <td>0.000000</td>\n",
       "      <td>1000.000000</td>\n",
       "      <td>0.000000</td>\n",
       "      <td>5000.000000</td>\n",
       "      <td>0.000000</td>\n",
       "    </tr>\n",
       "    <tr>\n",
       "      <th>25%</th>\n",
       "      <td>1099.000000</td>\n",
       "      <td>1999.000000</td>\n",
       "      <td>69.000000</td>\n",
       "      <td>125000.000000</td>\n",
       "      <td>3.000000</td>\n",
       "    </tr>\n",
       "    <tr>\n",
       "      <th>50%</th>\n",
       "      <td>2799.000000</td>\n",
       "      <td>2003.000000</td>\n",
       "      <td>105.000000</td>\n",
       "      <td>150000.000000</td>\n",
       "      <td>6.000000</td>\n",
       "    </tr>\n",
       "    <tr>\n",
       "      <th>75%</th>\n",
       "      <td>6500.000000</td>\n",
       "      <td>2007.000000</td>\n",
       "      <td>143.000000</td>\n",
       "      <td>150000.000000</td>\n",
       "      <td>9.000000</td>\n",
       "    </tr>\n",
       "    <tr>\n",
       "      <th>max</th>\n",
       "      <td>20000.000000</td>\n",
       "      <td>2016.000000</td>\n",
       "      <td>20000.000000</td>\n",
       "      <td>150000.000000</td>\n",
       "      <td>12.000000</td>\n",
       "    </tr>\n",
       "  </tbody>\n",
       "</table>\n",
       "</div>"
      ],
      "text/plain": [
       "               Price  RegistrationYear          Power      Kilometer  \\\n",
       "count  339835.000000     339835.000000  339835.000000  339835.000000   \n",
       "mean     4470.743899       2002.322874     111.018385  128064.045787   \n",
       "std      4546.008104         13.946934     186.977064   37928.204240   \n",
       "min         0.000000       1000.000000       0.000000    5000.000000   \n",
       "25%      1099.000000       1999.000000      69.000000  125000.000000   \n",
       "50%      2799.000000       2003.000000     105.000000  150000.000000   \n",
       "75%      6500.000000       2007.000000     143.000000  150000.000000   \n",
       "max     20000.000000       2016.000000   20000.000000  150000.000000   \n",
       "\n",
       "       RegistrationMonth  \n",
       "count      339835.000000  \n",
       "mean            5.755446  \n",
       "std             3.708636  \n",
       "min             0.000000  \n",
       "25%             3.000000  \n",
       "50%             6.000000  \n",
       "75%             9.000000  \n",
       "max            12.000000  "
      ]
     },
     "execution_count": 13,
     "metadata": {},
     "output_type": "execute_result"
    }
   ],
   "source": [
    "# Посмотрим тепрь на описание данных\n",
    "data.info()\n",
    "data.describe()"
   ]
  },
  {
   "cell_type": "markdown",
   "id": "10e0c0ff-48c2-4eb5-8d95-d464da15b031",
   "metadata": {},
   "source": [
    "**Видим, что есть пропущенные значения в признаках и присутствуют аномалии в данных. Обработаем их**"
   ]
  },
  {
   "cell_type": "markdown",
   "id": "91446636-b983-4ce6-84c1-caf55ce63eb9",
   "metadata": {},
   "source": [
    "**Выше описаны только количественные признаки. Обработаем сначала их, потом категориальные**"
   ]
  },
  {
   "cell_type": "code",
   "execution_count": 14,
   "id": "2d0541ab-8d22-4c32-aa35-913013d8815d",
   "metadata": {},
   "outputs": [
    {
     "name": "stdout",
     "output_type": "stream",
     "text": [
      "Строк с месяцем регистрации больше 12: 0\n"
     ]
    }
   ],
   "source": [
    "print(\"Строк с месяцем регистрации больше 12:\", len(data.loc[data['RegistrationMonth'] > 12]))"
   ]
  },
  {
   "cell_type": "code",
   "execution_count": 15,
   "id": "14475005-ae1e-49ed-9b40-e006744696c3",
   "metadata": {},
   "outputs": [
    {
     "name": "stdout",
     "output_type": "stream",
     "text": [
      "Строк с датой регистрации раньше 1970г.: 1338\n",
      "Строк с датой регистрации позже 2023г.: 0\n",
      "После обработки осталось строк с датой регистрации раньше 1970г.: 0\n",
      "После обработки осталось строк с датой регистрации позже 2023г.: 0\n"
     ]
    }
   ],
   "source": [
    "# В признаке год регистрации авто присутствуют аномалии. Будем рассматривать авто начиная с 1970г.\n",
    "# Посмотрим, сколько объявлений не вписывается в этот интервал\n",
    "\n",
    "print(\"Строк с датой регистрации раньше 1970г.:\", len(data.loc[data['RegistrationYear'] < 1970]))\n",
    "print(\"Строк с датой регистрации позже 2023г.:\", len(data.loc[data['RegistrationYear'] > 2023]))\n",
    "\n",
    "# В общей сложности не так и много, удалим их\n",
    "data = data.query('(RegistrationYear < 2023) & (RegistrationYear > 1970)')\n",
    "\n",
    "# Проверяем\n",
    "print(\"После обработки осталось строк с датой регистрации раньше 1970г.:\", len(data.loc[data['RegistrationYear'] < 1970]))\n",
    "print(\"После обработки осталось строк с датой регистрации позже 2023г.:\", len(data.loc[data['RegistrationYear'] > 2023]))\n"
   ]
  },
  {
   "cell_type": "code",
   "execution_count": 16,
   "id": "fd89005b-5e3c-403f-b5d0-3b093cc8a8b8",
   "metadata": {},
   "outputs": [
    {
     "name": "stdout",
     "output_type": "stream",
     "text": [
      "Строк с мощностью движка более 1000: 302199\n",
      "Строк с мощностью движка более 1000 после обработки: 0\n"
     ]
    }
   ],
   "source": [
    "# Мощность двигателя имеет очень разные значения. Однако, пользователи могут заполнять анкету, вписывая мощность как в литрах, так и в сантиметрах кубических.\n",
    "# Так как в литре 1000 см куб., то значения больше тысячи разделим на 1000 и приведем все к литрам.\n",
    "# Значения, которые более 10 тысяч явно являются выбросами, т.к. врядли объем движка будет более 10 литров. Эти записи удалим\n",
    "\n",
    "print(\"Строк с мощностью движка более 1000:\", len(data.loc[data['Power'] > 10]))\n",
    "data = data.query('Power < 10000')\n",
    "data.loc[data['Power'] > 10, 'Power'] = data['Power']/1000\n",
    "print(\"Строк с мощностью движка более 1000 после обработки:\", len(data.loc[data['Power'] > 10]))"
   ]
  },
  {
   "cell_type": "code",
   "execution_count": 17,
   "id": "ffd9b6e4-31e4-458f-81cd-fe0ff4316198",
   "metadata": {},
   "outputs": [
    {
     "name": "stdout",
     "output_type": "stream",
     "text": [
      "Было строк с нулевой мощностью 35744\n",
      "Осталось строк с нулевой мощностью 0\n"
     ]
    }
   ],
   "source": [
    "# Мощность авто не может быть равна нулю. Мощность движка является важным фактором в формировании цены. Поэтому, чтобы модель меньше ошибалась, удалим такие строки\n",
    "print(\"Было строк с нулевой мощностью\", len(data.loc[data['Power']==0]))\n",
    "\n",
    "data = data.drop(data.loc[data['Power']==0].index, axis=0)\n",
    "print(\"Осталось строк с нулевой мощностью\", len(data.loc[data['Power']==0]))"
   ]
  },
  {
   "cell_type": "code",
   "execution_count": 18,
   "id": "f5a99242-62b6-41b0-b6b1-ec3b751beb5d",
   "metadata": {},
   "outputs": [
    {
     "data": {
      "image/png": "[encoded data removed]",
      "text/plain": [
       "<Figure size 1080x1440 with 6 Axes>"
      ]
     },
     "metadata": {
      "needs_background": "light"
     },
     "output_type": "display_data"
    }
   ],
   "source": [
    "#Посмотрим как распределились значения\n",
    "data.hist(figsize=(15, 20))\n",
    "plt.show()"
   ]
  },
  {
   "cell_type": "code",
   "execution_count": 19,
   "id": "6ee5f3ac-c69f-4add-b505-8e84fc1fca9d",
   "metadata": {},
   "outputs": [
    {
     "data": {
      "text/html": [
       "<div>\n",
       "<style scoped>\n",
       "    .dataframe tbody tr th:only-of-type {\n",
       "        vertical-align: middle;\n",
       "    }\n",
       "\n",
       "    .dataframe tbody tr th {\n",
       "        vertical-align: top;\n",
       "    }\n",
       "\n",
       "    .dataframe thead th {\n",
       "        text-align: right;\n",
       "    }\n",
       "</style>\n",
       "<table border=\"1\" class=\"dataframe\">\n",
       "  <thead>\n",
       "    <tr style=\"text-align: right;\">\n",
       "      <th></th>\n",
       "      <th>RegistrationYear</th>\n",
       "      <th>Power</th>\n",
       "      <th>Kilometer</th>\n",
       "      <th>RegistrationMonth</th>\n",
       "    </tr>\n",
       "  </thead>\n",
       "  <tbody>\n",
       "    <tr>\n",
       "      <th>RegistrationYear</th>\n",
       "      <td>1.000000</td>\n",
       "      <td>0.044489</td>\n",
       "      <td>-0.322359</td>\n",
       "      <td>0.048511</td>\n",
       "    </tr>\n",
       "    <tr>\n",
       "      <th>Power</th>\n",
       "      <td>0.044489</td>\n",
       "      <td>1.000000</td>\n",
       "      <td>-0.005084</td>\n",
       "      <td>0.012941</td>\n",
       "    </tr>\n",
       "    <tr>\n",
       "      <th>Kilometer</th>\n",
       "      <td>-0.322359</td>\n",
       "      <td>-0.005084</td>\n",
       "      <td>1.000000</td>\n",
       "      <td>-0.016065</td>\n",
       "    </tr>\n",
       "    <tr>\n",
       "      <th>RegistrationMonth</th>\n",
       "      <td>0.048511</td>\n",
       "      <td>0.012941</td>\n",
       "      <td>-0.016065</td>\n",
       "      <td>1.000000</td>\n",
       "    </tr>\n",
       "  </tbody>\n",
       "</table>\n",
       "</div>"
      ],
      "text/plain": [
       "                   RegistrationYear     Power  Kilometer  RegistrationMonth\n",
       "RegistrationYear           1.000000  0.044489  -0.322359           0.048511\n",
       "Power                      0.044489  1.000000  -0.005084           0.012941\n",
       "Kilometer                 -0.322359 -0.005084   1.000000          -0.016065\n",
       "RegistrationMonth          0.048511  0.012941  -0.016065           1.000000"
      ]
     },
     "metadata": {},
     "output_type": "display_data"
    },
    {
     "data": {
      "image/png": "[encoded data removed]",
      "text/plain": [
       "<Figure size 960x800 with 2 Axes>"
      ]
     },
     "metadata": {
      "needs_background": "light"
     },
     "output_type": "display_data"
    }
   ],
   "source": [
    "# Рассчитаем корреляцию параметров и проверим мультиколлениарность. Без таргета смотрим.\n",
    "display(data.drop(['Price'],axis = 1).corr())\n",
    "\n",
    "#Построим график корреляции параметров\n",
    "plt.figure(figsize=(12,10), dpi= 80)\n",
    "sns.heatmap(data.drop(['Price'],axis = 1).corr(), xticklabels=data.corr().columns, yticklabels=data.corr().columns, cmap='RdYlGn', center=0, annot=True)\n",
    "plt.title('График корреляции признаков', fontsize=22)\n",
    "plt.xticks(fontsize=12)\n",
    "plt.yticks(fontsize=12)\n",
    "plt.show()"
   ]
  },
  {
   "cell_type": "markdown",
   "id": "8b6a09b0-689d-4698-82e2-73bc5cdad892",
   "metadata": {},
   "source": [
    "**Выраженой корреляции не наблюдается**"
   ]
  },
  {
   "cell_type": "code",
   "execution_count": 20,
   "id": "803be94e-4245-4952-b753-555258bd35b5",
   "metadata": {},
   "outputs": [
    {
     "data": {
      "image/png": "[encoded data removed]",
      "text/plain": [
       "<Figure size 2160x720 with 2 Axes>"
      ]
     },
     "metadata": {
      "needs_background": "light"
     },
     "output_type": "display_data"
    },
    {
     "data": {
      "image/png": "[encoded data removed]",
      "text/plain": [
       "<Figure size 2160x720 with 3 Axes>"
      ]
     },
     "metadata": {
      "needs_background": "light"
     },
     "output_type": "display_data"
    }
   ],
   "source": [
    "# Построим диаграммы размаха\n",
    "data[['RegistrationYear', 'Power']].plot(fontsize=20, subplots=True, kind='box', figsize=(30,10))\n",
    "plt.show()\n",
    "data[['Kilometer', 'RegistrationMonth', 'Price']].plot(fontsize=20, subplots=True, kind='box', figsize=(30,10))\n",
    "plt.show()"
   ]
  },
  {
   "cell_type": "code",
   "execution_count": 21,
   "id": "b9265d2e-6963-4027-906a-b66995397d4d",
   "metadata": {},
   "outputs": [
    {
     "data": {
      "text/html": [
       "<div>\n",
       "<style scoped>\n",
       "    .dataframe tbody tr th:only-of-type {\n",
       "        vertical-align: middle;\n",
       "    }\n",
       "\n",
       "    .dataframe tbody tr th {\n",
       "        vertical-align: top;\n",
       "    }\n",
       "\n",
       "    .dataframe thead th {\n",
       "        text-align: right;\n",
       "    }\n",
       "</style>\n",
       "<table border=\"1\" class=\"dataframe\">\n",
       "  <thead>\n",
       "    <tr style=\"text-align: right;\">\n",
       "      <th></th>\n",
       "      <th>Price</th>\n",
       "      <th>VehicleType</th>\n",
       "      <th>RegistrationYear</th>\n",
       "      <th>Gearbox</th>\n",
       "      <th>Power</th>\n",
       "      <th>Model</th>\n",
       "      <th>Kilometer</th>\n",
       "      <th>RegistrationMonth</th>\n",
       "      <th>FuelType</th>\n",
       "      <th>Brand</th>\n",
       "      <th>Repaired</th>\n",
       "    </tr>\n",
       "  </thead>\n",
       "  <tbody>\n",
       "    <tr>\n",
       "      <th>1</th>\n",
       "      <td>18300</td>\n",
       "      <td>coupe</td>\n",
       "      <td>2011</td>\n",
       "      <td>manual</td>\n",
       "      <td>0.190</td>\n",
       "      <td>NaN</td>\n",
       "      <td>125000</td>\n",
       "      <td>5</td>\n",
       "      <td>gasoline</td>\n",
       "      <td>audi</td>\n",
       "      <td>yes</td>\n",
       "    </tr>\n",
       "    <tr>\n",
       "      <th>2</th>\n",
       "      <td>9800</td>\n",
       "      <td>suv</td>\n",
       "      <td>2004</td>\n",
       "      <td>auto</td>\n",
       "      <td>0.163</td>\n",
       "      <td>grand</td>\n",
       "      <td>125000</td>\n",
       "      <td>8</td>\n",
       "      <td>gasoline</td>\n",
       "      <td>jeep</td>\n",
       "      <td>NaN</td>\n",
       "    </tr>\n",
       "    <tr>\n",
       "      <th>3</th>\n",
       "      <td>1500</td>\n",
       "      <td>small</td>\n",
       "      <td>2001</td>\n",
       "      <td>manual</td>\n",
       "      <td>0.075</td>\n",
       "      <td>golf</td>\n",
       "      <td>150000</td>\n",
       "      <td>6</td>\n",
       "      <td>petrol</td>\n",
       "      <td>volkswagen</td>\n",
       "      <td>no</td>\n",
       "    </tr>\n",
       "    <tr>\n",
       "      <th>4</th>\n",
       "      <td>3600</td>\n",
       "      <td>small</td>\n",
       "      <td>2008</td>\n",
       "      <td>manual</td>\n",
       "      <td>0.069</td>\n",
       "      <td>fabia</td>\n",
       "      <td>90000</td>\n",
       "      <td>7</td>\n",
       "      <td>gasoline</td>\n",
       "      <td>skoda</td>\n",
       "      <td>no</td>\n",
       "    </tr>\n",
       "    <tr>\n",
       "      <th>5</th>\n",
       "      <td>650</td>\n",
       "      <td>sedan</td>\n",
       "      <td>1995</td>\n",
       "      <td>manual</td>\n",
       "      <td>0.102</td>\n",
       "      <td>3er</td>\n",
       "      <td>150000</td>\n",
       "      <td>10</td>\n",
       "      <td>petrol</td>\n",
       "      <td>bmw</td>\n",
       "      <td>yes</td>\n",
       "    </tr>\n",
       "    <tr>\n",
       "      <th>...</th>\n",
       "      <td>...</td>\n",
       "      <td>...</td>\n",
       "      <td>...</td>\n",
       "      <td>...</td>\n",
       "      <td>...</td>\n",
       "      <td>...</td>\n",
       "      <td>...</td>\n",
       "      <td>...</td>\n",
       "      <td>...</td>\n",
       "      <td>...</td>\n",
       "      <td>...</td>\n",
       "    </tr>\n",
       "    <tr>\n",
       "      <th>354361</th>\n",
       "      <td>5250</td>\n",
       "      <td>NaN</td>\n",
       "      <td>2016</td>\n",
       "      <td>auto</td>\n",
       "      <td>0.150</td>\n",
       "      <td>159</td>\n",
       "      <td>150000</td>\n",
       "      <td>12</td>\n",
       "      <td>NaN</td>\n",
       "      <td>alfa_romeo</td>\n",
       "      <td>no</td>\n",
       "    </tr>\n",
       "    <tr>\n",
       "      <th>354362</th>\n",
       "      <td>3200</td>\n",
       "      <td>sedan</td>\n",
       "      <td>2004</td>\n",
       "      <td>manual</td>\n",
       "      <td>0.225</td>\n",
       "      <td>leon</td>\n",
       "      <td>150000</td>\n",
       "      <td>5</td>\n",
       "      <td>petrol</td>\n",
       "      <td>seat</td>\n",
       "      <td>yes</td>\n",
       "    </tr>\n",
       "    <tr>\n",
       "      <th>354366</th>\n",
       "      <td>1199</td>\n",
       "      <td>convertible</td>\n",
       "      <td>2000</td>\n",
       "      <td>auto</td>\n",
       "      <td>0.101</td>\n",
       "      <td>fortwo</td>\n",
       "      <td>125000</td>\n",
       "      <td>3</td>\n",
       "      <td>petrol</td>\n",
       "      <td>smart</td>\n",
       "      <td>no</td>\n",
       "    </tr>\n",
       "    <tr>\n",
       "      <th>354367</th>\n",
       "      <td>9200</td>\n",
       "      <td>bus</td>\n",
       "      <td>1996</td>\n",
       "      <td>manual</td>\n",
       "      <td>0.102</td>\n",
       "      <td>transporter</td>\n",
       "      <td>150000</td>\n",
       "      <td>3</td>\n",
       "      <td>gasoline</td>\n",
       "      <td>volkswagen</td>\n",
       "      <td>no</td>\n",
       "    </tr>\n",
       "    <tr>\n",
       "      <th>354368</th>\n",
       "      <td>3400</td>\n",
       "      <td>wagon</td>\n",
       "      <td>2002</td>\n",
       "      <td>manual</td>\n",
       "      <td>0.100</td>\n",
       "      <td>golf</td>\n",
       "      <td>150000</td>\n",
       "      <td>6</td>\n",
       "      <td>gasoline</td>\n",
       "      <td>volkswagen</td>\n",
       "      <td>NaN</td>\n",
       "    </tr>\n",
       "  </tbody>\n",
       "</table>\n",
       "<p>302378 rows × 11 columns</p>\n",
       "</div>"
      ],
      "text/plain": [
       "        Price  VehicleType  RegistrationYear Gearbox  Power        Model  \\\n",
       "1       18300        coupe              2011  manual  0.190          NaN   \n",
       "2        9800          suv              2004    auto  0.163        grand   \n",
       "3        1500        small              2001  manual  0.075         golf   \n",
       "4        3600        small              2008  manual  0.069        fabia   \n",
       "5         650        sedan              1995  manual  0.102          3er   \n",
       "...       ...          ...               ...     ...    ...          ...   \n",
       "354361   5250          NaN              2016    auto  0.150          159   \n",
       "354362   3200        sedan              2004  manual  0.225         leon   \n",
       "354366   1199  convertible              2000    auto  0.101       fortwo   \n",
       "354367   9200          bus              1996  manual  0.102  transporter   \n",
       "354368   3400        wagon              2002  manual  0.100         golf   \n",
       "\n",
       "        Kilometer  RegistrationMonth  FuelType       Brand Repaired  \n",
       "1          125000                  5  gasoline        audi      yes  \n",
       "2          125000                  8  gasoline        jeep      NaN  \n",
       "3          150000                  6    petrol  volkswagen       no  \n",
       "4           90000                  7  gasoline       skoda       no  \n",
       "5          150000                 10    petrol         bmw      yes  \n",
       "...           ...                ...       ...         ...      ...  \n",
       "354361     150000                 12       NaN  alfa_romeo       no  \n",
       "354362     150000                  5    petrol        seat      yes  \n",
       "354366     125000                  3    petrol       smart       no  \n",
       "354367     150000                  3  gasoline  volkswagen       no  \n",
       "354368     150000                  6  gasoline  volkswagen      NaN  \n",
       "\n",
       "[302378 rows x 11 columns]"
      ]
     },
     "execution_count": 21,
     "metadata": {},
     "output_type": "execute_result"
    }
   ],
   "source": [
    "data"
   ]
  },
  {
   "cell_type": "code",
   "execution_count": 22,
   "id": "d23a92dd-a60c-4255-ba2e-aae263f05d8f",
   "metadata": {
    "scrolled": true
   },
   "outputs": [
    {
     "name": "stdout",
     "output_type": "stream",
     "text": [
      "['coupe' 'suv' 'small' 'sedan' 'convertible' 'bus' 'wagon' nan 'other']\n",
      "['manual' 'auto' nan]\n",
      "[nan 'grand' 'golf' 'fabia' '3er' '2_reihe' 'other' 'c_max' '3_reihe'\n",
      " 'passat' 'navara' 'polo' 'twingo' 'a_klasse' 'scirocco' '5er' 'arosa'\n",
      " 'civic' 'transporter' 'punto' 'e_klasse' 'clio' 'kadett' 'one' 'fortwo'\n",
      " '1er' 'b_klasse' 'a8' 'jetta' 'fiesta' 'c_klasse' 'micra' 'vito'\n",
      " 'sprinter' 'astra' '156' 'escort' 'forester' 'xc_reihe' 'scenic' 'ka'\n",
      " 'a1' 'focus' 'a4' 'tt' 'a6' 'jazz' 'omega' 'slk' '7er' 'combo' 'corsa'\n",
      " '80' '147' 'meriva' 'z_reihe' 'sorento' 'ibiza' 'mustang' 'eos' 'touran'\n",
      " 'getz' 'insignia' 'almera' 'megane' 'a3' 'lupo' 'r19' 'caddy' 'mondeo'\n",
      " 'cordoba' 'colt' 'impreza' 'vectra' 'berlingo' 'tiguan' '6_reihe' 'c4'\n",
      " 'panda' 'up' 'i_reihe' 'ceed' 'kangoo' '5_reihe' 'yeti' 'octavia'\n",
      " 'zafira' 'mii' 'rx_reihe' '6er' 'modus' 'fox' 'matiz' 'beetle' 'rio'\n",
      " 'touareg' 'logan' 'spider' 'cuore' 's_max' 'a2' 'galaxy' 'c3' 'viano'\n",
      " 's_klasse' '1_reihe' 'sharan' 'avensis' 'roomster' 'sl' 'kaefer' 'santa'\n",
      " 'leon' 'cooper' '4_reihe' 'a5' 'sportage' 'laguna' 'ptcruiser' 'clk'\n",
      " 'primera' 'espace' 'exeo' '159' 'transit' 'juke' 'x_reihe' 'v40'\n",
      " 'carisma' 'accord' 'corolla' 'lanos' 'phaeton' 'verso' 'swift' 'rav'\n",
      " 'qashqai' 'picanto' 'boxster' 'superb' 'stilo' 'alhambra' 'mx_reihe'\n",
      " 'roadster' 'ypsilon' 'galant' 'justy' '90' 'sirion' 'signum' 'crossfire'\n",
      " 'agila' 'duster' 'v50' '500' 'c_reihe' 'v_klasse' 'm_klasse' 'yaris' 'c5'\n",
      " 'aygo' 'seicento' 'cc' 'carnival' 'fusion' '911' 'bora' 'forfour'\n",
      " 'm_reihe' 'cl' 'tigra' '300c' '100' 'cr_reihe' 'spark' 'kuga' 'x_type'\n",
      " 'ducato' 's_type' 'x_trail' 'toledo' 'altea' 'voyager' 'calibra' 'v70'\n",
      " 'bravo' 'tucson' 'c1' 'citigo' 'jimny' 'cayenne' 'wrangler' 'lybra'\n",
      " 'lancer' 'captiva' 'discovery' 'freelander' 'sandero' 'q7' 'note'\n",
      " 'antara' '900' 'cherokee' 'clubman' 'defender' 'cx_reihe' 'legacy'\n",
      " 'pajero' 'auris' 'c2' 'niva' 's60' 'nubira' 'vivaro' 'g_klasse' 'lodgy'\n",
      " 'range_rover' '601' '850' 'q3' 'serie_2' 'glk' 'charade' 'croma'\n",
      " 'outlander' 'doblo' 'musa' '9000' 'kalos' 'v60' '200' '145' 'b_max'\n",
      " 'range_rover_sport' 'aveo' 'move' 'rangerover' 'q5' 'range_rover_evoque'\n",
      " 'materia' 'delta' 'terios' 'gl' 'kalina' 'elefantino' 'i3' 'samara'\n",
      " 'amarok' 'kappa' 'serie_3']\n",
      "['gasoline' 'petrol' nan 'lpg' 'other' 'hybrid' 'cng' 'electric']\n",
      "['audi' 'jeep' 'volkswagen' 'skoda' 'bmw' 'peugeot' 'ford' 'mazda'\n",
      " 'nissan' 'renault' 'mercedes_benz' 'seat' 'honda' 'fiat' 'opel' 'mini'\n",
      " 'smart' 'hyundai' 'sonstige_autos' 'alfa_romeo' 'subaru' 'volvo'\n",
      " 'mitsubishi' 'kia' 'suzuki' 'lancia' 'citroen' 'toyota' 'chevrolet'\n",
      " 'dacia' 'daihatsu' 'saab' 'chrysler' 'jaguar' 'daewoo' 'rover' 'porsche'\n",
      " 'land_rover' 'trabant' 'lada']\n",
      "['yes' nan 'no']\n"
     ]
    }
   ],
   "source": [
    "# Проверим уникальные значения категориальных признаков\n",
    "\n",
    "print(data['VehicleType'].unique())\n",
    "print(data['Gearbox'].unique())\n",
    "print(data['Model'].unique())\n",
    "print(data['FuelType'].unique())\n",
    "print(data['Brand'].unique())\n",
    "print(data['Repaired'].unique())\n"
   ]
  },
  {
   "cell_type": "code",
   "execution_count": 23,
   "id": "eeaeba3f-037a-42bc-8ce1-9f35b2a67f3b",
   "metadata": {},
   "outputs": [],
   "source": [
    "# В Model много значений. Переведем значения в нижний регистр, чтобы избежать неявных дублей\n",
    "\n",
    "data['Model'] = data['Model'].str.lower()"
   ]
  },
  {
   "cell_type": "code",
   "execution_count": 24,
   "id": "2effaf42-d3ff-406e-84fb-1a89e2b12b06",
   "metadata": {},
   "outputs": [],
   "source": [
    "# Заполним пропуски в VehicleType, Gearbox, FuelType модой\n",
    "\n",
    "data[\"VehicleType\"] = data[\"VehicleType\"].fillna(data[\"VehicleType\"].mode().values[0])\n",
    "data[\"Gearbox\"] = data[\"Gearbox\"].fillna(data[\"Gearbox\"].mode().values[0])\n",
    "data[\"FuelType\"] = data[\"FuelType\"].fillna(data[\"FuelType\"].mode().values[0])\n",
    "\n",
    "# Строки, где не указана модель авто удалим. Такие данные бесполезны и только помешают обучению моделей\n",
    "data = data.drop(data.loc[data['Model'].isna()].index, axis=0)\n",
    "\n",
    "# Если не указано, что машина была в ремонте, будем считать, что не была. Заполним NaN значениями \"no\"\n",
    "data[\"Repaired\"] = data[\"Repaired\"].fillna(\"no\")"
   ]
  },
  {
   "cell_type": "code",
   "execution_count": 25,
   "id": "446b389f-9877-49fb-9820-0dcb95b36017",
   "metadata": {},
   "outputs": [
    {
     "name": "stdout",
     "output_type": "stream",
     "text": [
      "<class 'pandas.core.frame.DataFrame'>\n",
      "Int64Index: 290583 entries, 2 to 354368\n",
      "Data columns (total 11 columns):\n",
      " #   Column             Non-Null Count   Dtype  \n",
      "---  ------             --------------   -----  \n",
      " 0   Price              290583 non-null  int64  \n",
      " 1   VehicleType        290583 non-null  object \n",
      " 2   RegistrationYear   290583 non-null  int64  \n",
      " 3   Gearbox            290583 non-null  object \n",
      " 4   Power              290583 non-null  float64\n",
      " 5   Model              290583 non-null  object \n",
      " 6   Kilometer          290583 non-null  int64  \n",
      " 7   RegistrationMonth  290583 non-null  int64  \n",
      " 8   FuelType           290583 non-null  object \n",
      " 9   Brand              290583 non-null  object \n",
      " 10  Repaired           290583 non-null  object \n",
      "dtypes: float64(1), int64(4), object(6)\n",
      "memory usage: 26.6+ MB\n"
     ]
    }
   ],
   "source": [
    "data.info()"
   ]
  },
  {
   "cell_type": "markdown",
   "id": "e00fb389-d4a4-42a1-9e96-f2885888a12a",
   "metadata": {},
   "source": [
    "**Можно было бы еще удалить столбец месяц регистрации авто, однако он так же вляется признаком, который влияет на цену, т.к. знающие люди осведослены, что летом сборка авто может быть хуже, по причине недостаточного количества работников на заводе (отпуска)\n",
    "Километры не трогали. Они могут быть любыми**"
   ]
  },
  {
   "cell_type": "code",
   "execution_count": 26,
   "id": "0204fce4-fcb4-4b1e-99d8-7a96d10e4417",
   "metadata": {},
   "outputs": [
    {
     "data": {
      "text/html": [
       "<div>\n",
       "<style scoped>\n",
       "    .dataframe tbody tr th:only-of-type {\n",
       "        vertical-align: middle;\n",
       "    }\n",
       "\n",
       "    .dataframe tbody tr th {\n",
       "        vertical-align: top;\n",
       "    }\n",
       "\n",
       "    .dataframe thead th {\n",
       "        text-align: right;\n",
       "    }\n",
       "</style>\n",
       "<table border=\"1\" class=\"dataframe\">\n",
       "  <thead>\n",
       "    <tr style=\"text-align: right;\">\n",
       "      <th></th>\n",
       "      <th>Price</th>\n",
       "      <th>RegistrationYear</th>\n",
       "      <th>Power</th>\n",
       "      <th>Kilometer</th>\n",
       "      <th>RegistrationMonth</th>\n",
       "    </tr>\n",
       "  </thead>\n",
       "  <tbody>\n",
       "    <tr>\n",
       "      <th>count</th>\n",
       "      <td>290583.000000</td>\n",
       "      <td>290583.000000</td>\n",
       "      <td>290583.000000</td>\n",
       "      <td>290583.000000</td>\n",
       "      <td>290583.000000</td>\n",
       "    </tr>\n",
       "    <tr>\n",
       "      <th>mean</th>\n",
       "      <td>4794.600049</td>\n",
       "      <td>2002.945458</td>\n",
       "      <td>0.123479</td>\n",
       "      <td>128479.246893</td>\n",
       "      <td>6.006859</td>\n",
       "    </tr>\n",
       "    <tr>\n",
       "      <th>std</th>\n",
       "      <td>4617.679118</td>\n",
       "      <td>6.137611</td>\n",
       "      <td>0.128683</td>\n",
       "      <td>36572.182161</td>\n",
       "      <td>3.582173</td>\n",
       "    </tr>\n",
       "    <tr>\n",
       "      <th>min</th>\n",
       "      <td>0.000000</td>\n",
       "      <td>1971.000000</td>\n",
       "      <td>0.011000</td>\n",
       "      <td>5000.000000</td>\n",
       "      <td>0.000000</td>\n",
       "    </tr>\n",
       "    <tr>\n",
       "      <th>25%</th>\n",
       "      <td>1299.000000</td>\n",
       "      <td>1999.000000</td>\n",
       "      <td>0.077000</td>\n",
       "      <td>125000.000000</td>\n",
       "      <td>3.000000</td>\n",
       "    </tr>\n",
       "    <tr>\n",
       "      <th>50%</th>\n",
       "      <td>3100.000000</td>\n",
       "      <td>2003.000000</td>\n",
       "      <td>0.112000</td>\n",
       "      <td>150000.000000</td>\n",
       "      <td>6.000000</td>\n",
       "    </tr>\n",
       "    <tr>\n",
       "      <th>75%</th>\n",
       "      <td>6980.000000</td>\n",
       "      <td>2007.000000</td>\n",
       "      <td>0.150000</td>\n",
       "      <td>150000.000000</td>\n",
       "      <td>9.000000</td>\n",
       "    </tr>\n",
       "    <tr>\n",
       "      <th>max</th>\n",
       "      <td>20000.000000</td>\n",
       "      <td>2016.000000</td>\n",
       "      <td>10.000000</td>\n",
       "      <td>150000.000000</td>\n",
       "      <td>12.000000</td>\n",
       "    </tr>\n",
       "  </tbody>\n",
       "</table>\n",
       "</div>"
      ],
      "text/plain": [
       "               Price  RegistrationYear          Power      Kilometer  \\\n",
       "count  290583.000000     290583.000000  290583.000000  290583.000000   \n",
       "mean     4794.600049       2002.945458       0.123479  128479.246893   \n",
       "std      4617.679118          6.137611       0.128683   36572.182161   \n",
       "min         0.000000       1971.000000       0.011000    5000.000000   \n",
       "25%      1299.000000       1999.000000       0.077000  125000.000000   \n",
       "50%      3100.000000       2003.000000       0.112000  150000.000000   \n",
       "75%      6980.000000       2007.000000       0.150000  150000.000000   \n",
       "max     20000.000000       2016.000000      10.000000  150000.000000   \n",
       "\n",
       "       RegistrationMonth  \n",
       "count      290583.000000  \n",
       "mean            6.006859  \n",
       "std             3.582173  \n",
       "min             0.000000  \n",
       "25%             3.000000  \n",
       "50%             6.000000  \n",
       "75%             9.000000  \n",
       "max            12.000000  "
      ]
     },
     "execution_count": 26,
     "metadata": {},
     "output_type": "execute_result"
    }
   ],
   "source": [
    "data.describe()"
   ]
  },
  {
   "cell_type": "code",
   "execution_count": 27,
   "id": "29322f41-665a-4c2e-923b-afcb3d9a4001",
   "metadata": {},
   "outputs": [
    {
     "name": "stdout",
     "output_type": "stream",
     "text": [
      "<class 'pandas.core.frame.DataFrame'>\n",
      "Int64Index: 290583 entries, 2 to 354368\n",
      "Data columns (total 11 columns):\n",
      " #   Column             Non-Null Count   Dtype  \n",
      "---  ------             --------------   -----  \n",
      " 0   Price              290583 non-null  int64  \n",
      " 1   VehicleType        290583 non-null  object \n",
      " 2   RegistrationYear   290583 non-null  int64  \n",
      " 3   Gearbox            290583 non-null  object \n",
      " 4   Power              290583 non-null  float64\n",
      " 5   Model              290583 non-null  object \n",
      " 6   Kilometer          290583 non-null  int64  \n",
      " 7   RegistrationMonth  290583 non-null  int64  \n",
      " 8   FuelType           290583 non-null  object \n",
      " 9   Brand              290583 non-null  object \n",
      " 10  Repaired           290583 non-null  object \n",
      "dtypes: float64(1), int64(4), object(6)\n",
      "memory usage: 26.6+ MB\n"
     ]
    }
   ],
   "source": [
    "data.info()"
   ]
  },
  {
   "cell_type": "code",
   "execution_count": null,
   "id": "edac7438-7f2f-418b-a7b7-badf1840c03e",
   "metadata": {},
   "outputs": [],
   "source": [
    "# Переменные типа object переопределим в категориальные\n",
    "data['VehicleType'] = data['VehicleType'].astype('category')\n",
    "data['Gearbox'] = data['Gearbox'].astype('category')\n",
    "data['Model'] = data['Model'].astype('category')\n",
    "data['FuelType'] = data['FuelType'].astype('category')\n",
    "data['Brand'] = data['Brand'].astype('category')\n",
    "data['Repaired'] = data['Repaired'].astype('category');\n",
    "\n"
   ]
  },
  {
   "cell_type": "code",
   "execution_count": null,
   "id": "b2064744-aa74-408c-ad41-3a03c3f40a1a",
   "metadata": {},
   "outputs": [],
   "source": [
    "# Обработаем целевой признак\n",
    "\n",
    "print(\"Цена до обработки:\")\n",
    "data['Price'].describe()\n",
    "data['Price'].plot(fontsize=20, subplots=True, kind='box', figsize=(30,10))\n",
    "plt.show()\n",
    "\n",
    "#Удалим выбросы в целевом признаке\n",
    "data = delete_outliers(data, 'Price')\n",
    "\n",
    "print(\"Цена после обработки\")\n",
    "data['Price'].describe()"
   ]
  },
  {
   "cell_type": "markdown",
   "id": "51bba6ab-5ce4-462e-97f0-1671761a5718",
   "metadata": {},
   "source": [
    "**Вывод: Провели предобработку данных**\n",
    "1. Были удалены признаки, которые не влияют на целевую переменную\n",
    "2. Обработаны явные и неявные дубликаты\n",
    "3. Заполним пропуски в VehicleType, Gearbox, FuelType модой\n",
    "4. Обработаны выбросы. Удалены строки с неадекватной датой регистрации авто и объемом движка. Также объем двигателя приведен к литрам.\n",
    "5. Проведен рассчит корреляции признаков и проверка на мультиколлениарность\n",
    "6. Привели к соответствующему типу данных категориальные переменные"
   ]
  },
  {
   "cell_type": "markdown",
   "id": "9f78f9d0-30fa-4b58-b029-06b30d932deb",
   "metadata": {},
   "source": [
    "## 3. Подготовка выборок"
   ]
  },
  {
   "cell_type": "code",
   "execution_count": null,
   "id": "c19ac048-dbc6-4871-84f9-42d5410f35aa",
   "metadata": {},
   "outputs": [],
   "source": [
    "# Определим признаки и таргет для обучения\n",
    "\n",
    "features = data.drop('Price', axis=1).copy() # Копируем данные\n",
    "target = data['Price'].copy()\n",
    "\n",
    "# Разделим выборку на тренировочные и тестовые данных\n",
    "features_train, features_test, target_train, target_test = train_test_split(features, target, test_size=0.25, random_state=42)\n",
    "print(features.shape)\n",
    "print(features_train.shape)\n",
    "print(features_test.shape)"
   ]
  },
  {
   "cell_type": "code",
   "execution_count": null,
   "id": "ab231531-762e-4041-a3e9-d3c7572ec024",
   "metadata": {},
   "outputs": [],
   "source": [
    "# Применим кодирование категориальных признаков для модели линейной регрессии\n",
    "features_train_ohe = pd.get_dummies(features_train)\n",
    "features_test_ohe = pd.get_dummies(features_test)\n",
    "\n",
    "\n",
    "display(features_train_ohe) # Работает"
   ]
  },
  {
   "cell_type": "code",
   "execution_count": null,
   "id": "d207e80f-278d-4342-8b2c-810aa7905633",
   "metadata": {},
   "outputs": [],
   "source": [
    "encoder = OrdinalEncoder(handle_unknown='error')\n",
    "\n",
    "cat_columns = ['VehicleType', 'Gearbox', 'Model', 'FuelType', 'Brand', 'Repaired'] # Запишем категориальные признаки\n",
    "\n",
    "features_train_oe = features_train.copy() # Копируем выборки\n",
    "#display(features_train_oe)\n",
    "features_test_oe = features_test.copy()\n",
    "\n",
    "features_train_oe[cat_columns] = encoder.fit_transform(features_train[cat_columns])  # Кодируем категориальные признаки\n",
    "features_test_oe[cat_columns] = encoder.transform(features_test[cat_columns])\n",
    "features_test_oe # Работает\n"
   ]
  },
  {
   "cell_type": "markdown",
   "id": "812cb3c3-3677-4c75-8129-ecd200f7bae2",
   "metadata": {},
   "source": [
    "**Вывод:**\n",
    "1. Масштабирование делать не стали, т.к. в предыдущем проекте проверял результаты работы моделей на масштабированных и немасштабированных данных. Разницы не было.\n",
    "2. К категориальным признакам применили кодирование One-Hot Encoding и порядковое. \n",
    "3. Отделили признаки от таргета. \n",
    "4. Выборку разделили на тренировочную и тестовую. "
   ]
  },
  {
   "cell_type": "markdown",
   "id": "754076f8-aff2-4974-8586-2f7ff4d5ca7d",
   "metadata": {},
   "source": [
    "## 4. Обучение моделей"
   ]
  },
  {
   "cell_type": "markdown",
   "id": "6a01c4f7-d2ab-45e1-baa3-236f96c6c0df",
   "metadata": {},
   "source": [
    "**В условии сказано, что хотябы одна модель должна быть не бустинг.** \\\n",
    "**Обучим модель случайного леса. Изменение параметров данной модели сильно влияет на время ее обучения. Введем флаг model_rf_already_fit, чтобы не обучать по несколько раз во время перезагрузки кода, а то долго ждать**"
   ]
  },
  {
   "cell_type": "markdown",
   "id": "6acb29a6-f971-4dde-9703-8ad3aaab1d4e",
   "metadata": {
    "tags": []
   },
   "source": [
    "### Модель случайного леса"
   ]
  },
  {
   "cell_type": "code",
   "execution_count": null,
   "id": "bf9fbd4a-7196-47cf-933b-4b523d2a9b78",
   "metadata": {},
   "outputs": [],
   "source": [
    "param = {'n_estimators': range(1,10), 'max_depth': range(1,31)}\n",
    "model_rf = RandomForestRegressor(random_state = 42)\n",
    "\n",
    "model_rf_cv = RandomizedSearchCV(model_rf, param, scoring = 'neg_mean_squared_error', cv=5, n_iter=1, n_jobs=-1, verbose=1)\n",
    "model_rf_cv.fit(features_train_oe, target_train)\n",
    "predict = model_rf_cv.predict(features_test_oe)  # получаем предсказания модели\n",
    "print(\"RMSE на обучающей выборке: \", (model_rf_cv.best_score_*-1)**0.5, 'при', model_rf_cv.best_params_)\n",
    "#print(\"RMSE на тестовой выборке: \", mean_squared_error(target_test, predict, squared=False))\n",
    "print(\"Время обучения модели:\", model_rf_cv.cv_results_['mean_fit_time'][0])\n",
    "print(\"Время предсказания модели:\", model_rf_cv.cv_results_['mean_score_time'][0])\n",
    "\n",
    "#model_rf_cv.cv_results_\n"
   ]
  },
  {
   "cell_type": "markdown",
   "id": "2174b835-1bf2-4e6a-a087-167da4fd5229",
   "metadata": {
    "tags": []
   },
   "source": [
    "### Модель LightGBM"
   ]
  },
  {
   "cell_type": "code",
   "execution_count": null,
   "id": "c403d035-1559-493d-b4ac-41266d2db0e1",
   "metadata": {},
   "outputs": [],
   "source": [
    "model_lgb = LGBMRegressor(random_seed=42)\n",
    "\n",
    "param_cv = {\n",
    "    'learning_rate': [0.05, 0.1],\n",
    "    'n_estimators': range(100, 500, 100),\n",
    "}\n",
    "\n",
    "model_lgb_cv = RandomizedSearchCV(model_lgb, param_cv, scoring = 'neg_mean_squared_error', cv=5, n_iter=1, n_jobs=-1, verbose=1)\n"
   ]
  },
  {
   "cell_type": "code",
   "execution_count": null,
   "id": "75094438-5107-4486-8f52-ac10960f027d",
   "metadata": {},
   "outputs": [],
   "source": [
    "# Модель сама кодирует категориальные переменные, поэтому даем ей некодированные данные\n",
    "model_lgb_cv.fit(features_train, target_train)\n",
    "\n",
    "print(\"RMSE на обучающей выборке: \", (model_lgb_cv.best_score_*-1)**0.5, 'при', model_lgb_cv.best_params_)\n",
    "print(\"Время обучения модели:\", model_lgb_cv.cv_results_['mean_fit_time'][0])\n",
    "print(\"Время предсказания модели:\", model_lgb_cv.cv_results_['mean_score_time'][0])"
   ]
  },
  {
   "cell_type": "markdown",
   "id": "749f8b75-1ed2-4721-8e59-f4f8c6b69f63",
   "metadata": {
    "tags": []
   },
   "source": [
    "### Модель линейной регрессии"
   ]
  },
  {
   "cell_type": "code",
   "execution_count": null,
   "id": "cb3894e3-f05a-4cb3-a9f7-334191230ba3",
   "metadata": {},
   "outputs": [],
   "source": [
    "model_linreg = LinearRegression()\n",
    "# Найдем mse\n",
    "mse = cross_val_score(model_linreg, features_train_ohe, target_train, cv=5, scoring='neg_mean_squared_error').mean() * -1 \n",
    "time_1 = time.time() #Засекаем время обучения\n",
    "model_linreg.fit(features_train_ohe, target_train) # обучаем модель на тренировочной выборке\n",
    "time_2 = time.time() #Засекаем время предсказания\n",
    "predict = model_linreg.predict(features_train_ohe) # сохраняем предсказания модели на валидационых данных\n",
    "time_3 = time.time()\n",
    "rmse = mse**0.5 # Вычисляем RMSE\n",
    "\n",
    "print('RMSE:', mse**0.5)\n",
    "print(\"Время обучения модели:\", time_2 - time_1)\n",
    "print(\"Время предсказаний модели на трейне:\", time_3 - time_2)"
   ]
  },
  {
   "cell_type": "markdown",
   "id": "c0623972-2389-4d11-8303-60426a2897d3",
   "metadata": {},
   "source": [
    "### Модель CatBoost"
   ]
  },
  {
   "cell_type": "code",
   "execution_count": null,
   "id": "5d7c011b-0a95-4ed5-816f-0cf748162144",
   "metadata": {},
   "outputs": [],
   "source": [
    "model_cat = CatBoostRegressor(learning_rate=0.5, random_state=42, \n",
    "                          verbose=50, loss_function = \"RMSE\"\n",
    "                             )\n",
    "\n",
    "param_cv = {\n",
    "            'learning_rate': [0.05, 0.1],\n",
    "            'n_estimators': range(100, 500, 100),\n",
    "            }\n",
    "model_cat_cv = RandomizedSearchCV(model_cat,\n",
    "                                 param_cv, scoring = 'neg_mean_squared_error', \n",
    "                                 cv=5, n_iter=1, n_jobs=-1, verbose=1\n",
    "                                )\n",
    "time_1 = time.time()\n",
    "model_cat_cv.fit(features_train_oe, target_train)\n",
    "time_2 = time.time()\n",
    "rmse = (model_cat_cv.best_score_ * -1) ** 0.5\n",
    "print('RMSE на тренировочных данных:', rmse)\n",
    "\n",
    "#предсказания\n",
    "#print(\"RMSE на тестовых данных:\",mean_squared_error(target_test,model_cat.predict(features_test),squared=False))\n",
    "time_3 = time.time()\n",
    "\n",
    "print(\"Время обучения модели:\", model_cat_cv.cv_results_['mean_fit_time'][0])\n",
    "print(\"Время предсказаний модели:\", model_cat_cv.cv_results_['mean_score_time'][0])\n"
   ]
  },
  {
   "cell_type": "markdown",
   "id": "fd7c0ae3-5620-47c2-a07d-9780d08140dc",
   "metadata": {},
   "source": [
    "## 5. Анализ моделей"
   ]
  },
  {
   "cell_type": "code",
   "execution_count": null,
   "id": "3d842039-fe21-4419-9bf7-8590e95683db",
   "metadata": {},
   "outputs": [],
   "source": [
    "models_compare = {'Модель': ['Случайный лес', 'Линейная регрессия', 'LightGBM', 'CatBoost'],\n",
    "                  'RMSE': [1549, 2359, 1436, 1638], 'Время обучения(сек)':[12, 9.5, 7.6, 11],\n",
    "                  'Время предсказания(сек)':[0.48, 0.40, 4.3, 0.03]\n",
    "                 }\n",
    "analytic = pd.DataFrame(data = models_compare)\n",
    "\n",
    "analytic"
   ]
  },
  {
   "cell_type": "markdown",
   "id": "98526f6e-2527-4cab-acdc-71ab63af3388",
   "metadata": {},
   "source": [
    "**Вывод**\n",
    "\n",
    "**Построили сравнительнцю таблицу по ключевым требованиям заказчика. Видно, что линейная регрессия не подходит, так как  RMSE слишком большая. Модель случайного леса слишком долго обуается при переборе параметров. Модель CatBoost покаала неплохие результаты по всем показателям, но всеже кступает модели LightGBM. LightGBM справляется хорошо, кроме большого времени предсказания по сравнению с другими моделями.**"
   ]
  },
  {
   "cell_type": "markdown",
   "id": "7cb0f871-48df-453d-83db-8c9972669044",
   "metadata": {},
   "source": [
    "## 6. Выбор лучшей модели"
   ]
  },
  {
   "cell_type": "markdown",
   "id": "70386e49-3d0d-4162-bf70-dcfeef19bd96",
   "metadata": {},
   "source": [
    "**Ключевая метрика качетсва и время обучения модели LightGBM самые лучшие. Отдадим ей предпочтение и выбираем для тестирования**\n",
    "\n"
   ]
  },
  {
   "cell_type": "code",
   "execution_count": null,
   "id": "e74e2edd-77a4-45e2-af50-6fe51e972399",
   "metadata": {},
   "outputs": [],
   "source": [
    "%%time\n",
    "predict = model_lgb_cv.predict(features_test)\n",
    "rmse = mean_squared_error(target_test, predict) ** 0.5\n",
    "rmse"
   ]
  },
  {
   "cell_type": "markdown",
   "id": "23788638-a7a4-4531-a7c5-7bbe23d6beca",
   "metadata": {},
   "source": [
    "**Определим наиболее важные признаки и построим график**"
   ]
  },
  {
   "cell_type": "code",
   "execution_count": null,
   "id": "c9b8b439-ce3a-4ef1-80a4-398d4b49fed5",
   "metadata": {},
   "outputs": [],
   "source": [
    "warnings.simplefilter(action='ignore', category=FutureWarning)\n",
    "model_lgb = model_lgb.fit(features, target)\n",
    "feature_imp = pd.DataFrame(sorted(zip(model_lgb.feature_importances_,features_test.columns)), columns=['Value','Feature'])\n",
    "\n",
    "sns.set(font_scale=3)\n",
    "plt.figure(figsize=(20, 10))\n",
    "sns.barplot(x=\"Value\", y=\"Feature\", data=feature_imp.sort_values(by=\"Value\", ascending=False))\n",
    "plt.title('LightGBM. Важность признаков')\n",
    "plt.tight_layout()\n",
    "plt.show()"
   ]
  },
  {
   "cell_type": "markdown",
   "id": "1991b9a3-8737-4983-82a6-22e8e6adf07e",
   "metadata": {},
   "source": [
    "**Общий вывод: По итогам проделанной работы была предсказана стоимость автомобилей по их характеристикам. Было использовано 4 модели с перебором параметров, произведено их сравнение. Лучшей моделью оказалась LightGBM. Были выявлены признаки, наиболее влияющие на цену авто - это модель авто, год регистрации авто, мощность.**"
   ]
  }
 ],
 "metadata": {
  "ExecuteTimeLog": [
   {
    "duration": 1662,
    "start_time": "2023-01-27T22:24:35.616Z"
   },
   {
    "duration": 3962,
    "start_time": "2023-01-27T22:24:37.280Z"
   },
   {
    "duration": 12,
    "start_time": "2023-01-27T22:24:41.245Z"
   },
   {
    "duration": 58,
    "start_time": "2023-01-27T22:24:41.258Z"
   },
   {
    "duration": 297,
    "start_time": "2023-01-27T22:24:41.319Z"
   },
   {
    "duration": 185,
    "start_time": "2023-01-27T22:24:41.618Z"
   },
   {
    "duration": 492,
    "start_time": "2023-01-27T22:24:41.805Z"
   },
   {
    "duration": 483,
    "start_time": "2023-01-27T22:24:42.298Z"
   },
   {
    "duration": 182,
    "start_time": "2023-01-27T22:24:42.783Z"
   },
   {
    "duration": 961,
    "start_time": "2023-01-27T22:24:42.967Z"
   },
   {
    "duration": 47,
    "start_time": "2023-01-27T22:24:43.929Z"
   },
   {
    "duration": 161,
    "start_time": "2023-01-27T22:24:43.978Z"
   },
   {
    "duration": 8,
    "start_time": "2023-01-27T22:24:44.148Z"
   },
   {
    "duration": 39,
    "start_time": "2023-01-27T22:24:44.159Z"
   },
   {
    "duration": 87,
    "start_time": "2023-01-27T22:24:44.201Z"
   },
   {
    "duration": 61,
    "start_time": "2023-01-27T22:24:44.290Z"
   },
   {
    "duration": 753,
    "start_time": "2023-01-27T22:24:44.352Z"
   },
   {
    "duration": 415,
    "start_time": "2023-01-27T22:24:45.107Z"
   },
   {
    "duration": 702,
    "start_time": "2023-01-27T22:24:45.524Z"
   },
   {
    "duration": 26,
    "start_time": "2023-01-27T22:24:46.228Z"
   },
   {
    "duration": 100,
    "start_time": "2023-01-27T22:24:46.257Z"
   },
   {
    "duration": 105,
    "start_time": "2023-01-27T22:24:46.366Z"
   },
   {
    "duration": 188,
    "start_time": "2023-01-27T22:24:46.473Z"
   },
   {
    "duration": 72,
    "start_time": "2023-01-27T22:24:46.667Z"
   },
   {
    "duration": 65,
    "start_time": "2023-01-27T22:24:46.749Z"
   },
   {
    "duration": 87,
    "start_time": "2023-01-27T22:24:46.816Z"
   },
   {
    "duration": 163,
    "start_time": "2023-01-27T22:24:46.905Z"
   },
   {
    "duration": 261,
    "start_time": "2023-01-27T22:24:47.070Z"
   },
   {
    "duration": 62,
    "start_time": "2023-01-27T22:24:47.332Z"
   },
   {
    "duration": 471,
    "start_time": "2023-01-27T22:24:47.397Z"
   },
   {
    "duration": 791,
    "start_time": "2023-01-27T22:24:47.870Z"
   },
   {
    "duration": 1109,
    "start_time": "2023-01-27T22:24:48.662Z"
   },
   {
    "duration": 3,
    "start_time": "2023-01-27T22:24:49.773Z"
   },
   {
    "duration": 1448,
    "start_time": "2023-01-27T22:30:16.671Z"
   },
   {
    "duration": 850,
    "start_time": "2023-01-27T22:30:18.121Z"
   },
   {
    "duration": 3,
    "start_time": "2023-01-27T22:30:18.973Z"
   },
   {
    "duration": 16,
    "start_time": "2023-01-27T22:30:18.977Z"
   },
   {
    "duration": 242,
    "start_time": "2023-01-27T22:30:18.996Z"
   },
   {
    "duration": 186,
    "start_time": "2023-01-27T22:30:19.240Z"
   },
   {
    "duration": 455,
    "start_time": "2023-01-27T22:30:19.428Z"
   },
   {
    "duration": 449,
    "start_time": "2023-01-27T22:30:19.885Z"
   },
   {
    "duration": 171,
    "start_time": "2023-01-27T22:30:20.336Z"
   },
   {
    "duration": 912,
    "start_time": "2023-01-27T22:30:20.509Z"
   },
   {
    "duration": 43,
    "start_time": "2023-01-27T22:30:21.423Z"
   },
   {
    "duration": 150,
    "start_time": "2023-01-27T22:30:21.468Z"
   },
   {
    "duration": 4,
    "start_time": "2023-01-27T22:30:21.619Z"
   },
   {
    "duration": 53,
    "start_time": "2023-01-27T22:30:21.626Z"
   },
   {
    "duration": 88,
    "start_time": "2023-01-27T22:30:21.680Z"
   },
   {
    "duration": 53,
    "start_time": "2023-01-27T22:30:21.769Z"
   },
   {
    "duration": 755,
    "start_time": "2023-01-27T22:30:21.824Z"
   },
   {
    "duration": 416,
    "start_time": "2023-01-27T22:30:22.581Z"
   },
   {
    "duration": 717,
    "start_time": "2023-01-27T22:30:22.999Z"
   },
   {
    "duration": 20,
    "start_time": "2023-01-27T22:30:23.717Z"
   },
   {
    "duration": 126,
    "start_time": "2023-01-27T22:30:23.738Z"
   },
   {
    "duration": 93,
    "start_time": "2023-01-27T22:30:23.865Z"
   },
   {
    "duration": 156,
    "start_time": "2023-01-27T22:30:23.962Z"
   },
   {
    "duration": 82,
    "start_time": "2023-01-27T22:30:24.119Z"
   },
   {
    "duration": 74,
    "start_time": "2023-01-27T22:30:24.203Z"
   },
   {
    "duration": 86,
    "start_time": "2023-01-27T22:30:24.278Z"
   },
   {
    "duration": 143,
    "start_time": "2023-01-27T22:30:24.365Z"
   },
   {
    "duration": 259,
    "start_time": "2023-01-27T22:30:24.510Z"
   },
   {
    "duration": 44,
    "start_time": "2023-01-27T22:30:24.771Z"
   },
   {
    "duration": 447,
    "start_time": "2023-01-27T22:30:24.817Z"
   },
   {
    "duration": 764,
    "start_time": "2023-01-27T22:30:25.266Z"
   },
   {
    "duration": 20331,
    "start_time": "2023-01-27T22:30:26.032Z"
   },
   {
    "duration": 7,
    "start_time": "2023-01-27T22:30:46.365Z"
   }
  ],
  "kernelspec": {
   "display_name": "Python 3 (ipykernel)",
   "language": "python",
   "name": "python3"
  },
  "language_info": {
   "codemirror_mode": {
    "name": "ipython",
    "version": 3
   },
   "file_extension": ".py",
   "mimetype": "text/x-python",
   "name": "python",
   "nbconvert_exporter": "python",
   "pygments_lexer": "ipython3",
   "version": "3.9.16"
  },
  "toc": {
   "base_numbering": 1,
   "nav_menu": {},
   "number_sections": true,
   "sideBar": true,
   "skip_h1_title": true,
   "title_cell": "Table of Contents",
   "title_sidebar": "Contents",
   "toc_cell": false,
   "toc_position": {},
   "toc_section_display": true,
   "toc_window_display": true
  }
 },
 "nbformat": 4,
 "nbformat_minor": 5
}
